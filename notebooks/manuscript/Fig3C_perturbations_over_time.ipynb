{
 "cells": [
  {
   "cell_type": "code",
   "execution_count": null,
   "id": "f67ee1f6",
   "metadata": {},
   "outputs": [],
   "source": [
    "import sys\n",
    "import os\n",
    "import numpy as np\n",
    "from matplotlib import pyplot as plt\n",
    "from sklearn.model_selection import train_test_split\n",
    "sys.path.append(os.path.abspath(\"../..\"))  #TODO: MAKE THE SRC PACKAGE WORK\n",
    "from src.training.train import train_autoencoder, train_cellfate\n",
    "from src.evaluation.evaluate import *\n",
    "from src.training.loss_functions import *\n",
    "from src.preprocessing.preprocessing_functions import *\n",
    "from sklearn.metrics import classification_report, confusion_matrix, accuracy_score\n",
    "from src.models import Encoder, Decoder, Discriminator, mlp_classifier, complex_mlp_classifier\n",
    "from src.utils import *\n",
    "from tensorflow.keras import layers, Sequential\n",
    "import tensorflow as tf\n",
    "from sklearn.utils.class_weight import compute_class_weight"
   ]
  },
  {
   "cell_type": "code",
   "execution_count": 3,
   "id": "eca14bf4",
   "metadata": {},
   "outputs": [],
   "source": [
    "## Load Data\n",
    "\n",
    "x_train = np.load('../../data/images/train_no_aug_time_norm.npy') \n",
    "y_train = np.load('../../data/labels/train_labels.npy')  \n",
    "x_test = np.load('../../data/images/test_time_norm.npy')\n",
    "y_test = np.load('../../data/labels/test_labels.npy')"
   ]
  },
  {
   "cell_type": "markdown",
   "id": "17f8920e",
   "metadata": {},
   "source": [
    "## 20% time point"
   ]
  },
  {
   "cell_type": "code",
   "execution_count": 20,
   "id": "b67868b6",
   "metadata": {},
   "outputs": [],
   "source": [
    "## Load models\n",
    "time_point = 2 #20%\n",
    "x_train_20 = x_train[:, time_point, :, :]\n",
    "x_test_20 = x_test[:, time_point, :, :]\n",
    "y_train_20 = y_train\n",
    "y_test_20 = y_test\n",
    "\n",
    "config = {\n",
    "    'seed': 42,\n",
    "    'latent_dim': 2,\n",
    "    'GaussianNoise_std': 0.003,\n",
    "}\n",
    "\n",
    "img_shape = (x_train_20.shape[1], x_train_20.shape[2], 1)\n",
    "encoder_20 = Encoder(img_shape=img_shape, latent_dim=config['latent_dim'], num_classes=2, gaussian_noise_std=config['GaussianNoise_std']).model\n",
    "decoder_20 = Decoder(latent_dim=config['latent_dim'], img_shape=img_shape, gaussian_noise_std=config['GaussianNoise_std']).model\n",
    "encoder_20.load_weights(\"/Users/inescunha/Documents/GitHub/AI4CellFate/results/temporal_study_tps2_s1_ep35_lr5_la1_seed44_ldim2_s2_lr6_la4_lc1_lcon8/models/encoder.weights.h5\") ###TODO: change to the model path\n",
    "decoder_20.load_weights(\"/Users/inescunha/Documents/GitHub/AI4CellFate/results/temporal_study_tps2_s1_ep35_lr5_la1_seed44_ldim2_s2_lr6_la4_lc1_lcon8/models/decoder.weights.h5\") ###TODO: change to the model path\n"
   ]
  },
  {
   "cell_type": "code",
   "execution_count": 26,
   "id": "0d0872ed",
   "metadata": {},
   "outputs": [
    {
     "name": "stdout",
     "output_type": "stream",
     "text": [
      "\u001b[1m35/35\u001b[0m \u001b[32m━━━━━━━━━━━━━━━━━━━━\u001b[0m\u001b[37m\u001b[0m \u001b[1m0s\u001b[0m 2ms/step\n",
      "[ 0.20125554 -0.40641429]\n"
     ]
    }
   ],
   "source": [
    "latent_space_20 = encoder_20.predict(x_train_20)\n",
    "cor_vals_20 = [np.corrcoef(np.eye(2)[y_train_20][:, 0], latent_space_20[:, i])[0, 1] for i in range(latent_space_20.shape[1])]\n",
    "cor_vals_20 = np.array(cor_vals_20)\n",
    "print(cor_vals_20)\n",
    "most_correlated_feat, least_correlated_feat = np.argsort(np.abs(cor_vals))[-2:] "
   ]
  },
  {
   "cell_type": "code",
   "execution_count": null,
   "id": "c59c88c1",
   "metadata": {},
   "outputs": [],
   "source": []
  },
  {
   "cell_type": "markdown",
   "id": "b9638856",
   "metadata": {},
   "source": [
    "## 50% time point"
   ]
  },
  {
   "cell_type": "code",
   "execution_count": null,
   "id": "a4a80073",
   "metadata": {},
   "outputs": [],
   "source": [
    "## Load models\n",
    "time_point = 5 #50%\n",
    "x_train_50 = x_train[:, time_point, :, :]\n",
    "x_test_50 = x_test[:, time_point, :, :]\n",
    "y_train_50 = y_train\n",
    "y_test_50 = y_test\n",
    "\n",
    "config = {\n",
    "    'seed': 42,\n",
    "    'latent_dim': 2,\n",
    "    'GaussianNoise_std': 0.003,\n",
    "}\n",
    "\n",
    "img_shape = (x_train_50.shape[1], x_train_50.shape[2], 1)\n",
    "encoder_50 = Encoder(img_shape=img_shape, latent_dim=config['latent_dim'], num_classes=2, gaussian_noise_std=config['GaussianNoise_std']).model\n",
    "decoder_50 = Decoder(latent_dim=config['latent_dim'], img_shape=img_shape, gaussian_noise_std=config['GaussianNoise_std']).model\n",
    "encoder_50.load_weights(\"/Users/inescunha/Documents/GitHub/AI4CellFate/results/temporal_study_tps5_s1_ep35_lr5_la1_seed43_ldim2_s2_lr6_la4_lc1_lcon8/models/encoder.weights.h5\") ###TODO: change to the model path\n",
    "decoder_50.load_weights(\"/Users/inescunha/Documents/GitHub/AI4CellFate/results/temporal_study_tps5_s1_ep35_lr5_la1_seed43_ldim2_s2_lr6_la4_lc1_lcon8/models/decoder.weights.h5\") ###TODO: change to the model path\n"
   ]
  },
  {
   "cell_type": "code",
   "execution_count": null,
   "id": "bd031993",
   "metadata": {},
   "outputs": [
    {
     "name": "stdout",
     "output_type": "stream",
     "text": [
      "\u001b[1m35/35\u001b[0m \u001b[32m━━━━━━━━━━━━━━━━━━━━\u001b[0m\u001b[37m\u001b[0m \u001b[1m0s\u001b[0m 1ms/step \n"
     ]
    }
   ],
   "source": [
    "latent_space_50 = encoder_50.predict(x_train_50)\n",
    "cor_vals_50 = [np.corrcoef(np.eye(2)[y_train_50][:, 0], latent_space_50[:, i])[0, 1] for i in range(latent_space_50.shape[1])]\n",
    "cor_vals_50 = np.array(cor_vals_50)\n",
    "#feat_0, feat_1 = np.argsort(np.abs(cor_vals))[-2:] "
   ]
  },
  {
   "cell_type": "code",
   "execution_count": 13,
   "id": "e55dab10",
   "metadata": {},
   "outputs": [
    {
     "data": {
      "text/plain": [
       "array([-0.3113021 ,  0.21636072])"
      ]
     },
     "execution_count": 13,
     "metadata": {},
     "output_type": "execute_result"
    }
   ],
   "source": [
    "cor_vals"
   ]
  },
  {
   "cell_type": "code",
   "execution_count": null,
   "id": "27493066",
   "metadata": {},
   "outputs": [
    {
     "name": "stdout",
     "output_type": "stream",
     "text": [
      "(2, 2)\n",
      "\u001b[1m1/1\u001b[0m \u001b[32m━━━━━━━━━━━━━━━━━━━━\u001b[0m\u001b[37m\u001b[0m \u001b[1m0s\u001b[0m 14ms/step\n",
      "(2, 2)\n",
      "\u001b[1m1/1\u001b[0m \u001b[32m━━━━━━━━━━━━━━━━━━━━\u001b[0m\u001b[37m\u001b[0m \u001b[1m0s\u001b[0m 10ms/step\n",
      "(2, 2)\n",
      "\u001b[1m1/1\u001b[0m \u001b[32m━━━━━━━━━━━━━━━━━━━━\u001b[0m\u001b[37m\u001b[0m \u001b[1m0s\u001b[0m 10ms/step\n",
      "(2, 2)\n",
      "\u001b[1m1/1\u001b[0m \u001b[32m━━━━━━━━━━━━━━━━━━━━\u001b[0m\u001b[37m\u001b[0m \u001b[1m0s\u001b[0m 9ms/step\n",
      "(2, 2)\n",
      "\u001b[1m1/1\u001b[0m \u001b[32m━━━━━━━━━━━━━━━━━━━━\u001b[0m\u001b[37m\u001b[0m \u001b[1m0s\u001b[0m 9ms/step\n"
     ]
    },
    {
     "data": {
      "image/png": "[encoded data removed]",
      "text/plain": [
       "<Figure size 2000x400 with 10 Axes>"
      ]
     },
     "metadata": {},
     "output_type": "display_data"
    }
   ],
   "source": [
    "# Feature 0 - FRET; Feature 1 - Size\n",
    "\n",
    "baseline_latent_vector = np.zeros((2, 2), dtype=np.float32)  # Start with a neutral latent vector\n",
    "\n",
    "# Choose the feature to perturb (e.g., feature 0)\n",
    "feature_index = 0\n",
    "\n",
    "# Perturbation range\n",
    "#perturbations = np.linspace(-2, 2, 5) # feature index 1\n",
    "perturbations = np.linspace(-0.5, 2, 5) # feature index 0\n",
    "\n",
    "# Store the perturbed reconstructions\n",
    "perturbed_reconstructions = []\n",
    "\n",
    "for value in perturbations:\n",
    "    # Create a copy of the baseline latent vector\n",
    "    perturbed_vector = baseline_latent_vector.copy()\n",
    "    print(perturbed_vector.shape)\n",
    "    # Modify the selected feature\n",
    "    perturbed_vector[0, feature_index] = value\n",
    "    \n",
    "    # Decode the perturbed vector to generate a synthetic image\n",
    "    synthetic_image = decoder_50.predict(perturbed_vector)  # Assuming 'decoder' is your trained decoder model\n",
    "    \n",
    "    # Store the result\n",
    "    perturbed_reconstructions.append(synthetic_image[0])  # Assuming decoder outputs (batch_size, height, width, channels)\n",
    "\n",
    "# Convert list to numpy array for easier handling\n",
    "perturbed_reconstructions = np.array(perturbed_reconstructions)\n",
    "\n",
    "# Plot the results\n",
    "fig, axs = plt.subplots(1, 5, figsize=(20, 4))\n",
    "vmin = perturbed_reconstructions.min()\n",
    "vmax = perturbed_reconstructions.max()\n",
    "\n",
    "for i in range(5):\n",
    "    im = axs[i].imshow(perturbed_reconstructions[i, :, :, 0], cmap='gray', vmin=0.1, vmax=vmax)\n",
    "    axs[i].set_title(f'Perturbation {perturbations[i]}')\n",
    "    axs[i].axis('off')\n",
    "    fig.colorbar(im, ax=axs[i])\n",
    "\n",
    "plt.tight_layout()\n",
    "#plt.savefig(\"perturbations_feat1.pdf\", format=\"pdf\", dpi=300, bbox_inches=\"tight\")\n",
    "plt.show()\n"
   ]
  },
  {
   "cell_type": "code",
   "execution_count": null,
   "id": "852d13d3",
   "metadata": {},
   "outputs": [],
   "source": []
  }
 ],
 "metadata": {
  "kernelspec": {
   "display_name": "aicellfate",
   "language": "python",
   "name": "python3"
  },
  "language_info": {
   "codemirror_mode": {
    "name": "ipython",
    "version": 3
   },
   "file_extension": ".py",
   "mimetype": "text/x-python",
   "name": "python",
   "nbconvert_exporter": "python",
   "pygments_lexer": "ipython3",
   "version": "3.10.18"
  }
 },
 "nbformat": 4,
 "nbformat_minor": 5
}
