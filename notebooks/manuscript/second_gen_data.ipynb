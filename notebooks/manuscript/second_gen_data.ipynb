{
 "cells": [
  {
   "cell_type": "code",
   "execution_count": 4,
   "metadata": {},
   "outputs": [],
   "source": [
    "## Dependencies\n",
    "import numpy as np\n",
    "import pandas as pd\n",
    "import matplotlib.pyplot as plt\n",
    "from ipywidgets import interact, IntSlider\n",
    "from sklearn.model_selection import train_test_split\n",
    "import sys\n",
    "import os\n",
    "sys.path.append(os.path.abspath(\"../..\"))\n",
    "from src.preprocessing.preprocessing_functions import *"
   ]
  },
  {
   "cell_type": "markdown",
   "metadata": {},
   "source": [
    "# 1. Load Data"
   ]
  },
  {
   "cell_type": "code",
   "execution_count": 2,
   "metadata": {},
   "outputs": [
    {
     "name": "stdout",
     "output_type": "stream",
     "text": [
      "Filtered data shape (478, 1080, 19) (478,)\n",
      "Filtered data shape (493, 1080, 19) (493,)\n",
      "Filtered data shape (856, 1080, 19) (856,)\n"
     ]
    }
   ],
   "source": [
    "# Load all track data\n",
    "track_data_br1 = pd.read_csv('/Users/inescunha/Documents/GitHub/explanation/ALM272_BR1_tracks_0606224.csv') \n",
    "track_data_br2 = pd.read_csv('/Users/inescunha/Documents/GitHub/explanation/ALM272_BR2_tracks_0606224.csv') \n",
    "track_data_br3 = pd.read_csv('/Users/inescunha/Documents/GitHub/explanation/ALM272_BR3_tracks_060624.csv') \n",
    "\n",
    "filtered_track_br1, y_train_br1 = process_track_data(track_data_br1)\n",
    "filtered_track_br2, y_train_br2 = process_track_data(track_data_br2)\n",
    "filtered_track_br3, y_train_br3 = process_track_data(track_data_br3)"
   ]
  },
  {
   "cell_type": "code",
   "execution_count": 3,
   "metadata": {},
   "outputs": [
    {
     "name": "stdout",
     "output_type": "stream",
     "text": [
      "[ 1  1  1 ... 20 20 20]\n",
      "bioreplicate: BR1\n",
      "['/Users/inescunha/Documents/GitHub/explanation/BR1_Images/Tiff/ALM272_B03_G001_0001.tif']\n",
      "[21 21 21 ... 39 39 39]\n",
      "bioreplicate: BR1\n",
      "['/Users/inescunha/Documents/GitHub/explanation/BR1_Images/Tiff/ALM272_B03_G002_0001.tif']\n",
      "[40 40 40 ... 59 59 59]\n",
      "bioreplicate: BR1\n",
      "['/Users/inescunha/Documents/GitHub/explanation/BR1_Images/Tiff/ALM272_B03_G003_0001.tif']\n",
      "[ 60  60  60 ... 122 122 122]\n",
      "bioreplicate: BR1\n",
      "['/Users/inescunha/Documents/GitHub/explanation/BR1_Images/Tiff/ALM272_B04_G004_0001.tif']\n",
      "[123 123 123 ... 161 161 161]\n",
      "bioreplicate: BR1\n",
      "['/Users/inescunha/Documents/GitHub/explanation/BR1_Images/Tiff/ALM272_B04_G005_0001.tif']\n",
      "[162 162 162 ... 203 203 203]\n",
      "bioreplicate: BR1\n",
      "['/Users/inescunha/Documents/GitHub/explanation/BR1_Images/Tiff/ALM272_B04_G006_0001.tif']\n",
      "[204 204 204 ... 296 296 296]\n",
      "bioreplicate: BR1\n",
      "['/Users/inescunha/Documents/GitHub/explanation/BR1_Images/Tiff/ALM272_B05_G007_0001.tif']\n",
      "[297 297 297 ... 375 375 375]\n",
      "bioreplicate: BR1\n",
      "['/Users/inescunha/Documents/GitHub/explanation/BR1_Images/Tiff/ALM272_B05_G008_0001.tif']\n",
      "[376 376 376 ... 478 478 478]\n",
      "bioreplicate: BR1\n",
      "['/Users/inescunha/Documents/GitHub/explanation/BR1_Images/Tiff/ALM272_B05_G009_0001.tif']\n",
      "[ 1  1  1 ... 20 20 20]\n",
      "['/Users/inescunha/Documents/GitHub/explanation/BR1_Images/Segmentations_and_FRET/ALM272_BR1_1_seg.tiff']\n",
      "[21 21 21 ... 39 39 39]\n",
      "['/Users/inescunha/Documents/GitHub/explanation/BR1_Images/Segmentations_and_FRET/ALM272_BR1_2_seg.tiff']\n",
      "[40 40 40 ... 59 59 59]\n",
      "['/Users/inescunha/Documents/GitHub/explanation/BR1_Images/Segmentations_and_FRET/ALM272_BR1_3_seg.tiff']\n",
      "[ 60  60  60 ... 122 122 122]\n",
      "['/Users/inescunha/Documents/GitHub/explanation/BR1_Images/Segmentations_and_FRET/ALM272_BR1_4_seg.tiff']\n",
      "[123 123 123 ... 161 161 161]\n",
      "['/Users/inescunha/Documents/GitHub/explanation/BR1_Images/Segmentations_and_FRET/ALM272_BR1_5_seg.tiff']\n",
      "[162 162 162 ... 203 203 203]\n",
      "['/Users/inescunha/Documents/GitHub/explanation/BR1_Images/Segmentations_and_FRET/ALM272_BR1_6_seg.tiff']\n",
      "[204 204 204 ... 296 296 296]\n",
      "['/Users/inescunha/Documents/GitHub/explanation/BR1_Images/Segmentations_and_FRET/ALM272_BR1_7_seg.tiff']\n",
      "[297 297 297 ... 375 375 375]\n",
      "['/Users/inescunha/Documents/GitHub/explanation/BR1_Images/Segmentations_and_FRET/ALM272_BR1_8_seg.tiff']\n",
      "[376 376 376 ... 478 478 478]\n",
      "['/Users/inescunha/Documents/GitHub/explanation/BR1_Images/Segmentations_and_FRET/ALM272_BR1_9_seg.tiff']\n",
      "[ 1  1  1 ... 20 20 20]\n",
      "['/Users/inescunha/Documents/GitHub/explanation/BR1_Images/Segmentations_and_FRET/ALM272_BR1_1_FRET.tiff']\n",
      "[21 21 21 ... 39 39 39]\n",
      "['/Users/inescunha/Documents/GitHub/explanation/BR1_Images/Segmentations_and_FRET/ALM272_BR1_2_FRET.tiff']\n",
      "[40 40 40 ... 59 59 59]\n",
      "['/Users/inescunha/Documents/GitHub/explanation/BR1_Images/Segmentations_and_FRET/ALM272_BR1_3_FRET.tiff']\n",
      "[ 60  60  60 ... 122 122 122]\n",
      "['/Users/inescunha/Documents/GitHub/explanation/BR1_Images/Segmentations_and_FRET/ALM272_BR1_4_FRET.tiff']\n",
      "[123 123 123 ... 161 161 161]\n",
      "['/Users/inescunha/Documents/GitHub/explanation/BR1_Images/Segmentations_and_FRET/ALM272_BR1_5_FRET.tiff']\n",
      "[162 162 162 ... 203 203 203]\n",
      "['/Users/inescunha/Documents/GitHub/explanation/BR1_Images/Segmentations_and_FRET/ALM272_BR1_6_FRET.tiff']\n",
      "[204 204 204 ... 296 296 296]\n",
      "['/Users/inescunha/Documents/GitHub/explanation/BR1_Images/Segmentations_and_FRET/ALM272_BR1_7_FRET.tiff']\n",
      "[297 297 297 ... 375 375 375]\n",
      "['/Users/inescunha/Documents/GitHub/explanation/BR1_Images/Segmentations_and_FRET/ALM272_BR1_8_FRET.tiff']\n",
      "[376 376 376 ... 478 478 478]\n",
      "['/Users/inescunha/Documents/GitHub/explanation/BR1_Images/Segmentations_and_FRET/ALM272_BR1_9_FRET.tiff']\n",
      "[479 479 479 ... 526 526 526]\n",
      "bioreplicate: BR2\n",
      "['/Users/inescunha/Documents/GitHub/explanation/BR2_Images/ALM272_BR2_B02_G001_0001.tif']\n",
      "[527 527 527 ... 625 625 625]\n",
      "bioreplicate: BR2\n",
      "['/Users/inescunha/Documents/GitHub/explanation/BR2_Images/ALM272_BR2_B02_G002_0001.tif']\n",
      "[626 626 626 ... 693 693 693]\n",
      "bioreplicate: BR2\n",
      "['/Users/inescunha/Documents/GitHub/explanation/BR2_Images/ALM272_BR2_B03_G006_0001.tif']\n",
      "[694 694 694 ... 763 763 763]\n",
      "bioreplicate: BR2\n",
      "['/Users/inescunha/Documents/GitHub/explanation/BR2_Images/ALM272_BR2_B04_G008_0001.tif']\n",
      "[764 764 764 ... 971 971 971]\n",
      "bioreplicate: BR2\n",
      "['/Users/inescunha/Documents/GitHub/explanation/BR2_Images/ALM272_BR2_B04_G009_0001.tif']\n",
      "[479 479 479 ... 526 526 526]\n",
      "['/Users/inescunha/Documents/GitHub/explanation/BR2_Images/Segmentations_and_FRET/ALM272_BR2_1_seg.tiff']\n",
      "[527 527 527 ... 625 625 625]\n",
      "['/Users/inescunha/Documents/GitHub/explanation/BR2_Images/Segmentations_and_FRET/ALM272_BR2_2_seg.tiff']\n",
      "[626 626 626 ... 693 693 693]\n",
      "['/Users/inescunha/Documents/GitHub/explanation/BR2_Images/Segmentations_and_FRET/ALM272_BR2_6_seg.tiff']\n",
      "[694 694 694 ... 763 763 763]\n",
      "['/Users/inescunha/Documents/GitHub/explanation/BR2_Images/Segmentations_and_FRET/ALM272_BR2_8_seg.tiff']\n",
      "[764 764 764 ... 971 971 971]\n",
      "['/Users/inescunha/Documents/GitHub/explanation/BR2_Images/Segmentations_and_FRET/ALM272_BR2_9_seg.tiff']\n",
      "[479 479 479 ... 526 526 526]\n",
      "['/Users/inescunha/Documents/GitHub/explanation/BR2_Images/Segmentations_and_FRET/ALM272_BR2_1_FRET.tiff']\n",
      "[527 527 527 ... 625 625 625]\n",
      "['/Users/inescunha/Documents/GitHub/explanation/BR2_Images/Segmentations_and_FRET/ALM272_BR2_2_FRET.tiff']\n",
      "[626 626 626 ... 693 693 693]\n",
      "['/Users/inescunha/Documents/GitHub/explanation/BR2_Images/Segmentations_and_FRET/ALM272_BR2_6_FRET.tiff']\n",
      "[694 694 694 ... 763 763 763]\n",
      "['/Users/inescunha/Documents/GitHub/explanation/BR2_Images/Segmentations_and_FRET/ALM272_BR2_8_FRET.tiff']\n",
      "[764 764 764 ... 971 971 971]\n",
      "['/Users/inescunha/Documents/GitHub/explanation/BR2_Images/Segmentations_and_FRET/ALM272_BR2_9_FRET.tiff']\n",
      "[ 972  972  972 ... 1038 1038 1038]\n",
      "bioreplicate: BR3\n",
      "['/Users/inescunha/Documents/GitHub/explanation/BR3_Images/ALM272_BR3_B04_G001_0001-004.tif']\n",
      "[1039 1039 1039 ... 1111 1111 1111]\n",
      "bioreplicate: BR3\n",
      "['/Users/inescunha/Documents/GitHub/explanation/BR3_Images/ALM272_BR3_B04_G002_0001-002.tif']\n",
      "[1112 1112 1112 ... 1237 1237 1237]\n",
      "bioreplicate: BR3\n",
      "['/Users/inescunha/Documents/GitHub/explanation/BR3_Images/ALM272_BR3_B04_G003_0001-005.tif']\n",
      "[1238 1238 1238 ... 1316 1316 1316]\n",
      "bioreplicate: BR3\n",
      "['/Users/inescunha/Documents/GitHub/explanation/BR3_Images/ALM272_BR3_B04_G004_0001-001.tif']\n",
      "[1317 1317 1317 ... 1453 1453 1453]\n",
      "bioreplicate: BR3\n",
      "['/Users/inescunha/Documents/GitHub/explanation/BR3_Images/ALM272_BR3_B05_G005_0001.tif']\n",
      "[1454 1454 1454 ... 1582 1582 1582]\n",
      "bioreplicate: BR3\n",
      "['/Users/inescunha/Documents/GitHub/explanation/BR3_Images/ALM272_BR3_B05_G006_0001.tif']\n",
      "[1583 1583 1583 ... 1690 1690 1690]\n",
      "bioreplicate: BR3\n",
      "['/Users/inescunha/Documents/GitHub/explanation/BR3_Images/ALM272_BR3_B05_G007_0001-003.tif']\n",
      "[1691 1691 1691 ... 1827 1827 1827]\n",
      "bioreplicate: BR3\n",
      "['/Users/inescunha/Documents/GitHub/explanation/BR3_Images/ALM272_BR3_B05_G008_0001-006.tif']\n",
      "[ 972  972  972 ... 1038 1038 1038]\n",
      "['/Users/inescunha/Documents/GitHub/explanation/BR3_Images/Segmentations_and_FRET/ALM272_BR3_1_seg.tiff']\n",
      "[1039 1039 1039 ... 1111 1111 1111]\n",
      "['/Users/inescunha/Documents/GitHub/explanation/BR3_Images/Segmentations_and_FRET/ALM272_BR3_2_seg.tiff']\n",
      "[1112 1112 1112 ... 1237 1237 1237]\n",
      "['/Users/inescunha/Documents/GitHub/explanation/BR3_Images/Segmentations_and_FRET/ALM272_BR3_3_seg.tiff']\n",
      "[1238 1238 1238 ... 1316 1316 1316]\n",
      "['/Users/inescunha/Documents/GitHub/explanation/BR3_Images/Segmentations_and_FRET/ALM272_BR3_4_seg.tiff']\n",
      "[1317 1317 1317 ... 1453 1453 1453]\n",
      "['/Users/inescunha/Documents/GitHub/explanation/BR3_Images/Segmentations_and_FRET/ALM272_BR3_5_seg.tiff']\n",
      "[1454 1454 1454 ... 1582 1582 1582]\n",
      "['/Users/inescunha/Documents/GitHub/explanation/BR3_Images/Segmentations_and_FRET/ALM272_BR3_6_seg.tiff']\n",
      "[1583 1583 1583 ... 1690 1690 1690]\n",
      "['/Users/inescunha/Documents/GitHub/explanation/BR3_Images/Segmentations_and_FRET/ALM272_BR3_7_seg.tiff']\n",
      "[1691 1691 1691 ... 1827 1827 1827]\n",
      "['/Users/inescunha/Documents/GitHub/explanation/BR3_Images/Segmentations_and_FRET/ALM272_BR3_8_seg.tiff']\n",
      "[ 972  972  972 ... 1038 1038 1038]\n",
      "['/Users/inescunha/Documents/GitHub/explanation/BR3_Images/Segmentations_and_FRET/ALM272_BR3_1_FRET.tiff']\n",
      "[1039 1039 1039 ... 1111 1111 1111]\n",
      "['/Users/inescunha/Documents/GitHub/explanation/BR3_Images/Segmentations_and_FRET/ALM272_BR3_2_FRET.tiff']\n",
      "[1112 1112 1112 ... 1237 1237 1237]\n",
      "['/Users/inescunha/Documents/GitHub/explanation/BR3_Images/Segmentations_and_FRET/ALM272_BR3_3_FRET.tiff']\n",
      "[1238 1238 1238 ... 1316 1316 1316]\n",
      "['/Users/inescunha/Documents/GitHub/explanation/BR3_Images/Segmentations_and_FRET/ALM272_BR3_4_FRET.tiff']\n",
      "[1317 1317 1317 ... 1453 1453 1453]\n",
      "['/Users/inescunha/Documents/GitHub/explanation/BR3_Images/Segmentations_and_FRET/ALM272_BR3_5_FRET.tiff']\n",
      "[1454 1454 1454 ... 1582 1582 1582]\n",
      "['/Users/inescunha/Documents/GitHub/explanation/BR3_Images/Segmentations_and_FRET/ALM272_BR3_6_FRET.tiff']\n",
      "[1583 1583 1583 ... 1690 1690 1690]\n",
      "['/Users/inescunha/Documents/GitHub/explanation/BR3_Images/Segmentations_and_FRET/ALM272_BR3_7_FRET.tiff']\n",
      "[1691 1691 1691 ... 1827 1827 1827]\n",
      "['/Users/inescunha/Documents/GitHub/explanation/BR3_Images/Segmentations_and_FRET/ALM272_BR3_8_FRET.tiff']\n",
      "BR1 Images shape: (478, 1080, 3, 20, 20) BR2: (493, 1080, 3, 20, 20) BR3: (856, 1080, 4, 20, 20)\n",
      "BR1 tracks shape: (478, 1080, 19) BR2: (493, 1080, 19) BR3: (856, 1080, 19)\n"
     ]
    }
   ],
   "source": [
    "sub_size = (20, 20)\n",
    "\n",
    "# BR1\n",
    "images_br1, y_train_br1_ = process_all_fovs(track_data_br1, sub_size, bioreplicate = \"BR1\", segmentation=False, FRET=False)\n",
    "segmentations_br1, y_train_br1_ = process_all_fovs(track_data_br1, sub_size, bioreplicate = \"BR1\", segmentation=True, FRET=False)\n",
    "fret_br1, y_train_br1_ = process_all_fovs(track_data_br1, sub_size, bioreplicate = \"BR1\", segmentation=True, FRET=True)\n",
    "\n",
    "# BR2\n",
    "images_br2, y_train_br2_ = process_all_fovs(track_data_br2, sub_size, bioreplicate = \"BR2\", segmentation=False, FRET=False)\n",
    "segmentations_br2, y_train_br2_ = process_all_fovs(track_data_br2, sub_size, bioreplicate = \"BR2\", segmentation=True, FRET=False)\n",
    "fret_br2, y_train_br2_ = process_all_fovs(track_data_br2, sub_size, bioreplicate = \"BR2\", segmentation=True, FRET=True)\n",
    "\n",
    "# BR3\n",
    "images_br3, y_train_br3_ = process_all_fovs(track_data_br3, sub_size, bioreplicate = \"BR3\", segmentation=False, FRET=False)\n",
    "segmentations_br3, y_train_br3_ = process_all_fovs(track_data_br3, sub_size, bioreplicate = \"BR3\", segmentation=True, FRET=False)\n",
    "fret_br3, y_train_br3_ = process_all_fovs(track_data_br3, sub_size, bioreplicate = \"BR3\", segmentation=True, FRET=True)\n",
    "\n",
    "print(\"BR1 Images shape:\", images_br1.shape, \"BR2:\", images_br2.shape, \"BR3:\", images_br3.shape)\n",
    "print(\"BR1 tracks shape:\", filtered_track_br1.shape, \"BR2:\", filtered_track_br2.shape, \"BR3:\", filtered_track_br3.shape)"
   ]
  },
  {
   "cell_type": "markdown",
   "metadata": {},
   "source": [
    "# 2. Remove cells from edges of FOV"
   ]
  },
  {
   "cell_type": "code",
   "execution_count": 4,
   "metadata": {},
   "outputs": [
    {
     "name": "stdout",
     "output_type": "stream",
     "text": [
      "New dataset shape: (452, 1080, 3, 20, 20) Segmentations shape: (452, 1080, 20, 20) tracks: (452, 1080, 19) y train: (452,)\n"
     ]
    }
   ],
   "source": [
    "#### Removing cells in edges of the FOV ####\n",
    "\n",
    "indexes_to_remove_br1 = edge_indexes(images_br1)\n",
    "\n",
    "images_br1_no_edges = np.delete(images_br1, indexes_to_remove_br1, axis=0)\n",
    "y_train_br1_no_edges = np.delete(y_train_br1_, indexes_to_remove_br1)\n",
    "segmentations_br1_no_edges = np.delete(segmentations_br1, indexes_to_remove_br1, axis=0)\n",
    "filtered_track_br1_no_edges = np.delete(filtered_track_br1, indexes_to_remove_br1, axis=0)\n",
    "\n",
    "print(\"New dataset shape:\", images_br1_no_edges.shape, \"Segmentations shape:\", segmentations_br1_no_edges.shape, \"tracks:\", filtered_track_br1_no_edges.shape, \"y train:\", y_train_br1_no_edges.shape)\n"
   ]
  },
  {
   "cell_type": "code",
   "execution_count": 5,
   "metadata": {},
   "outputs": [
    {
     "name": "stdout",
     "output_type": "stream",
     "text": [
      "New dataset shape: (473, 1080, 3, 20, 20) Segmentations shape: (473, 1080, 20, 20) tracks: (473, 1080, 19) y train: (473,)\n"
     ]
    }
   ],
   "source": [
    "indexes_to_remove_br2 = edge_indexes(images_br2)\n",
    "\n",
    "images_br2_no_edges = np.delete(images_br2, indexes_to_remove_br2, axis=0)\n",
    "y_train_br2_no_edges = np.delete(y_train_br2_, indexes_to_remove_br2)\n",
    "segmentations_br2_no_edges = np.delete(segmentations_br2, indexes_to_remove_br2, axis=0)\n",
    "filtered_track_br2_no_edges = np.delete(filtered_track_br2, indexes_to_remove_br2, axis=0)\n",
    "\n",
    "print(\"New dataset shape:\", images_br2_no_edges.shape, \"Segmentations shape:\", segmentations_br2_no_edges.shape, \"tracks:\", filtered_track_br2_no_edges.shape, \"y train:\", y_train_br2_no_edges.shape)\n"
   ]
  },
  {
   "cell_type": "code",
   "execution_count": 6,
   "metadata": {},
   "outputs": [
    {
     "name": "stdout",
     "output_type": "stream",
     "text": [
      "New dataset shape: (804, 1080, 4, 20, 20) Segmentations shape: (804, 1080, 20, 20) tracks: (804, 1080, 19) y train: (804,)\n"
     ]
    }
   ],
   "source": [
    "indexes_to_remove_br3 = edge_indexes(images_br3)\n",
    "\n",
    "images_br3_no_edges = np.delete(images_br3, indexes_to_remove_br3, axis=0)\n",
    "y_train_br3_no_edges = np.delete(y_train_br3_, indexes_to_remove_br3)\n",
    "segmentations_br3_no_edges = np.delete(segmentations_br3, indexes_to_remove_br3, axis=0)\n",
    "filtered_track_br3_no_edges = np.delete(filtered_track_br3, indexes_to_remove_br3, axis=0)\n",
    "\n",
    "print(\"New dataset shape:\", images_br3_no_edges.shape, \"Segmentations shape:\", segmentations_br3_no_edges.shape, \"tracks:\", filtered_track_br3_no_edges.shape, \"y train:\", y_train_br3_no_edges.shape)"
   ]
  },
  {
   "cell_type": "markdown",
   "metadata": {},
   "source": [
    "# 3. Overimpose images with segmentations to remove background noise"
   ]
  },
  {
   "cell_type": "code",
   "execution_count": 7,
   "metadata": {},
   "outputs": [],
   "source": [
    "overimposed_br1 = overimpose(images_br1_no_edges, segmentations_br1_no_edges)"
   ]
  },
  {
   "cell_type": "code",
   "execution_count": 8,
   "metadata": {},
   "outputs": [],
   "source": [
    "overimposed_br2 = overimpose(images_br2_no_edges, segmentations_br2_no_edges)"
   ]
  },
  {
   "cell_type": "code",
   "execution_count": 9,
   "metadata": {},
   "outputs": [],
   "source": [
    "overimposed_br3 = overimpose(images_br3_no_edges, segmentations_br3_no_edges)"
   ]
  },
  {
   "cell_type": "markdown",
   "metadata": {},
   "source": [
    "# 4. Getting second generation cells from different cell tracks"
   ]
  },
  {
   "cell_type": "code",
   "execution_count": 10,
   "metadata": {},
   "outputs": [
    {
     "name": "stdout",
     "output_type": "stream",
     "text": [
      "Second generation BR1 shape: (57, 1080, 19) Images shape: (57, 1080, 2, 20, 20) y train shape: (57,)\n"
     ]
    }
   ],
   "source": [
    "indexes_daughter_br1 = daughter_indexes(filtered_track_br1_no_edges)\n",
    "second_gen_br1 = filtered_track_br1_no_edges[indexes_daughter_br1]\n",
    "second_gen_br1_images = overimposed_br1[indexes_daughter_br1]\n",
    "second_gen_br1_y_train = y_train_br1_no_edges[indexes_daughter_br1]\n",
    "\n",
    "print(\"Second generation BR1 shape:\", second_gen_br1.shape, \"Images shape:\", second_gen_br1_images.shape, \"y train shape:\", second_gen_br1_y_train.shape)"
   ]
  },
  {
   "cell_type": "code",
   "execution_count": 11,
   "metadata": {},
   "outputs": [
    {
     "data": {
      "text/plain": [
       "<matplotlib.image.AxesImage at 0x147aa82e0>"
      ]
     },
     "execution_count": 11,
     "metadata": {},
     "output_type": "execute_result"
    },
    {
     "data": {
      "image/png": "[encoded data removed]",
      "text/plain": [
       "<Figure size 640x480 with 1 Axes>"
      ]
     },
     "metadata": {},
     "output_type": "display_data"
    }
   ],
   "source": [
    "plt.imshow(images_br1_no_edges[10,100,0], cmap='gray')"
   ]
  },
  {
   "cell_type": "code",
   "execution_count": 12,
   "metadata": {},
   "outputs": [
    {
     "data": {
      "application/vnd.jupyter.widget-view+json": {
       "model_id": "6e0bf268cb264d12a72bda02a4705348",
       "version_major": 2,
       "version_minor": 0
      },
      "text/plain": [
       "interactive(children=(IntSlider(value=0, description='Cell:', max=1079), Output()), _dom_classes=('widget-inte…"
      ]
     },
     "metadata": {},
     "output_type": "display_data"
    },
    {
     "data": {
      "text/plain": [
       "<function __main__.view_cell_at_time(time_point=0)>"
      ]
     },
     "execution_count": 12,
     "metadata": {},
     "output_type": "execute_result"
    }
   ],
   "source": [
    "# remove problematic cells\n",
    "from ipywidgets import interact, IntSlider\n",
    "\n",
    "def view_cell_at_time(time_point=0):\n",
    "    cell_index = 10\n",
    "    plt.figure(figsize=(6, 6))\n",
    "    plt.imshow(images_br1_no_edges[cell_index, time_point,0], cmap='gray')\n",
    "    plt.title(f'Cell {cell_index}, Time Point {time_point}, Fate: {y_train_br1_no_edges[cell_index]}')\n",
    "    plt.axis('off')\n",
    "    plt.show()\n",
    "\n",
    "interact(view_cell_at_time, \n",
    "         time_point=IntSlider(min=0, max=1079, step=1, value=0, description='Cell:'))"
   ]
  },
  {
   "cell_type": "code",
   "execution_count": 13,
   "metadata": {},
   "outputs": [
    {
     "name": "stdout",
     "output_type": "stream",
     "text": [
      "Second generation BR2 shape: (63, 1080, 19) Images shape: (63, 1080, 2, 20, 20) y train shape: (63,)\n"
     ]
    }
   ],
   "source": [
    "indexes_daughter_br2 = daughter_indexes(filtered_track_br2_no_edges)\n",
    "second_gen_br2 = filtered_track_br2_no_edges[indexes_daughter_br2]\n",
    "second_gen_br2_images = overimposed_br2[indexes_daughter_br2]\n",
    "second_gen_br2_y_train = y_train_br2_no_edges[indexes_daughter_br2]\n",
    "\n",
    "print(\"Second generation BR2 shape:\", second_gen_br2.shape, \"Images shape:\", second_gen_br2_images.shape, \"y train shape:\", second_gen_br2_y_train.shape)"
   ]
  },
  {
   "cell_type": "code",
   "execution_count": 14,
   "metadata": {},
   "outputs": [
    {
     "name": "stdout",
     "output_type": "stream",
     "text": [
      "Second generation BR3 shape: (87, 1080, 19) Images shape: (87, 1080, 2, 20, 20) y train shape: (87,)\n"
     ]
    }
   ],
   "source": [
    "indexes_daughter_br3 = daughter_indexes(filtered_track_br3_no_edges)\n",
    "second_gen_br3 = filtered_track_br3_no_edges[indexes_daughter_br3]\n",
    "second_gen_br3_images = overimposed_br3[indexes_daughter_br3]\n",
    "second_gen_br3_y_train = y_train_br3_no_edges[indexes_daughter_br3]\n",
    "\n",
    "print(\"Second generation BR3 shape:\", second_gen_br3.shape, \"Images shape:\", second_gen_br3_images.shape, \"y train shape:\", second_gen_br3_y_train.shape)"
   ]
  },
  {
   "cell_type": "markdown",
   "metadata": {},
   "source": [
    "## 4.1. Removing residual fates 0,1 from the training set"
   ]
  },
  {
   "cell_type": "code",
   "execution_count": 15,
   "metadata": {},
   "outputs": [
    {
     "name": "stdout",
     "output_type": "stream",
     "text": [
      "(array([0, 1, 2, 3]), array([ 3,  2, 33, 19]))\n",
      "(array([0, 1, 2, 3]), array([ 5,  1, 47, 10]))\n",
      "(array([0, 1, 2, 3]), array([ 2,  2, 61, 22]))\n"
     ]
    }
   ],
   "source": [
    "print(np.unique(second_gen_br1_y_train, return_counts=True))\n",
    "print(np.unique(second_gen_br2_y_train, return_counts=True))\n",
    "print(np.unique(second_gen_br3_y_train, return_counts=True))"
   ]
  },
  {
   "cell_type": "code",
   "execution_count": 16,
   "metadata": {},
   "outputs": [],
   "source": [
    "indexes_with_0_y_train_br1 = np.where(second_gen_br1_y_train == 0)[0]\n",
    "indexes_with_1_y_train_br1 = np.where(second_gen_br1_y_train == 1)[0]\n",
    "\n",
    "indexes_with_0_y_train_br2 = np.where(second_gen_br2_y_train == 0)[0]\n",
    "indexes_with_1_y_train_br2 = np.where(second_gen_br2_y_train == 1)[0]\n",
    "\n",
    "indexes_with_0_y_train_br3 = np.where(second_gen_br3_y_train == 0)[0]\n",
    "indexes_with_1_y_train_br3 = np.where(second_gen_br3_y_train == 1)[0]"
   ]
  },
  {
   "cell_type": "code",
   "execution_count": 17,
   "metadata": {},
   "outputs": [
    {
     "name": "stdout",
     "output_type": "stream",
     "text": [
      "(52, 1080, 2, 20, 20)\n",
      "(52,)\n",
      "(57, 1080, 2, 20, 20)\n",
      "(57,)\n",
      "(83, 1080, 2, 20, 20)\n",
      "(83,)\n"
     ]
    }
   ],
   "source": [
    "second_gen_br1_images_ = np.delete(second_gen_br1_images, \n",
    "                                   np.concatenate([indexes_with_0_y_train_br1, indexes_with_1_y_train_br1]), \n",
    "                                   axis=0)\n",
    "\n",
    "second_gen_br1_y_train_ = np.delete(second_gen_br1_y_train, \n",
    "                                   np.concatenate([indexes_with_0_y_train_br1, indexes_with_1_y_train_br1]), \n",
    "                                   axis=0)\n",
    "\n",
    "second_gen_br1_tracks = np.delete(second_gen_br1, \n",
    "                                   np.concatenate([indexes_with_0_y_train_br1, indexes_with_1_y_train_br1]), \n",
    "                                   axis=0)\n",
    "\n",
    "\n",
    "\n",
    "second_gen_br2_images_ = np.delete(second_gen_br2_images, \n",
    "                                   np.concatenate([indexes_with_0_y_train_br2, indexes_with_1_y_train_br2]), \n",
    "                                   axis=0)\n",
    "\n",
    "second_gen_br2_y_train_ = np.delete(second_gen_br2_y_train, \n",
    "                                   np.concatenate([indexes_with_0_y_train_br2, indexes_with_1_y_train_br2]), \n",
    "                                   axis=0)\n",
    "\n",
    "second_gen_br2_tracks = np.delete(second_gen_br2, \n",
    "                                   np.concatenate([indexes_with_0_y_train_br2, indexes_with_1_y_train_br2]), \n",
    "                                   axis=0)\n",
    "\n",
    "\n",
    "\n",
    "\n",
    "second_gen_br3_images_ = np.delete(second_gen_br3_images, \n",
    "                                   np.concatenate([indexes_with_0_y_train_br3, indexes_with_1_y_train_br3]), \n",
    "                                   axis=0)\n",
    "\n",
    "second_gen_br3_y_train_ = np.delete(second_gen_br3_y_train, \n",
    "                                   np.concatenate([indexes_with_0_y_train_br3, indexes_with_1_y_train_br3]), \n",
    "                                   axis=0)\n",
    "\n",
    "second_gen_br3_tracks = np.delete(second_gen_br3, \n",
    "                                   np.concatenate([indexes_with_0_y_train_br3, indexes_with_1_y_train_br3]), \n",
    "                                   axis=0)\n",
    "\n",
    "\n",
    "print(second_gen_br1_images_.shape)\n",
    "print(second_gen_br1_y_train_.shape)\n",
    "print(second_gen_br2_images_.shape)\n",
    "print(second_gen_br2_y_train_.shape)\n",
    "print(second_gen_br3_images_.shape)\n",
    "print(second_gen_br3_y_train_.shape)"
   ]
  },
  {
   "cell_type": "code",
   "execution_count": 18,
   "metadata": {},
   "outputs": [],
   "source": [
    "np.save(\"/Users/inescunha/Documents/GitHub/AI4CellFate/data/second_generation/second_gen_br1_images.npy\", second_gen_br1_images_)\n",
    "np.save(\"/Users/inescunha/Documents/GitHub/AI4CellFate/data/second_generation/second_gen_br1_y_train.npy\", second_gen_br1_y_train_)\n",
    "np.save(\"/Users/inescunha/Documents/GitHub/AI4CellFate/data/second_generation/second_gen_br1_tracks.npy\", second_gen_br1_tracks)\n",
    "\n",
    "np.save(\"/Users/inescunha/Documents/GitHub/AI4CellFate/data/second_generation/second_gen_br2_images.npy\", second_gen_br2_images_)    \n",
    "np.save(\"/Users/inescunha/Documents/GitHub/AI4CellFate/data/second_generation/second_gen_br2_y_train.npy\", second_gen_br2_y_train_)\n",
    "np.save(\"/Users/inescunha/Documents/GitHub/AI4CellFate/data/second_generation/second_gen_br2_tracks.npy\", second_gen_br2_tracks)\n",
    "\n",
    "np.save(\"/Users/inescunha/Documents/GitHub/AI4CellFate/data/second_generation/second_gen_br3_images.npy\", second_gen_br3_images_)\n",
    "np.save(\"/Users/inescunha/Documents/GitHub/AI4CellFate/data/second_generation/second_gen_br3_y_train.npy\", second_gen_br3_y_train_)\n",
    "np.save(\"/Users/inescunha/Documents/GitHub/AI4CellFate/data/second_generation/second_gen_br3_tracks.npy\", second_gen_br3_tracks)"
   ]
  },
  {
   "cell_type": "markdown",
   "metadata": {},
   "source": [
    "# 5. Getting second generation cells from same track as mother"
   ]
  },
  {
   "cell_type": "code",
   "execution_count": 3,
   "metadata": {},
   "outputs": [],
   "source": [
    "second_gen_br1_images_ = np.load(\"/Users/inescunha/Documents/GitHub/AI4CellFate/data/second_generation/second_gen_br1_images.npy\")\n",
    "second_gen_br1_y_train_ = np.load(\"/Users/inescunha/Documents/GitHub/AI4CellFate/data/second_generation/second_gen_br1_y_train.npy\")\n",
    "second_gen_br1_tracks = np.load(\"/Users/inescunha/Documents/GitHub/AI4CellFate/data/second_generation/second_gen_br1_tracks.npy\")\n",
    "\n",
    "second_gen_br2_images_ = np.load(\"/Users/inescunha/Documents/GitHub/AI4CellFate/data/second_generation/second_gen_br2_images.npy\")\n",
    "second_gen_br2_y_train_ = np.load(\"/Users/inescunha/Documents/GitHub/AI4CellFate/data/second_generation/second_gen_br2_y_train.npy\")\n",
    "second_gen_br2_tracks = np.load(\"/Users/inescunha/Documents/GitHub/AI4CellFate/data/second_generation/second_gen_br2_tracks.npy\")\n",
    "\n",
    "second_gen_br3_images_ = np.load(\"/Users/inescunha/Documents/GitHub/AI4CellFate/data/second_generation/second_gen_br3_images.npy\")\n",
    "second_gen_br3_y_train_ = np.load(\"/Users/inescunha/Documents/GitHub/AI4CellFate/data/second_generation/second_gen_br3_y_train.npy\")\n",
    "second_gen_br3_tracks = np.load(\"/Users/inescunha/Documents/GitHub/AI4CellFate/data/second_generation/second_gen_br3_tracks.npy\")"
   ]
  },
  {
   "cell_type": "markdown",
   "metadata": {},
   "source": [
    "This should be in the mother tracks!!!"
   ]
  },
  {
   "cell_type": "code",
   "execution_count": 4,
   "metadata": {},
   "outputs": [],
   "source": [
    "def daughter_trace_keep_only(tabular_data, image_data):\n",
    "    \"\"\"\n",
    "    Keeps only information from daughter cells in both tabular and image data.\n",
    "    \n",
    "    - For each cell (row) in tabular_data, it finds the first zero in column 4, **ignoring the first time point**.\n",
    "    - From the beginning up to (but not including) that time point, it sets all values in that row to zero.\n",
    "    - Values from that time point onward are kept unchanged.\n",
    "    - The same index is used to set corresponding images in image_data to zero.\n",
    "\n",
    "    Args:\n",
    "        tabular_data (numpy.ndarray): A 3D matrix of shape (cells, time, features).\n",
    "        image_data (numpy.ndarray): A 5D matrix of shape (cells, time, channels, height, width).\n",
    "\n",
    "    Returns:\n",
    "        tuple: Processed (tabular_data, image_data) with zeroed-out values from the beginning up to the determined index.\n",
    "    \"\"\"\n",
    "    processed_tabular = tabular_data.copy()\n",
    "    processed_images = image_data.copy()\n",
    "    \n",
    "    for cell_idx, cell in enumerate(processed_tabular):\n",
    "        # Ignore the first time point and find the first zero in the 4th column (index 3)\n",
    "        feature_values = cell[1:, 4]  # Start from the second time point\n",
    "        first_zero_index = np.argmax(feature_values == 0) + 1 if np.any(feature_values == 0) else None  # Shift by 1\n",
    "        \n",
    "        # If a zero is found, zero out both tabular and image data from the beginning up to that time point\n",
    "        if first_zero_index is not None:\n",
    "            #print(\"first_zero_index\", first_zero_index, \"cell_idx\", cell_idx)\n",
    "            processed_tabular[cell_idx, :first_zero_index, :] = 0\n",
    "            processed_images[cell_idx, :first_zero_index, :, :, :] = 0  # Zeroing corresponding images\n",
    "    \n",
    "    return processed_tabular, processed_images"
   ]
  },
  {
   "cell_type": "code",
   "execution_count": 5,
   "metadata": {},
   "outputs": [],
   "source": [
    "br1_mother_images = np.load(\"/Users/inescunha/Documents/GitHub/CellFate/data/images/br1_mother_images.npy\")\n",
    "br2_mother_images = np.load(\"/Users/inescunha/Documents/GitHub/CellFate/data/images/br2_mother_images.npy\")\n",
    "br3_mother_images = np.load(\"/Users/inescunha/Documents/GitHub/CellFate/data/images/br3_mother_images.npy\")\n",
    "br1_mother_tracks = np.load(\"/Users/inescunha/Documents/GitHub/CellFate/data/tracks/br1_mother_tracks.npy\")\n",
    "br2_mother_tracks = np.load(\"/Users/inescunha/Documents/GitHub/CellFate/data/tracks/br2_mother_tracks.npy\")\n",
    "br3_mother_tracks = np.load(\"/Users/inescunha/Documents/GitHub/CellFate/data/tracks/br3_mother_tracks.npy\")\n",
    "br1_y_train = np.load(\"/Users/inescunha/Documents/GitHub/CellFate/data/labels/br1_y_train.npy\")\n",
    "br2_y_train = np.load(\"/Users/inescunha/Documents/GitHub/CellFate/data/labels/br2_y_train.npy\")\n",
    "br3_y_train = np.load(\"/Users/inescunha/Documents/GitHub/CellFate/data/labels/br3_y_train.npy\")"
   ]
  },
  {
   "cell_type": "code",
   "execution_count": 6,
   "metadata": {},
   "outputs": [
    {
     "name": "stdout",
     "output_type": "stream",
     "text": [
      "BR1: 395 → 56 cells after filtering\n",
      "BR2: 410 → 88 cells after filtering\n",
      "BR3: 717 → 114 cells after filtering\n"
     ]
    }
   ],
   "source": [
    "# Filter BR1 data for cells that split (labels 2 or 3)\n",
    "br1_split_mask = (br1_y_train == 2) | (br1_y_train == 3)\n",
    "br1_mother_tracks_split = br1_mother_tracks[br1_split_mask]\n",
    "br1_mother_images_split = br1_mother_images[br1_split_mask]\n",
    "br1_y_train_split = br1_y_train[br1_split_mask]\n",
    "\n",
    "# Filter BR2 data for cells that split (labels 2 or 3)\n",
    "br2_split_mask = (br2_y_train == 2) | (br2_y_train == 3)\n",
    "br2_mother_tracks_split = br2_mother_tracks[br2_split_mask]\n",
    "br2_mother_images_split = br2_mother_images[br2_split_mask]\n",
    "br2_y_train_split = br2_y_train[br2_split_mask]\n",
    "\n",
    "# Filter BR3 data for cells that split (labels 2 or 3)\n",
    "br3_split_mask = (br3_y_train == 2) | (br3_y_train == 3)\n",
    "br3_mother_tracks_split = br3_mother_tracks[br3_split_mask]\n",
    "br3_mother_images_split = br3_mother_images[br3_split_mask]\n",
    "br3_y_train_split = br3_y_train[br3_split_mask]\n",
    "\n",
    "# Now apply daughter_trace_keep_only to the filtered data\n",
    "processed_br1_mother_tracks, processed_br1_images = daughter_trace_keep_only(br1_mother_tracks_split, br1_mother_images_split)\n",
    "processed_br2_mother_tracks, processed_br2_images = daughter_trace_keep_only(br2_mother_tracks_split, br2_mother_images_split)\n",
    "processed_br3_mother_tracks, processed_br3_images = daughter_trace_keep_only(br3_mother_tracks_split, br3_mother_images_split)\n",
    "\n",
    "print(f\"BR1: {br1_mother_tracks.shape[0]} → {br1_mother_tracks_split.shape[0]} cells after filtering\")\n",
    "print(f\"BR2: {br2_mother_tracks.shape[0]} → {br2_mother_tracks_split.shape[0]} cells after filtering\") \n",
    "print(f\"BR3: {br3_mother_tracks.shape[0]} → {br3_mother_tracks_split.shape[0]} cells after filtering\")\n",
    "\n",
    "# processed_br1_mother_tracks, processed_br1_images = daughter_trace_keep_only(br1_mother_tracks, br1_mother_images)\n",
    "# processed_br2_mother_tracks, processed_br2_images = daughter_trace_keep_only(br2_mother_tracks, br2_mother_images)\n",
    "# processed_br3_mother_tracks, processed_br3_images = daughter_trace_keep_only(br3_mother_tracks, br3_mother_images)"
   ]
  },
  {
   "cell_type": "markdown",
   "metadata": {},
   "source": [
    "NOTE: now every cell that came from the mother has first everything as zeros (because it's the mother before it split - so later I need to use the non zero images)"
   ]
  },
  {
   "cell_type": "markdown",
   "metadata": {},
   "source": [
    "# 6. Concatenate all bioreplicates"
   ]
  },
  {
   "cell_type": "code",
   "execution_count": 7,
   "metadata": {},
   "outputs": [
    {
     "name": "stdout",
     "output_type": "stream",
     "text": [
      "(450, 1080, 2, 20, 20)\n",
      "(450, 1080, 19)\n",
      "(450,)\n"
     ]
    }
   ],
   "source": [
    "images = np.concatenate((second_gen_br1_images_, second_gen_br2_images_, second_gen_br3_images_, processed_br1_images, processed_br2_images, processed_br3_images), axis=0)\n",
    "tracks = np.concatenate((second_gen_br1_tracks, second_gen_br2_tracks, second_gen_br3_tracks, processed_br1_mother_tracks, processed_br2_mother_tracks, processed_br3_mother_tracks), axis=0)\n",
    "y_train_final = np.concatenate((second_gen_br1_y_train_, second_gen_br2_y_train_, second_gen_br3_y_train_, br1_y_train_split, br2_y_train_split, br3_y_train_split), axis=0)\n",
    "\n",
    "print(images.shape)\n",
    "print(tracks.shape)\n",
    "print(y_train_final.shape)"
   ]
  },
  {
   "cell_type": "code",
   "execution_count": 8,
   "metadata": {},
   "outputs": [
    {
     "data": {
      "text/plain": [
       "131"
      ]
     },
     "execution_count": 8,
     "metadata": {},
     "output_type": "execute_result"
    }
   ],
   "source": [
    "len(y_train_final[y_train_final==3])"
   ]
  },
  {
   "cell_type": "code",
   "execution_count": 9,
   "metadata": {},
   "outputs": [],
   "source": [
    "# fate 2 is second generation of cells, that did not die. fate 3 is second generation of cells, that died.\n",
    "y_train_ = np.where(y_train_final == 2, 0, y_train_final)  # Replace 2 with 0\n",
    "labels = np.where(y_train_ == 3, 1, y_train_)  # Replace 3 with 1"
   ]
  },
  {
   "cell_type": "markdown",
   "metadata": {},
   "source": [
    "### Clean images"
   ]
  },
  {
   "cell_type": "code",
   "execution_count": 10,
   "metadata": {},
   "outputs": [],
   "source": [
    "cleaned_images = clean_all_cells(images)"
   ]
  },
  {
   "cell_type": "code",
   "execution_count": 11,
   "metadata": {},
   "outputs": [
    {
     "data": {
      "text/plain": [
       "(450, 1080, 2, 20, 20)"
      ]
     },
     "execution_count": 11,
     "metadata": {},
     "output_type": "execute_result"
    }
   ],
   "source": [
    "cleaned_images.shape"
   ]
  },
  {
   "cell_type": "markdown",
   "metadata": {},
   "source": [
    "# Get FRET ratio"
   ]
  },
  {
   "cell_type": "code",
   "execution_count": 12,
   "metadata": {},
   "outputs": [
    {
     "name": "stderr",
     "output_type": "stream",
     "text": [
      "/var/folders/ds/_m8m03r135b5r67hc6xgtxt00000gn/T/ipykernel_65518/1176201609.py:1: RuntimeWarning: invalid value encountered in divide\n",
      "  fret_images = cleaned_images[:,:,0,:,:] / cleaned_images[:,:,1,:,:]\n"
     ]
    }
   ],
   "source": [
    "fret_images = cleaned_images[:,:,0,:,:] / cleaned_images[:,:,1,:,:] \n",
    "fret_images = np.nan_to_num(fret_images, nan=0.0)"
   ]
  },
  {
   "cell_type": "code",
   "execution_count": 13,
   "metadata": {},
   "outputs": [
    {
     "data": {
      "text/plain": [
       "<matplotlib.colorbar.Colorbar at 0x3087b7df0>"
      ]
     },
     "execution_count": 13,
     "metadata": {},
     "output_type": "execute_result"
    },
    {
     "data": {
      "image/png": "[encoded data removed]",
      "text/plain": [
       "<Figure size 640x480 with 2 Axes>"
      ]
     },
     "metadata": {},
     "output_type": "display_data"
    }
   ],
   "source": [
    "plt.imshow(fret_images[2,10])\n",
    "plt.colorbar()"
   ]
  },
  {
   "cell_type": "code",
   "execution_count": 14,
   "metadata": {},
   "outputs": [
    {
     "name": "stdout",
     "output_type": "stream",
     "text": [
      "Problematic cells: [(359, 301)]\n"
     ]
    }
   ],
   "source": [
    "problematic_cells = find_problematic_cells_and_times(fret_images)\n",
    "print(\"Problematic cells:\", problematic_cells)"
   ]
  },
  {
   "cell_type": "code",
   "execution_count": 20,
   "metadata": {},
   "outputs": [
    {
     "data": {
      "application/vnd.jupyter.widget-view+json": {
       "model_id": "21de8dc97a93484380f1e3f992f6831e",
       "version_major": 2,
       "version_minor": 0
      },
      "text/plain": [
       "interactive(children=(IntSlider(value=0, description='Cell:', max=1079), Output()), _dom_classes=('widget-inte…"
      ]
     },
     "metadata": {},
     "output_type": "display_data"
    },
    {
     "data": {
      "text/plain": [
       "<function __main__.view_cell_at_time(time_point=0)>"
      ]
     },
     "execution_count": 20,
     "metadata": {},
     "output_type": "execute_result"
    }
   ],
   "source": [
    "# remove problematic cells\n",
    "from ipywidgets import interact, IntSlider\n",
    "\n",
    "def view_cell_at_time(time_point=0):\n",
    "    cell_index = 301\n",
    "    plt.figure(figsize=(6, 6))\n",
    "    plt.imshow(fret_images[cell_index, time_point], cmap='gray')\n",
    "    plt.title(f'Cell {cell_index}, Time Point {time_point}, Fate: {labels[cell_index]}')\n",
    "    plt.axis('off')\n",
    "    plt.show()\n",
    "\n",
    "interact(view_cell_at_time, \n",
    "         time_point=IntSlider(min=0, max=1079, step=1, value=0, description='Cell:'))"
   ]
  },
  {
   "cell_type": "markdown",
   "metadata": {},
   "source": [
    "# Removal of \"problematic\" cells - CHOOSING THE LAST TIME POINT OF DAUGHTER CELLS"
   ]
  },
  {
   "cell_type": "code",
   "execution_count": 15,
   "metadata": {},
   "outputs": [
    {
     "data": {
      "text/plain": [
       "(450, 1080, 20, 20)"
      ]
     },
     "execution_count": 15,
     "metadata": {},
     "output_type": "execute_result"
    }
   ],
   "source": [
    "fret_images.shape"
   ]
  },
  {
   "cell_type": "code",
   "execution_count": 21,
   "metadata": {},
   "outputs": [],
   "source": [
    "def get_percentage_images(fret_images, percentage):\n",
    "    \"\"\"\n",
    "    Get images at a specific percentage of cell lifetime.\n",
    "    \n",
    "    Args:\n",
    "        fret_images: array of shape (cells, timepoints, height, width)\n",
    "        percentage: float from 0 to 100 indicating which percentage of lifetime to sample\n",
    "    \n",
    "    Returns:\n",
    "        percentage_images: array of shape (cells, height, width)\n",
    "        percentage_timepoints: array of timepoint indices for each cell\n",
    "    \"\"\"\n",
    "    if not 0 <= percentage <= 100:\n",
    "        raise ValueError(\"Percentage must be between 0 and 100\")\n",
    "    \n",
    "    num_cells = fret_images.shape[0]\n",
    "    percentage_images = np.zeros((num_cells, fret_images.shape[2], fret_images.shape[3]))\n",
    "    percentage_timepoints = np.zeros(num_cells, dtype=int)\n",
    "    \n",
    "    for cell_idx in range(num_cells):\n",
    "        # Check which timepoints have any non-zero values\n",
    "        has_signal = np.any(fret_images[cell_idx] != 0, axis=(1, 2))\n",
    "        \n",
    "        if np.any(has_signal):\n",
    "            # Find all timepoints with signal\n",
    "            signal_timepoints = np.where(has_signal)[0]\n",
    "            total_lifetime = len(signal_timepoints)\n",
    "            \n",
    "            # Calculate percentage index (0-based)\n",
    "            percentage_idx = int((percentage / 100) * total_lifetime)\n",
    "            # Clamp to valid range\n",
    "            percentage_idx = max(0, min(percentage_idx, total_lifetime - 1))\n",
    "            \n",
    "            percentage_t = signal_timepoints[percentage_idx]\n",
    "            percentage_images[cell_idx] = fret_images[cell_idx, percentage_t]\n",
    "            percentage_timepoints[cell_idx] = percentage_t\n",
    "        else:\n",
    "            percentage_timepoints[cell_idx] = -1\n",
    "    \n",
    "    return percentage_images, percentage_timepoints\n",
    "\n",
    "\n",
    "# Use the vectorized version\n",
    "quarter_life_images, quarter_life_timepoints = get_percentage_images(fret_images, 25)"
   ]
  },
  {
   "cell_type": "code",
   "execution_count": 23,
   "metadata": {},
   "outputs": [
    {
     "data": {
      "text/plain": [
       "(450, 20, 20)"
      ]
     },
     "execution_count": 23,
     "metadata": {},
     "output_type": "execute_result"
    }
   ],
   "source": [
    "quarter_life_images.shape"
   ]
  },
  {
   "cell_type": "code",
   "execution_count": null,
   "metadata": {},
   "outputs": [
    {
     "data": {
      "application/vnd.jupyter.widget-view+json": {
       "model_id": "42272bc35d3744ef99c71cbd876b2f5a",
       "version_major": 2,
       "version_minor": 0
      },
      "text/plain": [
       "interactive(children=(IntSlider(value=0, description='Cell:', max=449), Output()), _dom_classes=('widget-inter…"
      ]
     },
     "metadata": {},
     "output_type": "display_data"
    },
    {
     "data": {
      "text/plain": [
       "<function __main__.view_cell_at_time(cell_index=0)>"
      ]
     },
     "execution_count": 24,
     "metadata": {},
     "output_type": "execute_result"
    }
   ],
   "source": [
    "# remove problematic cells\n",
    "from ipywidgets import interact, IntSlider\n",
    "\n",
    "def view_cell_at_time(cell_index=0):\n",
    "    plt.figure(figsize=(6, 6))\n",
    "    plt.imshow(quarter_life_images[cell_index], cmap='gray')\n",
    "    plt.title(f'Cell {cell_index}, Fate: {labels[cell_index]}')\n",
    "    plt.axis('off')\n",
    "    plt.show()\n",
    "\n",
    "interact(view_cell_at_time, \n",
    "         cell_index=IntSlider(min=0, max=quarter_life_images.shape[0]-1, step=1, value=0, description='Cell:'))"
   ]
  },
  {
   "cell_type": "code",
   "execution_count": 28,
   "metadata": {},
   "outputs": [],
   "source": [
    "#cell_indexes_to_remove = [19, 33, 48, 91, 116, 119, 120, 121, 122, 123, 124, 125, 126, 127, 129, 130, 132, 133, 134, 135, 136]\n",
    "#cell_indexes_to_remove = [6, 31, 45, 116, 117, 118, 119, 121, 122, 124, 125, 126, 127, 128, 129, 130, 131, 132, 136, 205, 214, 218, 239, 242, 245, 260, 290, 301, 319, 346, 347, 348, 350, 351, 355, 356, 357, 358, 359, 363, 364, 365, 366, 367, 368, 369, 373, 416, 431]\n",
    "cell_indexes_to_remove = [115, 116, 117, 118, 119, 120, 121, 122, 123, 124, 125, 126, 128, 129, 130, 132, 133, 134, 135, 136, 242, 245, 301, 346, 347, 348, 349, 350, 351, 352, 353, 354, 355, 356, 357, 358, 359, 361, 363, 364, 368, 369, 370, 371, 372, 373, 374, 375]\n",
    "cell_indexes_to_remove = sorted(set(cell_indexes_to_remove))\n",
    "\n",
    "filtered_images = np.delete(quarter_life_images, cell_indexes_to_remove, axis=0)\n",
    "filtered_labels = np.delete(labels, cell_indexes_to_remove, axis=0)\n"
   ]
  },
  {
   "cell_type": "code",
   "execution_count": 30,
   "metadata": {},
   "outputs": [
    {
     "data": {
      "text/plain": [
       "(402, 20, 20)"
      ]
     },
     "execution_count": 30,
     "metadata": {},
     "output_type": "execute_result"
    }
   ],
   "source": [
    "filtered_images.shape"
   ]
  },
  {
   "cell_type": "code",
   "execution_count": null,
   "metadata": {},
   "outputs": [
    {
     "data": {
      "application/vnd.jupyter.widget-view+json": {
       "model_id": "72dbada63c2e46d99b23f41cecefb237",
       "version_major": 2,
       "version_minor": 0
      },
      "text/plain": [
       "interactive(children=(IntSlider(value=0, description='Cell:', max=401), Output()), _dom_classes=('widget-inter…"
      ]
     },
     "metadata": {},
     "output_type": "display_data"
    },
    {
     "data": {
      "text/plain": [
       "<function __main__.view_cell_at_time(cell_index=0)>"
      ]
     },
     "execution_count": 31,
     "metadata": {},
     "output_type": "execute_result"
    }
   ],
   "source": [
    "# remove problematic cells\n",
    "from ipywidgets import interact, IntSlider\n",
    "\n",
    "def view_cell_at_time(cell_index=0):\n",
    "    plt.figure(figsize=(6, 6))\n",
    "    plt.imshow(filtered_images[cell_index], cmap='gray')\n",
    "    plt.title(f'Cell {cell_index}, Fate: {labels[cell_index]}')\n",
    "    plt.axis('off')\n",
    "    plt.show()\n",
    "\n",
    "interact(view_cell_at_time, \n",
    "         cell_index=IntSlider(min=0, max=filtered_images.shape[0]-1, step=1, value=0, description='Cell:'))"
   ]
  },
  {
   "cell_type": "code",
   "execution_count": 32,
   "metadata": {},
   "outputs": [
    {
     "data": {
      "text/plain": [
       "((402, 20, 20), (402,))"
      ]
     },
     "execution_count": 32,
     "metadata": {},
     "output_type": "execute_result"
    }
   ],
   "source": [
    "filtered_images.shape, filtered_labels.shape"
   ]
  },
  {
   "cell_type": "markdown",
   "metadata": {},
   "source": [
    "### Centering cells"
   ]
  },
  {
   "cell_type": "code",
   "execution_count": 33,
   "metadata": {},
   "outputs": [],
   "source": [
    "def center_cells_single_frame(images):\n",
    "    \"\"\"\n",
    "    Centers each cell in the middle of a 20x20 field-of-view for single frame data.\n",
    "    \n",
    "    Args:\n",
    "        images: NumPy array of shape (num_cells, 20, 20), where each cell is a binary or intensity image.\n",
    "\n",
    "    Returns:\n",
    "        Centered images of the same shape (num_cells, 20, 20).\n",
    "    \"\"\"\n",
    "    num_cells, height, width = images.shape\n",
    "    centered_images = np.zeros_like(images)\n",
    "\n",
    "    for i in range(num_cells):\n",
    "        img = images[i]\n",
    "\n",
    "        # Find nonzero pixel indices\n",
    "        y_indices, x_indices = np.where(img > 0)\n",
    "        if len(y_indices) == 0 or len(x_indices) == 0:\n",
    "            continue  # Skip empty images\n",
    "        \n",
    "        # Get bounding box\n",
    "        y_min, y_max = y_indices.min(), y_indices.max()\n",
    "        x_min, x_max = x_indices.min(), x_indices.max()\n",
    "        \n",
    "        # Extract the cell\n",
    "        cropped_cell = img[y_min:y_max+1, x_min:x_max+1]\n",
    "\n",
    "        # Compute new position to center the cropped cell\n",
    "        new_y_start = (height - cropped_cell.shape[0]) // 2\n",
    "        new_x_start = (width - cropped_cell.shape[1]) // 2\n",
    "        \n",
    "        # Place cropped cell into the new centered array\n",
    "        centered_images[i, new_y_start:new_y_start+cropped_cell.shape[0], \n",
    "                            new_x_start:new_x_start+cropped_cell.shape[1]] = cropped_cell\n",
    "\n",
    "    return centered_images"
   ]
  },
  {
   "cell_type": "code",
   "execution_count": 34,
   "metadata": {},
   "outputs": [],
   "source": [
    "centered_images = center_cells_single_frame(filtered_images)"
   ]
  },
  {
   "cell_type": "code",
   "execution_count": 35,
   "metadata": {},
   "outputs": [
    {
     "data": {
      "text/plain": [
       "<matplotlib.colorbar.Colorbar at 0x178125e10>"
      ]
     },
     "execution_count": 35,
     "metadata": {},
     "output_type": "execute_result"
    },
    {
     "data": {
      "image/png": "[encoded data removed]",
      "text/plain": [
       "<Figure size 640x480 with 2 Axes>"
      ]
     },
     "metadata": {},
     "output_type": "display_data"
    }
   ],
   "source": [
    "plt.imshow(centered_images[301])\n",
    "plt.colorbar()"
   ]
  },
  {
   "cell_type": "code",
   "execution_count": null,
   "metadata": {},
   "outputs": [],
   "source": [
    "# np.save(\"/Users/inescunha/Documents/GitHub/AI4CellFate/data/second_generation/centered_images_25life.npy\", centered_images)\n",
    "# np.save(\"/Users/inescunha/Documents/GitHub/AI4CellFate/data/second_generation/labels_25life.npy\", filtered_labels)"
   ]
  },
  {
   "cell_type": "markdown",
   "metadata": {},
   "source": [
    "# Normalising cells - Here choose to normalise according to mother cells, or treat daughter cells separately"
   ]
  },
  {
   "cell_type": "markdown",
   "metadata": {},
   "source": [
    "### Using daughters separately"
   ]
  },
  {
   "cell_type": "code",
   "execution_count": 40,
   "metadata": {},
   "outputs": [],
   "source": [
    "norm_images = normalize_channels(centered_images)"
   ]
  },
  {
   "cell_type": "code",
   "execution_count": 45,
   "metadata": {},
   "outputs": [
    {
     "data": {
      "text/plain": [
       "<matplotlib.colorbar.Colorbar at 0x1789d0670>"
      ]
     },
     "execution_count": 45,
     "metadata": {},
     "output_type": "execute_result"
    },
    {
     "data": {
      "image/png": "[encoded data removed]",
      "text/plain": [
       "<Figure size 640x480 with 2 Axes>"
      ]
     },
     "metadata": {},
     "output_type": "display_data"
    }
   ],
   "source": [
    "plt.imshow(norm_images[301])\n",
    "plt.colorbar()"
   ]
  },
  {
   "cell_type": "markdown",
   "metadata": {},
   "source": [
    "#### Stretching intensities"
   ]
  },
  {
   "cell_type": "code",
   "execution_count": 51,
   "metadata": {},
   "outputs": [],
   "source": [
    "def stretch_intensities_single_frame(images, epsilon=0.001):\n",
    "    \"\"\"\n",
    "    Stretch the intensities of images globally using the same min and max for a single frame.\n",
    "    \n",
    "    Args:\n",
    "        train_images (ndarray): Training image data [cells, height, width]\n",
    "        test_images (ndarray): Testing image data [cells, height, width]\n",
    "        epsilon (float): Value to prevent division by zero\n",
    "\n",
    "    \"\"\"\n",
    "    scaled_images = np.empty(images.shape)\n",
    "\n",
    "    nonzero_images = images[images > 0]\n",
    "    global_min = np.min(nonzero_images)\n",
    "    global_max = np.max(nonzero_images)\n",
    "\n",
    "    if global_max > global_min:\n",
    "        # Scale training images\n",
    "        scaled_images = (images - global_min) / (global_max - global_min)\n",
    "        scaled_images = scaled_images * (1 - epsilon) + epsilon\n",
    "        scaled_images[images == 0] = 0  # Preserve zero values (background)\n",
    "    else:\n",
    "        # If global_max == global_min, leave unchanged\n",
    "        scaled_images = images.copy()\n",
    "\n",
    "    return scaled_images"
   ]
  },
  {
   "cell_type": "code",
   "execution_count": 52,
   "metadata": {},
   "outputs": [],
   "source": [
    "stretched_images = stretch_intensities_single_frame(norm_images)"
   ]
  },
  {
   "cell_type": "markdown",
   "metadata": {},
   "source": [
    "### Splitting into train and test set"
   ]
  },
  {
   "cell_type": "code",
   "execution_count": 55,
   "metadata": {},
   "outputs": [
    {
     "name": "stdout",
     "output_type": "stream",
     "text": [
      "Combined dataset shape: (402, 20, 20)\n",
      "Combined labels shape: (402,)\n",
      "Label distribution: [278 124]\n",
      "Train set: 241 samples (60.0%)\n",
      "Val set: 80 samples (19.9%)\n",
      "Test set: 81 samples (20.1%)\n"
     ]
    }
   ],
   "source": [
    "print(f\"Combined dataset shape: {stretched_images.shape}\")\n",
    "print(f\"Combined labels shape: {filtered_labels.shape}\")\n",
    "print(f\"Label distribution: {np.bincount(filtered_labels)}\")\n",
    "\n",
    "# First split: 60% train, 40% temp (which will be split into 20% val, 20% test)\n",
    "x_train, x_temp, y_train, y_temp = train_test_split(\n",
    "    stretched_images, filtered_labels,\n",
    "    test_size=0.4,  # 40% for temp (val + test)\n",
    "    random_state=42,\n",
    "    stratify=filtered_labels  # Keep class balance\n",
    ")\n",
    "\n",
    "# Second split: Split the temp 40% into 20% val and 20% test (50/50 split of temp)\n",
    "x_val, x_test, y_val, y_test = train_test_split(\n",
    "    x_temp, y_temp,\n",
    "    test_size=0.5,  # 50% of 40% = 20% of total for test, 20% for val\n",
    "    random_state=42,\n",
    "    stratify=y_temp  # Keep class balance\n",
    ")\n",
    "\n",
    "print(f\"Train set: {x_train.shape[0]} samples ({x_train.shape[0]/len(stretched_images)*100:.1f}%)\")\n",
    "print(f\"Val set: {x_val.shape[0]} samples ({x_val.shape[0]/len(stretched_images)*100:.1f}%)\")\n",
    "print(f\"Test set: {x_test.shape[0]} samples ({x_test.shape[0]/len(stretched_images)*100:.1f}%)\")\n",
    "\n"
   ]
  },
  {
   "cell_type": "code",
   "execution_count": null,
   "metadata": {},
   "outputs": [],
   "source": [
    "# np.save(\"/Users/inescunha/Documents/GitHub/AI4CellFate/data/second_generation/x_train_second_gen.npy\", x_train)\n",
    "# np.save(\"/Users/inescunha/Documents/GitHub/AI4CellFate/data/second_generation/y_train_second_gen.npy\", y_train)"
   ]
  },
  {
   "cell_type": "code",
   "execution_count": 56,
   "metadata": {},
   "outputs": [
    {
     "name": "stdout",
     "output_type": "stream",
     "text": [
      "Balancing Class 0: 1002 → 444 samples (preserving augmentation structure)\n",
      "✅ Balanced Class 0: 444 samples with equal augmentation representation\n",
      "Augmented train set: 888 samples\n"
     ]
    }
   ],
   "source": [
    "# Augment only the training set\n",
    "augmented_x_train, augmented_y_train = augment_dataset(x_train, y_train, augmentations)\n",
    "\n",
    "print(f\"Augmented train set: {augmented_x_train.shape[0]} samples\")"
   ]
  },
  {
   "cell_type": "code",
   "execution_count": null,
   "metadata": {},
   "outputs": [],
   "source": [
    "# np.save(\"/Users/inescunha/Documents/GitHub/AI4CellFate/data/second_generation/augmented_x_traintrain_second_gen.npy\", augmented_x_train)\n",
    "# np.save(\"/Users/inescunha/Documents/GitHub/AI4CellFate/data/second_generation/augmented_y_train_second_gen.npy\", augmented_y_train)\n",
    "# np.save(\"/Users/inescunha/Documents/GitHub/AI4CellFate/data/second_generation/x_val_second_gen.npy\", x_val)\n",
    "# np.save(\"/Users/inescunha/Documents/GitHub/AI4CellFate/data/second_generation/y_val_second_gen.npy\", y_val)\n",
    "# np.save(\"/Users/inescunha/Documents/GitHub/AI4CellFate/data/second_generation/x_test_second_gen.npy\", x_test)\n",
    "# np.save(\"/Users/inescunha/Documents/GitHub/AI4CellFate/data/second_generation/y_test_second_gen.npy\", y_test)"
   ]
  },
  {
   "cell_type": "code",
   "execution_count": null,
   "metadata": {},
   "outputs": [],
   "source": [
    "import numpy as np\n",
    "y_pred_discover = np.load(\"/Users/inescunha/Downloads/test_z_scores_42.npy\")\n",
    "y_test =np.load(\"/Users/inescunha/Documents/GitHub/AI4CellFate/data/final_split/y_test.npy\")"
   ]
  },
  {
   "cell_type": "code",
   "execution_count": 71,
   "metadata": {},
   "outputs": [
    {
     "data": {
      "text/plain": [
       "array([0, 1, 0, 0, 0, 0, 0, 0, 0, 1, 0, 1, 1, 0, 0, 0, 0, 0, 0, 0, 0, 0,\n",
       "       0, 0, 0, 0, 0, 0, 0, 0, 0, 0, 0, 1, 0, 0, 0, 0, 0, 0, 0, 0, 0, 0,\n",
       "       0, 0, 1, 0, 0, 0, 0, 0, 0, 0, 0, 1, 0, 0, 0, 0, 0, 0, 1, 1, 0, 0,\n",
       "       0, 0, 0, 0, 0, 0, 0, 1, 0, 0, 0, 0, 0, 0, 0, 0, 1, 1, 0, 0, 0, 0,\n",
       "       0, 0, 0, 0, 0, 0, 0, 0, 0, 0, 0, 0, 0, 0, 0, 1, 0, 0, 1, 1, 0, 1,\n",
       "       0, 0, 0, 1, 0, 0, 0, 0, 0, 1, 0, 0, 0, 0, 0, 0, 1, 0, 0, 0, 0, 0,\n",
       "       0, 0, 1, 1, 0, 0, 0, 0, 0, 0, 1, 0, 0, 0, 0, 0, 0, 0, 0, 0, 0, 0,\n",
       "       0, 0, 0, 0, 1, 0, 0, 0, 0, 0, 0, 0, 1, 0, 0, 1, 0, 0, 0, 0, 0, 0,\n",
       "       1, 0, 0, 0, 1, 1, 0, 0, 0, 0, 0, 1, 0, 1, 0, 1, 0, 0, 0, 0, 0, 0,\n",
       "       0, 0, 0, 0, 0, 0, 0, 0, 0, 0, 0, 0, 1, 0, 0, 0, 0, 0, 0, 1, 0, 0,\n",
       "       0, 0, 0, 1, 0, 1, 0, 0, 0, 0, 1, 0, 0, 1, 0, 1, 1, 0, 1, 0, 0, 0,\n",
       "       0, 0, 1, 0, 0, 0, 1, 0, 0, 0, 0, 0, 1, 0, 0, 0, 1, 0, 0, 0, 0, 0,\n",
       "       0, 1, 0, 0, 0, 0, 0, 0, 0, 0, 0, 0, 0])"
      ]
     },
     "execution_count": 71,
     "metadata": {},
     "output_type": "execute_result"
    }
   ],
   "source": [
    "y_test"
   ]
  },
  {
   "cell_type": "code",
   "execution_count": 72,
   "metadata": {},
   "outputs": [],
   "source": [
    "y_pred_classes = (y_pred_discover>0.5).astype(\"int32\")"
   ]
  },
  {
   "cell_type": "code",
   "execution_count": 75,
   "metadata": {},
   "outputs": [
    {
     "data": {
      "text/plain": [
       "array([1, 1, 1, 1, 1, 1, 1, 1, 1, 1, 1, 1, 1, 1, 1, 1, 1, 0, 1, 1, 0, 1,\n",
       "       1, 0, 1, 1, 1, 1, 0, 1, 1, 0, 0, 1, 0, 1, 1, 0, 1, 0, 1, 1, 1, 1,\n",
       "       1, 1, 0, 1, 1, 1, 0, 1, 1, 1, 1, 0, 1, 1, 1, 1, 1, 0, 1, 0, 1, 1,\n",
       "       1, 0, 1, 0, 0, 1, 1, 1, 0, 1, 1, 1, 1, 1, 0, 1, 1, 1, 1, 1, 1, 1,\n",
       "       1, 1, 1, 1, 1, 0, 1, 1, 1, 1, 1, 1, 1, 0, 1, 1, 1, 1, 1, 1, 1, 0,\n",
       "       1, 1, 1, 1, 1, 0, 1, 1, 1, 1, 1, 1, 1, 1, 1, 1, 1, 1, 1, 1, 0, 1,\n",
       "       1, 1, 0, 1, 1, 1, 1, 1, 0, 1, 1, 1, 0, 1, 1, 0, 1, 1, 0, 1, 1, 1,\n",
       "       1, 1, 1, 0, 1, 1, 1, 0, 0, 1, 1, 0, 1, 1, 1, 1, 1, 1, 1, 1, 1, 1,\n",
       "       0, 1, 0, 1, 0, 1, 1, 0, 1, 1, 1, 1, 1, 1, 1, 0, 0, 1, 1, 1, 1, 0,\n",
       "       1, 1, 1, 0, 1, 1, 0, 1, 1, 1, 1, 1, 1, 1, 0, 1, 0, 1, 1, 1, 0, 0,\n",
       "       0, 1, 0, 1, 1, 1, 1, 1, 1, 1, 1, 1, 1, 1, 1, 1, 1, 1, 1, 1, 1, 1,\n",
       "       0, 1, 1, 1, 1, 1, 1, 0, 1, 1, 0, 1, 0, 0, 1, 0, 1, 1, 1, 1, 1, 0,\n",
       "       1, 1, 0, 1, 0, 1, 1, 1, 0, 1, 1, 1, 0], dtype=int32)"
      ]
     },
     "execution_count": 75,
     "metadata": {},
     "output_type": "execute_result"
    }
   ],
   "source": [
    "y_pred_classes[:,0]"
   ]
  },
  {
   "cell_type": "code",
   "execution_count": null,
   "metadata": {},
   "outputs": [],
   "source": []
  },
  {
   "cell_type": "markdown",
   "metadata": {},
   "source": [
    "# Combining with mother cells (will delete later)"
   ]
  },
  {
   "cell_type": "code",
   "execution_count": null,
   "metadata": {},
   "outputs": [
    {
     "name": "stderr",
     "output_type": "stream",
     "text": [
      "/Users/inescunha/Documents/GitHub/AI4CellFate/src/preprocessing/preprocessing_functions.py:431: RuntimeWarning: invalid value encountered in divide\n",
      "  normalized_images[:,j] = cell_images[:,j] / absolute_max\n"
     ]
    }
   ],
   "source": [
    "#norm_images = normalize_images_per_frame(centered_images)"
   ]
  },
  {
   "cell_type": "code",
   "execution_count": 51,
   "metadata": {},
   "outputs": [],
   "source": [
    "first_gen_images = np.load(\"/Users/inescunha/Documents/GitHub/AI4CellFate/data/images/centered_images.npy\")\n",
    "first_gen_labels = np.load(\"/Users/inescunha/Documents/GitHub/CellFate/data/labels/filtered_y_train.npy\")\n",
    "first_gen_labels_all = np.load(\"/Users/inescunha/Documents/GitHub/CellFate/data/labels/filtered_y_train_all_fates.npy\")"
   ]
  },
  {
   "cell_type": "code",
   "execution_count": 52,
   "metadata": {},
   "outputs": [
    {
     "data": {
      "text/plain": [
       "(1385,)"
      ]
     },
     "execution_count": 52,
     "metadata": {},
     "output_type": "execute_result"
    }
   ],
   "source": [
    "first_gen_labels.shape"
   ]
  },
  {
   "cell_type": "code",
   "execution_count": 53,
   "metadata": {},
   "outputs": [
    {
     "name": "stdout",
     "output_type": "stream",
     "text": [
      "Original shape: (1385, 1080, 20, 20)\n",
      "Filtered shape: (228, 1080, 20, 20)\n",
      "Original labels distribution: [942 215 152  76]\n",
      "Filtered labels distribution: [  0   0 152  76]\n",
      "Filtered labels: [2 3]\n"
     ]
    }
   ],
   "source": [
    "# Find indices where labels are 2 or 3\n",
    "mask = (first_gen_labels_all == 2) | (first_gen_labels_all == 3)\n",
    "\n",
    "# Filter the images and labels using the mask\n",
    "first_gen_images_filtered = first_gen_images[mask]\n",
    "first_gen_labels_filtered = first_gen_labels_all[mask]\n",
    "\n",
    "print(f\"Original shape: {first_gen_images.shape}\")\n",
    "print(f\"Filtered shape: {first_gen_images_filtered.shape}\")\n",
    "print(f\"Original labels distribution: {np.bincount(first_gen_labels_all)}\")\n",
    "print(f\"Filtered labels distribution: {np.bincount(first_gen_labels_filtered)}\")\n",
    "print(f\"Filtered labels: {np.unique(first_gen_labels_filtered)}\")"
   ]
  },
  {
   "cell_type": "markdown",
   "metadata": {},
   "source": [
    "## Let's use the first frame of the mother cells only "
   ]
  },
  {
   "cell_type": "code",
   "execution_count": 55,
   "metadata": {},
   "outputs": [],
   "source": [
    "first_gen = first_gen_images_filtered[:,0]\n",
    "second_gen = centered_images"
   ]
  },
  {
   "cell_type": "code",
   "execution_count": 56,
   "metadata": {},
   "outputs": [
    {
     "data": {
      "text/plain": [
       "((228, 20, 20), (402, 20, 20))"
      ]
     },
     "execution_count": 56,
     "metadata": {},
     "output_type": "execute_result"
    }
   ],
   "source": [
    "first_gen.shape, second_gen.shape"
   ]
  },
  {
   "cell_type": "code",
   "execution_count": 60,
   "metadata": {},
   "outputs": [
    {
     "name": "stdout",
     "output_type": "stream",
     "text": [
      "Combined absolute maximum: 2.033112582781457\n",
      "First gen normalized range: [0.000, 1.000]\n",
      "Second gen normalized range: [0.000, 0.939]\n"
     ]
    }
   ],
   "source": [
    "# Find the absolute maximum across both matrices\n",
    "combined_max = max(np.abs(first_gen).max(), np.abs(second_gen).max())\n",
    "\n",
    "# Normalize both matrices by this combined maximum\n",
    "first_gen_normalized = first_gen / combined_max\n",
    "second_gen_normalized = second_gen / combined_max\n",
    "\n",
    "print(f\"Combined absolute maximum: {combined_max}\")\n",
    "print(f\"First gen normalized range: [{first_gen_normalized.min():.3f}, {first_gen_normalized.max():.3f}]\")\n",
    "print(f\"Second gen normalized range: [{second_gen_normalized.min():.3f}, {second_gen_normalized.max():.3f}]\")"
   ]
  },
  {
   "cell_type": "code",
   "execution_count": 61,
   "metadata": {},
   "outputs": [],
   "source": [
    "def stretch_intensities_single_frame(train_images, test_images, epsilon=0.001):\n",
    "    \"\"\"\n",
    "    Stretch the intensities of train_images and test_images globally using the same min and max for a single frame.\n",
    "    \n",
    "    Args:\n",
    "        train_images (ndarray): Training image data [cells, height, width]\n",
    "        test_images (ndarray): Testing image data [cells, height, width]\n",
    "        epsilon (float): Value to prevent division by zero\n",
    "\n",
    "    Returns:\n",
    "        scaled_train_images (ndarray): Scaled training images\n",
    "        scaled_test_images (ndarray): Scaled testing images\n",
    "    \"\"\"\n",
    "    scaled_train_images = np.empty(train_images.shape)\n",
    "    scaled_test_images = np.empty(test_images.shape)\n",
    "\n",
    "    # Combine non-zero values from both datasets to compute global min and max\n",
    "    combined_images = np.concatenate([train_images[train_images > 0], test_images[test_images > 0]])\n",
    "    global_min = np.min(combined_images)\n",
    "    global_max = np.max(combined_images)\n",
    "\n",
    "    if global_max > global_min:\n",
    "        # Scale training images\n",
    "        scaled_train_images = (train_images - global_min) / (global_max - global_min)\n",
    "        scaled_train_images = scaled_train_images * (1 - epsilon) + epsilon\n",
    "        scaled_train_images[train_images == 0] = 0  # Preserve zero values (background)\n",
    "\n",
    "        # Scale test images\n",
    "        scaled_test_images = (test_images - global_min) / (global_max - global_min)\n",
    "        scaled_test_images = scaled_test_images * (1 - epsilon) + epsilon\n",
    "        scaled_test_images[test_images == 0] = 0  # Preserve zero values (background)\n",
    "\n",
    "    else:\n",
    "        # If global_max == global_min, leave unchanged\n",
    "        scaled_train_images = train_images.copy()\n",
    "        scaled_test_images = test_images.copy()\n",
    "\n",
    "    return scaled_train_images, scaled_test_images"
   ]
  },
  {
   "cell_type": "code",
   "execution_count": 62,
   "metadata": {},
   "outputs": [],
   "source": [
    "stretched_first_gen, stretched_second_gen = stretch_intensities_single_frame(first_gen_normalized, second_gen_normalized)"
   ]
  },
  {
   "cell_type": "code",
   "execution_count": 63,
   "metadata": {},
   "outputs": [
    {
     "data": {
      "text/plain": [
       "(402, 20, 20)"
      ]
     },
     "execution_count": 63,
     "metadata": {},
     "output_type": "execute_result"
    }
   ],
   "source": [
    "stretched_second_gen.shape"
   ]
  },
  {
   "cell_type": "code",
   "execution_count": 65,
   "metadata": {},
   "outputs": [
    {
     "data": {
      "text/plain": [
       "array([2, 3, 3, 3, 3, 2, 3, 2, 2, 2, 3, 3, 2, 3, 2, 3, 2, 3, 2, 2, 3, 3,\n",
       "       3, 2, 2, 3, 2, 2, 3, 2, 2, 2, 2, 2, 2, 2, 2, 3, 2, 2, 3, 2, 3, 2,\n",
       "       2, 2, 2, 3, 2, 2, 3, 2, 3, 3, 2, 2, 2, 2, 2, 2, 2, 3, 2, 2, 3, 2,\n",
       "       2, 3, 2, 2, 3, 2, 2, 2, 3, 2, 2, 2, 2, 2, 3, 2, 2, 2, 3, 3, 2, 2,\n",
       "       3, 2, 2, 3, 2, 2, 3, 2, 2, 2, 3, 2, 2, 2, 2, 2, 2, 3, 3, 2, 2, 3,\n",
       "       2, 2, 2, 3, 2, 3, 3, 2, 2, 3, 2, 2, 3, 2, 3, 3, 3, 2, 2, 3, 3, 2,\n",
       "       3, 2, 2, 3, 2, 2, 2, 2, 2, 2, 2, 3, 2, 2, 2, 2, 3, 2, 3, 2, 2, 2,\n",
       "       2, 2, 2, 3, 2, 3, 2, 2, 3, 2, 3, 3, 2, 3, 3, 3, 2, 2, 3, 3, 2, 2,\n",
       "       2, 2, 3, 3, 2, 2, 2, 2, 2, 2, 3, 3, 3, 2, 2, 2, 2, 3, 2, 2, 2, 2,\n",
       "       3, 2, 3, 2, 2, 2, 2, 3, 2, 3, 3, 3, 2, 2, 2, 2, 2, 2, 2, 2, 2, 3,\n",
       "       2, 2, 2, 2, 3, 2, 2, 2])"
      ]
     },
     "execution_count": 65,
     "metadata": {},
     "output_type": "execute_result"
    }
   ],
   "source": [
    "first_gen_labels_filtered"
   ]
  },
  {
   "cell_type": "code",
   "execution_count": 66,
   "metadata": {},
   "outputs": [
    {
     "name": "stdout",
     "output_type": "stream",
     "text": [
      "New labels distribution: [152  76]\n",
      "Unique labels: [0 1]\n"
     ]
    }
   ],
   "source": [
    "# Replace 2 with 0 and 3 with 1\n",
    "first_gen_labels_filtered = np.where(first_gen_labels_filtered == 2, 0, first_gen_labels_filtered)  # Replace 2 with 0\n",
    "first_gen_labels_filtered = np.where(first_gen_labels_filtered == 3, 1, first_gen_labels_filtered)  # Replace 3 with 1\n",
    "\n",
    "print(f\"New labels distribution: {np.bincount(first_gen_labels_filtered)}\")\n",
    "print(f\"Unique labels: {np.unique(first_gen_labels_filtered)}\")"
   ]
  },
  {
   "cell_type": "code",
   "execution_count": 67,
   "metadata": {},
   "outputs": [
    {
     "data": {
      "text/plain": [
       "array([0, 1, 1, 1, 1, 0, 1, 0, 0, 0, 1, 1, 0, 1, 0, 1, 0, 1, 0, 0, 1, 1,\n",
       "       1, 0, 0, 1, 0, 0, 1, 0, 0, 0, 0, 0, 0, 0, 0, 1, 0, 0, 1, 0, 1, 0,\n",
       "       0, 0, 0, 1, 0, 0, 1, 0, 1, 1, 0, 0, 0, 0, 0, 0, 0, 1, 0, 0, 1, 0,\n",
       "       0, 1, 0, 0, 1, 0, 0, 0, 1, 0, 0, 0, 0, 0, 1, 0, 0, 0, 1, 1, 0, 0,\n",
       "       1, 0, 0, 1, 0, 0, 1, 0, 0, 0, 1, 0, 0, 0, 0, 0, 0, 1, 1, 0, 0, 1,\n",
       "       0, 0, 0, 1, 0, 1, 1, 0, 0, 1, 0, 0, 1, 0, 1, 1, 1, 0, 0, 1, 1, 0,\n",
       "       1, 0, 0, 1, 0, 0, 0, 0, 0, 0, 0, 1, 0, 0, 0, 0, 1, 0, 1, 0, 0, 0,\n",
       "       0, 0, 0, 1, 0, 1, 0, 0, 1, 0, 1, 1, 0, 1, 1, 1, 0, 0, 1, 1, 0, 0,\n",
       "       0, 0, 1, 1, 0, 0, 0, 0, 0, 0, 1, 1, 1, 0, 0, 0, 0, 1, 0, 0, 0, 0,\n",
       "       1, 0, 1, 0, 0, 0, 0, 1, 0, 1, 1, 1, 0, 0, 0, 0, 0, 0, 0, 0, 0, 1,\n",
       "       0, 0, 0, 0, 1, 0, 0, 0])"
      ]
     },
     "execution_count": 67,
     "metadata": {},
     "output_type": "execute_result"
    }
   ],
   "source": [
    "first_gen_labels_filtered"
   ]
  },
  {
   "cell_type": "code",
   "execution_count": 68,
   "metadata": {},
   "outputs": [],
   "source": [
    "# np.save(\"/Users/inescunha/Documents/GitHub/AI4CellFate/data/second_generation/stretched_second_gen.npy\", stretched_second_gen)\n",
    "# np.save(\"/Users/inescunha/Documents/GitHub/AI4CellFate/data/second_generation/stretched_first_gen.npy\", stretched_first_gen)\n",
    "\n",
    "# np.save(\"/Users/inescunha/Documents/GitHub/AI4CellFate/data/second_generation/first_gen_labels.npy\", first_gen_labels_filtered)\n",
    "# np.save(\"/Users/inescunha/Documents/GitHub/AI4CellFate/data/second_generation/second_gen_labels.npy\", filtered_labels)"
   ]
  },
  {
   "cell_type": "code",
   "execution_count": 72,
   "metadata": {},
   "outputs": [
    {
     "data": {
      "text/plain": [
       "((228, 20, 20), (402, 20, 20))"
      ]
     },
     "execution_count": 72,
     "metadata": {},
     "output_type": "execute_result"
    }
   ],
   "source": [
    "stretched_first_gen.shape, stretched_second_gen.shape"
   ]
  },
  {
   "cell_type": "markdown",
   "metadata": {},
   "source": [
    "# Model training"
   ]
  },
  {
   "cell_type": "code",
   "execution_count": 73,
   "metadata": {},
   "outputs": [
    {
     "name": "stdout",
     "output_type": "stream",
     "text": [
      "Balancing Class 0: 912 → 456 samples (preserving augmentation structure)\n",
      "✅ Balanced Class 0: 456 samples with equal augmentation representation\n"
     ]
    }
   ],
   "source": [
    "first_gen_images = np.load('/Users/inescunha/Documents/GitHub/AI4CellFate/data/second_generation/stretched_first_gen.npy')\n",
    "first_gen_labels = np.load('/Users/inescunha/Documents/GitHub/AI4CellFate/data/second_generation/first_gen_labels.npy')\n",
    "\n",
    "augmented_x_train, augmented_y_train = augment_dataset(first_gen_images, first_gen_labels, augmentations)\n",
    "\n",
    "second_gen_images = np.load('/Users/inescunha/Documents/GitHub/AI4CellFate/data/second_generation/stretched_second_gen.npy')\n",
    "second_gen_labels = np.load('/Users/inescunha/Documents/GitHub/AI4CellFate/data/second_generation/second_gen_labels.npy')\n",
    "\n",
    "x_val, x_test, y_val, y_test = train_test_split(\n",
    "second_gen_images, second_gen_labels,\n",
    "test_size=0.5,  # 50% of 40% = 20% of total\n",
    "random_state=42,\n",
    "stratify=second_gen_labels  # Keep class balance\n",
    ")"
   ]
  },
  {
   "cell_type": "code",
   "execution_count": 82,
   "metadata": {},
   "outputs": [
    {
     "data": {
      "text/plain": [
       "0.3333333333333333"
      ]
     },
     "execution_count": 82,
     "metadata": {},
     "output_type": "execute_result"
    }
   ],
   "source": [
    "len(first_gen_labels[first_gen_labels==1])/len(first_gen_labels)"
   ]
  },
  {
   "cell_type": "code",
   "execution_count": 78,
   "metadata": {},
   "outputs": [
    {
     "data": {
      "text/plain": [
       "0.8785908574816851"
      ]
     },
     "execution_count": 78,
     "metadata": {},
     "output_type": "execute_result"
    }
   ],
   "source": [
    "augmented_x_train.max()"
   ]
  },
  {
   "cell_type": "code",
   "execution_count": 75,
   "metadata": {},
   "outputs": [
    {
     "data": {
      "text/plain": [
       "<matplotlib.colorbar.Colorbar at 0x176d0ae90>"
      ]
     },
     "execution_count": 75,
     "metadata": {},
     "output_type": "execute_result"
    },
    {
     "data": {
      "image/png": "[encoded data removed]",
      "text/plain": [
       "<Figure size 640x480 with 2 Axes>"
      ]
     },
     "metadata": {},
     "output_type": "display_data"
    }
   ],
   "source": [
    "plt.imshow(first_gen_images[100])\n",
    "plt.colorbar()"
   ]
  },
  {
   "cell_type": "code",
   "execution_count": null,
   "metadata": {},
   "outputs": [],
   "source": []
  },
  {
   "cell_type": "markdown",
   "metadata": {},
   "source": [
    "# Prepare first gen cells for AAE training"
   ]
  },
  {
   "cell_type": "code",
   "execution_count": 150,
   "metadata": {},
   "outputs": [
    {
     "name": "stdout",
     "output_type": "stream",
     "text": [
      "Balancing Class 0: 726 → 366 samples (preserving augmentation structure)\n",
      "✅ Balanced Class 0: 366 samples with equal augmentation representation\n"
     ]
    }
   ],
   "source": [
    "# x_train_first_gen, x_val_first_gen, y_train_first_gen, y_val_first_gen = train_test_split(\n",
    "#     stretched_first_gen, first_gen_labels_switched, \n",
    "#     test_size=0.2,  \n",
    "#     random_state=42, \n",
    "#     stratify=first_gen_labels_switched  # Keep class balance\n",
    "# )\n",
    "\n",
    "# first_gen_augmented_images, first_gen_augmented_labels = augment_dataset(x_train_first_gen, y_train_first_gen, augmentations)\n",
    "\n",
    "#first_gen_augmented_images, first_gen_augmented_labels = augment_dataset(first_gen_normalized, first_gen_labels, augmentations)"
   ]
  },
  {
   "cell_type": "code",
   "execution_count": 154,
   "metadata": {},
   "outputs": [],
   "source": [
    "np.save(\"/Users/inescunha/Documents/GitHub/AI4CellFate/data/second_generation/first_gen_augmented_images.npy\", first_gen_augmented_images)\n",
    "np.save(\"/Users/inescunha/Documents/GitHub/AI4CellFate/data/second_generation/first_gen_augmented_labels.npy\", first_gen_augmented_labels)\n",
    "np.save(\"/Users/inescunha/Documents/GitHub/AI4CellFate/data/second_generation/first_gen_val_images.npy\", x_val_first_gen)\n",
    "np.save(\"/Users/inescunha/Documents/GitHub/AI4CellFate/data/second_generation/first_gen_val_labels.npy\", y_val_first_gen)"
   ]
  },
  {
   "cell_type": "code",
   "execution_count": 88,
   "metadata": {},
   "outputs": [],
   "source": [
    "# np.save(\"/Users/inescunha/Documents/GitHub/AI4CellFate/data/second_generation/second_gen_images.npy\", stretched_second_gen)\n",
    "# np.save(\"/Users/inescunha/Documents/GitHub/AI4CellFate/data/second_generation/second_gen_labels.npy\", y_train)"
   ]
  },
  {
   "cell_type": "markdown",
   "metadata": {},
   "source": [
    "# After AI4CellFate training"
   ]
  },
  {
   "cell_type": "code",
   "execution_count": 5,
   "metadata": {},
   "outputs": [],
   "source": [
    "### Second generation\n",
    "x_train = np.load(\"/Users/inescunha/Documents/GitHub/AI4CellFate/data/second_generation/augmented_x_traintrain_second_gen.npy\")\n",
    "y_train = np.load(\"/Users/inescunha/Documents/GitHub/AI4CellFate/data/second_generation/augmented_y_train_second_gen.npy\")"
   ]
  },
  {
   "cell_type": "code",
   "execution_count": 6,
   "metadata": {},
   "outputs": [
    {
     "name": "stderr",
     "output_type": "stream",
     "text": [
      "/Users/inescunha/anaconda3/envs/aicellfate/lib/python3.10/site-packages/keras/src/layers/core/dense.py:87: UserWarning: Do not pass an `input_shape`/`input_dim` argument to a layer. When using Sequential models, prefer using an `Input(shape)` object as the first layer in the model instead.\n",
      "  super().__init__(activity_regularizer=activity_regularizer, **kwargs)\n",
      "/Users/inescunha/anaconda3/envs/aicellfate/lib/python3.10/site-packages/keras/src/layers/activations/leaky_relu.py:41: UserWarning: Argument `alpha` is deprecated. Use `negative_slope` instead.\n",
      "  warnings.warn(\n"
     ]
    }
   ],
   "source": [
    "from src.models import Encoder, Decoder, Discriminator, mlp_classifier\n",
    "\n",
    "config = {\n",
    "    'batch_size': 30,\n",
    "    'epochs': 50,\n",
    "    'learning_rate': 0.001,\n",
    "    'seed': 42,\n",
    "    'latent_dim': 2,\n",
    "    'GaussianNoise_std': 0.003,\n",
    "    'lambda_recon': 5, \n",
    "    'lambda_adv': 0.05,\n",
    "    'lambda_clf': 0.05,\n",
    "    'lambda_cov': 0.1,\n",
    "}\n",
    "\n",
    "img_shape = (x_train.shape[1], x_train.shape[2], 1)\n",
    "encoder = Encoder(img_shape=img_shape, latent_dim=config['latent_dim'], num_classes=2, gaussian_noise_std=config['GaussianNoise_std']).model\n",
    "decoder = Decoder(latent_dim=config['latent_dim'], img_shape=img_shape, gaussian_noise_std=config['GaussianNoise_std']).model\n",
    "discriminator = Discriminator(latent_dim=config['latent_dim']).model\n",
    "\n",
    "encoder.load_weights(\"/Users/inescunha/Documents/GitHub/AI4CellFate/results/second_gen_s1_ep35_lr5_la1_seed42_ldim2_s2_lr6_la4_lc1_lcon14/models/encoder.weights.h5\") ###TODO: change to the model path\n",
    "decoder.load_weights(\"/Users/inescunha/Documents/GitHub/AI4CellFate/results/second_gen_s1_ep35_lr5_la1_seed42_ldim2_s2_lr6_la4_lc1_lcon14/models/decoder.weights.h5\") ###TODO: change to the model path\n",
    "discriminator.load_weights(\"/Users/inescunha/Documents/GitHub/AI4CellFate/results/models/autoencoder_cov/discriminator.weights.h5\") ###TODO: change to the model path"
   ]
  },
  {
   "cell_type": "code",
   "execution_count": 8,
   "metadata": {},
   "outputs": [
    {
     "name": "stdout",
     "output_type": "stream",
     "text": [
      "(2, 2)\n",
      "\u001b[1m1/1\u001b[0m \u001b[32m━━━━━━━━━━━━━━━━━━━━\u001b[0m\u001b[37m\u001b[0m \u001b[1m0s\u001b[0m 11ms/step\n",
      "(2, 2)\n",
      "\u001b[1m1/1\u001b[0m \u001b[32m━━━━━━━━━━━━━━━━━━━━\u001b[0m\u001b[37m\u001b[0m \u001b[1m0s\u001b[0m 8ms/step\n",
      "(2, 2)\n",
      "\u001b[1m1/1\u001b[0m \u001b[32m━━━━━━━━━━━━━━━━━━━━\u001b[0m\u001b[37m\u001b[0m \u001b[1m0s\u001b[0m 9ms/step\n",
      "(2, 2)\n",
      "\u001b[1m1/1\u001b[0m \u001b[32m━━━━━━━━━━━━━━━━━━━━\u001b[0m\u001b[37m\u001b[0m \u001b[1m0s\u001b[0m 10ms/step\n",
      "(2, 2)\n",
      "\u001b[1m1/1\u001b[0m \u001b[32m━━━━━━━━━━━━━━━━━━━━\u001b[0m\u001b[37m\u001b[0m \u001b[1m0s\u001b[0m 8ms/step\n"
     ]
    },
    {
     "data": {
      "image/png": "[encoded data removed]",
      "text/plain": [
       "<Figure size 2000x400 with 5 Axes>"
      ]
     },
     "metadata": {},
     "output_type": "display_data"
    }
   ],
   "source": [
    "baseline_latent_vector = np.zeros((2, 2), dtype=np.float32)  # Start with a neutral latent vector\n",
    "\n",
    "# Choose the feature to perturb (e.g., feature 0)\n",
    "feature_index = 0\n",
    "\n",
    "# Perturbation range\n",
    "perturbations = np.linspace(-1.5, 1, 5) # feature index 1\n",
    "#perturbations = np.linspace(-2.5, 1.5, 5) # feature index 0\n",
    "\n",
    "# Store the perturbed reconstructions\n",
    "perturbed_reconstructions = []\n",
    "\n",
    "for value in perturbations:\n",
    "    # Create a copy of the baseline latent vector\n",
    "    perturbed_vector = baseline_latent_vector.copy()\n",
    "    print(perturbed_vector.shape)\n",
    "    # Modify the selected feature\n",
    "    perturbed_vector[0, feature_index] = value\n",
    "    \n",
    "    # Decode the perturbed vector to generate a synthetic image\n",
    "    synthetic_image = decoder.predict(perturbed_vector)  # Assuming 'decoder' is your trained decoder model\n",
    "    \n",
    "    # Store the result\n",
    "    perturbed_reconstructions.append(synthetic_image[0])  # Assuming decoder outputs (batch_size, height, width, channels)\n",
    "\n",
    "# Convert list to numpy array for easier handling\n",
    "perturbed_reconstructions = np.array(perturbed_reconstructions)\n",
    "\n",
    "# Plot the results\n",
    "fig, axs = plt.subplots(1, 5, figsize=(20, 4))\n",
    "vmin = perturbed_reconstructions.min()\n",
    "vmax = perturbed_reconstructions.max()\n",
    "\n",
    "for i in range(5):\n",
    "    im = axs[i].imshow(perturbed_reconstructions[i, :, :, 0], cmap='gray', vmin=0.25, vmax=vmax)\n",
    "    axs[i].set_title(f'Perturbation {perturbations[i]}')\n",
    "    axs[i].axis('off')\n",
    "\n",
    "#fig.colorbar(im, ax=axs[i])\n",
    "\n",
    "plt.tight_layout()\n",
    "#plt.savefig(\"perturbations_feat1.pdf\", format=\"pdf\", dpi=300, bbox_inches=\"tight\")\n",
    "plt.show()\n"
   ]
  },
  {
   "cell_type": "markdown",
   "metadata": {},
   "source": [
    "### Load confusion matrices from all seeds"
   ]
  },
  {
   "cell_type": "code",
   "execution_count": 9,
   "metadata": {},
   "outputs": [],
   "source": [
    "conf_matrix_seed42 = np.load(\"/Users/inescunha/Documents/GitHub/AI4CellFate/results/second_gen_s1_ep35_lr5_la1_seed42_ldim2_s2_lr6_la4_lc1_lcon14/confusion_matrix_values_epoch_76.npy\")\n",
    "conf_matrix_seed43 = np.load(\"/Users/inescunha/Documents/GitHub/AI4CellFate/results/second_gen_s1_ep35_lr5_la1_seed43_ldim2_s2_lr6_la4_lc1_lcon14/confusion_matrix_values_epoch_11.npy\")\n",
    "conf_matrix_seed44 = np.load(\"/Users/inescunha/Documents/GitHub/AI4CellFate/results/second_gen_s1_ep35_lr5_la1_seed44_ldim2_s2_lr6_la4_lc1_lcon14/confusion_matrix_values_epoch_18.npy\")"
   ]
  },
  {
   "cell_type": "code",
   "execution_count": 10,
   "metadata": {},
   "outputs": [],
   "source": [
    "conf_matrix_second_gen = np.stack([conf_matrix_seed42, conf_matrix_seed43, conf_matrix_seed44], axis=0)"
   ]
  },
  {
   "cell_type": "code",
   "execution_count": null,
   "metadata": {},
   "outputs": [
    {
     "data": {
      "image/png": "[encoded data removed]",
      "text/plain": [
       "<Figure size 800x700 with 2 Axes>"
      ]
     },
     "metadata": {},
     "output_type": "display_data"
    }
   ],
   "source": [
    "# Annotated mean confusion matrix with ± std (across 3 seeds)\n",
    "import numpy as np\n",
    "import matplotlib.pyplot as plt\n",
    "from matplotlib import rcParams\n",
    "\n",
    "# Compute mean and std across seeds\n",
    "mean_cm = np.mean(conf_matrix_second_gen, axis=0)\n",
    "std_cm = np.std(conf_matrix_second_gen, axis=0)\n",
    "\n",
    "# Use Arial and larger fonts\n",
    "rcParams['font.family'] = 'Arial'\n",
    "rcParams['font.size'] = 18\n",
    "\n",
    "fig, ax = plt.subplots(figsize=(8, 7))\n",
    "im = ax.imshow(mean_cm, interpolation='nearest', cmap=plt.cm.Blues, vmin=0, vmax=1)\n",
    "\n",
    "# Title and labels\n",
    "ax.set_title('AI4CellFate: Confusion Matrix', fontsize=22, fontweight='bold')\n",
    "num_classes = mean_cm.shape[0]\n",
    "ax.set_xlabel('Predicted Label', fontsize=20)\n",
    "ax.set_ylabel('True Label', fontsize=20)\n",
    "ax.set_xticks(np.arange(num_classes))\n",
    "ax.set_yticks(np.arange(num_classes))\n",
    "ax.set_xticklabels([str(i) for i in range(num_classes)], fontsize=18)\n",
    "ax.set_yticklabels([str(i) for i in range(num_classes)], fontsize=18)\n",
    "\n",
    "# Grid lines for clarity\n",
    "ax.set_xticks(np.arange(-0.5, num_classes, 1), minor=True)\n",
    "ax.set_yticks(np.arange(-0.5, num_classes, 1), minor=True)\n",
    "ax.grid(which='minor', color='black', linestyle='-', linewidth=1)\n",
    "ax.tick_params(which='minor', bottom=False, left=False)\n",
    "\n",
    "# Colorbar\n",
    "cbar = plt.colorbar(im, ax=ax, fraction=0.046, pad=0.04)\n",
    "cbar.ax.tick_params(labelsize=16)\n",
    "\n",
    "# Annotate ONLY diagonal cells with mean ± std in WHITE\n",
    "for i in range(num_classes):\n",
    "    for j in range(num_classes):\n",
    "        if i == j:  # Only show values on the diagonal\n",
    "            text = f\"{mean_cm[i, j]:.3f}\\n±{std_cm[i, j]:.3f}\"\n",
    "            ax.text(j, i, text, ha='center', va='center', color='white', fontsize=50, fontweight='bold')\n",
    "\n",
    "plt.tight_layout()\n",
    "#plt.savefig(\"second_gen_conf_matrix.eps\", dpi=300, bbox_inches=\"tight\")\n",
    "plt.show()"
   ]
  },
  {
   "cell_type": "code",
   "execution_count": null,
   "metadata": {},
   "outputs": [],
   "source": []
  }
 ],
 "metadata": {
  "kernelspec": {
   "display_name": "aicellfate",
   "language": "python",
   "name": "python3"
  },
  "language_info": {
   "codemirror_mode": {
    "name": "ipython",
    "version": 3
   },
   "file_extension": ".py",
   "mimetype": "text/x-python",
   "name": "python",
   "nbconvert_exporter": "python",
   "pygments_lexer": "ipython3",
   "version": "3.10.18"
  }
 },
 "nbformat": 4,
 "nbformat_minor": 2
}
