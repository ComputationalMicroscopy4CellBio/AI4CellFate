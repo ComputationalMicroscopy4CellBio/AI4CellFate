{
 "cells": [
  {
   "cell_type": "code",
   "execution_count": 1,
   "metadata": {},
   "outputs": [],
   "source": [
    "## Dependencies\n",
    "import numpy as np\n",
    "import pandas as pd\n",
    "import matplotlib.pyplot as plt\n",
    "from ipywidgets import interact, IntSlider\n",
    "from sklearn.model_selection import train_test_split\n",
    "import sys\n",
    "import os\n",
    "sys.path.append(os.path.abspath(\"../..\"))\n",
    "from src.preprocessing.preprocessing_functions import *"
   ]
  },
  {
   "cell_type": "markdown",
   "metadata": {},
   "source": [
    "# 1. Load Data"
   ]
  },
  {
   "cell_type": "code",
   "execution_count": 2,
   "metadata": {},
   "outputs": [
    {
     "name": "stdout",
     "output_type": "stream",
     "text": [
      "Filtered data shape (478, 1080, 19) (478,)\n",
      "Filtered data shape (493, 1080, 19) (493,)\n",
      "Filtered data shape (856, 1080, 19) (856,)\n"
     ]
    }
   ],
   "source": [
    "# Load all track data\n",
    "track_data_br1 = pd.read_csv('/Users/inescunha/Documents/GitHub/explanation/ALM272_BR1_tracks_0606224.csv') \n",
    "track_data_br2 = pd.read_csv('/Users/inescunha/Documents/GitHub/explanation/ALM272_BR2_tracks_0606224.csv') \n",
    "track_data_br3 = pd.read_csv('/Users/inescunha/Documents/GitHub/explanation/ALM272_BR3_tracks_060624.csv') \n",
    "\n",
    "filtered_track_br1, y_train_br1 = process_track_data(track_data_br1)\n",
    "filtered_track_br2, y_train_br2 = process_track_data(track_data_br2)\n",
    "filtered_track_br3, y_train_br3 = process_track_data(track_data_br3)"
   ]
  },
  {
   "cell_type": "code",
   "execution_count": 3,
   "metadata": {},
   "outputs": [
    {
     "name": "stdout",
     "output_type": "stream",
     "text": [
      "[ 1  1  1 ... 20 20 20]\n",
      "bioreplicate: BR1\n",
      "['/Users/inescunha/Documents/GitHub/explanation/BR1_Images/Tiff/ALM272_B03_G001_0001.tif']\n",
      "[21 21 21 ... 39 39 39]\n",
      "bioreplicate: BR1\n",
      "['/Users/inescunha/Documents/GitHub/explanation/BR1_Images/Tiff/ALM272_B03_G002_0001.tif']\n",
      "[40 40 40 ... 59 59 59]\n",
      "bioreplicate: BR1\n",
      "['/Users/inescunha/Documents/GitHub/explanation/BR1_Images/Tiff/ALM272_B03_G003_0001.tif']\n",
      "[ 60  60  60 ... 122 122 122]\n",
      "bioreplicate: BR1\n",
      "['/Users/inescunha/Documents/GitHub/explanation/BR1_Images/Tiff/ALM272_B04_G004_0001.tif']\n",
      "[123 123 123 ... 161 161 161]\n",
      "bioreplicate: BR1\n",
      "['/Users/inescunha/Documents/GitHub/explanation/BR1_Images/Tiff/ALM272_B04_G005_0001.tif']\n",
      "[162 162 162 ... 203 203 203]\n",
      "bioreplicate: BR1\n",
      "['/Users/inescunha/Documents/GitHub/explanation/BR1_Images/Tiff/ALM272_B04_G006_0001.tif']\n",
      "[204 204 204 ... 296 296 296]\n",
      "bioreplicate: BR1\n",
      "['/Users/inescunha/Documents/GitHub/explanation/BR1_Images/Tiff/ALM272_B05_G007_0001.tif']\n",
      "[297 297 297 ... 375 375 375]\n",
      "bioreplicate: BR1\n",
      "['/Users/inescunha/Documents/GitHub/explanation/BR1_Images/Tiff/ALM272_B05_G008_0001.tif']\n",
      "[376 376 376 ... 478 478 478]\n",
      "bioreplicate: BR1\n",
      "['/Users/inescunha/Documents/GitHub/explanation/BR1_Images/Tiff/ALM272_B05_G009_0001.tif']\n",
      "[ 1  1  1 ... 20 20 20]\n",
      "['/Users/inescunha/Documents/GitHub/explanation/BR1_Images/Segmentations_and_FRET/ALM272_BR1_1_seg.tiff']\n",
      "[21 21 21 ... 39 39 39]\n",
      "['/Users/inescunha/Documents/GitHub/explanation/BR1_Images/Segmentations_and_FRET/ALM272_BR1_2_seg.tiff']\n",
      "[40 40 40 ... 59 59 59]\n",
      "['/Users/inescunha/Documents/GitHub/explanation/BR1_Images/Segmentations_and_FRET/ALM272_BR1_3_seg.tiff']\n",
      "[ 60  60  60 ... 122 122 122]\n",
      "['/Users/inescunha/Documents/GitHub/explanation/BR1_Images/Segmentations_and_FRET/ALM272_BR1_4_seg.tiff']\n",
      "[123 123 123 ... 161 161 161]\n",
      "['/Users/inescunha/Documents/GitHub/explanation/BR1_Images/Segmentations_and_FRET/ALM272_BR1_5_seg.tiff']\n",
      "[162 162 162 ... 203 203 203]\n",
      "['/Users/inescunha/Documents/GitHub/explanation/BR1_Images/Segmentations_and_FRET/ALM272_BR1_6_seg.tiff']\n",
      "[204 204 204 ... 296 296 296]\n",
      "['/Users/inescunha/Documents/GitHub/explanation/BR1_Images/Segmentations_and_FRET/ALM272_BR1_7_seg.tiff']\n",
      "[297 297 297 ... 375 375 375]\n",
      "['/Users/inescunha/Documents/GitHub/explanation/BR1_Images/Segmentations_and_FRET/ALM272_BR1_8_seg.tiff']\n",
      "[376 376 376 ... 478 478 478]\n",
      "['/Users/inescunha/Documents/GitHub/explanation/BR1_Images/Segmentations_and_FRET/ALM272_BR1_9_seg.tiff']\n",
      "[ 1  1  1 ... 20 20 20]\n",
      "['/Users/inescunha/Documents/GitHub/explanation/BR1_Images/Segmentations_and_FRET/ALM272_BR1_1_FRET.tiff']\n",
      "[21 21 21 ... 39 39 39]\n",
      "['/Users/inescunha/Documents/GitHub/explanation/BR1_Images/Segmentations_and_FRET/ALM272_BR1_2_FRET.tiff']\n",
      "[40 40 40 ... 59 59 59]\n",
      "['/Users/inescunha/Documents/GitHub/explanation/BR1_Images/Segmentations_and_FRET/ALM272_BR1_3_FRET.tiff']\n",
      "[ 60  60  60 ... 122 122 122]\n",
      "['/Users/inescunha/Documents/GitHub/explanation/BR1_Images/Segmentations_and_FRET/ALM272_BR1_4_FRET.tiff']\n",
      "[123 123 123 ... 161 161 161]\n",
      "['/Users/inescunha/Documents/GitHub/explanation/BR1_Images/Segmentations_and_FRET/ALM272_BR1_5_FRET.tiff']\n",
      "[162 162 162 ... 203 203 203]\n",
      "['/Users/inescunha/Documents/GitHub/explanation/BR1_Images/Segmentations_and_FRET/ALM272_BR1_6_FRET.tiff']\n",
      "[204 204 204 ... 296 296 296]\n",
      "['/Users/inescunha/Documents/GitHub/explanation/BR1_Images/Segmentations_and_FRET/ALM272_BR1_7_FRET.tiff']\n",
      "[297 297 297 ... 375 375 375]\n",
      "['/Users/inescunha/Documents/GitHub/explanation/BR1_Images/Segmentations_and_FRET/ALM272_BR1_8_FRET.tiff']\n",
      "[376 376 376 ... 478 478 478]\n",
      "['/Users/inescunha/Documents/GitHub/explanation/BR1_Images/Segmentations_and_FRET/ALM272_BR1_9_FRET.tiff']\n",
      "[479 479 479 ... 526 526 526]\n",
      "bioreplicate: BR2\n",
      "['/Users/inescunha/Documents/GitHub/explanation/BR2_Images/ALM272_BR2_B02_G001_0001.tif']\n",
      "[527 527 527 ... 625 625 625]\n",
      "bioreplicate: BR2\n",
      "['/Users/inescunha/Documents/GitHub/explanation/BR2_Images/ALM272_BR2_B02_G002_0001.tif']\n",
      "[626 626 626 ... 693 693 693]\n",
      "bioreplicate: BR2\n",
      "['/Users/inescunha/Documents/GitHub/explanation/BR2_Images/ALM272_BR2_B03_G006_0001.tif']\n",
      "[694 694 694 ... 763 763 763]\n",
      "bioreplicate: BR2\n",
      "['/Users/inescunha/Documents/GitHub/explanation/BR2_Images/ALM272_BR2_B04_G008_0001.tif']\n",
      "[764 764 764 ... 971 971 971]\n",
      "bioreplicate: BR2\n",
      "['/Users/inescunha/Documents/GitHub/explanation/BR2_Images/ALM272_BR2_B04_G009_0001.tif']\n",
      "[479 479 479 ... 526 526 526]\n",
      "['/Users/inescunha/Documents/GitHub/explanation/BR2_Images/Segmentations_and_FRET/ALM272_BR2_1_seg.tiff']\n",
      "[527 527 527 ... 625 625 625]\n",
      "['/Users/inescunha/Documents/GitHub/explanation/BR2_Images/Segmentations_and_FRET/ALM272_BR2_2_seg.tiff']\n",
      "[626 626 626 ... 693 693 693]\n",
      "['/Users/inescunha/Documents/GitHub/explanation/BR2_Images/Segmentations_and_FRET/ALM272_BR2_6_seg.tiff']\n",
      "[694 694 694 ... 763 763 763]\n",
      "['/Users/inescunha/Documents/GitHub/explanation/BR2_Images/Segmentations_and_FRET/ALM272_BR2_8_seg.tiff']\n",
      "[764 764 764 ... 971 971 971]\n",
      "['/Users/inescunha/Documents/GitHub/explanation/BR2_Images/Segmentations_and_FRET/ALM272_BR2_9_seg.tiff']\n",
      "[479 479 479 ... 526 526 526]\n",
      "['/Users/inescunha/Documents/GitHub/explanation/BR2_Images/Segmentations_and_FRET/ALM272_BR2_1_FRET.tiff']\n",
      "[527 527 527 ... 625 625 625]\n",
      "['/Users/inescunha/Documents/GitHub/explanation/BR2_Images/Segmentations_and_FRET/ALM272_BR2_2_FRET.tiff']\n",
      "[626 626 626 ... 693 693 693]\n",
      "['/Users/inescunha/Documents/GitHub/explanation/BR2_Images/Segmentations_and_FRET/ALM272_BR2_6_FRET.tiff']\n",
      "[694 694 694 ... 763 763 763]\n",
      "['/Users/inescunha/Documents/GitHub/explanation/BR2_Images/Segmentations_and_FRET/ALM272_BR2_8_FRET.tiff']\n",
      "[764 764 764 ... 971 971 971]\n",
      "['/Users/inescunha/Documents/GitHub/explanation/BR2_Images/Segmentations_and_FRET/ALM272_BR2_9_FRET.tiff']\n",
      "[ 972  972  972 ... 1038 1038 1038]\n",
      "bioreplicate: BR3\n",
      "['/Users/inescunha/Documents/GitHub/explanation/BR3_Images/ALM272_BR3_B04_G001_0001-004.tif']\n",
      "[1039 1039 1039 ... 1111 1111 1111]\n",
      "bioreplicate: BR3\n",
      "['/Users/inescunha/Documents/GitHub/explanation/BR3_Images/ALM272_BR3_B04_G002_0001-002.tif']\n",
      "[1112 1112 1112 ... 1237 1237 1237]\n",
      "bioreplicate: BR3\n",
      "['/Users/inescunha/Documents/GitHub/explanation/BR3_Images/ALM272_BR3_B04_G003_0001-005.tif']\n",
      "[1238 1238 1238 ... 1316 1316 1316]\n",
      "bioreplicate: BR3\n",
      "['/Users/inescunha/Documents/GitHub/explanation/BR3_Images/ALM272_BR3_B04_G004_0001-001.tif']\n",
      "[1317 1317 1317 ... 1453 1453 1453]\n",
      "bioreplicate: BR3\n",
      "['/Users/inescunha/Documents/GitHub/explanation/BR3_Images/ALM272_BR3_B05_G005_0001.tif']\n",
      "[1454 1454 1454 ... 1582 1582 1582]\n",
      "bioreplicate: BR3\n",
      "['/Users/inescunha/Documents/GitHub/explanation/BR3_Images/ALM272_BR3_B05_G006_0001.tif']\n",
      "[1583 1583 1583 ... 1690 1690 1690]\n",
      "bioreplicate: BR3\n",
      "['/Users/inescunha/Documents/GitHub/explanation/BR3_Images/ALM272_BR3_B05_G007_0001-003.tif']\n",
      "[1691 1691 1691 ... 1827 1827 1827]\n",
      "bioreplicate: BR3\n",
      "['/Users/inescunha/Documents/GitHub/explanation/BR3_Images/ALM272_BR3_B05_G008_0001-006.tif']\n",
      "[ 972  972  972 ... 1038 1038 1038]\n",
      "['/Users/inescunha/Documents/GitHub/explanation/BR3_Images/Segmentations_and_FRET/ALM272_BR3_1_seg.tiff']\n",
      "[1039 1039 1039 ... 1111 1111 1111]\n",
      "['/Users/inescunha/Documents/GitHub/explanation/BR3_Images/Segmentations_and_FRET/ALM272_BR3_2_seg.tiff']\n",
      "[1112 1112 1112 ... 1237 1237 1237]\n",
      "['/Users/inescunha/Documents/GitHub/explanation/BR3_Images/Segmentations_and_FRET/ALM272_BR3_3_seg.tiff']\n",
      "[1238 1238 1238 ... 1316 1316 1316]\n",
      "['/Users/inescunha/Documents/GitHub/explanation/BR3_Images/Segmentations_and_FRET/ALM272_BR3_4_seg.tiff']\n",
      "[1317 1317 1317 ... 1453 1453 1453]\n",
      "['/Users/inescunha/Documents/GitHub/explanation/BR3_Images/Segmentations_and_FRET/ALM272_BR3_5_seg.tiff']\n",
      "[1454 1454 1454 ... 1582 1582 1582]\n",
      "['/Users/inescunha/Documents/GitHub/explanation/BR3_Images/Segmentations_and_FRET/ALM272_BR3_6_seg.tiff']\n",
      "[1583 1583 1583 ... 1690 1690 1690]\n",
      "['/Users/inescunha/Documents/GitHub/explanation/BR3_Images/Segmentations_and_FRET/ALM272_BR3_7_seg.tiff']\n",
      "[1691 1691 1691 ... 1827 1827 1827]\n",
      "['/Users/inescunha/Documents/GitHub/explanation/BR3_Images/Segmentations_and_FRET/ALM272_BR3_8_seg.tiff']\n",
      "[ 972  972  972 ... 1038 1038 1038]\n",
      "['/Users/inescunha/Documents/GitHub/explanation/BR3_Images/Segmentations_and_FRET/ALM272_BR3_1_FRET.tiff']\n",
      "[1039 1039 1039 ... 1111 1111 1111]\n",
      "['/Users/inescunha/Documents/GitHub/explanation/BR3_Images/Segmentations_and_FRET/ALM272_BR3_2_FRET.tiff']\n",
      "[1112 1112 1112 ... 1237 1237 1237]\n",
      "['/Users/inescunha/Documents/GitHub/explanation/BR3_Images/Segmentations_and_FRET/ALM272_BR3_3_FRET.tiff']\n",
      "[1238 1238 1238 ... 1316 1316 1316]\n",
      "['/Users/inescunha/Documents/GitHub/explanation/BR3_Images/Segmentations_and_FRET/ALM272_BR3_4_FRET.tiff']\n",
      "[1317 1317 1317 ... 1453 1453 1453]\n",
      "['/Users/inescunha/Documents/GitHub/explanation/BR3_Images/Segmentations_and_FRET/ALM272_BR3_5_FRET.tiff']\n",
      "[1454 1454 1454 ... 1582 1582 1582]\n",
      "['/Users/inescunha/Documents/GitHub/explanation/BR3_Images/Segmentations_and_FRET/ALM272_BR3_6_FRET.tiff']\n",
      "[1583 1583 1583 ... 1690 1690 1690]\n",
      "['/Users/inescunha/Documents/GitHub/explanation/BR3_Images/Segmentations_and_FRET/ALM272_BR3_7_FRET.tiff']\n",
      "[1691 1691 1691 ... 1827 1827 1827]\n",
      "['/Users/inescunha/Documents/GitHub/explanation/BR3_Images/Segmentations_and_FRET/ALM272_BR3_8_FRET.tiff']\n",
      "BR1 Images shape: (478, 1080, 3, 20, 20) BR2: (493, 1080, 3, 20, 20) BR3: (856, 1080, 4, 20, 20)\n",
      "BR1 tracks shape: (478, 1080, 19) BR2: (493, 1080, 19) BR3: (856, 1080, 19)\n"
     ]
    }
   ],
   "source": [
    "sub_size = (20, 20)\n",
    "\n",
    "# BR1\n",
    "images_br1, y_train_br1_ = process_all_fovs(track_data_br1, sub_size, bioreplicate = \"BR1\", segmentation=False, FRET=False)\n",
    "segmentations_br1, y_train_br1_ = process_all_fovs(track_data_br1, sub_size, bioreplicate = \"BR1\", segmentation=True, FRET=False)\n",
    "fret_br1, y_train_br1_ = process_all_fovs(track_data_br1, sub_size, bioreplicate = \"BR1\", segmentation=True, FRET=True)\n",
    "\n",
    "# BR2\n",
    "images_br2, y_train_br2_ = process_all_fovs(track_data_br2, sub_size, bioreplicate = \"BR2\", segmentation=False, FRET=False)\n",
    "segmentations_br2, y_train_br2_ = process_all_fovs(track_data_br2, sub_size, bioreplicate = \"BR2\", segmentation=True, FRET=False)\n",
    "fret_br2, y_train_br2_ = process_all_fovs(track_data_br2, sub_size, bioreplicate = \"BR2\", segmentation=True, FRET=True)\n",
    "\n",
    "# BR3\n",
    "images_br3, y_train_br3_ = process_all_fovs(track_data_br3, sub_size, bioreplicate = \"BR3\", segmentation=False, FRET=False)\n",
    "segmentations_br3, y_train_br3_ = process_all_fovs(track_data_br3, sub_size, bioreplicate = \"BR3\", segmentation=True, FRET=False)\n",
    "fret_br3, y_train_br3_ = process_all_fovs(track_data_br3, sub_size, bioreplicate = \"BR3\", segmentation=True, FRET=True)\n",
    "\n",
    "print(\"BR1 Images shape:\", images_br1.shape, \"BR2:\", images_br2.shape, \"BR3:\", images_br3.shape)\n",
    "print(\"BR1 tracks shape:\", filtered_track_br1.shape, \"BR2:\", filtered_track_br2.shape, \"BR3:\", filtered_track_br3.shape)"
   ]
  },
  {
   "cell_type": "markdown",
   "metadata": {},
   "source": [
    "# 2. Remove cells from edges of FOV"
   ]
  },
  {
   "cell_type": "code",
   "execution_count": 4,
   "metadata": {},
   "outputs": [
    {
     "name": "stdout",
     "output_type": "stream",
     "text": [
      "New dataset shape: (452, 1080, 3, 20, 20) Segmentations shape: (452, 1080, 20, 20) tracks: (452, 1080, 19) y train: (452,)\n"
     ]
    }
   ],
   "source": [
    "#### Removing cells in edges of the FOV ####\n",
    "\n",
    "indexes_to_remove_br1 = edge_indexes(images_br1)\n",
    "\n",
    "images_br1_no_edges = np.delete(images_br1, indexes_to_remove_br1, axis=0)\n",
    "y_train_br1_no_edges = np.delete(y_train_br1_, indexes_to_remove_br1)\n",
    "segmentations_br1_no_edges = np.delete(segmentations_br1, indexes_to_remove_br1, axis=0)\n",
    "filtered_track_br1_no_edges = np.delete(filtered_track_br1, indexes_to_remove_br1, axis=0)\n",
    "\n",
    "print(\"New dataset shape:\", images_br1_no_edges.shape, \"Segmentations shape:\", segmentations_br1_no_edges.shape, \"tracks:\", filtered_track_br1_no_edges.shape, \"y train:\", y_train_br1_no_edges.shape)\n"
   ]
  },
  {
   "cell_type": "code",
   "execution_count": 5,
   "metadata": {},
   "outputs": [
    {
     "name": "stdout",
     "output_type": "stream",
     "text": [
      "New dataset shape: (473, 1080, 3, 20, 20) Segmentations shape: (473, 1080, 20, 20) tracks: (473, 1080, 19) y train: (473,)\n"
     ]
    }
   ],
   "source": [
    "indexes_to_remove_br2 = edge_indexes(images_br2)\n",
    "\n",
    "images_br2_no_edges = np.delete(images_br2, indexes_to_remove_br2, axis=0)\n",
    "y_train_br2_no_edges = np.delete(y_train_br2_, indexes_to_remove_br2)\n",
    "segmentations_br2_no_edges = np.delete(segmentations_br2, indexes_to_remove_br2, axis=0)\n",
    "filtered_track_br2_no_edges = np.delete(filtered_track_br2, indexes_to_remove_br2, axis=0)\n",
    "\n",
    "print(\"New dataset shape:\", images_br2_no_edges.shape, \"Segmentations shape:\", segmentations_br2_no_edges.shape, \"tracks:\", filtered_track_br2_no_edges.shape, \"y train:\", y_train_br2_no_edges.shape)\n"
   ]
  },
  {
   "cell_type": "code",
   "execution_count": 6,
   "metadata": {},
   "outputs": [
    {
     "name": "stdout",
     "output_type": "stream",
     "text": [
      "New dataset shape: (804, 1080, 4, 20, 20) Segmentations shape: (804, 1080, 20, 20) tracks: (804, 1080, 19) y train: (804,)\n"
     ]
    }
   ],
   "source": [
    "indexes_to_remove_br3 = edge_indexes(images_br3)\n",
    "\n",
    "images_br3_no_edges = np.delete(images_br3, indexes_to_remove_br3, axis=0)\n",
    "y_train_br3_no_edges = np.delete(y_train_br3_, indexes_to_remove_br3)\n",
    "segmentations_br3_no_edges = np.delete(segmentations_br3, indexes_to_remove_br3, axis=0)\n",
    "filtered_track_br3_no_edges = np.delete(filtered_track_br3, indexes_to_remove_br3, axis=0)\n",
    "\n",
    "print(\"New dataset shape:\", images_br3_no_edges.shape, \"Segmentations shape:\", segmentations_br3_no_edges.shape, \"tracks:\", filtered_track_br3_no_edges.shape, \"y train:\", y_train_br3_no_edges.shape)"
   ]
  },
  {
   "cell_type": "markdown",
   "metadata": {},
   "source": [
    "# 3. Overimpose images with segmentations to remove background noise"
   ]
  },
  {
   "cell_type": "code",
   "execution_count": 7,
   "metadata": {},
   "outputs": [],
   "source": [
    "overimposed_br1 = overimpose(images_br1_no_edges, segmentations_br1_no_edges)"
   ]
  },
  {
   "cell_type": "code",
   "execution_count": 8,
   "metadata": {},
   "outputs": [],
   "source": [
    "overimposed_br2 = overimpose(images_br2_no_edges, segmentations_br2_no_edges)"
   ]
  },
  {
   "cell_type": "code",
   "execution_count": 9,
   "metadata": {},
   "outputs": [],
   "source": [
    "overimposed_br3 = overimpose(images_br3_no_edges, segmentations_br3_no_edges)"
   ]
  },
  {
   "cell_type": "markdown",
   "metadata": {},
   "source": [
    "# 4. Getting second generation cells from different cell tracks"
   ]
  },
  {
   "cell_type": "code",
   "execution_count": 10,
   "metadata": {},
   "outputs": [
    {
     "name": "stdout",
     "output_type": "stream",
     "text": [
      "Second generation BR1 shape: (57, 1080, 19) Images shape: (57, 1080, 2, 20, 20) y train shape: (57,)\n"
     ]
    }
   ],
   "source": [
    "indexes_daughter_br1 = daughter_indexes(filtered_track_br1_no_edges)\n",
    "second_gen_br1 = filtered_track_br1_no_edges[indexes_daughter_br1]\n",
    "second_gen_br1_images = overimposed_br1[indexes_daughter_br1]\n",
    "second_gen_br1_y_train = y_train_br1_no_edges[indexes_daughter_br1]\n",
    "\n",
    "print(\"Second generation BR1 shape:\", second_gen_br1.shape, \"Images shape:\", second_gen_br1_images.shape, \"y train shape:\", second_gen_br1_y_train.shape)"
   ]
  },
  {
   "cell_type": "code",
   "execution_count": 33,
   "metadata": {},
   "outputs": [
    {
     "name": "stdout",
     "output_type": "stream",
     "text": [
      "Second generation BR2 shape: (63, 1080, 19) Images shape: (63, 1080, 2, 20, 20) y train shape: (63,)\n"
     ]
    }
   ],
   "source": [
    "indexes_daughter_br2 = daughter_indexes(filtered_track_br2_no_edges)\n",
    "second_gen_br2 = filtered_track_br2_no_edges[indexes_daughter_br2]\n",
    "second_gen_br2_images = overimposed_br2[indexes_daughter_br2]\n",
    "second_gen_br2_y_train = y_train_br2_no_edges[indexes_daughter_br2]\n",
    "\n",
    "print(\"Second generation BR2 shape:\", second_gen_br2.shape, \"Images shape:\", second_gen_br2_images.shape, \"y train shape:\", second_gen_br2_y_train.shape)"
   ]
  },
  {
   "cell_type": "code",
   "execution_count": 36,
   "metadata": {},
   "outputs": [
    {
     "name": "stdout",
     "output_type": "stream",
     "text": [
      "Second generation BR3 shape: (87, 1080, 19) Images shape: (87, 1080, 2, 20, 20) y train shape: (87,)\n"
     ]
    }
   ],
   "source": [
    "indexes_daughter_br3 = daughter_indexes(filtered_track_br3_no_edges)\n",
    "second_gen_br3 = filtered_track_br3_no_edges[indexes_daughter_br3]\n",
    "second_gen_br3_images = overimposed_br3[indexes_daughter_br3]\n",
    "second_gen_br3_y_train = y_train_br3_no_edges[indexes_daughter_br3]\n",
    "\n",
    "print(\"Second generation BR3 shape:\", second_gen_br3.shape, \"Images shape:\", second_gen_br3_images.shape, \"y train shape:\", second_gen_br3_y_train.shape)"
   ]
  },
  {
   "cell_type": "markdown",
   "metadata": {},
   "source": [
    "## 4.1. Removing residual fates 0,1 from the training set"
   ]
  },
  {
   "cell_type": "code",
   "execution_count": 40,
   "metadata": {},
   "outputs": [
    {
     "name": "stdout",
     "output_type": "stream",
     "text": [
      "(array([0, 1, 2, 3]), array([ 3,  2, 33, 19]))\n",
      "(array([0, 1, 2, 3]), array([ 5,  1, 47, 10]))\n",
      "(array([0, 1, 2, 3]), array([ 2,  2, 61, 22]))\n"
     ]
    }
   ],
   "source": [
    "print(np.unique(second_gen_br1_y_train, return_counts=True))\n",
    "print(np.unique(second_gen_br2_y_train, return_counts=True))\n",
    "print(np.unique(second_gen_br3_y_train, return_counts=True))"
   ]
  },
  {
   "cell_type": "code",
   "execution_count": 49,
   "metadata": {},
   "outputs": [
    {
     "name": "stdout",
     "output_type": "stream",
     "text": [
      "3\n",
      "2\n",
      "5\n"
     ]
    }
   ],
   "source": [
    "indexes_with_0_y_train_br1 = np.where(second_gen_br1_y_train == 0)[0]\n",
    "indexes_with_1_y_train_br1 = np.where(second_gen_br1_y_train == 1)[0]\n",
    "\n",
    "indexes_with_0_y_train_br2 = np.where(second_gen_br2_y_train == 0)[0]\n",
    "indexes_with_1_y_train_br2 = np.where(second_gen_br2_y_train == 1)[0]\n",
    "\n",
    "indexes_with_0_y_train_br3 = np.where(second_gen_br3_y_train == 0)[0]\n",
    "indexes_with_1_y_train_br3 = np.where(second_gen_br3_y_train == 1)[0]"
   ]
  },
  {
   "cell_type": "code",
   "execution_count": 68,
   "metadata": {},
   "outputs": [
    {
     "name": "stdout",
     "output_type": "stream",
     "text": [
      "(52, 1080, 2, 20, 20)\n",
      "(52,)\n",
      "(57, 1080, 2, 20, 20)\n",
      "(57,)\n",
      "(83, 1080, 2, 20, 20)\n",
      "(83,)\n"
     ]
    }
   ],
   "source": [
    "second_gen_br1_images_ = np.delete(second_gen_br1_images, \n",
    "                                   np.concatenate([indexes_with_0_y_train_br1, indexes_with_1_y_train_br1]), \n",
    "                                   axis=0)\n",
    "\n",
    "second_gen_br1_y_train_ = np.delete(second_gen_br1_y_train, \n",
    "                                   np.concatenate([indexes_with_0_y_train_br1, indexes_with_1_y_train_br1]), \n",
    "                                   axis=0)\n",
    "\n",
    "second_gen_br1_tracks = np.delete(second_gen_br1, \n",
    "                                   np.concatenate([indexes_with_0_y_train_br1, indexes_with_1_y_train_br1]), \n",
    "                                   axis=0)\n",
    "\n",
    "\n",
    "\n",
    "second_gen_br2_images_ = np.delete(second_gen_br2_images, \n",
    "                                   np.concatenate([indexes_with_0_y_train_br2, indexes_with_1_y_train_br2]), \n",
    "                                   axis=0)\n",
    "\n",
    "second_gen_br2_y_train_ = np.delete(second_gen_br2_y_train, \n",
    "                                   np.concatenate([indexes_with_0_y_train_br2, indexes_with_1_y_train_br2]), \n",
    "                                   axis=0)\n",
    "\n",
    "second_gen_br2_tracks = np.delete(second_gen_br2, \n",
    "                                   np.concatenate([indexes_with_0_y_train_br2, indexes_with_1_y_train_br2]), \n",
    "                                   axis=0)\n",
    "\n",
    "\n",
    "\n",
    "\n",
    "second_gen_br3_images_ = np.delete(second_gen_br3_images, \n",
    "                                   np.concatenate([indexes_with_0_y_train_br3, indexes_with_1_y_train_br3]), \n",
    "                                   axis=0)\n",
    "\n",
    "second_gen_br3_y_train_ = np.delete(second_gen_br3_y_train, \n",
    "                                   np.concatenate([indexes_with_0_y_train_br3, indexes_with_1_y_train_br3]), \n",
    "                                   axis=0)\n",
    "\n",
    "second_gen_br3_tracks = np.delete(second_gen_br3, \n",
    "                                   np.concatenate([indexes_with_0_y_train_br3, indexes_with_1_y_train_br3]), \n",
    "                                   axis=0)\n",
    "\n",
    "\n",
    "print(second_gen_br1_images_.shape)\n",
    "print(second_gen_br1_y_train_.shape)\n",
    "print(second_gen_br2_images_.shape)\n",
    "print(second_gen_br2_y_train_.shape)\n",
    "print(second_gen_br3_images_.shape)\n",
    "print(second_gen_br3_y_train_.shape)"
   ]
  },
  {
   "cell_type": "code",
   "execution_count": 66,
   "metadata": {},
   "outputs": [],
   "source": [
    "# np.save(\"/Users/inescunha/Documents/GitHub/AI4CellFate/data/second_generation/second_gen_br1_images.npy\", second_gen_br1_images_)\n",
    "# np.save(\"/Users/inescunha/Documents/GitHub/AI4CellFate/data/second_generation/second_gen_br1_y_train.npy\", second_gen_br1_y_train_)\n",
    "# np.save(\"/Users/inescunha/Documents/GitHub/AI4CellFate/data/second_generation/second_gen_br2_images.npy\", second_gen_br2_images_)    \n",
    "# np.save(\"/Users/inescunha/Documents/GitHub/AI4CellFate/data/second_generation/second_gen_br2_y_train.npy\", second_gen_br2_y_train_)\n",
    "# np.save(\"/Users/inescunha/Documents/GitHub/AI4CellFate/data/second_generation/second_gen_br3_images.npy\", second_gen_br3_images_)\n",
    "# np.save(\"/Users/inescunha/Documents/GitHub/AI4CellFate/data/second_generation/second_gen_br3_y_train.npy\", second_gen_br3_y_train_)"
   ]
  },
  {
   "cell_type": "markdown",
   "metadata": {},
   "source": [
    "# 5. Getting second generation cells from same track as mother"
   ]
  },
  {
   "cell_type": "code",
   "execution_count": 69,
   "metadata": {},
   "outputs": [],
   "source": [
    "def daughter_trace_keep_only(tabular_data, image_data):\n",
    "    \"\"\"\n",
    "    Keeps only information from daughter cells in both tabular and image data.\n",
    "    \n",
    "    - For each cell (row) in tabular_data, it finds the first zero in column 4, **ignoring the first time point**.\n",
    "    - From the beginning up to (but not including) that time point, it sets all values in that row to zero.\n",
    "    - Values from that time point onward are kept unchanged.\n",
    "    - The same index is used to set corresponding images in image_data to zero.\n",
    "\n",
    "    Args:\n",
    "        tabular_data (numpy.ndarray): A 3D matrix of shape (cells, time, features).\n",
    "        image_data (numpy.ndarray): A 5D matrix of shape (cells, time, channels, height, width).\n",
    "\n",
    "    Returns:\n",
    "        tuple: Processed (tabular_data, image_data) with zeroed-out values from the beginning up to the determined index.\n",
    "    \"\"\"\n",
    "    processed_tabular = tabular_data.copy()\n",
    "    processed_images = image_data.copy()\n",
    "    \n",
    "    for cell_idx, cell in enumerate(processed_tabular):\n",
    "        # Ignore the first time point and find the first zero in the 4th column (index 3)\n",
    "        feature_values = cell[1:, 4]  # Start from the second time point\n",
    "        first_zero_index = np.argmax(feature_values == 0) + 1 if np.any(feature_values == 0) else None  # Shift by 1\n",
    "        \n",
    "        # If a zero is found, zero out both tabular and image data from the beginning up to that time point\n",
    "        if first_zero_index is not None:\n",
    "            processed_tabular[cell_idx, :first_zero_index, :] = 0\n",
    "            processed_images[cell_idx, :first_zero_index, :, :, :] = 0  # Zeroing corresponding images\n",
    "    \n",
    "    return processed_tabular, processed_images"
   ]
  },
  {
   "cell_type": "code",
   "execution_count": 73,
   "metadata": {},
   "outputs": [],
   "source": [
    "processed_br1_2gen_tracks, processed_br1_2gen_images = daughter_trace_removal(second_gen_br1_tracks, second_gen_br1_images_)\n",
    "processed_br2_2gen_tracks, processed_br2_2gen_images = daughter_trace_removal(second_gen_br2_tracks, second_gen_br2_images_)\n",
    "processed_br3_2gen_tracks, processed_br3_2gen_images = daughter_trace_removal(second_gen_br3_tracks, second_gen_br3_images_)"
   ]
  },
  {
   "cell_type": "markdown",
   "metadata": {},
   "source": [
    "# 6. Concatenate all bioreplicates"
   ]
  },
  {
   "cell_type": "code",
   "execution_count": 78,
   "metadata": {},
   "outputs": [
    {
     "name": "stdout",
     "output_type": "stream",
     "text": [
      "(192, 1080, 2, 20, 20)\n",
      "(192, 1080, 19)\n",
      "(192,)\n"
     ]
    }
   ],
   "source": [
    "images = np.concatenate((processed_br1_2gen_images, processed_br2_2gen_images, processed_br3_2gen_images), axis=0)\n",
    "tracks = np.concatenate((processed_br1_2gen_tracks, processed_br2_2gen_tracks, processed_br3_2gen_tracks), axis=0)\n",
    "y_train_final = np.concatenate((second_gen_br1_y_train_, second_gen_br2_y_train_, second_gen_br3_y_train_), axis=0)\n",
    "\n",
    "print(images.shape)\n",
    "print(tracks.shape)\n",
    "print(y_train_final.shape)"
   ]
  },
  {
   "cell_type": "code",
   "execution_count": 90,
   "metadata": {},
   "outputs": [],
   "source": [
    "# fate 2 is second generation of cells, that did not die. fate 3 is second generation of cells, that died.\n",
    "y_train_ = np.where(y_train_final == 2, 1, y_train_final)  # Replace 2 with 1\n",
    "y_train = np.where(y_train_ == 3, 0, y_train_)  # Replace 3 with 0"
   ]
  },
  {
   "cell_type": "code",
   "execution_count": 91,
   "metadata": {},
   "outputs": [
    {
     "data": {
      "text/plain": [
       "array([1, 0, 0, 1, 0, 0, 1, 1, 1, 1, 0, 0, 1, 1, 1, 0, 1, 0, 0, 0, 1, 1,\n",
       "       1, 1, 1, 0, 1, 1, 1, 1, 1, 1, 1, 0, 0, 1, 1, 0, 1, 1, 0, 0, 1, 1,\n",
       "       0, 0, 1, 1, 1, 0, 1, 1, 1, 1, 1, 1, 1, 1, 1, 0, 1, 1, 1, 1, 0, 1,\n",
       "       1, 1, 0, 1, 1, 1, 1, 1, 1, 1, 1, 0, 0, 1, 1, 1, 0, 1, 1, 1, 1, 1,\n",
       "       1, 1, 1, 0, 1, 1, 0, 1, 0, 1, 0, 1, 1, 1, 1, 1, 1, 1, 1, 1, 1, 1,\n",
       "       0, 0, 0, 1, 0, 1, 0, 1, 1, 1, 1, 1, 1, 1, 1, 1, 1, 1, 1, 1, 1, 1,\n",
       "       1, 1, 1, 1, 1, 1, 0, 1, 0, 1, 0, 1, 1, 1, 0, 1, 0, 1, 0, 1, 1, 0,\n",
       "       1, 1, 0, 1, 0, 1, 0, 0, 1, 1, 1, 1, 1, 1, 1, 1, 1, 1, 1, 1, 0, 0,\n",
       "       1, 1, 1, 0, 1, 1, 1, 1, 1, 0, 1, 1, 1, 0, 0, 1])"
      ]
     },
     "execution_count": 91,
     "metadata": {},
     "output_type": "execute_result"
    }
   ],
   "source": [
    "y_train"
   ]
  },
  {
   "cell_type": "code",
   "execution_count": 93,
   "metadata": {},
   "outputs": [],
   "source": [
    "cleaned_images = clean_all_cells(images)"
   ]
  },
  {
   "cell_type": "code",
   "execution_count": 110,
   "metadata": {},
   "outputs": [
    {
     "data": {
      "text/plain": [
       "<matplotlib.image.AxesImage at 0x16aea5d20>"
      ]
     },
     "execution_count": 110,
     "metadata": {},
     "output_type": "execute_result"
    },
    {
     "data": {
      "image/png": "[encoded data removed]",
      "text/plain": [
       "<Figure size 640x480 with 1 Axes>"
      ]
     },
     "metadata": {},
     "output_type": "display_data"
    }
   ],
   "source": [
    "plt.imshow(cleaned_images[10,12,0])"
   ]
  },
  {
   "cell_type": "code",
   "execution_count": null,
   "metadata": {},
   "outputs": [],
   "source": [
    "# dont forget to noramlise according to the x train that I used in the beginning"
   ]
  }
 ],
 "metadata": {
  "kernelspec": {
   "display_name": "aicellfate",
   "language": "python",
   "name": "python3"
  },
  "language_info": {
   "codemirror_mode": {
    "name": "ipython",
    "version": 3
   },
   "file_extension": ".py",
   "mimetype": "text/x-python",
   "name": "python",
   "nbconvert_exporter": "python",
   "pygments_lexer": "ipython3",
   "version": "3.10.18"
  }
 },
 "nbformat": 4,
 "nbformat_minor": 2
}
