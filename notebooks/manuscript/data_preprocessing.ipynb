{
 "cells": [
  {
   "cell_type": "code",
   "execution_count": 2,
   "metadata": {},
   "outputs": [],
   "source": [
    "## Dependencies\n",
    "import numpy as np\n",
    "import pandas as pd\n",
    "import matplotlib.pyplot as plt\n",
    "from ipywidgets import interact, IntSlider\n",
    "from sklearn.model_selection import train_test_split\n",
    "import sys\n",
    "import os\n",
    "sys.path.append(os.path.abspath(\"../..\"))\n",
    "from src.preprocessing.preprocessing_functions import *"
   ]
  },
  {
   "cell_type": "markdown",
   "metadata": {},
   "source": [
    "# Loading Data and Reshaping\n",
    "#### Note: everything is repeated for the 3 Bioreplicates (BR1, BR2, BR3)"
   ]
  },
  {
   "cell_type": "code",
   "execution_count": 2,
   "metadata": {},
   "outputs": [
    {
     "name": "stdout",
     "output_type": "stream",
     "text": [
      "Filtered data shape (478, 1080, 19) (478,)\n",
      "Filtered data shape (493, 1080, 19) (493,)\n",
      "Filtered data shape (856, 1080, 19) (856,)\n"
     ]
    }
   ],
   "source": [
    "# Load all track data\n",
    "track_data_br1 = pd.read_csv('/Users/inescunha/Documents/GitHub/explanation/ALM272_BR1_tracks_0606224.csv') \n",
    "track_data_br2 = pd.read_csv('/Users/inescunha/Documents/GitHub/explanation/ALM272_BR2_tracks_0606224.csv') \n",
    "track_data_br3 = pd.read_csv('/Users/inescunha/Documents/GitHub/explanation/ALM272_BR3_tracks_060624.csv') \n",
    "\n",
    "filtered_track_br1, y_train_br1 = process_track_data(track_data_br1)\n",
    "filtered_track_br2, y_train_br2 = process_track_data(track_data_br2)\n",
    "filtered_track_br3, y_train_br3 = process_track_data(track_data_br3)"
   ]
  },
  {
   "cell_type": "code",
   "execution_count": 3,
   "metadata": {},
   "outputs": [
    {
     "name": "stdout",
     "output_type": "stream",
     "text": [
      "[ 1  1  1 ... 20 20 20]\n",
      "bioreplicate: BR1\n",
      "['/Users/inescunha/Documents/GitHub/explanation/BR1_Images/Tiff/ALM272_B03_G001_0001.tif']\n",
      "[21 21 21 ... 39 39 39]\n",
      "bioreplicate: BR1\n",
      "['/Users/inescunha/Documents/GitHub/explanation/BR1_Images/Tiff/ALM272_B03_G002_0001.tif']\n",
      "[40 40 40 ... 59 59 59]\n",
      "bioreplicate: BR1\n",
      "['/Users/inescunha/Documents/GitHub/explanation/BR1_Images/Tiff/ALM272_B03_G003_0001.tif']\n",
      "[ 60  60  60 ... 122 122 122]\n",
      "bioreplicate: BR1\n",
      "['/Users/inescunha/Documents/GitHub/explanation/BR1_Images/Tiff/ALM272_B04_G004_0001.tif']\n",
      "[123 123 123 ... 161 161 161]\n",
      "bioreplicate: BR1\n",
      "['/Users/inescunha/Documents/GitHub/explanation/BR1_Images/Tiff/ALM272_B04_G005_0001.tif']\n",
      "[162 162 162 ... 203 203 203]\n",
      "bioreplicate: BR1\n",
      "['/Users/inescunha/Documents/GitHub/explanation/BR1_Images/Tiff/ALM272_B04_G006_0001.tif']\n",
      "[204 204 204 ... 296 296 296]\n",
      "bioreplicate: BR1\n",
      "['/Users/inescunha/Documents/GitHub/explanation/BR1_Images/Tiff/ALM272_B05_G007_0001.tif']\n",
      "[297 297 297 ... 375 375 375]\n",
      "bioreplicate: BR1\n",
      "['/Users/inescunha/Documents/GitHub/explanation/BR1_Images/Tiff/ALM272_B05_G008_0001.tif']\n",
      "[376 376 376 ... 478 478 478]\n",
      "bioreplicate: BR1\n",
      "['/Users/inescunha/Documents/GitHub/explanation/BR1_Images/Tiff/ALM272_B05_G009_0001.tif']\n",
      "[ 1  1  1 ... 20 20 20]\n",
      "['/Users/inescunha/Documents/GitHub/explanation/BR1_Images/Segmentations_and_FRET/ALM272_BR1_1_seg.tiff']\n",
      "[21 21 21 ... 39 39 39]\n",
      "['/Users/inescunha/Documents/GitHub/explanation/BR1_Images/Segmentations_and_FRET/ALM272_BR1_2_seg.tiff']\n",
      "[40 40 40 ... 59 59 59]\n",
      "['/Users/inescunha/Documents/GitHub/explanation/BR1_Images/Segmentations_and_FRET/ALM272_BR1_3_seg.tiff']\n",
      "[ 60  60  60 ... 122 122 122]\n",
      "['/Users/inescunha/Documents/GitHub/explanation/BR1_Images/Segmentations_and_FRET/ALM272_BR1_4_seg.tiff']\n",
      "[123 123 123 ... 161 161 161]\n",
      "['/Users/inescunha/Documents/GitHub/explanation/BR1_Images/Segmentations_and_FRET/ALM272_BR1_5_seg.tiff']\n",
      "[162 162 162 ... 203 203 203]\n",
      "['/Users/inescunha/Documents/GitHub/explanation/BR1_Images/Segmentations_and_FRET/ALM272_BR1_6_seg.tiff']\n",
      "[204 204 204 ... 296 296 296]\n",
      "['/Users/inescunha/Documents/GitHub/explanation/BR1_Images/Segmentations_and_FRET/ALM272_BR1_7_seg.tiff']\n",
      "[297 297 297 ... 375 375 375]\n",
      "['/Users/inescunha/Documents/GitHub/explanation/BR1_Images/Segmentations_and_FRET/ALM272_BR1_8_seg.tiff']\n",
      "[376 376 376 ... 478 478 478]\n",
      "['/Users/inescunha/Documents/GitHub/explanation/BR1_Images/Segmentations_and_FRET/ALM272_BR1_9_seg.tiff']\n",
      "[ 1  1  1 ... 20 20 20]\n",
      "['/Users/inescunha/Documents/GitHub/explanation/BR1_Images/Segmentations_and_FRET/ALM272_BR1_1_FRET.tiff']\n",
      "[21 21 21 ... 39 39 39]\n",
      "['/Users/inescunha/Documents/GitHub/explanation/BR1_Images/Segmentations_and_FRET/ALM272_BR1_2_FRET.tiff']\n",
      "[40 40 40 ... 59 59 59]\n",
      "['/Users/inescunha/Documents/GitHub/explanation/BR1_Images/Segmentations_and_FRET/ALM272_BR1_3_FRET.tiff']\n",
      "[ 60  60  60 ... 122 122 122]\n",
      "['/Users/inescunha/Documents/GitHub/explanation/BR1_Images/Segmentations_and_FRET/ALM272_BR1_4_FRET.tiff']\n",
      "[123 123 123 ... 161 161 161]\n",
      "['/Users/inescunha/Documents/GitHub/explanation/BR1_Images/Segmentations_and_FRET/ALM272_BR1_5_FRET.tiff']\n",
      "[162 162 162 ... 203 203 203]\n",
      "['/Users/inescunha/Documents/GitHub/explanation/BR1_Images/Segmentations_and_FRET/ALM272_BR1_6_FRET.tiff']\n",
      "[204 204 204 ... 296 296 296]\n",
      "['/Users/inescunha/Documents/GitHub/explanation/BR1_Images/Segmentations_and_FRET/ALM272_BR1_7_FRET.tiff']\n",
      "[297 297 297 ... 375 375 375]\n",
      "['/Users/inescunha/Documents/GitHub/explanation/BR1_Images/Segmentations_and_FRET/ALM272_BR1_8_FRET.tiff']\n",
      "[376 376 376 ... 478 478 478]\n",
      "['/Users/inescunha/Documents/GitHub/explanation/BR1_Images/Segmentations_and_FRET/ALM272_BR1_9_FRET.tiff']\n",
      "[479 479 479 ... 526 526 526]\n",
      "bioreplicate: BR2\n",
      "['/Users/inescunha/Documents/GitHub/explanation/BR2_Images/ALM272_BR2_B02_G001_0001.tif']\n",
      "[527 527 527 ... 625 625 625]\n",
      "bioreplicate: BR2\n",
      "['/Users/inescunha/Documents/GitHub/explanation/BR2_Images/ALM272_BR2_B02_G002_0001.tif']\n",
      "[626 626 626 ... 693 693 693]\n",
      "bioreplicate: BR2\n",
      "['/Users/inescunha/Documents/GitHub/explanation/BR2_Images/ALM272_BR2_B03_G006_0001.tif']\n",
      "[694 694 694 ... 763 763 763]\n",
      "bioreplicate: BR2\n",
      "['/Users/inescunha/Documents/GitHub/explanation/BR2_Images/ALM272_BR2_B04_G008_0001.tif']\n",
      "[764 764 764 ... 971 971 971]\n",
      "bioreplicate: BR2\n",
      "['/Users/inescunha/Documents/GitHub/explanation/BR2_Images/ALM272_BR2_B04_G009_0001.tif']\n",
      "[479 479 479 ... 526 526 526]\n",
      "['/Users/inescunha/Documents/GitHub/explanation/BR2_Images/Segmentations_and_FRET/ALM272_BR2_1_seg.tiff']\n",
      "[527 527 527 ... 625 625 625]\n",
      "['/Users/inescunha/Documents/GitHub/explanation/BR2_Images/Segmentations_and_FRET/ALM272_BR2_2_seg.tiff']\n",
      "[626 626 626 ... 693 693 693]\n",
      "['/Users/inescunha/Documents/GitHub/explanation/BR2_Images/Segmentations_and_FRET/ALM272_BR2_6_seg.tiff']\n",
      "[694 694 694 ... 763 763 763]\n",
      "['/Users/inescunha/Documents/GitHub/explanation/BR2_Images/Segmentations_and_FRET/ALM272_BR2_8_seg.tiff']\n",
      "[764 764 764 ... 971 971 971]\n",
      "['/Users/inescunha/Documents/GitHub/explanation/BR2_Images/Segmentations_and_FRET/ALM272_BR2_9_seg.tiff']\n",
      "[479 479 479 ... 526 526 526]\n",
      "['/Users/inescunha/Documents/GitHub/explanation/BR2_Images/Segmentations_and_FRET/ALM272_BR2_1_FRET.tiff']\n",
      "[527 527 527 ... 625 625 625]\n",
      "['/Users/inescunha/Documents/GitHub/explanation/BR2_Images/Segmentations_and_FRET/ALM272_BR2_2_FRET.tiff']\n",
      "[626 626 626 ... 693 693 693]\n",
      "['/Users/inescunha/Documents/GitHub/explanation/BR2_Images/Segmentations_and_FRET/ALM272_BR2_6_FRET.tiff']\n",
      "[694 694 694 ... 763 763 763]\n",
      "['/Users/inescunha/Documents/GitHub/explanation/BR2_Images/Segmentations_and_FRET/ALM272_BR2_8_FRET.tiff']\n",
      "[764 764 764 ... 971 971 971]\n",
      "['/Users/inescunha/Documents/GitHub/explanation/BR2_Images/Segmentations_and_FRET/ALM272_BR2_9_FRET.tiff']\n",
      "[ 972  972  972 ... 1038 1038 1038]\n",
      "bioreplicate: BR3\n",
      "['/Users/inescunha/Documents/GitHub/explanation/BR3_Images/ALM272_BR3_B04_G001_0001-004.tif']\n",
      "[1039 1039 1039 ... 1111 1111 1111]\n",
      "bioreplicate: BR3\n",
      "['/Users/inescunha/Documents/GitHub/explanation/BR3_Images/ALM272_BR3_B04_G002_0001-002.tif']\n",
      "[1112 1112 1112 ... 1237 1237 1237]\n",
      "bioreplicate: BR3\n",
      "['/Users/inescunha/Documents/GitHub/explanation/BR3_Images/ALM272_BR3_B04_G003_0001-005.tif']\n",
      "[1238 1238 1238 ... 1316 1316 1316]\n",
      "bioreplicate: BR3\n",
      "['/Users/inescunha/Documents/GitHub/explanation/BR3_Images/ALM272_BR3_B04_G004_0001-001.tif']\n",
      "[1317 1317 1317 ... 1453 1453 1453]\n",
      "bioreplicate: BR3\n",
      "['/Users/inescunha/Documents/GitHub/explanation/BR3_Images/ALM272_BR3_B05_G005_0001.tif']\n",
      "[1454 1454 1454 ... 1582 1582 1582]\n",
      "bioreplicate: BR3\n",
      "['/Users/inescunha/Documents/GitHub/explanation/BR3_Images/ALM272_BR3_B05_G006_0001.tif']\n",
      "[1583 1583 1583 ... 1690 1690 1690]\n",
      "bioreplicate: BR3\n",
      "['/Users/inescunha/Documents/GitHub/explanation/BR3_Images/ALM272_BR3_B05_G007_0001-003.tif']\n",
      "[1691 1691 1691 ... 1827 1827 1827]\n",
      "bioreplicate: BR3\n",
      "['/Users/inescunha/Documents/GitHub/explanation/BR3_Images/ALM272_BR3_B05_G008_0001-006.tif']\n",
      "[ 972  972  972 ... 1038 1038 1038]\n",
      "['/Users/inescunha/Documents/GitHub/explanation/BR3_Images/Segmentations_and_FRET/ALM272_BR3_1_seg.tiff']\n",
      "[1039 1039 1039 ... 1111 1111 1111]\n",
      "['/Users/inescunha/Documents/GitHub/explanation/BR3_Images/Segmentations_and_FRET/ALM272_BR3_2_seg.tiff']\n",
      "[1112 1112 1112 ... 1237 1237 1237]\n",
      "['/Users/inescunha/Documents/GitHub/explanation/BR3_Images/Segmentations_and_FRET/ALM272_BR3_3_seg.tiff']\n",
      "[1238 1238 1238 ... 1316 1316 1316]\n",
      "['/Users/inescunha/Documents/GitHub/explanation/BR3_Images/Segmentations_and_FRET/ALM272_BR3_4_seg.tiff']\n",
      "[1317 1317 1317 ... 1453 1453 1453]\n",
      "['/Users/inescunha/Documents/GitHub/explanation/BR3_Images/Segmentations_and_FRET/ALM272_BR3_5_seg.tiff']\n",
      "[1454 1454 1454 ... 1582 1582 1582]\n",
      "['/Users/inescunha/Documents/GitHub/explanation/BR3_Images/Segmentations_and_FRET/ALM272_BR3_6_seg.tiff']\n",
      "[1583 1583 1583 ... 1690 1690 1690]\n",
      "['/Users/inescunha/Documents/GitHub/explanation/BR3_Images/Segmentations_and_FRET/ALM272_BR3_7_seg.tiff']\n",
      "[1691 1691 1691 ... 1827 1827 1827]\n",
      "['/Users/inescunha/Documents/GitHub/explanation/BR3_Images/Segmentations_and_FRET/ALM272_BR3_8_seg.tiff']\n",
      "[ 972  972  972 ... 1038 1038 1038]\n",
      "['/Users/inescunha/Documents/GitHub/explanation/BR3_Images/Segmentations_and_FRET/ALM272_BR3_1_FRET.tiff']\n",
      "[1039 1039 1039 ... 1111 1111 1111]\n",
      "['/Users/inescunha/Documents/GitHub/explanation/BR3_Images/Segmentations_and_FRET/ALM272_BR3_2_FRET.tiff']\n",
      "[1112 1112 1112 ... 1237 1237 1237]\n",
      "['/Users/inescunha/Documents/GitHub/explanation/BR3_Images/Segmentations_and_FRET/ALM272_BR3_3_FRET.tiff']\n",
      "[1238 1238 1238 ... 1316 1316 1316]\n",
      "['/Users/inescunha/Documents/GitHub/explanation/BR3_Images/Segmentations_and_FRET/ALM272_BR3_4_FRET.tiff']\n",
      "[1317 1317 1317 ... 1453 1453 1453]\n",
      "['/Users/inescunha/Documents/GitHub/explanation/BR3_Images/Segmentations_and_FRET/ALM272_BR3_5_FRET.tiff']\n",
      "[1454 1454 1454 ... 1582 1582 1582]\n",
      "['/Users/inescunha/Documents/GitHub/explanation/BR3_Images/Segmentations_and_FRET/ALM272_BR3_6_FRET.tiff']\n",
      "[1583 1583 1583 ... 1690 1690 1690]\n",
      "['/Users/inescunha/Documents/GitHub/explanation/BR3_Images/Segmentations_and_FRET/ALM272_BR3_7_FRET.tiff']\n",
      "[1691 1691 1691 ... 1827 1827 1827]\n",
      "['/Users/inescunha/Documents/GitHub/explanation/BR3_Images/Segmentations_and_FRET/ALM272_BR3_8_FRET.tiff']\n",
      "BR1 Images shape: (478, 1080, 3, 20, 20) BR2: (493, 1080, 3, 20, 20) BR3: (856, 1080, 4, 20, 20)\n",
      "BR1 tracks shape: (478, 1080, 19) BR2: (493, 1080, 19) BR3: (856, 1080, 19)\n"
     ]
    }
   ],
   "source": [
    "sub_size = (20, 20)\n",
    "\n",
    "# BR1\n",
    "images_br1, y_train_br1_ = process_all_fovs(track_data_br1, sub_size, bioreplicate = \"BR1\", segmentation=False, FRET=False)\n",
    "segmentations_br1, y_train_br1_ = process_all_fovs(track_data_br1, sub_size, bioreplicate = \"BR1\", segmentation=True, FRET=False)\n",
    "fret_br1, y_train_br1_ = process_all_fovs(track_data_br1, sub_size, bioreplicate = \"BR1\", segmentation=True, FRET=True)\n",
    "\n",
    "# BR2\n",
    "images_br2, y_train_br2_ = process_all_fovs(track_data_br2, sub_size, bioreplicate = \"BR2\", segmentation=False, FRET=False)\n",
    "segmentations_br2, y_train_br2_ = process_all_fovs(track_data_br2, sub_size, bioreplicate = \"BR2\", segmentation=True, FRET=False)\n",
    "fret_br2, y_train_br2_ = process_all_fovs(track_data_br2, sub_size, bioreplicate = \"BR2\", segmentation=True, FRET=True)\n",
    "\n",
    "# BR3\n",
    "images_br3, y_train_br3_ = process_all_fovs(track_data_br3, sub_size, bioreplicate = \"BR3\", segmentation=False, FRET=False)\n",
    "segmentations_br3, y_train_br3_ = process_all_fovs(track_data_br3, sub_size, bioreplicate = \"BR3\", segmentation=True, FRET=False)\n",
    "fret_br3, y_train_br3_ = process_all_fovs(track_data_br3, sub_size, bioreplicate = \"BR3\", segmentation=True, FRET=True)\n",
    "\n",
    "print(\"BR1 Images shape:\", images_br1.shape, \"BR2:\", images_br2.shape, \"BR3:\", images_br3.shape)\n",
    "print(\"BR1 tracks shape:\", filtered_track_br1.shape, \"BR2:\", filtered_track_br2.shape, \"BR3:\", filtered_track_br3.shape)"
   ]
  },
  {
   "cell_type": "code",
   "execution_count": 4,
   "metadata": {},
   "outputs": [],
   "source": [
    "np.save(\"images_br1.npy\", images_br1)\n",
    "np.save(\"segmentations_br1.npy\", segmentations_br1)\n",
    "np.save(\"fret_br1.npy\", fret_br1)\n",
    "np.save(\"images_br2.npy\", images_br2)\n",
    "np.save(\"segmentations_br2.npy\", segmentations_br2)\n",
    "np.save(\"fret_br2.npy\", fret_br2)\n",
    "np.save(\"images_br3.npy\", images_br3)\n",
    "np.save(\"segmentations_br3.npy\", segmentations_br3)\n",
    "np.save(\"fret_br3.npy\", fret_br3)\n",
    "np.save(\"y_train_br1.npy\", y_train_br1)\n",
    "np.save(\"y_train_br2.npy\", y_train_br2)\n",
    "np.save(\"y_train_br3.npy\", y_train_br3)"
   ]
  },
  {
   "cell_type": "markdown",
   "metadata": {},
   "source": [
    "# PreProcessing\n",
    "#### From this point on, cells on the raw images, segmentation, fret and tracks will be processed equally (Outlier remover)."
   ]
  },
  {
   "cell_type": "code",
   "execution_count": 3,
   "metadata": {},
   "outputs": [],
   "source": [
    "images_br1 = np.load(\"images_br1.npy\")\n",
    "segmentations_br1 = np.load(\"segmentations_br1.npy\")\n",
    "fret_br1 = np.load(\"fret_br1.npy\")\n",
    "images_br2 = np.load(\"images_br2.npy\")\n",
    "segmentations_br2 = np.load(\"segmentations_br2.npy\")\n",
    "fret_br2 = np.load(\"fret_br2.npy\")\n",
    "images_br3 = np.load(\"images_br3.npy\")\n",
    "segmentations_br3 = np.load(\"segmentations_br3.npy\")\n",
    "fret_br3 = np.load(\"fret_br3.npy\")\n",
    "y_train_br1_ = np.load(\"y_train_br1.npy\")\n",
    "y_train_br2_ = np.load(\"y_train_br2.npy\")\n",
    "y_train_br3_ = np.load(\"y_train_br3.npy\")\n"
   ]
  },
  {
   "cell_type": "markdown",
   "metadata": {},
   "source": [
    "## 1. Removing cells from edges of FOV"
   ]
  },
  {
   "cell_type": "code",
   "execution_count": 4,
   "metadata": {},
   "outputs": [
    {
     "name": "stdout",
     "output_type": "stream",
     "text": [
      "New dataset shape: (452, 1080, 3, 20, 20) Segmentations shape: (452, 1080, 20, 20) tracks: (452, 1080, 19) y train: (452,)\n"
     ]
    }
   ],
   "source": [
    "#### Removing cells in edges of the FOV ####\n",
    "\n",
    "indexes_to_remove_br1 = edge_indexes(images_br1)\n",
    "\n",
    "images_br1_no_edges = np.delete(images_br1, indexes_to_remove_br1, axis=0)\n",
    "y_train_br1_no_edges = np.delete(y_train_br1_, indexes_to_remove_br1)\n",
    "segmentations_br1_no_edges = np.delete(segmentations_br1, indexes_to_remove_br1, axis=0)\n",
    "filtered_track_br1_no_edges = np.delete(filtered_track_br1, indexes_to_remove_br1, axis=0)\n",
    "\n",
    "print(\"New dataset shape:\", images_br1_no_edges.shape, \"Segmentations shape:\", segmentations_br1_no_edges.shape, \"tracks:\", filtered_track_br1_no_edges.shape, \"y train:\", y_train_br1_no_edges.shape)\n"
   ]
  },
  {
   "cell_type": "code",
   "execution_count": 5,
   "metadata": {},
   "outputs": [
    {
     "name": "stdout",
     "output_type": "stream",
     "text": [
      "New dataset shape: (473, 1080, 3, 20, 20) Segmentations shape: (473, 1080, 20, 20) tracks: (473, 1080, 19) y train: (473,)\n"
     ]
    }
   ],
   "source": [
    "\n",
    "indexes_to_remove_br2 = edge_indexes(images_br2)\n",
    "\n",
    "images_br2_no_edges = np.delete(images_br2, indexes_to_remove_br2, axis=0)\n",
    "y_train_br2_no_edges = np.delete(y_train_br2_, indexes_to_remove_br2)\n",
    "segmentations_br2_no_edges = np.delete(segmentations_br2, indexes_to_remove_br2, axis=0)\n",
    "filtered_track_br2_no_edges = np.delete(filtered_track_br2, indexes_to_remove_br2, axis=0)\n",
    "\n",
    "print(\"New dataset shape:\", images_br2_no_edges.shape, \"Segmentations shape:\", segmentations_br2_no_edges.shape, \"tracks:\", filtered_track_br2_no_edges.shape, \"y train:\", y_train_br2_no_edges.shape)\n"
   ]
  },
  {
   "cell_type": "code",
   "execution_count": 6,
   "metadata": {},
   "outputs": [
    {
     "name": "stdout",
     "output_type": "stream",
     "text": [
      "New dataset shape: (804, 1080, 4, 20, 20) Segmentations shape: (804, 1080, 20, 20) tracks: (804, 1080, 19) y train: (804,)\n"
     ]
    }
   ],
   "source": [
    "indexes_to_remove_br3 = edge_indexes(images_br3)\n",
    "\n",
    "images_br3_no_edges = np.delete(images_br3, indexes_to_remove_br3, axis=0)\n",
    "y_train_br3_no_edges = np.delete(y_train_br3_, indexes_to_remove_br3)\n",
    "segmentations_br3_no_edges = np.delete(segmentations_br3, indexes_to_remove_br3, axis=0)\n",
    "filtered_track_br3_no_edges = np.delete(filtered_track_br3, indexes_to_remove_br3, axis=0)\n",
    "\n",
    "print(\"New dataset shape:\", images_br3_no_edges.shape, \"Segmentations shape:\", segmentations_br3_no_edges.shape, \"tracks:\", filtered_track_br3_no_edges.shape, \"y train:\", y_train_br3_no_edges.shape)"
   ]
  },
  {
   "cell_type": "code",
   "execution_count": null,
   "metadata": {},
   "outputs": [],
   "source": [
    "np.save(\"images_br1_no_edges.npy\", images_br1_no_edges)\n",
    "np.save(\"segmentations_br1_no_edges.npy\", segmentations_br1_no_edges)\n",
    "np.save(\"y_train_br1_no_edges.npy\", y_train_br1_no_edges)\n",
    "np.save(\"filtered_track_br1_no_edges.npy\", filtered_track_br1_no_edges)\n",
    "np.save(\"images_br2_no_edges.npy\", images_br2_no_edges)\n",
    "np.save(\"segmentations_br2_no_edges.npy\", segmentations_br2_no_edges)\n",
    "np.save(\"y_train_br2_no_edges.npy\", y_train_br2_no_edges)\n",
    "np.save(\"filtered_track_br2_no_edges.npy\", filtered_track_br2_no_edges)\n",
    "np.save(\"images_br3_no_edges.npy\", images_br3_no_edges)"
   ]
  },
  {
   "cell_type": "code",
   "execution_count": 8,
   "metadata": {},
   "outputs": [],
   "source": [
    "np.save(\"segmentations_br3_no_edges.npy\", segmentations_br3_no_edges)\n",
    "np.save(\"y_train_br3_no_edges.npy\", y_train_br3_no_edges)\n",
    "np.save(\"filtered_track_br3_no_edges.npy\", filtered_track_br3_no_edges)\n"
   ]
  },
  {
   "cell_type": "markdown",
   "metadata": {},
   "source": [
    "## 2. Overimpose images with segmentations to remove background noise"
   ]
  },
  {
   "cell_type": "code",
   "execution_count": 9,
   "metadata": {},
   "outputs": [],
   "source": [
    "overimposed_br1 = overimpose(images_br1_no_edges, segmentations_br1_no_edges)"
   ]
  },
  {
   "cell_type": "code",
   "execution_count": 7,
   "metadata": {},
   "outputs": [],
   "source": [
    "overimposed_br2 = overimpose(images_br2_no_edges, segmentations_br2_no_edges)"
   ]
  },
  {
   "cell_type": "code",
   "execution_count": 8,
   "metadata": {},
   "outputs": [],
   "source": [
    "overimposed_br3 = overimpose(images_br3_no_edges, segmentations_br3_no_edges)"
   ]
  },
  {
   "cell_type": "markdown",
   "metadata": {},
   "source": [
    "## 3. Removal of daughter cells (data points without tpos 1, 2 or 3)"
   ]
  },
  {
   "cell_type": "code",
   "execution_count": 9,
   "metadata": {},
   "outputs": [
    {
     "name": "stdout",
     "output_type": "stream",
     "text": [
      "Indices of cells without time points 1, 2, and 3 in `tpos`: [10, 15, 18, 36, 78, 81, 85, 96, 99, 105, 110, 111, 139, 148, 152, 153, 156, 157, 170, 179, 182, 185, 186, 187, 190, 191, 195, 198, 203, 220, 222, 228, 232, 241, 245, 247, 270, 285, 292, 302, 304, 306, 326, 329, 359, 371, 378, 391, 398, 406, 409, 412, 418, 436, 443, 445, 446]\n"
     ]
    }
   ],
   "source": [
    "##### Removing daughter cells ####\n",
    "# We can remove the daughter cells by removing the data points that do not have the time points 1,2 or 3 (which means they started their \"lifetimes\" somewhere in the middle of the time series, meaning they could only be daughter cells)\n",
    "\n",
    "indexes_daughter_br1 = daughter_indexes(filtered_track_br1_no_edges)\n",
    "print(\"Indices of cells without time points 1, 2, and 3 in `tpos`:\", indexes_daughter_br1)\n",
    "br1_mother_tracks = np.delete(filtered_track_br1_no_edges, indexes_daughter_br1, axis=0)\n",
    "br1_mother_images = np.delete(overimposed_br1, indexes_daughter_br1, axis=0)\n",
    "br1_y_train = np.delete(y_train_br1_no_edges, indexes_daughter_br1, axis=0)\n"
   ]
  },
  {
   "cell_type": "code",
   "execution_count": 10,
   "metadata": {},
   "outputs": [
    {
     "name": "stdout",
     "output_type": "stream",
     "text": [
      "Indices of cells without time points 1, 2, and 3 in `tpos`: [3, 5, 11, 28, 30, 33, 36, 46, 65, 72, 74, 76, 80, 82, 83, 88, 89, 92, 94, 105, 108, 109, 110, 119, 135, 140, 152, 156, 162, 182, 189, 194, 209, 232, 233, 263, 265, 273, 274, 275, 281, 283, 299, 304, 305, 307, 318, 325, 329, 333, 342, 369, 374, 395, 397, 402, 427, 429, 432, 439, 443, 458, 465]\n"
     ]
    }
   ],
   "source": [
    "indexes_daughter_br2 = daughter_indexes(filtered_track_br2_no_edges)\n",
    "print(\"Indices of cells without time points 1, 2, and 3 in `tpos`:\", indexes_daughter_br2)\n",
    "br2_mother_tracks = np.delete(filtered_track_br2_no_edges, indexes_daughter_br2, axis=0)\n",
    "br2_mother_images = np.delete(overimposed_br2, indexes_daughter_br2, axis=0)\n",
    "br2_y_train = np.delete(y_train_br2_no_edges, indexes_daughter_br2, axis=0)"
   ]
  },
  {
   "cell_type": "code",
   "execution_count": 11,
   "metadata": {},
   "outputs": [
    {
     "name": "stdout",
     "output_type": "stream",
     "text": [
      "Indices of cells without time points 1, 2, and 3 in `tpos`: [40, 63, 71, 77, 107, 116, 118, 155, 158, 162, 172, 174, 178, 180, 183, 188, 191, 195, 199, 204, 206, 212, 214, 225, 237, 239, 243, 246, 256, 262, 266, 277, 279, 287, 290, 307, 308, 309, 336, 346, 361, 368, 387, 389, 403, 409, 425, 426, 438, 456, 460, 463, 479, 498, 500, 513, 527, 536, 553, 554, 557, 571, 574, 580, 631, 637, 641, 667, 680, 695, 697, 701, 707, 712, 713, 718, 725, 737, 747, 750, 752, 773, 779, 782, 791, 794, 799]\n",
      "(395, 1080, 2, 20, 20) (410, 1080, 2, 20, 20) (717, 1080, 2, 20, 20)\n"
     ]
    }
   ],
   "source": [
    "indexes_daughter_br3 = daughter_indexes(filtered_track_br3_no_edges)\n",
    "print(\"Indices of cells without time points 1, 2, and 3 in `tpos`:\", indexes_daughter_br3)\n",
    "br3_mother_tracks = np.delete(filtered_track_br3_no_edges, indexes_daughter_br3, axis=0)\n",
    "br3_mother_images = np.delete(overimposed_br3, indexes_daughter_br3, axis=0)\n",
    "br3_y_train = np.delete(y_train_br3_no_edges, indexes_daughter_br3, axis=0)\n",
    "\n",
    "print(br1_mother_images.shape, br2_mother_images.shape, br3_mother_images.shape)"
   ]
  },
  {
   "cell_type": "code",
   "execution_count": 12,
   "metadata": {},
   "outputs": [],
   "source": [
    "### save from here!!! ###\n",
    "# np.save(\"/Users/inescunha/Documents/GitHub/CellFate/data/images/br1_mother_images.npy\", br1_mother_images)\n",
    "# np.save(\"/Users/inescunha/Documents/GitHub/CellFate/data/images/br2_mother_images.npy\", br2_mother_images)\n",
    "# np.save(\"/Users/inescunha/Documents/GitHub/CellFate/data/images/br3_mother_images.npy\", br3_mother_images)\n",
    "# np.save(\"/Users/inescunha/Documents/GitHub/CellFate/data/tracks/br1_mother_tracks.npy\", br1_mother_tracks)\n",
    "# np.save(\"/Users/inescunha/Documents/GitHub/CellFate/data/tracks/br2_mother_tracks.npy\", br2_mother_tracks)\n",
    "# np.save(\"/Users/inescunha/Documents/GitHub/CellFate/data/tracks/br3_mother_tracks.npy\", br3_mother_tracks)\n",
    "# np.save(\"/Users/inescunha/Documents/GitHub/CellFate/data/labels/br1_y_train.npy\", br1_y_train)\n",
    "# np.save(\"/Users/inescunha/Documents/GitHub/CellFate/data/labels/br2_y_train.npy\", br2_y_train)\n",
    "# np.save(\"/Users/inescunha/Documents/GitHub/CellFate/data/labels/br3_y_train.npy\", br3_y_train)"
   ]
  },
  {
   "cell_type": "markdown",
   "metadata": {},
   "source": [
    "## 4. Remove daughter trace from the same track as mother \n",
    "\n",
    "(This is done in the cases where trackmate associated the same ID to the mother and correspondent daughter, we still need to remove the daughter from the mother track)"
   ]
  },
  {
   "cell_type": "code",
   "execution_count": 3,
   "metadata": {},
   "outputs": [],
   "source": [
    "br1_mother_images = np.load(\"/Users/inescunha/Documents/GitHub/CellFate/data/images/br1_mother_images.npy\")\n",
    "br2_mother_images = np.load(\"/Users/inescunha/Documents/GitHub/CellFate/data/images/br2_mother_images.npy\")\n",
    "br3_mother_images = np.load(\"/Users/inescunha/Documents/GitHub/CellFate/data/images/br3_mother_images.npy\")\n",
    "br1_mother_tracks = np.load(\"/Users/inescunha/Documents/GitHub/CellFate/data/tracks/br1_mother_tracks.npy\")\n",
    "br2_mother_tracks = np.load(\"/Users/inescunha/Documents/GitHub/CellFate/data/tracks/br2_mother_tracks.npy\")\n",
    "br3_mother_tracks = np.load(\"/Users/inescunha/Documents/GitHub/CellFate/data/tracks/br3_mother_tracks.npy\")\n",
    "br1_y_train = np.load(\"/Users/inescunha/Documents/GitHub/CellFate/data/labels/br1_y_train.npy\")\n",
    "br2_y_train = np.load(\"/Users/inescunha/Documents/GitHub/CellFate/data/labels/br2_y_train.npy\")\n",
    "br3_y_train = np.load(\"/Users/inescunha/Documents/GitHub/CellFate/data/labels/br3_y_train.npy\")"
   ]
  },
  {
   "cell_type": "code",
   "execution_count": 8,
   "metadata": {},
   "outputs": [],
   "source": [
    "processed_br1_mother_tracks, processed_br1_images = daughter_trace_removal(br1_mother_tracks, br1_mother_images)\n",
    "processed_br2_mother_tracks, processed_br2_images = daughter_trace_removal(br2_mother_tracks, br2_mother_images)\n",
    "processed_br3_mother_tracks, processed_br3_images = daughter_trace_removal(br3_mother_tracks, br3_mother_images)"
   ]
  },
  {
   "cell_type": "markdown",
   "metadata": {},
   "source": [
    "## 5. Concatenate all bioreplicates\n",
    "We also split y_train into 2 fates: non-mitosis and mitosis"
   ]
  },
  {
   "cell_type": "code",
   "execution_count": 11,
   "metadata": {},
   "outputs": [],
   "source": [
    "images = np.concatenate((processed_br1_images, processed_br2_images, processed_br3_images), axis=0)\n",
    "tracks = np.concatenate((processed_br1_mother_tracks, processed_br2_mother_tracks, processed_br3_mother_tracks), axis=0)\n",
    "y_train_final = np.concatenate((br1_y_train, br2_y_train, br3_y_train), axis=0)"
   ]
  },
  {
   "cell_type": "code",
   "execution_count": 13,
   "metadata": {},
   "outputs": [
    {
     "name": "stdout",
     "output_type": "stream",
     "text": [
      "Number of cells: 1522\n"
     ]
    }
   ],
   "source": [
    "assert images.shape[0] == tracks.shape[0] == y_train_final.shape[0]\n",
    "print(\"Number of cells:\", images.shape[0])"
   ]
  },
  {
   "cell_type": "code",
   "execution_count": 14,
   "metadata": {},
   "outputs": [
    {
     "name": "stdout",
     "output_type": "stream",
     "text": [
      "y_train from first generation only (1522,) Nb of fates originally: [0 1 2 3]\n",
      "[0 1]\n",
      "Number of fate 0: 1264\n",
      "Number of fate 1: 258\n",
      "Number of fate 2: 0\n"
     ]
    }
   ],
   "source": [
    "# Split y_train into the 2 fates (non mitosis and mitosis)\n",
    "\n",
    "print(\"y_train from first generation only\", y_train_final.shape, \"Nb of fates originally:\", np.unique(y_train_final))\n",
    "\n",
    "y_train = np.zeros_like(y_train_final)\n",
    "\n",
    "# Combine fates 0 and 1 into fate 0\n",
    "y_train[np.isin(y_train_final, [0, 1])] = 0\n",
    "\n",
    "# Combine fates 2 and 3 into fate 1\n",
    "y_train[np.isin(y_train_final, [2, 3])] = 1\n",
    "\n",
    "print(np.unique(y_train))\n",
    "# Check total nb of fates\n",
    "num_fate_0= np.sum(y_train == 0)\n",
    "num_fate_1= np.sum(y_train == 1)\n",
    "num_fate_2= np.sum(y_train == 2)\n",
    "\n",
    "print(f\"Number of fate 0: {num_fate_0}\")\n",
    "print(f\"Number of fate 1: {num_fate_1}\")\n",
    "print(f\"Number of fate 2: {num_fate_2}\")"
   ]
  },
  {
   "cell_type": "markdown",
   "metadata": {},
   "source": [
    "## 6. Manual removal of \"problematic, clutered\" cells \n",
    "This means removing cells with more than one neighbouring cell (\"touching each other\" in the same FOV)"
   ]
  },
  {
   "cell_type": "code",
   "execution_count": 15,
   "metadata": {},
   "outputs": [],
   "source": [
    "cell_indexes_to_remove = [\n",
    "    64, 131, 193, 194, 271, 274, 279, 299, 395, 400, 499, 521, 541, 603, 629, \n",
    "    683, 685, 692, 733, 740, 769, 804, 810, 1034, 1039, 1061, 1186, 1203, 1206, \n",
    "    1319, 1335, 1340, 1389, 1395, 1419, 1519\n",
    "]\n",
    "problematic_fov = [index for index in range(931, 1032)] # FOV WITH PROBLEMATIC INDEXES\n",
    "cell_indexes_to_remove.extend(problematic_fov)\n",
    "\n",
    "cell_indexes_to_remove = sorted(set(cell_indexes_to_remove))"
   ]
  },
  {
   "cell_type": "code",
   "execution_count": 16,
   "metadata": {},
   "outputs": [],
   "source": [
    "filtered_images = np.delete(images, cell_indexes_to_remove, axis=0)\n",
    "filtered_tracks = np.delete(tracks, cell_indexes_to_remove, axis=0)\n",
    "filtered_y_train = np.delete(y_train, cell_indexes_to_remove, axis=0)\n",
    "filtered_y_train_all_fates = np.delete(y_train_final, cell_indexes_to_remove, axis=0)\n",
    "\n",
    "assert filtered_images.shape[0] == filtered_tracks.shape[0] == filtered_y_train.shape[0] == filtered_y_train_all_fates.shape[0]"
   ]
  },
  {
   "cell_type": "markdown",
   "metadata": {},
   "source": [
    "## 7. Remove extra debris from cells\n",
    "This is because sometimes smaller cells appear at the edge of the FOV, so we want to remove those from the FOV of each cell. (Keeping only the cell we want to process)"
   ]
  },
  {
   "cell_type": "code",
   "execution_count": 18,
   "metadata": {},
   "outputs": [],
   "source": [
    "cleaned_images = clean_all_cells(filtered_images)"
   ]
  },
  {
   "cell_type": "markdown",
   "metadata": {},
   "source": [
    "## 8. Get FRET ratio \n",
    "Divide the 2 fluorescence channels (here we divided CFP by YFP, so our images are 1/FRET)"
   ]
  },
  {
   "cell_type": "code",
   "execution_count": null,
   "metadata": {},
   "outputs": [],
   "source": [
    "fret_images = cleaned_images[:,:,0,:,:] / cleaned_images[:,:,1,:,:] \n",
    "fret_images = np.nan_to_num(fret_images, nan=0.0)"
   ]
  },
  {
   "cell_type": "code",
   "execution_count": null,
   "metadata": {},
   "outputs": [],
   "source": [
    "problematic_cells = find_problematic_cells_and_times(fret_images)\n",
    "print(\"Problematic cells:\", problematic_cells)"
   ]
  },
  {
   "cell_type": "markdown",
   "metadata": {},
   "source": [
    "### 8.1 Removal of 1 problematic cell\n",
    "It appears that 1 pixel value in a few cell images have a very high value in one channel in comparison to the other for some reason (experimentally-speaking) so when we calculate the fret ratio in the next step, the value is massive, which later on when I'm normalising my entire dataset, this one is set as maximum which is causing major issues down the line"
   ]
  },
  {
   "cell_type": "code",
   "execution_count": 20,
   "metadata": {},
   "outputs": [
    {
     "data": {
      "text/plain": [
       "<matplotlib.colorbar.Colorbar at 0x137b67730>"
      ]
     },
     "execution_count": 20,
     "metadata": {},
     "output_type": "execute_result"
    },
    {
     "data": {
      "image/png": "[encoded data removed]",
      "text/plain": [
       "<Figure size 640x480 with 2 Axes>"
      ]
     },
     "metadata": {},
     "output_type": "display_data"
    }
   ],
   "source": [
    "plt.imshow(cleaned_images[1336, 206, 1])\n",
    "plt.colorbar()"
   ]
  },
  {
   "cell_type": "code",
   "execution_count": 22,
   "metadata": {},
   "outputs": [],
   "source": [
    "# the cell index and time index are found in the next step (where the channels are divided)\n",
    "new_cleaned_images = remove_and_replace(cleaned_images, cell_index=1336, time_index=206)\n",
    "new_cleaned_images = remove_and_replace(new_cleaned_images, cell_index=82, time_index=786)\n",
    "new_cleaned_images = remove_and_replace(new_cleaned_images, cell_index=517, time_index=255)\n",
    "new_cleaned_images = remove_and_replace(new_cleaned_images, cell_index=619, time_index=22)\n",
    "new_cleaned_images = remove_and_replace(new_cleaned_images, cell_index=1184, time_index=167)"
   ]
  },
  {
   "cell_type": "code",
   "execution_count": 24,
   "metadata": {},
   "outputs": [
    {
     "data": {
      "text/plain": [
       "((1385, 1080, 19), (1385,), (1385, 1080, 2, 20, 20))"
      ]
     },
     "execution_count": 24,
     "metadata": {},
     "output_type": "execute_result"
    }
   ],
   "source": [
    "filtered_tracks.shape, filtered_y_train.shape, new_cleaned_images.shape"
   ]
  },
  {
   "cell_type": "code",
   "execution_count": null,
   "metadata": {},
   "outputs": [],
   "source": [
    "# np.save(\"/Users/inescunha/Documents/GitHub/CellFate/data/images/cleaned_images.npy\", new_cleaned_images)\n",
    "# np.save(\"/Users/inescunha/Documents/GitHub/CellFate/data/tracks/filtered_tracks.npy\", filtered_tracks)\n",
    "# np.save(\"/Users/inescunha/Documents/GitHub/CellFate/data/labels/filtered_y_train.npy\", filtered_y_train)\n",
    "# np.save(\"/Users/inescunha/Documents/GitHub/CellFate/data/labels/filtered_y_train_all_fates.npy\", filtered_y_train_all_fates)"
   ]
  },
  {
   "cell_type": "markdown",
   "metadata": {},
   "source": [
    "### 8.2 Get FRET ratio \n",
    "Divide the 2 fluorescence channels (here we divided CFP by YFP, so our images are 1/FRET), with the new filtered images"
   ]
  },
  {
   "cell_type": "code",
   "execution_count": 80,
   "metadata": {},
   "outputs": [
    {
     "name": "stderr",
     "output_type": "stream",
     "text": [
      "/var/folders/ds/_m8m03r135b5r67hc6xgtxt00000gn/T/ipykernel_87655/3325400739.py:1: RuntimeWarning: invalid value encountered in divide\n",
      "  fret_images = new_cleaned_images[:,:,1,:,:] / new_cleaned_images[:,:,0,:,:]\n"
     ]
    }
   ],
   "source": [
    "fret_images = new_cleaned_images[:,:,0,:,:] / new_cleaned_images[:,:,1,:,:] \n",
    "fret_images = np.nan_to_num(fret_images, nan=0.0)"
   ]
  },
  {
   "cell_type": "markdown",
   "metadata": {},
   "source": [
    "## 9. Normalise images"
   ]
  },
  {
   "cell_type": "code",
   "execution_count": 88,
   "metadata": {},
   "outputs": [],
   "source": [
    "norm_images = normalize_images_per_frame(fret_images)"
   ]
  },
  {
   "cell_type": "markdown",
   "metadata": {},
   "source": [
    "## 10. Center all cells to the middle of FOV"
   ]
  },
  {
   "cell_type": "code",
   "execution_count": 91,
   "metadata": {},
   "outputs": [],
   "source": [
    "centered_images = center_cells(norm_images)"
   ]
  },
  {
   "cell_type": "code",
   "execution_count": null,
   "metadata": {},
   "outputs": [],
   "source": [
    "# ## save\n",
    "# np.save(\"/Users/inescunha/Documents/GitHub/CellFate/data/images/norm_images.npy\", centered_images)\n",
    "# np.save(\"/Users/inescunha/Documents/GitHub/CellFate/data/tracks/filtered_tracks.npy\", filtered_tracks)\n",
    "# np.save(\"/Users/inescunha/Documents/GitHub/CellFate/data/labels/filtered_y_train.npy\", filtered_y_train)"
   ]
  },
  {
   "cell_type": "markdown",
   "metadata": {},
   "source": [
    "# Preparing for Model Training\n",
    "### Train-test split, data augmentation, etc"
   ]
  },
  {
   "cell_type": "markdown",
   "metadata": {},
   "source": [
    "## 1. Train-test split"
   ]
  },
  {
   "cell_type": "code",
   "execution_count": null,
   "metadata": {},
   "outputs": [],
   "source": [
    "train_indexes, test_indexes = train_test_split(\n",
    "        np.arange(len(filtered_y_train)),\n",
    "        test_size=0.2,\n",
    "        stratify=filtered_y_train,\n",
    "        random_state=42\n",
    "    )\n",
    "    \n",
    "train_images = centered_images[train_indexes]\n",
    "test_images = centered_images[test_indexes]\n",
    "\n",
    "train_tracks = filtered_tracks[train_indexes]\n",
    "test_tracks = filtered_tracks[test_indexes]\n",
    "\n",
    "train_labels = filtered_y_train[train_indexes]\n",
    "test_labels = filtered_y_train[test_indexes]\n"
   ]
  },
  {
   "cell_type": "markdown",
   "metadata": {},
   "source": [
    "## 2. Data Augmentation"
   ]
  },
  {
   "cell_type": "code",
   "execution_count": null,
   "metadata": {},
   "outputs": [],
   "source": [
    "train_images = np.load(\"/Users/inescunha/Documents/GitHub/CellFate/data/images/train_images.npy\")\n",
    "test_images = np.load(\"/Users/inescunha/Documents/GitHub/CellFate/data/images/test_images.npy\")\n",
    "train_labels = np.load(\"/Users/inescunha/Documents/GitHub/CellFate/data/labels/train_labels.npy\")\n",
    "test_labels = np.load(\"/Users/inescunha/Documents/GitHub/CellFate/data/labels/test_labels.npy\")\n",
    "train_tracks = np.load(\"/Users/inescunha/Documents/GitHub/CellFate/data/tracks/train_tracks.npy\")\n",
    "test_tracks = np.load(\"/Users/inescunha/Documents/GitHub/CellFate/data/tracks/test_tracks.npy\")"
   ]
  },
  {
   "cell_type": "code",
   "execution_count": 26,
   "metadata": {},
   "outputs": [
    {
     "data": {
      "text/plain": [
       "((2184, 1080, 20, 20),\n",
       " (2184,),\n",
       " (1108, 1080, 19),\n",
       " (277, 1080, 20, 20),\n",
       " (277,),\n",
       " (277, 1080, 19))"
      ]
     },
     "execution_count": 26,
     "metadata": {},
     "output_type": "execute_result"
    }
   ],
   "source": [
    "train_images_augmented, train_labels_augmented = augment_dataset(train_images, train_labels, augmentations)\n",
    "\n",
    "print(train_images_augmented.shape, train_labels_augmented.shape, train_tracks.shape, test_images.shape, test_labels.shape, test_tracks.shape)"
   ]
  },
  {
   "cell_type": "code",
   "execution_count": 14,
   "metadata": {},
   "outputs": [],
   "source": [
    "# np.save(\"/Users/inescunha/Documents/GitHub/CellFate/data/images/train_images_augmented.npy\", train_images_augmented)\n",
    "# np.save(\"/Users/inescunha/Documents/GitHub/CellFate/data/labels/train_labels_augmented.npy\", train_labels_augmented)\n",
    "# np.save(\"/Users/inescunha/Documents/GitHub/CellFate/data/labels/train_labels.npy\", train_labels)\n",
    "# np.save(\"/Users/inescunha/Documents/GitHub/CellFate/data/tracks/train_tracks.npy\", train_tracks)\n",
    "# np.save(\"/Users/inescunha/Documents/GitHub/CellFate/data/tracks/test_tracks.npy\", test_tracks)\n",
    "# np.save(\"/Users/inescunha/Documents/GitHub/CellFate/data/images/test_images.npy\", test_images)\n",
    "# np.save(\"/Users/inescunha/Documents/GitHub/CellFate/data/labels/test_labels.npy\", test_labels)"
   ]
  },
  {
   "cell_type": "markdown",
   "metadata": {},
   "source": [
    "## 3. Stretch image intensities in a frame-wise way\n",
    "This is done to do a scaling of the intensities in each cell, so that the minimum value is 0 (but keeping the same \"relationship\" between pixel values)"
   ]
  },
  {
   "cell_type": "code",
   "execution_count": null,
   "metadata": {},
   "outputs": [],
   "source": [
    "stretched_x_train, stretched_x_test = stretch_intensities_global(train_images_augmented, test_images)"
   ]
  },
  {
   "cell_type": "code",
   "execution_count": 46,
   "metadata": {},
   "outputs": [],
   "source": [
    "# np.save(\"/Users/inescunha/Documents/GitHub/CellFate/data/images/stretched_x_train.npy\", stretched_x_train)\n",
    "# np.save(\"/Users/inescunha/Documents/GitHub/CellFate/data/images/stretched_x_test.npy\", stretched_x_test)"
   ]
  },
  {
   "cell_type": "markdown",
   "metadata": {},
   "source": [
    "## 4. Cell Clock Normalisation"
   ]
  },
  {
   "cell_type": "code",
   "execution_count": null,
   "metadata": {},
   "outputs": [],
   "source": [
    "time_norm_train_track = normalize_cell_time(train_tracks)\n",
    "time_norm_test_track = normalize_cell_time(test_tracks)\n",
    "\n",
    "time_norm_train_images = normalize_cell_time_images(stretched_x_train)\n",
    "time_norm_test_images = normalize_cell_time_images(stretched_x_test)"
   ]
  },
  {
   "cell_type": "code",
   "execution_count": null,
   "metadata": {},
   "outputs": [],
   "source": [
    "# np.save(\"/Users/inescunha/Documents/GitHub/CellFate/data/images/time_norm_train_images.npy\", time_norm_train_images)\n",
    "# np.save(\"/Users/inescunha/Documents/GitHub/CellFate/data/images/time_norm_test_images.npy\", time_norm_test_images)"
   ]
  },
  {
   "cell_type": "code",
   "execution_count": null,
   "metadata": {},
   "outputs": [],
   "source": []
  },
  {
   "cell_type": "code",
   "execution_count": null,
   "metadata": {},
   "outputs": [],
   "source": []
  },
  {
   "cell_type": "markdown",
   "metadata": {},
   "source": [
    "# Random things"
   ]
  },
  {
   "cell_type": "code",
   "execution_count": 81,
   "metadata": {},
   "outputs": [
    {
     "name": "stdout",
     "output_type": "stream",
     "text": [
      "First zero indices for each row:\n",
      "[ 532  464  322  189  379  577  554  601  969  426  546  840 1003  257\n",
      "  878  518  713  467  579  606  522 1038 1070  180 1027  730  201  548\n",
      "  344  606]\n"
     ]
    }
   ],
   "source": [
    "import numpy as np\n",
    "\n",
    "# Assuming br3_mother_tracks and br3_y_train are already defined\n",
    "fate_matrix = br3_mother_tracks[br3_mother_tracks[:,0,-1] == 3][:, :, -1]\n",
    "\n",
    "# Find the first zero in each row\n",
    "first_zero_indices = np.apply_along_axis(lambda row: np.argmax(row == 0) if np.any(row == 0) else -1, axis=1, arr=fate_matrix)\n",
    "\n",
    "# Print the results\n",
    "print(\"First zero indices for each row:\")\n",
    "print(first_zero_indices)\n"
   ]
  },
  {
   "cell_type": "code",
   "execution_count": 91,
   "metadata": {},
   "outputs": [
    {
     "data": {
      "text/plain": [
       "(34, 1080, 10)"
      ]
     },
     "execution_count": 91,
     "metadata": {},
     "output_type": "execute_result"
    }
   ],
   "source": [
    "br1_mother_tracks[br1_y_train == 2].shape"
   ]
  },
  {
   "cell_type": "code",
   "execution_count": 113,
   "metadata": {},
   "outputs": [
    {
     "name": "stdout",
     "output_type": "stream",
     "text": [
      "Processed matrix shape: (34, 1080, 10)\n"
     ]
    }
   ],
   "source": [
    "import numpy as np\n",
    "\n",
    "def daugther_trace_removal(matrix):\n",
    "    \"\"\"\n",
    "    For each cell (row) in the matrix, sets all values in all columns to zero \n",
    "    starting from the first zero in the 4th column (index 3).\n",
    "    \n",
    "    Args:\n",
    "        matrix (numpy.ndarray): A 3D matrix of shape (cells, time, features).\n",
    "        \n",
    "    Returns:\n",
    "        numpy.ndarray: Processed matrix with zeroed values from the first zero onward in the 4th column.\n",
    "    \"\"\"\n",
    "    processed_matrix = matrix.copy()\n",
    "    \n",
    "    for cell_idx, cell in enumerate(processed_matrix):\n",
    "        # Find the first zero in the 4th column\n",
    "        first_zero_index = np.argmax(cell[:, 4] == 0) if np.any(cell[:, 4] == 0) else None\n",
    "        \n",
    "        # If a zero is found, set all values from that time point onward to zero\n",
    "        if first_zero_index is not None:\n",
    "            processed_matrix[cell_idx, first_zero_index:, :] = 0\n",
    "    \n",
    "    return processed_matrix\n",
    "\n",
    "# Apply the function to the subset of the tracks\n",
    "processed_br1_mother_tracks = daugther_trace_removal(br1_mother_tracks[br1_y_train == 2])\n",
    "\n",
    "# Confirm the changes\n",
    "print(\"Processed matrix shape:\", processed_br1_mother_tracks.shape)\n"
   ]
  },
  {
   "cell_type": "code",
   "execution_count": 95,
   "metadata": {},
   "outputs": [
    {
     "data": {
      "text/plain": [
       "array([1.0736096 , 1.055149  , 1.0905303 , 1.092127  , 1.0840935 ,\n",
       "       1.0563608 , 1.0748883 , 1.0784637 , 1.0592111 , 1.046493  ,\n",
       "       1.0360446 , 1.0512099 , 1.0363867 , 1.0667735 , 1.0261283 ,\n",
       "       1.0341673 , 1.0197878 , 1.0158173 , 1.0193248 , 1.0104283 ,\n",
       "       1.0097171 , 1.024575  , 1.0256407 , 1.0282562 , 1.0327061 ,\n",
       "       1.0610956 , 1.0475533 , 1.0657954 , 1.0290425 , 1.0522226 ,\n",
       "       1.0696201 , 1.0079278 , 1.0109152 , 1.0460668 , 1.0738034 ,\n",
       "       1.038976  , 1.0237169 , 1.0068738 , 1.0322778 , 1.0143622 ,\n",
       "       1.0208637 , 1.0555756 , 1.0425649 , 0.99591243, 1.0021855 ,\n",
       "       1.0171853 , 1.0021807 , 1.0263573 , 0.9973811 , 0.9966945 ,\n",
       "       1.0046283 , 1.0317597 , 1.0341554 , 1.0858612 , 1.072814  ,\n",
       "       1.1046714 , 1.0886966 , 1.064392  , 1.0410048 , 1.0520434 ,\n",
       "       1.0210351 , 0.98632115, 0.        , 0.        , 0.        ,\n",
       "       0.        , 0.        , 0.        , 0.        , 0.        ,\n",
       "       0.        , 0.        , 0.        , 0.        , 0.        ,\n",
       "       0.        , 0.        , 0.        , 0.        , 0.        ,\n",
       "       0.        , 0.        , 0.        , 0.        , 0.        ,\n",
       "       0.        , 0.        , 0.        , 0.        , 0.        ,\n",
       "       0.        , 0.        , 0.        , 0.        , 0.        ,\n",
       "       0.        , 0.        , 0.        , 0.        , 0.        ,\n",
       "       0.        , 0.        , 0.        , 0.        , 0.        ,\n",
       "       0.        , 0.        , 0.        , 0.        , 0.        ,\n",
       "       0.        , 0.        , 0.        , 0.        , 0.        ,\n",
       "       0.        , 0.        , 0.        , 0.        , 0.        ,\n",
       "       0.        , 0.        , 0.        , 0.        , 0.        ,\n",
       "       0.        , 0.        , 0.        , 0.        , 0.        ,\n",
       "       0.        , 0.        , 0.        , 0.        , 0.        ,\n",
       "       0.        , 0.        , 0.        , 1.1885326 , 1.1260046 ,\n",
       "       1.0679728 , 1.0298264 , 1.0045235 , 1.0080156 , 1.0006409 ,\n",
       "       0.99955726, 0.93764246, 0.9576264 , 0.9632921 , 0.93810445,\n",
       "       0.96141243, 0.9717773 , 1.0379214 , 0.9176208 , 0.9185101 ,\n",
       "       0.91202116, 0.9449869 , 0.9087905 , 1.011472  , 1.1030945 ,\n",
       "       1.0519704 , 1.0352538 , 1.0038947 , 1.0144392 , 1.0651354 ,\n",
       "       1.0937957 , 1.0466115 , 1.0158093 , 1.0507689 , 1.0067446 ,\n",
       "       0.9808351 , 1.0100849 , 1.0495743 , 1.0561006 , 1.0787592 ,\n",
       "       1.0640202 , 1.0466272 , 0.9921439 , 0.9577399 , 0.9598508 ,\n",
       "       0.9900668 , 0.946065  , 1.0013679 , 0.96103185, 0.9425299 ,\n",
       "       1.0281916 , 0.96597034, 1.0035294 , 0.9969054 , 0.9891596 ,\n",
       "       0.9885777 , 0.9870668 , 0.95064056, 0.94116014, 0.93119097,\n",
       "       0.9470171 , 0.9783431 , 0.9338464 , 0.95812315, 0.93219554],\n",
       "      dtype=float32)"
      ]
     },
     "execution_count": 95,
     "metadata": {},
     "output_type": "execute_result"
    }
   ],
   "source": [
    "br1_mother_tracks[br1_y_train == 2][0,:,4][400:600]"
   ]
  },
  {
   "cell_type": "code",
   "execution_count": 121,
   "metadata": {},
   "outputs": [
    {
     "data": {
      "text/plain": [
       "array([[206.       , 191.62418  , 169.35526  , ...,   1.2271907,\n",
       "        988.       ,   2.       ],\n",
       "       [206.       , 192.09357  , 168.99722  , ...,   1.1654947,\n",
       "        988.       ,   2.       ],\n",
       "       [206.       , 191.67625  , 169.0062   , ...,   1.1755966,\n",
       "        988.       ,   2.       ],\n",
       "       ...,\n",
       "       [  0.       ,   0.       ,   0.       , ...,   0.       ,\n",
       "          0.       ,   0.       ],\n",
       "       [  0.       ,   0.       ,   0.       , ...,   0.       ,\n",
       "          0.       ,   0.       ],\n",
       "       [  0.       ,   0.       ,   0.       , ...,   0.       ,\n",
       "          0.       ,   0.       ]], dtype=float32)"
      ]
     },
     "execution_count": 121,
     "metadata": {},
     "output_type": "execute_result"
    }
   ],
   "source": [
    "daugther_trace_removal(br1_mother_tracks[br1_y_train == 2])[10]"
   ]
  },
  {
   "cell_type": "code",
   "execution_count": 7,
   "metadata": {},
   "outputs": [],
   "source": [
    "tracks = np.load(\"/Users/inescunha/Documents/GitHub/CellFate/data/tracks/filtered_tracks.npy\")\n",
    "labels = np.load(\"/Users/inescunha/Documents/GitHub/CellFate/data/labels/filtered_y_train.npy\")"
   ]
  },
  {
   "cell_type": "code",
   "execution_count": 24,
   "metadata": {},
   "outputs": [],
   "source": [
    "division_tracks = tracks[labels == 1]"
   ]
  },
  {
   "cell_type": "code",
   "execution_count": 40,
   "metadata": {},
   "outputs": [
    {
     "data": {
      "text/plain": [
       "array([0., 0., 0., 0., 0., 0., 0., 0., 0., 0., 0., 0., 0., 0., 0., 0., 0.,\n",
       "       0., 0.], dtype=float32)"
      ]
     },
     "execution_count": 40,
     "metadata": {},
     "output_type": "execute_result"
    }
   ],
   "source": [
    "division_tracks[53][734]"
   ]
  },
  {
   "cell_type": "markdown",
   "metadata": {},
   "source": [
    "## Cell division times"
   ]
  },
  {
   "cell_type": "code",
   "execution_count": 8,
   "metadata": {},
   "outputs": [],
   "source": [
    "def find_first_zero_indices(matrix):\n",
    "    return np.apply_along_axis(lambda row: np.argmax(row == 0) if np.any(row == 0) else -1, axis=1, arr=matrix)"
   ]
  },
  {
   "cell_type": "code",
   "execution_count": 11,
   "metadata": {},
   "outputs": [],
   "source": [
    "first_zero_tracks= find_first_zero_indices(tracks)\n",
    "first_zero_tracks_division = find_first_zero_indices(tracks[labels==1])"
   ]
  },
  {
   "cell_type": "code",
   "execution_count": 17,
   "metadata": {},
   "outputs": [
    {
     "data": {
      "text/plain": [
       "(array([  9,  15,  19,  21,  29,  33,  33,  33,  33,  33,  33,  33,  33,\n",
       "         33,  33,  33,  33,  33,  44,  45,  47,  53,  56,  59,  68,  78,\n",
       "         84,  88, 111, 142, 200, 210, 211, 213, 218]),\n",
       " array([ 4,  4,  4,  4,  4,  4,  5,  6,  7,  8,  9, 10, 11, 12, 13, 14, 15,\n",
       "        16,  4,  4,  4,  4,  4,  4,  4,  4,  4,  4,  4,  4,  4,  4,  4,  4,\n",
       "         4]))"
      ]
     },
     "execution_count": 17,
     "metadata": {},
     "output_type": "execute_result"
    }
   ],
   "source": [
    "np.where(first_zero_tracks_division==0)"
   ]
  },
  {
   "cell_type": "code",
   "execution_count": 19,
   "metadata": {},
   "outputs": [
    {
     "data": {
      "text/plain": [
       "(228, 19)"
      ]
     },
     "execution_count": 19,
     "metadata": {},
     "output_type": "execute_result"
    }
   ],
   "source": [
    "first_zero_tracks_division.shape"
   ]
  },
  {
   "cell_type": "code",
   "execution_count": 20,
   "metadata": {},
   "outputs": [
    {
     "data": {
      "text/plain": [
       "array([1, 1, 1, 1, 0, 1, 1, 1, 1, 1, 1, 1, 1, 1, 1, 1, 1, 1, 1])"
      ]
     },
     "execution_count": 20,
     "metadata": {},
     "output_type": "execute_result"
    }
   ],
   "source": [
    "first_zero_tracks_division[15]"
   ]
  },
  {
   "cell_type": "code",
   "execution_count": 41,
   "metadata": {},
   "outputs": [],
   "source": [
    "def find_zero_time_indices(tracks):\n",
    "    \"\"\"\n",
    "    Finds the first time index at which all 19 features become zero for each cell.\n",
    "    \n",
    "    Parameters:\n",
    "        tracks (numpy array): Shape (300, 1080, 19), representing (cells, time points, features).\n",
    "        \n",
    "    Returns:\n",
    "        numpy array: Shape (300,), containing the first time index where all features are zero for each cell.\n",
    "                    If a cell never has all features as zero, returns -1 for that cell.\n",
    "    \"\"\"\n",
    "    # Check where all features become zero along the time axis\n",
    "    zero_mask = np.all(tracks == 0, axis=2)  # Shape: (300, 1080), True where all features are zero\n",
    "    \n",
    "    # Find the first time index where all features are zero for each cell\n",
    "    zero_indices = np.argmax(zero_mask, axis=1)  # Get first occurrence along time axis\n",
    "    \n",
    "    # If a cell never reaches a fully zero state, set its value to -1\n",
    "    zero_indices[~np.any(zero_mask, axis=1)] = -1  # If no zeros found, assign -1\n",
    "    \n",
    "    return zero_indices"
   ]
  },
  {
   "cell_type": "code",
   "execution_count": 43,
   "metadata": {},
   "outputs": [
    {
     "data": {
      "text/plain": [
       "array([ 462,  499,  186,  862,  390,  190,  142,  635,  288,  718,  146,\n",
       "        267,  500,  375,  312,    1,  160,  176,  225,    1,   89,    1,\n",
       "        840,  912,  380,  586,  404,  371,  306,    1,  616,  473,  719,\n",
       "        507,  157,  196,   29,  307,  473,  267,   68,  223,  252,  179,\n",
       "          1,    1,  419,    1,  581,  485,  865,  215,  134,  732,  152,\n",
       "        245,    1,   73,  145,    1,  314,  352,  127,  204,  137,  208,\n",
       "        103,  975,    1,  250,  347,  416,  497,  566,  240,  685,  785,\n",
       "        112,    1,  688,  297,   16,  219,  593,    1,   23,  257,   11,\n",
       "          1,   42,  973,  425,  321,  307,  253,  787,  522,  363,  224,\n",
       "        254,   34,   37,  326,  131,  579,  604,  637,  263,  391,  466,\n",
       "        166,    1,  272,  445,  762,  485,  138,  951,  248,  461,  511,\n",
       "        760,  140,  312,  306,   71,  581,  350,  380,  473,  650,  694,\n",
       "        113,   84,  471,  519,  292,  555,  296,  935,  206,   71,    1,\n",
       "         44,  979,  312,  426,  562,  115,  396,  365,  906, 1001,  128,\n",
       "        303,  221,  882,   67,   80,  363,  248,  288,  787,  288,  350,\n",
       "        468,  153,  615,  568,  118,  626,  455,  100,  284,  882,  515,\n",
       "        625,   60,  479,  289,  844,  248,  122,  725,  433,   25,  392,\n",
       "         40,  411,  767,  672,  148,  259,  962,  237,  486,  208, 1004,\n",
       "        994,   55,    1,  763,  471,  117,  440,  774,  659,  115,  125,\n",
       "        249,    1,    1,  505,    1,  975,  374,  193,  484,    1,  144,\n",
       "        281,  917,    7,  139,  516,  756,  513,  436])"
      ]
     },
     "execution_count": 43,
     "metadata": {},
     "output_type": "execute_result"
    }
   ],
   "source": [
    "find_zero_time_indices(tracks[labels == 1])"
   ]
  },
  {
   "cell_type": "code",
   "execution_count": 50,
   "metadata": {},
   "outputs": [
    {
     "data": {
      "image/png": "[encoded data removed]",
      "text/plain": [
       "<Figure size 1000x600 with 1 Axes>"
      ]
     },
     "metadata": {},
     "output_type": "display_data"
    }
   ],
   "source": [
    "# Plot the histogram\n",
    "plt.figure(figsize=(10, 6))\n",
    "plt.hist(find_zero_time_indices(tracks[labels == 1]), bins=30, color='purple', alpha=0.7, edgecolor='black')\n",
    "plt.title('Histogram of Times of Division')\n",
    "plt.xlabel('Time Index of Cell Division')\n",
    "plt.ylabel('Frequency')\n",
    "#plt.grid(axis='y', alpha=0.75)\n",
    "plt.show()"
   ]
  },
  {
   "cell_type": "code",
   "execution_count": 57,
   "metadata": {},
   "outputs": [
    {
     "data": {
      "image/png": "[encoded data removed]",
      "text/plain": [
       "<Figure size 1000x600 with 1 Axes>"
      ]
     },
     "metadata": {},
     "output_type": "display_data"
    }
   ],
   "source": [
    "# Compute zero indices\n",
    "zero_indices = find_zero_time_indices(tracks[labels == 1])\n",
    "\n",
    "# Define bins and ensure 1080 is included\n",
    "bins = np.linspace(0, 1080, 31)  # 30 bins + 1080 included\n",
    "\n",
    "# Plot the histogram\n",
    "plt.figure(figsize=(10, 6))\n",
    "plt.hist(zero_indices, bins=bins, color='purple', alpha=0.7, edgecolor='black')\n",
    "\n",
    "# Set title and labels with large Arial font\n",
    "plt.title('Histogram of Times of Division', fontsize=20, fontname='Arial', pad=20)\n",
    "plt.xlabel('Time Index of Cell Division', fontsize=18, fontname='Arial', labelpad=15)\n",
    "plt.ylabel('Frequency', fontsize=18, fontname='Arial', labelpad=15)\n",
    "\n",
    "# Tick labels with larger font\n",
    "plt.xticks(fontsize=16, fontname='Arial')\n",
    "plt.yticks(fontsize=16, fontname='Arial')\n",
    "\n",
    "# Ensure x-axis goes up to 1080\n",
    "plt.xlim(0, 1080)\n",
    "\n",
    "# Show grid for better readability\n",
    "plt.grid(axis='y', linestyle='--', alpha=0.5)\n",
    "\n",
    "plt.savefig(\"division_times.pdf\", dpi=300, bbox_inches=\"tight\")\n",
    "plt.show()\n"
   ]
  },
  {
   "cell_type": "markdown",
   "metadata": {},
   "source": [
    "First zero in the track means it split. "
   ]
  },
  {
   "cell_type": "code",
   "execution_count": 13,
   "metadata": {},
   "outputs": [
    {
     "data": {
      "image/png": "[encoded data removed]",
      "text/plain": [
       "<Figure size 1000x600 with 1 Axes>"
      ]
     },
     "metadata": {},
     "output_type": "display_data"
    }
   ],
   "source": [
    "valid_indices = first_zero_tracks_division[first_zero_tracks_division != -1]\n",
    "\n",
    "# Plot the histogram\n",
    "plt.figure(figsize=(10, 6))\n",
    "plt.hist(valid_indices, bins=30, color='blue', alpha=0.7, edgecolor='black')\n",
    "plt.title('Histogram of First Zero Indices')\n",
    "plt.xlabel('Index of First Zero')\n",
    "plt.ylabel('Frequency')\n",
    "plt.grid(axis='y', alpha=0.75)\n",
    "plt.show()"
   ]
  },
  {
   "cell_type": "code",
   "execution_count": 128,
   "metadata": {},
   "outputs": [
    {
     "data": {
      "image/png": "[encoded data removed]",
      "text/plain": [
       "<Figure size 1000x600 with 1 Axes>"
      ]
     },
     "metadata": {},
     "output_type": "display_data"
    }
   ],
   "source": [
    "# Extract the matrices\n",
    "matrix_br1_2 = daugther_trace_removal(br1_mother_tracks[br1_y_train == 2])[:, :, -1]\n",
    "matrix_br1_3 = daugther_trace_removal(br1_mother_tracks[br1_y_train == 3])[:, :, -1]\n",
    "matrix_br2_2 = daugther_trace_removal(br2_mother_tracks[br2_y_train == 2])[:, :, -1]\n",
    "matrix_br2_3 = daugther_trace_removal(br2_mother_tracks[br2_y_train == 3])[:, :, -1]\n",
    "matrix_br3_2 = daugther_trace_removal(br3_mother_tracks[br3_y_train == 2])[:, :, -1]\n",
    "matrix_br3_3 = daugther_trace_removal(br3_mother_tracks[br3_y_train == 3])[:, :, -1]\n",
    "\n",
    "# Function to find the first zero indices in each row\n",
    "def find_first_zero_indices(matrix):\n",
    "    return np.apply_along_axis(lambda row: np.argmax(row == 0) if np.any(row == 0) else -1, axis=1, arr=matrix)\n",
    "\n",
    "# Find first zero indices for both matrices\n",
    "first_zero_indices_br1_2 = find_first_zero_indices(matrix_br1_2)\n",
    "first_zero_indices_br1_3 = find_first_zero_indices(matrix_br1_3)\n",
    "first_zero_indices_br2_2 = find_first_zero_indices(matrix_br2_2)\n",
    "first_zero_indices_br2_3 = find_first_zero_indices(matrix_br2_3)\n",
    "first_zero_indices_br3_2 = find_first_zero_indices(matrix_br3_2)\n",
    "first_zero_indices_br3_3 = find_first_zero_indices(matrix_br3_3)\n",
    "\n",
    "# Combine the indices from both groups\n",
    "combined_first_zero_indices = np.concatenate([first_zero_indices_br1_2, first_zero_indices_br1_3, first_zero_indices_br2_2, first_zero_indices_br2_3, first_zero_indices_br3_2, first_zero_indices_br3_3])\n",
    "\n",
    "# Filter out the values where fret is always NaN (TODO: CHECK LATER WHICH ONES THEY ARE)\n",
    "filtered_indices = combined_first_zero_indices[combined_first_zero_indices != 0]\n",
    "\n",
    "# Filter out -1 values (rows with no zeros)\n",
    "valid_indices = filtered_indices[filtered_indices != -1]\n",
    "\n",
    "# Plot the histogram\n",
    "plt.figure(figsize=(10, 6))\n",
    "plt.hist(valid_indices, bins=30, color='blue', alpha=0.7, edgecolor='black')\n",
    "plt.title('Histogram of First Zero Indices')\n",
    "plt.xlabel('Index of First Zero')\n",
    "plt.ylabel('Frequency')\n",
    "plt.grid(axis='y', alpha=0.75)\n",
    "plt.show()"
   ]
  },
  {
   "cell_type": "code",
   "execution_count": null,
   "metadata": {},
   "outputs": [
    {
     "ename": "IndexError",
     "evalue": "too many indices for array: array is 1-dimensional, but 2 were indexed",
     "output_type": "error",
     "traceback": [
      "\u001b[0;31m---------------------------------------------------------------------------\u001b[0m",
      "\u001b[0;31mIndexError\u001b[0m                                Traceback (most recent call last)",
      "Cell \u001b[0;32mIn[127], line 1\u001b[0m\n\u001b[0;32m----> 1\u001b[0m combined_first_zero_indices[np\u001b[38;5;241m.\u001b[39many(\u001b[43mcombined_first_zero_indices\u001b[49m\u001b[43m[\u001b[49m\u001b[43m:\u001b[49m\u001b[43m,\u001b[49m\u001b[43m \u001b[49m\u001b[38;5;241;43m0\u001b[39;49m\u001b[43m]\u001b[49m \u001b[38;5;241m!=\u001b[39m \u001b[38;5;241m0\u001b[39m, axis\u001b[38;5;241m=\u001b[39m\u001b[38;5;241m1\u001b[39m)]\u001b[38;5;241m.\u001b[39mshape\n",
      "\u001b[0;31mIndexError\u001b[0m: too many indices for array: array is 1-dimensional, but 2 were indexed"
     ]
    }
   ],
   "source": [
    "combined_first_zero_indices[np.any(combined_first_zero_indices[:, 0] != 0, axis=1)]"
   ]
  },
  {
   "cell_type": "code",
   "execution_count": 126,
   "metadata": {},
   "outputs": [
    {
     "data": {
      "text/plain": [
       "array([ 462,  190,  635,  288,    0,  500,  312,  160,  225,    0,  912,\n",
       "        380,  404,  371,    0,  616,  473,  719,    0,  157,  196,   29,\n",
       "        473,  267,  223,  179,    0,    0,  419,  581,  485,  215,  152,\n",
       "        245,  499,  186,  862,  390,  142,  146,  267,  375,    0,  176,\n",
       "         89,    0,  840,  586,  306,  307,   68,  252,    0,  865,  134,\n",
       "          0,    0,   73,  145,    0,  314,  127,  204,  208,  103,    0,\n",
       "        250,  416,  497,  566,  685,  785,  112,    0,  688,   16,  219,\n",
       "        593,  257,   11,   42,  973,  321,  307,  787,  522,  363,  254,\n",
       "         34,   37,  326,  131,  579,  263,  391,  166,    0,  272,  762,\n",
       "        951,  248,  511,  760,  312,  350,  380,  694,   84,  471,  292,\n",
       "        555,  296,  935,  206,   71,    0,  352,  137,  975,  347,  240,\n",
       "        297,    0,   23,    0,  425,  253,  224,  604,  637,  466,  445,\n",
       "        485,  138,  461,  140,  306,   71,  581,  473,  650,  113,  519,\n",
       "         44,  979,  312,  426,  562,  396,  906, 1001,  128,    4,  426,\n",
       "        655,  327,    0,  641,  190,  102,  127,  155,  477,  476,    0,\n",
       "        521,  594,  340,  454,  311,    0,  412,  265,  175,  113,  184,\n",
       "        180,  118,  303,  221,  882,   80,  248,  288,  288,  153,  626,\n",
       "        455,  882,  515,  625,   60,  844,  248,  122,  725,  433,   25,\n",
       "        767,  672,  148,  259,  237,  486,  208, 1004,   55,  763,  471,\n",
       "        117,  440,  659,    0,    0,  505,    0,  975,  374,  193,  484,\n",
       "          0,  281,  917,    7,  139,  756,  513,  436,  115,  365,   81,\n",
       "        113,    9,  464,   67,  363,  787,  350,  468,  615,  568,  118,\n",
       "        100,  284,  479,  289,  392,   40,  411,  962,  994,    0,  774,\n",
       "        115,  125,  249,  144,  516])"
      ]
     },
     "execution_count": 126,
     "metadata": {},
     "output_type": "execute_result"
    }
   ],
   "source": [
    "combined_first_zero_indices"
   ]
  },
  {
   "cell_type": "code",
   "execution_count": null,
   "metadata": {},
   "outputs": [],
   "source": []
  },
  {
   "cell_type": "code",
   "execution_count": 80,
   "metadata": {},
   "outputs": [
    {
     "data": {
      "text/plain": [
       "array([[1.6460000e+03, 1.8505713e+02, 2.2397194e+02, ..., 1.2351209e+00,\n",
       "        8.3900000e+02, 2.0000000e+00],\n",
       "       [1.6460000e+03, 1.8481119e+02, 2.2382285e+02, ..., 1.2118138e+00,\n",
       "        8.3900000e+02, 2.0000000e+00],\n",
       "       [1.6460000e+03, 1.8491660e+02, 2.2385893e+02, ..., 1.1923810e+00,\n",
       "        8.3900000e+02, 2.0000000e+00],\n",
       "       ...,\n",
       "       [1.6460000e+03, 1.7720670e+02, 2.3622452e+02, ..., 1.5645307e+00,\n",
       "        8.3900000e+02, 2.0000000e+00],\n",
       "       [1.6460000e+03, 1.7727531e+02, 2.3627551e+02, ..., 1.5824816e+00,\n",
       "        8.3900000e+02, 2.0000000e+00],\n",
       "       [1.6460000e+03, 1.7739049e+02, 2.3631149e+02, ..., 1.5859095e+00,\n",
       "        8.3900000e+02, 2.0000000e+00]], dtype=float32)"
      ]
     },
     "execution_count": 80,
     "metadata": {},
     "output_type": "execute_result"
    }
   ],
   "source": [
    "br3_mother_tracks[br3_mother_tracks[:,0,-1] == 2][-21]"
   ]
  },
  {
   "cell_type": "code",
   "execution_count": null,
   "metadata": {},
   "outputs": [
    {
     "data": {
      "text/plain": [
       "(array([ 0,  0,  0, ..., 83, 83, 83]),\n",
       " array([   0,    1,    2, ..., 1064, 1065, 1066]))"
      ]
     },
     "execution_count": 29,
     "metadata": {},
     "output_type": "execute_result"
    }
   ],
   "source": [
    "np.nonzero(br3_mother_tracks[br3_y_train==2][:,:,-1])"
   ]
  },
  {
   "cell_type": "markdown",
   "metadata": {},
   "source": [
    "## Centering cells better"
   ]
  },
  {
   "cell_type": "code",
   "execution_count": 4,
   "metadata": {},
   "outputs": [],
   "source": [
    "import numpy as np\n",
    "\n",
    "x_train = np.load('/Users/inescunha/Documents/GitHub/CellFate/data/stretched_x_train.npy')\n",
    "#y_train = np.load('../data/train_labels.npy')\n",
    "x_test = np.load('/Users/inescunha/Documents/GitHub/CellFate/data/stretched_x_test.npy')\n",
    "#y_test = np.load('../data/test_labels.npy')"
   ]
  },
  {
   "cell_type": "code",
   "execution_count": 5,
   "metadata": {},
   "outputs": [],
   "source": [
    "def center_cells(images):\n",
    "    \"\"\"\n",
    "    Centers each cell in the middle of a 20x20 field-of-view.\n",
    "    \n",
    "    Args:\n",
    "        images: NumPy array of shape (num_cells, 20, 20), where each cell is a binary or intensity image.\n",
    "\n",
    "    Returns:\n",
    "        Centered images of the same shape (num_cells, 20, 20).\n",
    "    \"\"\"\n",
    "    num_cells, height, width = images.shape\n",
    "    centered_images = np.zeros_like(images)\n",
    "\n",
    "    for i in range(num_cells):\n",
    "        img = images[i]\n",
    "\n",
    "        # Find nonzero pixel indices\n",
    "        y_indices, x_indices = np.where(img > 0)\n",
    "        if len(y_indices) == 0 or len(x_indices) == 0:\n",
    "            continue  # Skip empty images\n",
    "        \n",
    "        # Get bounding box\n",
    "        y_min, y_max = y_indices.min(), y_indices.max()\n",
    "        x_min, x_max = x_indices.min(), x_indices.max()\n",
    "        \n",
    "        # Extract the cell\n",
    "        cropped_cell = img[y_min:y_max+1, x_min:x_max+1]\n",
    "\n",
    "        # Compute new position to center the cropped cell\n",
    "        new_y_start = (height - cropped_cell.shape[0]) // 2\n",
    "        new_x_start = (width - cropped_cell.shape[1]) // 2\n",
    "        \n",
    "        # Place cropped cell into the new centered array\n",
    "        centered_images[i, new_y_start:new_y_start+cropped_cell.shape[0], \n",
    "                            new_x_start:new_x_start+cropped_cell.shape[1]] = cropped_cell\n",
    "\n",
    "    return centered_images\n"
   ]
  },
  {
   "cell_type": "code",
   "execution_count": 6,
   "metadata": {},
   "outputs": [],
   "source": [
    "centered_x_train = center_cells(x_train)"
   ]
  },
  {
   "cell_type": "code",
   "execution_count": 16,
   "metadata": {},
   "outputs": [],
   "source": [
    "centered_x_test = center_cells(x_test)"
   ]
  },
  {
   "cell_type": "code",
   "execution_count": 20,
   "metadata": {},
   "outputs": [],
   "source": [
    "np.save(\"/Users/inescunha/Documents/GitHub/CellFate/data/centered_x_train.npy\", centered_x_train)\n",
    "np.save(\"/Users/inescunha/Documents/GitHub/CellFate/data/centered_x_test.npy\", centered_x_test)"
   ]
  },
  {
   "cell_type": "code",
   "execution_count": 7,
   "metadata": {},
   "outputs": [
    {
     "data": {
      "text/plain": [
       "(2184, 20, 20)"
      ]
     },
     "execution_count": 7,
     "metadata": {},
     "output_type": "execute_result"
    }
   ],
   "source": [
    "centered_x_train.shape"
   ]
  },
  {
   "cell_type": "code",
   "execution_count": 19,
   "metadata": {},
   "outputs": [
    {
     "data": {
      "text/plain": [
       "<matplotlib.image.AxesImage at 0x11b4dc1f0>"
      ]
     },
     "execution_count": 19,
     "metadata": {},
     "output_type": "execute_result"
    },
    {
     "data": {
      "image/png": "[encoded data removed]",
      "text/plain": [
       "<Figure size 640x480 with 1 Axes>"
      ]
     },
     "metadata": {},
     "output_type": "display_data"
    }
   ],
   "source": [
    "plt.imshow(centered_x_test[10])"
   ]
  },
  {
   "cell_type": "code",
   "execution_count": null,
   "metadata": {},
   "outputs": [],
   "source": [
    "# to add: balance test set for visualisation"
   ]
  }
 ],
 "metadata": {
  "kernelspec": {
   "display_name": "interpret",
   "language": "python",
   "name": "python3"
  },
  "language_info": {
   "codemirror_mode": {
    "name": "ipython",
    "version": 3
   },
   "file_extension": ".py",
   "mimetype": "text/x-python",
   "name": "python",
   "nbconvert_exporter": "python",
   "pygments_lexer": "ipython3",
   "version": "3.10.14"
  }
 },
 "nbformat": 4,
 "nbformat_minor": 2
}
