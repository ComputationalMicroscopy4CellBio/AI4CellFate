{
 "cells": [
  {
   "cell_type": "code",
   "execution_count": 1,
   "metadata": {},
   "outputs": [],
   "source": [
    "## Dependencies\n",
    "import numpy as np\n",
    "import pandas as pd\n",
    "import matplotlib.pyplot as plt\n",
    "from ipywidgets import interact, IntSlider\n",
    "from sklearn.model_selection import train_test_split\n",
    "import sys\n",
    "import os\n",
    "sys.path.append(os.path.abspath(\"../..\"))\n",
    "from src.preprocessing.preprocessing_functions import *"
   ]
  },
  {
   "cell_type": "markdown",
   "metadata": {},
   "source": [
    "# Loading Data and Reshaping\n",
    "#### Note: everything is repeated for the 3 Bioreplicates (BR1, BR2, BR3)"
   ]
  },
  {
   "cell_type": "code",
   "execution_count": 2,
   "metadata": {},
   "outputs": [
    {
     "name": "stdout",
     "output_type": "stream",
     "text": [
      "Filtered data shape (478, 1080, 19) (478,)\n",
      "Filtered data shape (493, 1080, 19) (493,)\n",
      "Filtered data shape (856, 1080, 19) (856,)\n"
     ]
    }
   ],
   "source": [
    "# Load all track data\n",
    "track_data_br1 = pd.read_csv('/Users/inescunha/Documents/GitHub/explanation/ALM272_BR1_tracks_0606224.csv') \n",
    "track_data_br2 = pd.read_csv('/Users/inescunha/Documents/GitHub/explanation/ALM272_BR2_tracks_0606224.csv') \n",
    "track_data_br3 = pd.read_csv('/Users/inescunha/Documents/GitHub/explanation/ALM272_BR3_tracks_060624.csv') \n",
    "\n",
    "filtered_track_br1, y_train_br1 = process_track_data(track_data_br1)\n",
    "filtered_track_br2, y_train_br2 = process_track_data(track_data_br2)\n",
    "filtered_track_br3, y_train_br3 = process_track_data(track_data_br3)"
   ]
  },
  {
   "cell_type": "code",
   "execution_count": 3,
   "metadata": {},
   "outputs": [
    {
     "name": "stdout",
     "output_type": "stream",
     "text": [
      "[ 1  1  1 ... 20 20 20]\n",
      "bioreplicate: BR1\n",
      "['/Users/inescunha/Documents/GitHub/explanation/BR1_Images/Tiff/ALM272_B03_G001_0001.tif']\n",
      "[21 21 21 ... 39 39 39]\n",
      "bioreplicate: BR1\n",
      "['/Users/inescunha/Documents/GitHub/explanation/BR1_Images/Tiff/ALM272_B03_G002_0001.tif']\n",
      "[40 40 40 ... 59 59 59]\n",
      "bioreplicate: BR1\n",
      "['/Users/inescunha/Documents/GitHub/explanation/BR1_Images/Tiff/ALM272_B03_G003_0001.tif']\n",
      "[ 60  60  60 ... 122 122 122]\n",
      "bioreplicate: BR1\n",
      "['/Users/inescunha/Documents/GitHub/explanation/BR1_Images/Tiff/ALM272_B04_G004_0001.tif']\n",
      "[123 123 123 ... 161 161 161]\n",
      "bioreplicate: BR1\n",
      "['/Users/inescunha/Documents/GitHub/explanation/BR1_Images/Tiff/ALM272_B04_G005_0001.tif']\n",
      "[162 162 162 ... 203 203 203]\n",
      "bioreplicate: BR1\n",
      "['/Users/inescunha/Documents/GitHub/explanation/BR1_Images/Tiff/ALM272_B04_G006_0001.tif']\n",
      "[204 204 204 ... 296 296 296]\n",
      "bioreplicate: BR1\n",
      "['/Users/inescunha/Documents/GitHub/explanation/BR1_Images/Tiff/ALM272_B05_G007_0001.tif']\n",
      "[297 297 297 ... 375 375 375]\n",
      "bioreplicate: BR1\n",
      "['/Users/inescunha/Documents/GitHub/explanation/BR1_Images/Tiff/ALM272_B05_G008_0001.tif']\n",
      "[376 376 376 ... 478 478 478]\n",
      "bioreplicate: BR1\n",
      "['/Users/inescunha/Documents/GitHub/explanation/BR1_Images/Tiff/ALM272_B05_G009_0001.tif']\n",
      "[ 1  1  1 ... 20 20 20]\n",
      "['/Users/inescunha/Documents/GitHub/explanation/BR1_Images/Segmentations_and_FRET/ALM272_BR1_1_seg.tiff']\n",
      "[21 21 21 ... 39 39 39]\n",
      "['/Users/inescunha/Documents/GitHub/explanation/BR1_Images/Segmentations_and_FRET/ALM272_BR1_2_seg.tiff']\n"
     ]
    },
    {
     "ename": "KeyboardInterrupt",
     "evalue": "",
     "output_type": "error",
     "traceback": [
      "\u001b[0;31m---------------------------------------------------------------------------\u001b[0m",
      "\u001b[0;31mKeyboardInterrupt\u001b[0m                         Traceback (most recent call last)",
      "Cell \u001b[0;32mIn[3], line 5\u001b[0m\n\u001b[1;32m      3\u001b[0m \u001b[38;5;66;03m# BR1\u001b[39;00m\n\u001b[1;32m      4\u001b[0m images_br1, y_train_br1_ \u001b[38;5;241m=\u001b[39m process_all_fovs(track_data_br1, sub_size, bioreplicate \u001b[38;5;241m=\u001b[39m \u001b[38;5;124m\"\u001b[39m\u001b[38;5;124mBR1\u001b[39m\u001b[38;5;124m\"\u001b[39m, segmentation\u001b[38;5;241m=\u001b[39m\u001b[38;5;28;01mFalse\u001b[39;00m, FRET\u001b[38;5;241m=\u001b[39m\u001b[38;5;28;01mFalse\u001b[39;00m)\n\u001b[0;32m----> 5\u001b[0m segmentations_br1, y_train_br1_ \u001b[38;5;241m=\u001b[39m \u001b[43mprocess_all_fovs\u001b[49m\u001b[43m(\u001b[49m\u001b[43mtrack_data_br1\u001b[49m\u001b[43m,\u001b[49m\u001b[43m \u001b[49m\u001b[43msub_size\u001b[49m\u001b[43m,\u001b[49m\u001b[43m \u001b[49m\u001b[43mbioreplicate\u001b[49m\u001b[43m \u001b[49m\u001b[38;5;241;43m=\u001b[39;49m\u001b[43m \u001b[49m\u001b[38;5;124;43m\"\u001b[39;49m\u001b[38;5;124;43mBR1\u001b[39;49m\u001b[38;5;124;43m\"\u001b[39;49m\u001b[43m,\u001b[49m\u001b[43m \u001b[49m\u001b[43msegmentation\u001b[49m\u001b[38;5;241;43m=\u001b[39;49m\u001b[38;5;28;43;01mTrue\u001b[39;49;00m\u001b[43m,\u001b[49m\u001b[43m \u001b[49m\u001b[43mFRET\u001b[49m\u001b[38;5;241;43m=\u001b[39;49m\u001b[38;5;28;43;01mFalse\u001b[39;49;00m\u001b[43m)\u001b[49m\n\u001b[1;32m      6\u001b[0m fret_br1, y_train_br1_ \u001b[38;5;241m=\u001b[39m process_all_fovs(track_data_br1, sub_size, bioreplicate \u001b[38;5;241m=\u001b[39m \u001b[38;5;124m\"\u001b[39m\u001b[38;5;124mBR1\u001b[39m\u001b[38;5;124m\"\u001b[39m, segmentation\u001b[38;5;241m=\u001b[39m\u001b[38;5;28;01mTrue\u001b[39;00m, FRET\u001b[38;5;241m=\u001b[39m\u001b[38;5;28;01mTrue\u001b[39;00m)\n\u001b[1;32m      8\u001b[0m \u001b[38;5;66;03m# BR2\u001b[39;00m\n",
      "File \u001b[0;32m~/Documents/GitHub/AI4CellFate/src/preprocessing/preprocessing_functions.py:189\u001b[0m, in \u001b[0;36mprocess_all_fovs\u001b[0;34m(track_data, sub_size, bioreplicate, segmentation, FRET)\u001b[0m\n\u001b[1;32m    187\u001b[0m     fov_images \u001b[38;5;241m=\u001b[39m load_images_for_fov(current_fov_index[i], bioreplicate, segmentation, FRET)\n\u001b[1;32m    188\u001b[0m \u001b[38;5;28;01melse\u001b[39;00m:\n\u001b[0;32m--> 189\u001b[0m     fov_images \u001b[38;5;241m=\u001b[39m \u001b[43mload_images_for_fov\u001b[49m\u001b[43m(\u001b[49m\u001b[43mcurrent_fov_index\u001b[49m\u001b[43m,\u001b[49m\u001b[43m \u001b[49m\u001b[43mbioreplicate\u001b[49m\u001b[43m,\u001b[49m\u001b[43m \u001b[49m\u001b[43msegmentation\u001b[49m\u001b[43m,\u001b[49m\u001b[43m \u001b[49m\u001b[43mFRET\u001b[49m\u001b[43m)\u001b[49m\n\u001b[1;32m    190\u001b[0m sub_images \u001b[38;5;241m=\u001b[39m make_subimage(fov_images, sub_size, x_pos, y_pos, t_pos, cell_ids, segmentation)\n\u001b[1;32m    192\u001b[0m all_sub_images\u001b[38;5;241m.\u001b[39mappend(sub_images)\n",
      "File \u001b[0;32m~/Documents/GitHub/AI4CellFate/src/preprocessing/preprocessing_functions.py:157\u001b[0m, in \u001b[0;36mload_images_for_fov\u001b[0;34m(fov_index, bioreplicate, segmentation, FRET)\u001b[0m\n\u001b[1;32m    155\u001b[0m \u001b[38;5;28mprint\u001b[39m(files)\n\u001b[1;32m    156\u001b[0m \u001b[38;5;28;01mif\u001b[39;00m files:\n\u001b[0;32m--> 157\u001b[0m     \u001b[38;5;28;01mreturn\u001b[39;00m \u001b[43mtiff\u001b[49m\u001b[38;5;241;43m.\u001b[39;49m\u001b[43mimread\u001b[49m\u001b[43m(\u001b[49m\u001b[43mfiles\u001b[49m\u001b[43m[\u001b[49m\u001b[38;5;241;43m0\u001b[39;49m\u001b[43m]\u001b[49m\u001b[43m)\u001b[49m\n\u001b[1;32m    158\u001b[0m \u001b[38;5;28;01melse\u001b[39;00m:\n\u001b[1;32m    159\u001b[0m     \u001b[38;5;28;01mraise\u001b[39;00m \u001b[38;5;167;01mFileNotFoundError\u001b[39;00m(\u001b[38;5;124mf\u001b[39m\u001b[38;5;124m\"\u001b[39m\u001b[38;5;124mNo file found for FOV index \u001b[39m\u001b[38;5;132;01m{\u001b[39;00mfov_index\u001b[38;5;132;01m}\u001b[39;00m\u001b[38;5;124m\"\u001b[39m)\n",
      "File \u001b[0;32m~/anaconda3/envs/interpret/lib/python3.10/site-packages/tifffile/tifffile.py:1281\u001b[0m, in \u001b[0;36mimread\u001b[0;34m(***failed resolving arguments***)\u001b[0m\n\u001b[1;32m   1279\u001b[0m                     \u001b[38;5;28;01mreturn\u001b[39;00m store\n\u001b[1;32m   1280\u001b[0m                 \u001b[38;5;28;01mreturn\u001b[39;00m zarr_selection(store, selection, out\u001b[38;5;241m=\u001b[39mout)\n\u001b[0;32m-> 1281\u001b[0m             \u001b[38;5;28;01mreturn\u001b[39;00m \u001b[43mtif\u001b[49m\u001b[38;5;241;43m.\u001b[39;49m\u001b[43masarray\u001b[49m\u001b[43m(\u001b[49m\n\u001b[1;32m   1282\u001b[0m \u001b[43m                \u001b[49m\u001b[43mkey\u001b[49m\u001b[38;5;241;43m=\u001b[39;49m\u001b[43mkey\u001b[49m\u001b[43m,\u001b[49m\n\u001b[1;32m   1283\u001b[0m \u001b[43m                \u001b[49m\u001b[43mseries\u001b[49m\u001b[38;5;241;43m=\u001b[39;49m\u001b[43mseries\u001b[49m\u001b[43m,\u001b[49m\n\u001b[1;32m   1284\u001b[0m \u001b[43m                \u001b[49m\u001b[43mlevel\u001b[49m\u001b[38;5;241;43m=\u001b[39;49m\u001b[43mlevel\u001b[49m\u001b[43m,\u001b[49m\n\u001b[1;32m   1285\u001b[0m \u001b[43m                \u001b[49m\u001b[43msqueeze\u001b[49m\u001b[38;5;241;43m=\u001b[39;49m\u001b[43msqueeze\u001b[49m\u001b[43m,\u001b[49m\n\u001b[1;32m   1286\u001b[0m \u001b[43m                \u001b[49m\u001b[43mmaxworkers\u001b[49m\u001b[38;5;241;43m=\u001b[39;49m\u001b[43mmaxworkers\u001b[49m\u001b[43m,\u001b[49m\n\u001b[1;32m   1287\u001b[0m \u001b[43m                \u001b[49m\u001b[43mbuffersize\u001b[49m\u001b[38;5;241;43m=\u001b[39;49m\u001b[43mbuffersize\u001b[49m\u001b[43m,\u001b[49m\n\u001b[1;32m   1288\u001b[0m \u001b[43m                \u001b[49m\u001b[43mout\u001b[49m\u001b[38;5;241;43m=\u001b[39;49m\u001b[43mout\u001b[49m\u001b[43m,\u001b[49m\n\u001b[1;32m   1289\u001b[0m \u001b[43m            \u001b[49m\u001b[43m)\u001b[49m\n\u001b[1;32m   1291\u001b[0m \u001b[38;5;28;01melif\u001b[39;00m \u001b[38;5;28misinstance\u001b[39m(files, (FileHandle, IO)):\n\u001b[1;32m   1292\u001b[0m     \u001b[38;5;28;01mraise\u001b[39;00m \u001b[38;5;167;01mValueError\u001b[39;00m(\u001b[38;5;124m'\u001b[39m\u001b[38;5;124mBinaryIO not supported\u001b[39m\u001b[38;5;124m'\u001b[39m)\n",
      "File \u001b[0;32m~/anaconda3/envs/interpret/lib/python3.10/site-packages/tifffile/tifffile.py:4584\u001b[0m, in \u001b[0;36mTiffFile.asarray\u001b[0;34m(self, key, series, level, squeeze, out, maxworkers, buffersize)\u001b[0m\n\u001b[1;32m   4580\u001b[0m     result \u001b[38;5;241m=\u001b[39m page0\u001b[38;5;241m.\u001b[39masarray(\n\u001b[1;32m   4581\u001b[0m         out\u001b[38;5;241m=\u001b[39mout, maxworkers\u001b[38;5;241m=\u001b[39mmaxworkers, buffersize\u001b[38;5;241m=\u001b[39mbuffersize\n\u001b[1;32m   4582\u001b[0m     )\n\u001b[1;32m   4583\u001b[0m \u001b[38;5;28;01melse\u001b[39;00m:\n\u001b[0;32m-> 4584\u001b[0m     result \u001b[38;5;241m=\u001b[39m \u001b[43mstack_pages\u001b[49m\u001b[43m(\u001b[49m\n\u001b[1;32m   4585\u001b[0m \u001b[43m        \u001b[49m\u001b[43mpages\u001b[49m\u001b[43m,\u001b[49m\u001b[43m \u001b[49m\u001b[43mout\u001b[49m\u001b[38;5;241;43m=\u001b[39;49m\u001b[43mout\u001b[49m\u001b[43m,\u001b[49m\u001b[43m \u001b[49m\u001b[43mmaxworkers\u001b[49m\u001b[38;5;241;43m=\u001b[39;49m\u001b[43mmaxworkers\u001b[49m\u001b[43m,\u001b[49m\u001b[43m \u001b[49m\u001b[43mbuffersize\u001b[49m\u001b[38;5;241;43m=\u001b[39;49m\u001b[43mbuffersize\u001b[49m\n\u001b[1;32m   4586\u001b[0m \u001b[43m    \u001b[49m\u001b[43m)\u001b[49m\n\u001b[1;32m   4588\u001b[0m \u001b[38;5;28;01massert\u001b[39;00m result \u001b[38;5;129;01mis\u001b[39;00m \u001b[38;5;129;01mnot\u001b[39;00m \u001b[38;5;28;01mNone\u001b[39;00m\n\u001b[1;32m   4590\u001b[0m \u001b[38;5;28;01mif\u001b[39;00m key \u001b[38;5;129;01mis\u001b[39;00m \u001b[38;5;28;01mNone\u001b[39;00m:\n",
      "File \u001b[0;32m~/anaconda3/envs/interpret/lib/python3.10/site-packages/tifffile/tifffile.py:23352\u001b[0m, in \u001b[0;36mstack_pages\u001b[0;34m(pages, tiled, lock, maxworkers, out, **kwargs)\u001b[0m\n\u001b[1;32m  23350\u001b[0m         page0\u001b[38;5;241m.\u001b[39mdecode  \u001b[38;5;66;03m# init TiffPage.decode function\u001b[39;00m\n\u001b[1;32m  23351\u001b[0m         \u001b[38;5;28;01mwith\u001b[39;00m ThreadPoolExecutor(maxworkers) \u001b[38;5;28;01mas\u001b[39;00m executor:\n\u001b[0;32m> 23352\u001b[0m             \u001b[38;5;28;01mfor\u001b[39;00m _ \u001b[38;5;129;01min\u001b[39;00m executor\u001b[38;5;241m.\u001b[39mmap(func, pages, \u001b[38;5;28mrange\u001b[39m(npages)):\n\u001b[1;32m  23353\u001b[0m                 \u001b[38;5;28;01mpass\u001b[39;00m\n\u001b[1;32m  23355\u001b[0m \u001b[38;5;28;01melse\u001b[39;00m:\n\u001b[1;32m  23356\u001b[0m     \u001b[38;5;66;03m# TODO: not used or tested\u001b[39;00m\n",
      "File \u001b[0;32m~/anaconda3/envs/interpret/lib/python3.10/concurrent/futures/_base.py:621\u001b[0m, in \u001b[0;36mExecutor.map.<locals>.result_iterator\u001b[0;34m()\u001b[0m\n\u001b[1;32m    618\u001b[0m \u001b[38;5;28;01mwhile\u001b[39;00m fs:\n\u001b[1;32m    619\u001b[0m     \u001b[38;5;66;03m# Careful not to keep a reference to the popped future\u001b[39;00m\n\u001b[1;32m    620\u001b[0m     \u001b[38;5;28;01mif\u001b[39;00m timeout \u001b[38;5;129;01mis\u001b[39;00m \u001b[38;5;28;01mNone\u001b[39;00m:\n\u001b[0;32m--> 621\u001b[0m         \u001b[38;5;28;01myield\u001b[39;00m \u001b[43m_result_or_cancel\u001b[49m\u001b[43m(\u001b[49m\u001b[43mfs\u001b[49m\u001b[38;5;241;43m.\u001b[39;49m\u001b[43mpop\u001b[49m\u001b[43m(\u001b[49m\u001b[43m)\u001b[49m\u001b[43m)\u001b[49m\n\u001b[1;32m    622\u001b[0m     \u001b[38;5;28;01melse\u001b[39;00m:\n\u001b[1;32m    623\u001b[0m         \u001b[38;5;28;01myield\u001b[39;00m _result_or_cancel(fs\u001b[38;5;241m.\u001b[39mpop(), end_time \u001b[38;5;241m-\u001b[39m time\u001b[38;5;241m.\u001b[39mmonotonic())\n",
      "File \u001b[0;32m~/anaconda3/envs/interpret/lib/python3.10/concurrent/futures/_base.py:319\u001b[0m, in \u001b[0;36m_result_or_cancel\u001b[0;34m(***failed resolving arguments***)\u001b[0m\n\u001b[1;32m    317\u001b[0m \u001b[38;5;28;01mtry\u001b[39;00m:\n\u001b[1;32m    318\u001b[0m     \u001b[38;5;28;01mtry\u001b[39;00m:\n\u001b[0;32m--> 319\u001b[0m         \u001b[38;5;28;01mreturn\u001b[39;00m \u001b[43mfut\u001b[49m\u001b[38;5;241;43m.\u001b[39;49m\u001b[43mresult\u001b[49m\u001b[43m(\u001b[49m\u001b[43mtimeout\u001b[49m\u001b[43m)\u001b[49m\n\u001b[1;32m    320\u001b[0m     \u001b[38;5;28;01mfinally\u001b[39;00m:\n\u001b[1;32m    321\u001b[0m         fut\u001b[38;5;241m.\u001b[39mcancel()\n",
      "File \u001b[0;32m~/anaconda3/envs/interpret/lib/python3.10/concurrent/futures/_base.py:453\u001b[0m, in \u001b[0;36mFuture.result\u001b[0;34m(self, timeout)\u001b[0m\n\u001b[1;32m    450\u001b[0m \u001b[38;5;28;01melif\u001b[39;00m \u001b[38;5;28mself\u001b[39m\u001b[38;5;241m.\u001b[39m_state \u001b[38;5;241m==\u001b[39m FINISHED:\n\u001b[1;32m    451\u001b[0m     \u001b[38;5;28;01mreturn\u001b[39;00m \u001b[38;5;28mself\u001b[39m\u001b[38;5;241m.\u001b[39m__get_result()\n\u001b[0;32m--> 453\u001b[0m \u001b[38;5;28;43mself\u001b[39;49m\u001b[38;5;241;43m.\u001b[39;49m\u001b[43m_condition\u001b[49m\u001b[38;5;241;43m.\u001b[39;49m\u001b[43mwait\u001b[49m\u001b[43m(\u001b[49m\u001b[43mtimeout\u001b[49m\u001b[43m)\u001b[49m\n\u001b[1;32m    455\u001b[0m \u001b[38;5;28;01mif\u001b[39;00m \u001b[38;5;28mself\u001b[39m\u001b[38;5;241m.\u001b[39m_state \u001b[38;5;129;01min\u001b[39;00m [CANCELLED, CANCELLED_AND_NOTIFIED]:\n\u001b[1;32m    456\u001b[0m     \u001b[38;5;28;01mraise\u001b[39;00m CancelledError()\n",
      "File \u001b[0;32m~/anaconda3/envs/interpret/lib/python3.10/threading.py:320\u001b[0m, in \u001b[0;36mCondition.wait\u001b[0;34m(self, timeout)\u001b[0m\n\u001b[1;32m    318\u001b[0m \u001b[38;5;28;01mtry\u001b[39;00m:    \u001b[38;5;66;03m# restore state no matter what (e.g., KeyboardInterrupt)\u001b[39;00m\n\u001b[1;32m    319\u001b[0m     \u001b[38;5;28;01mif\u001b[39;00m timeout \u001b[38;5;129;01mis\u001b[39;00m \u001b[38;5;28;01mNone\u001b[39;00m:\n\u001b[0;32m--> 320\u001b[0m         \u001b[43mwaiter\u001b[49m\u001b[38;5;241;43m.\u001b[39;49m\u001b[43macquire\u001b[49m\u001b[43m(\u001b[49m\u001b[43m)\u001b[49m\n\u001b[1;32m    321\u001b[0m         gotit \u001b[38;5;241m=\u001b[39m \u001b[38;5;28;01mTrue\u001b[39;00m\n\u001b[1;32m    322\u001b[0m     \u001b[38;5;28;01melse\u001b[39;00m:\n",
      "\u001b[0;31mKeyboardInterrupt\u001b[0m: "
     ]
    }
   ],
   "source": [
    "sub_size = (20, 20)\n",
    "\n",
    "# BR1\n",
    "images_br1, y_train_br1_ = process_all_fovs(track_data_br1, sub_size, bioreplicate = \"BR1\", segmentation=False, FRET=False)\n",
    "segmentations_br1, y_train_br1_ = process_all_fovs(track_data_br1, sub_size, bioreplicate = \"BR1\", segmentation=True, FRET=False)\n",
    "fret_br1, y_train_br1_ = process_all_fovs(track_data_br1, sub_size, bioreplicate = \"BR1\", segmentation=True, FRET=True)\n",
    "\n",
    "# BR2\n",
    "images_br2, y_train_br2_ = process_all_fovs(track_data_br2, sub_size, bioreplicate = \"BR2\", segmentation=False, FRET=False)\n",
    "segmentations_br2, y_train_br2_ = process_all_fovs(track_data_br2, sub_size, bioreplicate = \"BR2\", segmentation=True, FRET=False)\n",
    "fret_br2, y_train_br2_ = process_all_fovs(track_data_br2, sub_size, bioreplicate = \"BR2\", segmentation=True, FRET=True)\n",
    "\n",
    "# BR3\n",
    "images_br3, y_train_br3_ = process_all_fovs(track_data_br3, sub_size, bioreplicate = \"BR3\", segmentation=False, FRET=False)\n",
    "segmentations_br3, y_train_br3_ = process_all_fovs(track_data_br3, sub_size, bioreplicate = \"BR3\", segmentation=True, FRET=False)\n",
    "fret_br3, y_train_br3_ = process_all_fovs(track_data_br3, sub_size, bioreplicate = \"BR3\", segmentation=True, FRET=True)\n",
    "\n",
    "print(\"BR1 Images shape:\", images_br1.shape, \"BR2:\", images_br2.shape, \"BR3:\", images_br3.shape)\n",
    "print(\"BR1 tracks shape:\", filtered_track_br1.shape, \"BR2:\", filtered_track_br2.shape, \"BR3:\", filtered_track_br3.shape)"
   ]
  },
  {
   "cell_type": "code",
   "execution_count": 4,
   "metadata": {},
   "outputs": [],
   "source": [
    "np.save(\"images_br1.npy\", images_br1)\n",
    "np.save(\"segmentations_br1.npy\", segmentations_br1)\n",
    "np.save(\"fret_br1.npy\", fret_br1)\n",
    "np.save(\"images_br2.npy\", images_br2)\n",
    "np.save(\"segmentations_br2.npy\", segmentations_br2)\n",
    "np.save(\"fret_br2.npy\", fret_br2)\n",
    "np.save(\"images_br3.npy\", images_br3)\n",
    "np.save(\"segmentations_br3.npy\", segmentations_br3)\n",
    "np.save(\"fret_br3.npy\", fret_br3)\n",
    "np.save(\"y_train_br1.npy\", y_train_br1)\n",
    "np.save(\"y_train_br2.npy\", y_train_br2)\n",
    "np.save(\"y_train_br3.npy\", y_train_br3)"
   ]
  },
  {
   "cell_type": "markdown",
   "metadata": {},
   "source": [
    "# PreProcessing\n",
    "#### From this point on, cells on the raw images, segmentation, fret and tracks will be processed equally (Outlier remover)."
   ]
  },
  {
   "cell_type": "code",
   "execution_count": 3,
   "metadata": {},
   "outputs": [],
   "source": [
    "images_br1 = np.load(\"images_br1.npy\")\n",
    "segmentations_br1 = np.load(\"segmentations_br1.npy\")\n",
    "fret_br1 = np.load(\"fret_br1.npy\")\n",
    "images_br2 = np.load(\"images_br2.npy\")\n",
    "segmentations_br2 = np.load(\"segmentations_br2.npy\")\n",
    "fret_br2 = np.load(\"fret_br2.npy\")\n",
    "images_br3 = np.load(\"images_br3.npy\")\n",
    "segmentations_br3 = np.load(\"segmentations_br3.npy\")\n",
    "fret_br3 = np.load(\"fret_br3.npy\")\n",
    "y_train_br1_ = np.load(\"y_train_br1.npy\")\n",
    "y_train_br2_ = np.load(\"y_train_br2.npy\")\n",
    "y_train_br3_ = np.load(\"y_train_br3.npy\")\n"
   ]
  },
  {
   "cell_type": "markdown",
   "metadata": {},
   "source": [
    "## 1. Removing cells from edges of FOV"
   ]
  },
  {
   "cell_type": "code",
   "execution_count": null,
   "metadata": {},
   "outputs": [
    {
     "name": "stdout",
     "output_type": "stream",
     "text": [
      "New dataset shape: (452, 1080, 3, 20, 20) Segmentations shape: (452, 1080, 20, 20) tracks: (452, 1080, 19) y train: (452,)\n"
     ]
    }
   ],
   "source": [
    "#### Removing cells in edges of the FOV ####\n",
    "\n",
    "indexes_to_remove_br1 = edge_indexes(images_br1)\n",
    "\n",
    "images_br1_no_edges = np.delete(images_br1, indexes_to_remove_br1, axis=0)\n",
    "y_train_br1_no_edges = np.delete(y_train_br1_, indexes_to_remove_br1)\n",
    "segmentations_br1_no_edges = np.delete(segmentations_br1, indexes_to_remove_br1, axis=0)\n",
    "filtered_track_br1_no_edges = np.delete(filtered_track_br1, indexes_to_remove_br1, axis=0)\n",
    "\n",
    "print(\"New dataset shape:\", images_br1_no_edges.shape, \"Segmentations shape:\", segmentations_br1_no_edges.shape, \"tracks:\", filtered_track_br1_no_edges.shape, \"y train:\", y_train_br1_no_edges.shape)\n"
   ]
  },
  {
   "cell_type": "code",
   "execution_count": null,
   "metadata": {},
   "outputs": [
    {
     "name": "stdout",
     "output_type": "stream",
     "text": [
      "New dataset shape: (473, 1080, 3, 20, 20) Segmentations shape: (473, 1080, 20, 20) tracks: (473, 1080, 19) y train: (473,)\n"
     ]
    }
   ],
   "source": [
    "\n",
    "indexes_to_remove_br2 = edge_indexes(images_br2)\n",
    "\n",
    "images_br2_no_edges = np.delete(images_br2, indexes_to_remove_br2, axis=0)\n",
    "y_train_br2_no_edges = np.delete(y_train_br2_, indexes_to_remove_br2)\n",
    "segmentations_br2_no_edges = np.delete(segmentations_br2, indexes_to_remove_br2, axis=0)\n",
    "filtered_track_br2_no_edges = np.delete(filtered_track_br2, indexes_to_remove_br2, axis=0)\n",
    "\n",
    "print(\"New dataset shape:\", images_br2_no_edges.shape, \"Segmentations shape:\", segmentations_br2_no_edges.shape, \"tracks:\", filtered_track_br2_no_edges.shape, \"y train:\", y_train_br2_no_edges.shape)\n"
   ]
  },
  {
   "cell_type": "code",
   "execution_count": null,
   "metadata": {},
   "outputs": [
    {
     "name": "stdout",
     "output_type": "stream",
     "text": [
      "New dataset shape: (804, 1080, 4, 20, 20) Segmentations shape: (804, 1080, 20, 20) tracks: (804, 1080, 19) y train: (804,)\n"
     ]
    }
   ],
   "source": [
    "indexes_to_remove_br3 = edge_indexes(images_br3)\n",
    "\n",
    "images_br3_no_edges = np.delete(images_br3, indexes_to_remove_br3, axis=0)\n",
    "y_train_br3_no_edges = np.delete(y_train_br3_, indexes_to_remove_br3)\n",
    "segmentations_br3_no_edges = np.delete(segmentations_br3, indexes_to_remove_br3, axis=0)\n",
    "filtered_track_br3_no_edges = np.delete(filtered_track_br3, indexes_to_remove_br3, axis=0)\n",
    "\n",
    "print(\"New dataset shape:\", images_br3_no_edges.shape, \"Segmentations shape:\", segmentations_br3_no_edges.shape, \"tracks:\", filtered_track_br3_no_edges.shape, \"y train:\", y_train_br3_no_edges.shape)"
   ]
  },
  {
   "cell_type": "code",
   "execution_count": null,
   "metadata": {},
   "outputs": [],
   "source": [
    "np.save(\"images_br1_no_edges.npy\", images_br1_no_edges)\n",
    "np.save(\"segmentations_br1_no_edges.npy\", segmentations_br1_no_edges)\n",
    "np.save(\"y_train_br1_no_edges.npy\", y_train_br1_no_edges)\n",
    "np.save(\"filtered_track_br1_no_edges.npy\", filtered_track_br1_no_edges)\n",
    "np.save(\"images_br2_no_edges.npy\", images_br2_no_edges)\n",
    "np.save(\"segmentations_br2_no_edges.npy\", segmentations_br2_no_edges)\n",
    "np.save(\"y_train_br2_no_edges.npy\", y_train_br2_no_edges)\n",
    "np.save(\"filtered_track_br2_no_edges.npy\", filtered_track_br2_no_edges)\n",
    "np.save(\"images_br3_no_edges.npy\", images_br3_no_edges)"
   ]
  },
  {
   "cell_type": "code",
   "execution_count": 8,
   "metadata": {},
   "outputs": [],
   "source": [
    "np.save(\"segmentations_br3_no_edges.npy\", segmentations_br3_no_edges)\n",
    "np.save(\"y_train_br3_no_edges.npy\", y_train_br3_no_edges)\n",
    "np.save(\"filtered_track_br3_no_edges.npy\", filtered_track_br3_no_edges)\n"
   ]
  },
  {
   "cell_type": "markdown",
   "metadata": {},
   "source": [
    "## 2. Overimpose images with segmentations to remove background noise"
   ]
  },
  {
   "cell_type": "code",
   "execution_count": 7,
   "metadata": {},
   "outputs": [],
   "source": [
    "overimposed_br1 = overimpose(images_br1_no_edges, segmentations_br1_no_edges)"
   ]
  },
  {
   "cell_type": "code",
   "execution_count": 8,
   "metadata": {},
   "outputs": [],
   "source": [
    "overimposed_br2 = overimpose(images_br2_no_edges, segmentations_br2_no_edges)"
   ]
  },
  {
   "cell_type": "code",
   "execution_count": 9,
   "metadata": {},
   "outputs": [],
   "source": [
    "overimposed_br3 = overimpose(images_br3_no_edges, segmentations_br3_no_edges)"
   ]
  },
  {
   "cell_type": "markdown",
   "metadata": {},
   "source": [
    "## 3. Removal of daughter cells (data points without tpos 1, 2 or 3)"
   ]
  },
  {
   "cell_type": "code",
   "execution_count": null,
   "metadata": {},
   "outputs": [
    {
     "name": "stdout",
     "output_type": "stream",
     "text": [
      "Indices of cells without time points 1, 2, and 3 in `tpos`: [10, 15, 18, 36, 78, 81, 85, 96, 99, 105, 110, 111, 139, 148, 152, 153, 156, 157, 170, 179, 182, 185, 186, 187, 190, 191, 195, 198, 203, 220, 222, 228, 232, 241, 245, 247, 270, 285, 292, 302, 304, 306, 326, 329, 359, 371, 378, 391, 398, 406, 409, 412, 418, 436, 443, 445, 446]\n"
     ]
    }
   ],
   "source": [
    "##### Removing daughter cells ####\n",
    "# We can remove the daughter cells by removing the data points that do not have the time points 1,2 or 3 (which means they started their \"lifetimes\" somewhere in the middle of the time series, meaning they could only be daughter cells)\n",
    "\n",
    "indexes_daughter_br1 = daughter_indexes(filtered_track_br1_no_edges)\n",
    "print(\"Indices of cells without time points 1, 2, and 3 in `tpos`:\", indexes_daughter_br1)\n",
    "br1_mother_tracks = np.delete(filtered_track_br1_no_edges, indexes_daughter_br1, axis=0)\n",
    "br1_mother_images = np.delete(overimposed_br1, indexes_daughter_br1, axis=0)\n",
    "br1_y_train = np.delete(y_train_br1_no_edges, indexes_daughter_br1, axis=0)\n"
   ]
  },
  {
   "cell_type": "code",
   "execution_count": null,
   "metadata": {},
   "outputs": [
    {
     "name": "stdout",
     "output_type": "stream",
     "text": [
      "Indices of cells without time points 1, 2, and 3 in `tpos`: [3, 5, 11, 28, 30, 33, 36, 46, 65, 72, 74, 76, 80, 82, 83, 88, 89, 92, 94, 105, 108, 109, 110, 119, 135, 140, 152, 156, 162, 182, 189, 194, 209, 232, 233, 263, 265, 273, 274, 275, 281, 283, 299, 304, 305, 307, 318, 325, 329, 333, 342, 369, 374, 395, 397, 402, 427, 429, 432, 439, 443, 458, 465]\n"
     ]
    }
   ],
   "source": [
    "indexes_daughter_br2 = daughter_indexes(filtered_track_br2_no_edges)\n",
    "print(\"Indices of cells without time points 1, 2, and 3 in `tpos`:\", indexes_daughter_br2)\n",
    "br2_mother_tracks = np.delete(filtered_track_br2_no_edges, indexes_daughter_br2, axis=0)\n",
    "br2_mother_images = np.delete(overimposed_br2, indexes_daughter_br2, axis=0)\n",
    "br2_y_train = np.delete(y_train_br2_no_edges, indexes_daughter_br2, axis=0)"
   ]
  },
  {
   "cell_type": "code",
   "execution_count": null,
   "metadata": {},
   "outputs": [
    {
     "name": "stdout",
     "output_type": "stream",
     "text": [
      "Indices of cells without time points 1, 2, and 3 in `tpos`: [40, 63, 71, 77, 107, 116, 118, 155, 158, 162, 172, 174, 178, 180, 183, 188, 191, 195, 199, 204, 206, 212, 214, 225, 237, 239, 243, 246, 256, 262, 266, 277, 279, 287, 290, 307, 308, 309, 336, 346, 361, 368, 387, 389, 403, 409, 425, 426, 438, 456, 460, 463, 479, 498, 500, 513, 527, 536, 553, 554, 557, 571, 574, 580, 631, 637, 641, 667, 680, 695, 697, 701, 707, 712, 713, 718, 725, 737, 747, 750, 752, 773, 779, 782, 791, 794, 799]\n",
      "(395, 1080, 2, 20, 20) (410, 1080, 2, 20, 20) (717, 1080, 2, 20, 20)\n"
     ]
    }
   ],
   "source": [
    "indexes_daughter_br3 = daughter_indexes(filtered_track_br3_no_edges)\n",
    "print(\"Indices of cells without time points 1, 2, and 3 in `tpos`:\", indexes_daughter_br3)\n",
    "br3_mother_tracks = np.delete(filtered_track_br3_no_edges, indexes_daughter_br3, axis=0)\n",
    "br3_mother_images = np.delete(overimposed_br3, indexes_daughter_br3, axis=0)\n",
    "br3_y_train = np.delete(y_train_br3_no_edges, indexes_daughter_br3, axis=0)\n",
    "\n",
    "print(br1_mother_images.shape, br2_mother_images.shape, br3_mother_images.shape)"
   ]
  },
  {
   "cell_type": "code",
   "execution_count": 12,
   "metadata": {},
   "outputs": [],
   "source": [
    "### save from here!!! ###\n",
    "# np.save(\"/Users/inescunha/Documents/GitHub/CellFate/data/images/br1_mother_images.npy\", br1_mother_images)\n",
    "# np.save(\"/Users/inescunha/Documents/GitHub/CellFate/data/images/br2_mother_images.npy\", br2_mother_images)\n",
    "# np.save(\"/Users/inescunha/Documents/GitHub/CellFate/data/images/br3_mother_images.npy\", br3_mother_images)\n",
    "# np.save(\"/Users/inescunha/Documents/GitHub/CellFate/data/tracks/br1_mother_tracks.npy\", br1_mother_tracks)\n",
    "# np.save(\"/Users/inescunha/Documents/GitHub/CellFate/data/tracks/br2_mother_tracks.npy\", br2_mother_tracks)\n",
    "# np.save(\"/Users/inescunha/Documents/GitHub/CellFate/data/tracks/br3_mother_tracks.npy\", br3_mother_tracks)\n",
    "# np.save(\"/Users/inescunha/Documents/GitHub/CellFate/data/labels/br1_y_train.npy\", br1_y_train)\n",
    "# np.save(\"/Users/inescunha/Documents/GitHub/CellFate/data/labels/br2_y_train.npy\", br2_y_train)\n",
    "# np.save(\"/Users/inescunha/Documents/GitHub/CellFate/data/labels/br3_y_train.npy\", br3_y_train)"
   ]
  },
  {
   "cell_type": "markdown",
   "metadata": {},
   "source": [
    "## 4. Remove daughter trace from the same track as mother \n",
    "\n",
    "(This is done in the cases where trackmate associated the same ID to the mother and correspondent daughter, we still need to remove the daughter from the mother track)"
   ]
  },
  {
   "cell_type": "code",
   "execution_count": 5,
   "metadata": {},
   "outputs": [],
   "source": [
    "br1_mother_images = np.load(\"/Users/inescunha/Documents/GitHub/CellFate/data/images/br1_mother_images.npy\")\n",
    "br2_mother_images = np.load(\"/Users/inescunha/Documents/GitHub/CellFate/data/images/br2_mother_images.npy\")\n",
    "br3_mother_images = np.load(\"/Users/inescunha/Documents/GitHub/CellFate/data/images/br3_mother_images.npy\")\n",
    "br1_mother_tracks = np.load(\"/Users/inescunha/Documents/GitHub/CellFate/data/tracks/br1_mother_tracks.npy\")\n",
    "br2_mother_tracks = np.load(\"/Users/inescunha/Documents/GitHub/CellFate/data/tracks/br2_mother_tracks.npy\")\n",
    "br3_mother_tracks = np.load(\"/Users/inescunha/Documents/GitHub/CellFate/data/tracks/br3_mother_tracks.npy\")\n",
    "br1_y_train = np.load(\"/Users/inescunha/Documents/GitHub/CellFate/data/labels/br1_y_train.npy\")\n",
    "br2_y_train = np.load(\"/Users/inescunha/Documents/GitHub/CellFate/data/labels/br2_y_train.npy\")\n",
    "br3_y_train = np.load(\"/Users/inescunha/Documents/GitHub/CellFate/data/labels/br3_y_train.npy\")"
   ]
  },
  {
   "cell_type": "code",
   "execution_count": 6,
   "metadata": {},
   "outputs": [],
   "source": [
    "processed_br1_mother_tracks, processed_br1_images = daughter_trace_removal(br1_mother_tracks, br1_mother_images)\n",
    "processed_br2_mother_tracks, processed_br2_images = daughter_trace_removal(br2_mother_tracks, br2_mother_images)\n",
    "processed_br3_mother_tracks, processed_br3_images = daughter_trace_removal(br3_mother_tracks, br3_mother_images)"
   ]
  },
  {
   "cell_type": "markdown",
   "metadata": {},
   "source": [
    "## 5. Concatenate all bioreplicates\n",
    "We also split y_train into 2 fates: non-mitosis and mitosis"
   ]
  },
  {
   "cell_type": "code",
   "execution_count": 7,
   "metadata": {},
   "outputs": [],
   "source": [
    "images = np.concatenate((processed_br1_images, processed_br2_images, processed_br3_images), axis=0)\n",
    "tracks = np.concatenate((processed_br1_mother_tracks, processed_br2_mother_tracks, processed_br3_mother_tracks), axis=0)\n",
    "y_train_final = np.concatenate((br1_y_train, br2_y_train, br3_y_train), axis=0)"
   ]
  },
  {
   "cell_type": "code",
   "execution_count": 8,
   "metadata": {},
   "outputs": [
    {
     "name": "stdout",
     "output_type": "stream",
     "text": [
      "Number of cells: 1522\n"
     ]
    }
   ],
   "source": [
    "assert images.shape[0] == tracks.shape[0] == y_train_final.shape[0]\n",
    "print(\"Number of cells:\", images.shape[0])"
   ]
  },
  {
   "cell_type": "code",
   "execution_count": 9,
   "metadata": {},
   "outputs": [
    {
     "name": "stdout",
     "output_type": "stream",
     "text": [
      "y_train from first generation only (1522,) Nb of fates originally: [0 1 2 3]\n",
      "[0 1]\n",
      "Number of fate 0: 1264\n",
      "Number of fate 1: 258\n",
      "Number of fate 2: 0\n"
     ]
    }
   ],
   "source": [
    "# Split y_train into the 2 fates (non mitosis and mitosis)\n",
    "\n",
    "print(\"y_train from first generation only\", y_train_final.shape, \"Nb of fates originally:\", np.unique(y_train_final))\n",
    "\n",
    "y_train = np.zeros_like(y_train_final)\n",
    "\n",
    "# Combine fates 0 and 1 into fate 0\n",
    "y_train[np.isin(y_train_final, [0, 1])] = 0\n",
    "\n",
    "# Combine fates 2 and 3 into fate 1\n",
    "y_train[np.isin(y_train_final, [2, 3])] = 1\n",
    "\n",
    "print(np.unique(y_train))\n",
    "# Check total nb of fates\n",
    "num_fate_0= np.sum(y_train == 0)\n",
    "num_fate_1= np.sum(y_train == 1)\n",
    "num_fate_2= np.sum(y_train == 2)\n",
    "\n",
    "print(f\"Number of fate 0: {num_fate_0}\")\n",
    "print(f\"Number of fate 1: {num_fate_1}\")\n",
    "print(f\"Number of fate 2: {num_fate_2}\")"
   ]
  },
  {
   "cell_type": "markdown",
   "metadata": {},
   "source": [
    "## 6. Manual removal of \"problematic, clutered\" cells \n",
    "This means removing cells with more than one neighbouring cell (\"touching each other\" in the same FOV)"
   ]
  },
  {
   "cell_type": "code",
   "execution_count": 10,
   "metadata": {},
   "outputs": [],
   "source": [
    "cell_indexes_to_remove = [\n",
    "    64, 131, 193, 194, 271, 274, 279, 299, 395, 400, 499, 521, 541, 603, 629, \n",
    "    683, 685, 692, 733, 740, 769, 804, 810, 1034, 1039, 1061, 1186, 1203, 1206, \n",
    "    1319, 1335, 1340, 1389, 1395, 1419, 1519\n",
    "]\n",
    "problematic_fov = [index for index in range(931, 1032)] # FOV WITH PROBLEMATIC INDEXES\n",
    "cell_indexes_to_remove.extend(problematic_fov)\n",
    "\n",
    "cell_indexes_to_remove = sorted(set(cell_indexes_to_remove))"
   ]
  },
  {
   "cell_type": "code",
   "execution_count": 11,
   "metadata": {},
   "outputs": [],
   "source": [
    "filtered_images = np.delete(images, cell_indexes_to_remove, axis=0)\n",
    "filtered_tracks = np.delete(tracks, cell_indexes_to_remove, axis=0)\n",
    "filtered_y_train = np.delete(y_train, cell_indexes_to_remove, axis=0)\n",
    "filtered_y_train_all_fates = np.delete(y_train_final, cell_indexes_to_remove, axis=0)\n",
    "\n",
    "assert filtered_images.shape[0] == filtered_tracks.shape[0] == filtered_y_train.shape[0] == filtered_y_train_all_fates.shape[0]"
   ]
  },
  {
   "cell_type": "markdown",
   "metadata": {},
   "source": [
    "## 7. Remove extra debris from cells\n",
    "This is because sometimes smaller cells appear at the edge of the FOV, so we want to remove those from the FOV of each cell. (Keeping only the cell we want to process)"
   ]
  },
  {
   "cell_type": "code",
   "execution_count": 12,
   "metadata": {},
   "outputs": [],
   "source": [
    "cleaned_images = clean_all_cells(filtered_images)"
   ]
  },
  {
   "cell_type": "markdown",
   "metadata": {},
   "source": [
    "## 8. Get FRET ratio \n",
    "Divide the 2 fluorescence channels (here we divided CFP by YFP, so our images are 1/FRET)"
   ]
  },
  {
   "cell_type": "code",
   "execution_count": null,
   "metadata": {},
   "outputs": [],
   "source": [
    "fret_images = cleaned_images[:,:,0,:,:] / cleaned_images[:,:,1,:,:] \n",
    "fret_images = np.nan_to_num(fret_images, nan=0.0)"
   ]
  },
  {
   "cell_type": "code",
   "execution_count": null,
   "metadata": {},
   "outputs": [],
   "source": [
    "problematic_cells = find_problematic_cells_and_times(fret_images)\n",
    "print(\"Problematic cells:\", problematic_cells)"
   ]
  },
  {
   "cell_type": "markdown",
   "metadata": {},
   "source": [
    "### 8.1 Removal of 1 problematic cell\n",
    "It appears that 1 pixel value in a few cell images have a very high value in one channel in comparison to the other for some reason (experimentally-speaking) so when we calculate the fret ratio in the next step, the value is massive, which later on when I'm normalising my entire dataset, this one is set as maximum which is causing major issues down the line"
   ]
  },
  {
   "cell_type": "code",
   "execution_count": 20,
   "metadata": {},
   "outputs": [
    {
     "data": {
      "text/plain": [
       "<matplotlib.colorbar.Colorbar at 0x137b67730>"
      ]
     },
     "execution_count": 20,
     "metadata": {},
     "output_type": "execute_result"
    },
    {
     "data": {
      "image/png": "[encoded data removed]",
      "text/plain": [
       "<Figure size 640x480 with 2 Axes>"
      ]
     },
     "metadata": {},
     "output_type": "display_data"
    }
   ],
   "source": [
    "plt.imshow(cleaned_images[1336, 206, 1])\n",
    "plt.colorbar()"
   ]
  },
  {
   "cell_type": "code",
   "execution_count": 22,
   "metadata": {},
   "outputs": [],
   "source": [
    "# the cell index and time index are found in the next step (where the channels are divided)\n",
    "new_cleaned_images = remove_and_replace(cleaned_images, cell_index=1336, time_index=206)\n",
    "new_cleaned_images = remove_and_replace(new_cleaned_images, cell_index=82, time_index=786)\n",
    "new_cleaned_images = remove_and_replace(new_cleaned_images, cell_index=517, time_index=255)\n",
    "new_cleaned_images = remove_and_replace(new_cleaned_images, cell_index=619, time_index=22)\n",
    "new_cleaned_images = remove_and_replace(new_cleaned_images, cell_index=1184, time_index=167)"
   ]
  },
  {
   "cell_type": "code",
   "execution_count": 24,
   "metadata": {},
   "outputs": [
    {
     "data": {
      "text/plain": [
       "((1385, 1080, 19), (1385,), (1385, 1080, 2, 20, 20))"
      ]
     },
     "execution_count": 24,
     "metadata": {},
     "output_type": "execute_result"
    }
   ],
   "source": [
    "filtered_tracks.shape, filtered_y_train.shape, new_cleaned_images.shape"
   ]
  },
  {
   "cell_type": "code",
   "execution_count": null,
   "metadata": {},
   "outputs": [],
   "source": [
    "# np.save(\"/Users/inescunha/Documents/GitHub/CellFate/data/images/cleaned_images.npy\", new_cleaned_images)\n",
    "# np.save(\"/Users/inescunha/Documents/GitHub/CellFate/data/tracks/filtered_tracks.npy\", filtered_tracks)\n",
    "# np.save(\"/Users/inescunha/Documents/GitHub/CellFate/data/labels/filtered_y_train.npy\", filtered_y_train)\n",
    "# np.save(\"/Users/inescunha/Documents/GitHub/CellFate/data/labels/filtered_y_train_all_fates.npy\", filtered_y_train_all_fates)"
   ]
  },
  {
   "cell_type": "markdown",
   "metadata": {},
   "source": [
    "### 8.2 Get FRET ratio \n",
    "Divide the 2 fluorescence channels (here we divided CFP by YFP, so our images are 1/FRET), with the new filtered images"
   ]
  },
  {
   "cell_type": "code",
   "execution_count": 3,
   "metadata": {},
   "outputs": [
    {
     "name": "stdout",
     "output_type": "stream",
     "text": [
      "Images shape:  (1385, 1080, 2, 20, 20) Tracks shape:  (1385, 1080, 19) Labels shape:  (1385,)\n"
     ]
    }
   ],
   "source": [
    "new_cleaned_images = np.load(\"/Users/inescunha/Documents/GitHub/CellFate/data/images/cleaned_images.npy\")\n",
    "tracks = np.load(\"/Users/inescunha/Documents/GitHub/CellFate/data/tracks/filtered_tracks.npy\")\n",
    "labels = np.load(\"/Users/inescunha/Documents/GitHub/CellFate/data/labels/filtered_y_train.npy\")\n",
    "labels_all = np.load(\"/Users/inescunha/Documents/GitHub/CellFate/data/labels/filtered_y_train_all_fates.npy\")\n",
    "\n",
    "print(\"Images shape: \", new_cleaned_images.shape, \"Tracks shape: \", tracks.shape, \"Labels shape: \", labels.shape)"
   ]
  },
  {
   "cell_type": "code",
   "execution_count": 4,
   "metadata": {},
   "outputs": [
    {
     "name": "stderr",
     "output_type": "stream",
     "text": [
      "/var/folders/ds/_m8m03r135b5r67hc6xgtxt00000gn/T/ipykernel_95813/289962262.py:1: RuntimeWarning: invalid value encountered in divide\n",
      "  fret_images = new_cleaned_images[:,:,0,:,:] / new_cleaned_images[:,:,1,:,:]\n"
     ]
    }
   ],
   "source": [
    "fret_images = new_cleaned_images[:,:,0,:,:] / new_cleaned_images[:,:,1,:,:] \n",
    "fret_images = np.nan_to_num(fret_images, nan=0.0)"
   ]
  },
  {
   "cell_type": "markdown",
   "metadata": {},
   "source": [
    "## 9. Normalise images"
   ]
  },
  {
   "cell_type": "code",
   "execution_count": 5,
   "metadata": {},
   "outputs": [],
   "source": [
    "norm_images = normalize_images_per_frame(fret_images)"
   ]
  },
  {
   "cell_type": "markdown",
   "metadata": {},
   "source": [
    "## 10. Center all cells to the middle of FOV"
   ]
  },
  {
   "cell_type": "code",
   "execution_count": 6,
   "metadata": {},
   "outputs": [],
   "source": [
    "centered_images = center_cells(norm_images)"
   ]
  },
  {
   "cell_type": "markdown",
   "metadata": {},
   "source": [
    "# Preparing for Model Training\n",
    "### Train-test split, data augmentation, etc"
   ]
  },
  {
   "cell_type": "markdown",
   "metadata": {},
   "source": [
    "## 1. Train-test split"
   ]
  },
  {
   "cell_type": "code",
   "execution_count": 7,
   "metadata": {},
   "outputs": [],
   "source": [
    "train_indexes, test_indexes = train_test_split(\n",
    "        np.arange(len(labels)),\n",
    "        test_size=0.2,\n",
    "        stratify=labels,\n",
    "        random_state=42\n",
    "    )\n",
    "    \n",
    "train_images = centered_images[train_indexes]\n",
    "test_images = centered_images[test_indexes]\n",
    "\n",
    "train_tracks = tracks[train_indexes]\n",
    "test_tracks = tracks[test_indexes]\n",
    "\n",
    "train_labels = labels[train_indexes]\n",
    "test_labels = labels[test_indexes]\n",
    "\n",
    "train_labels_all = labels_all[train_indexes]\n",
    "test_labels_all = labels_all[test_indexes]\n"
   ]
  },
  {
   "cell_type": "code",
   "execution_count": null,
   "metadata": {},
   "outputs": [],
   "source": [
    "# np.save(\"/Users/inescunha/Documents/GitHub/AI4CellFate/data/images/train_images.npy\", train_images)\n",
    "# np.save(\"/Users/inescunha/Documents/GitHub/AI4CellFate/data/images/test_images.npy\", test_images)\n",
    "# np.save(\"/Users/inescunha/Documents/GitHub/AI4CellFate/data/labels/train_labels.npy\", train_labels)\n",
    "# np.save(\"/Users/inescunha/Documents/GitHub/AI4CellFate/data/labels/test_labels.npy\", test_labels)\n",
    "# np.save(\"/Users/inescunha/Documents/GitHub/AI4CellFate/data/tracks/train_tracks.npy\", train_tracks)\n",
    "# np.save(\"/Users/inescunha/Documents/GitHub/AI4CellFate/data/tracks/test_tracks.npy\", test_tracks)"
   ]
  },
  {
   "cell_type": "code",
   "execution_count": 8,
   "metadata": {},
   "outputs": [
    {
     "data": {
      "text/plain": [
       "(277, 1080, 20, 20)"
      ]
     },
     "execution_count": 8,
     "metadata": {},
     "output_type": "execute_result"
    }
   ],
   "source": [
    "test_images.shape"
   ]
  },
  {
   "cell_type": "markdown",
   "metadata": {},
   "source": [
    "## Stretch intensities (comes before augmentation)"
   ]
  },
  {
   "cell_type": "code",
   "execution_count": 9,
   "metadata": {},
   "outputs": [],
   "source": [
    "train_images = np.load(\"/Users/inescunha/Documents/GitHub/CellFate/data/images/train_images.npy\")\n",
    "test_images = np.load(\"/Users/inescunha/Documents/GitHub/CellFate/data/images/test_images.npy\")\n",
    "train_labels = np.load(\"/Users/inescunha/Documents/GitHub/CellFate/data/labels/train_labels.npy\")\n",
    "test_labels = np.load(\"/Users/inescunha/Documents/GitHub/CellFate/data/labels/test_labels.npy\")\n",
    "train_tracks = np.load(\"/Users/inescunha/Documents/GitHub/CellFate/data/tracks/train_tracks.npy\")\n",
    "test_tracks = np.load(\"/Users/inescunha/Documents/GitHub/CellFate/data/tracks/test_tracks.npy\")"
   ]
  },
  {
   "cell_type": "code",
   "execution_count": 14,
   "metadata": {},
   "outputs": [],
   "source": [
    "stretched_x_train, stretched_x_test = stretch_intensities_global(train_images, test_images)"
   ]
  },
  {
   "cell_type": "markdown",
   "metadata": {},
   "source": [
    "## Time norm (before augmentation)"
   ]
  },
  {
   "cell_type": "code",
   "execution_count": 16,
   "metadata": {},
   "outputs": [],
   "source": [
    "time_norm_train_track = normalize_cell_time(train_tracks)\n",
    "time_norm_test_track = normalize_cell_time(test_tracks)\n",
    "\n",
    "time_norm_train_images = normalize_cell_time_images(stretched_x_train)\n",
    "time_norm_test_images = normalize_cell_time_images(stretched_x_test)"
   ]
  },
  {
   "cell_type": "code",
   "execution_count": 18,
   "metadata": {},
   "outputs": [],
   "source": [
    "np.save(\"/Users/inescunha/Documents/GitHub/AI4CellFate/data/images/train_no_aug_time_norm.npy\", time_norm_train_images)\n",
    "np.save(\"/Users/inescunha/Documents/GitHub/AI4CellFate/data/images/test_time_norm.npy\", time_norm_test_images)\n",
    "# np.save(\"/Users/inescunha/Documents/GitHub/AI4CellFate/data/tracks/time_norm_train_tracks.npy\", time_norm_train_track)\n",
    "# np.save(\"/Users/inescunha/Documents/GitHub/AI4CellFate/data/tracks/time_norm_test_tracks.npy\", time_norm_test_track)"
   ]
  },
  {
   "cell_type": "markdown",
   "metadata": {},
   "source": [
    "## 2. Data Augmentation"
   ]
  },
  {
   "cell_type": "code",
   "execution_count": 28,
   "metadata": {},
   "outputs": [],
   "source": [
    "train_images = np.load(\"/Users/inescunha/Documents/GitHub/CellFate/data/images/train_images.npy\")\n",
    "test_images = np.load(\"/Users/inescunha/Documents/GitHub/CellFate/data/images/test_images.npy\")\n",
    "train_labels = np.load(\"/Users/inescunha/Documents/GitHub/CellFate/data/labels/train_labels.npy\")\n",
    "test_labels = np.load(\"/Users/inescunha/Documents/GitHub/CellFate/data/labels/test_labels.npy\")\n",
    "train_tracks = np.load(\"/Users/inescunha/Documents/GitHub/CellFate/data/tracks/train_tracks.npy\")\n",
    "test_tracks = np.load(\"/Users/inescunha/Documents/GitHub/CellFate/data/tracks/test_tracks.npy\")"
   ]
  },
  {
   "cell_type": "code",
   "execution_count": 3,
   "metadata": {},
   "outputs": [
    {
     "name": "stdout",
     "output_type": "stream",
     "text": [
      "(2184, 1080, 20, 20) (2184,) (1108, 1080, 19) (277, 1080, 20, 20) (277,) (277, 1080, 19)\n"
     ]
    }
   ],
   "source": [
    "train_images_augmented, train_labels_augmented = augment_dataset(train_images, train_labels, augmentations)\n",
    "\n",
    "print(train_images_augmented.shape, train_labels_augmented.shape, train_tracks.shape, test_images.shape, test_labels.shape, test_tracks.shape)"
   ]
  },
  {
   "cell_type": "code",
   "execution_count": 14,
   "metadata": {},
   "outputs": [],
   "source": [
    "# np.save(\"/Users/inescunha/Documents/GitHub/CellFate/data/images/train_images_augmented.npy\", train_images_augmented)\n",
    "# np.save(\"/Users/inescunha/Documents/GitHub/CellFate/data/labels/train_labels_augmented.npy\", train_labels_augmented)\n",
    "# np.save(\"/Users/inescunha/Documents/GitHub/CellFate/data/labels/train_labels.npy\", train_labels)\n",
    "# np.save(\"/Users/inescunha/Documents/GitHub/CellFate/data/tracks/train_tracks.npy\", train_tracks)\n",
    "# np.save(\"/Users/inescunha/Documents/GitHub/CellFate/data/tracks/test_tracks.npy\", test_tracks)\n",
    "# np.save(\"/Users/inescunha/Documents/GitHub/CellFate/data/images/test_images.npy\", test_images)\n",
    "# np.save(\"/Users/inescunha/Documents/GitHub/CellFate/data/labels/test_labels.npy\", test_labels)"
   ]
  },
  {
   "cell_type": "markdown",
   "metadata": {},
   "source": [
    "## 3. Stretch image intensities in a frame-wise way\n",
    "This is done to do a scaling of the intensities in each cell, so that the minimum value is 0 (but keeping the same \"relationship\" between pixel values)"
   ]
  },
  {
   "cell_type": "code",
   "execution_count": 4,
   "metadata": {},
   "outputs": [],
   "source": [
    "stretched_x_train, stretched_x_test = stretch_intensities_global(train_images_augmented, test_images)"
   ]
  },
  {
   "cell_type": "code",
   "execution_count": 46,
   "metadata": {},
   "outputs": [],
   "source": [
    "# np.save(\"/Users/inescunha/Documents/GitHub/CellFate/data/images/stretched_x_train.npy\", stretched_x_train)\n",
    "# np.save(\"/Users/inescunha/Documents/GitHub/CellFate/data/images/stretched_x_test.npy\", stretched_x_test)"
   ]
  },
  {
   "cell_type": "markdown",
   "metadata": {},
   "source": [
    "## 4. Cell Clock Normalisation"
   ]
  },
  {
   "cell_type": "code",
   "execution_count": 5,
   "metadata": {},
   "outputs": [],
   "source": [
    "time_norm_train_track = normalize_cell_time(train_tracks)\n",
    "time_norm_test_track = normalize_cell_time(test_tracks)\n",
    "\n",
    "time_norm_train_images = normalize_cell_time_images(stretched_x_train)\n",
    "time_norm_test_images = normalize_cell_time_images(stretched_x_test)"
   ]
  },
  {
   "cell_type": "code",
   "execution_count": 6,
   "metadata": {},
   "outputs": [],
   "source": [
    "# np.save(\"../data/images/time_norm_train_images.npy\", train_images_augmented)\n",
    "np.save(\"/Users/inescunha/Documents/GitHub/AI4CellFate/data/images/time_norm_test_images.npy\", time_norm_test_images)"
   ]
  },
  {
   "cell_type": "code",
   "execution_count": 7,
   "metadata": {},
   "outputs": [],
   "source": [
    "tnti = np.load(\"/Users/inescunha/Documents/GitHub/AI4CellFate/data/images/time_norm_test_images.npy\")\n",
    "test_images_no_strech = np.load(\"/Users/inescunha/Documents/GitHub/AI4CellFate/data/images/test_images.npy\")"
   ]
  },
  {
   "cell_type": "code",
   "execution_count": 10,
   "metadata": {},
   "outputs": [],
   "source": [
    "train_images_augmented = np.load(\"/Users/inescunha/Documents/GitHub/AI4CellFate/data/images/train_images_augmented.npy\")"
   ]
  },
  {
   "cell_type": "code",
   "execution_count": 8,
   "metadata": {},
   "outputs": [
    {
     "data": {
      "text/plain": [
       "((277, 11, 20, 20), (277, 1080, 20, 20))"
      ]
     },
     "execution_count": 8,
     "metadata": {},
     "output_type": "execute_result"
    }
   ],
   "source": [
    "tnti.shape, test_images_no_strech.shape"
   ]
  },
  {
   "cell_type": "code",
   "execution_count": 12,
   "metadata": {},
   "outputs": [
    {
     "data": {
      "image/png": "[encoded data removed]",
      "text/plain": [
       "<Figure size 640x480 with 2 Axes>"
      ]
     },
     "metadata": {},
     "output_type": "display_data"
    },
    {
     "data": {
      "image/png": "[encoded data removed]",
      "text/plain": [
       "<Figure size 640x480 with 2 Axes>"
      ]
     },
     "metadata": {},
     "output_type": "display_data"
    }
   ],
   "source": [
    "plt.imshow(tnti[103,0,:,:])\n",
    "plt.colorbar()\n",
    "plt.show()\n",
    "\n",
    "plt.imshow(test_images_no_strech[103,0,:,:])\n",
    "plt.colorbar()\n",
    "plt.show()"
   ]
  },
  {
   "cell_type": "markdown",
   "metadata": {},
   "source": [
    "# Cell Division Times (Supplementary Figure)"
   ]
  },
  {
   "cell_type": "code",
   "execution_count": 41,
   "metadata": {},
   "outputs": [],
   "source": [
    "def find_zero_time_indices(tracks):\n",
    "    \"\"\"\n",
    "    Finds the first time index at which all 19 features become zero for each cell.\n",
    "    \n",
    "    Parameters:\n",
    "        tracks (numpy array): Shape (300, 1080, 19), representing (cells, time points, features).\n",
    "        \n",
    "    Returns:\n",
    "        numpy array: Shape (300,), containing the first time index where all features are zero for each cell.\n",
    "                    If a cell never has all features as zero, returns -1 for that cell.\n",
    "    \"\"\"\n",
    "    # Check where all features become zero along the time axis\n",
    "    zero_mask = np.all(tracks == 0, axis=2)  # Shape: (300, 1080), True where all features are zero\n",
    "    \n",
    "    # Find the first time index where all features are zero for each cell\n",
    "    zero_indices = np.argmax(zero_mask, axis=1)  # Get first occurrence along time axis\n",
    "    \n",
    "    # If a cell never reaches a fully zero state, set its value to -1\n",
    "    zero_indices[~np.any(zero_mask, axis=1)] = -1  # If no zeros found, assign -1\n",
    "    \n",
    "    return zero_indices"
   ]
  },
  {
   "cell_type": "code",
   "execution_count": 43,
   "metadata": {},
   "outputs": [
    {
     "data": {
      "text/plain": [
       "array([ 462,  499,  186,  862,  390,  190,  142,  635,  288,  718,  146,\n",
       "        267,  500,  375,  312,    1,  160,  176,  225,    1,   89,    1,\n",
       "        840,  912,  380,  586,  404,  371,  306,    1,  616,  473,  719,\n",
       "        507,  157,  196,   29,  307,  473,  267,   68,  223,  252,  179,\n",
       "          1,    1,  419,    1,  581,  485,  865,  215,  134,  732,  152,\n",
       "        245,    1,   73,  145,    1,  314,  352,  127,  204,  137,  208,\n",
       "        103,  975,    1,  250,  347,  416,  497,  566,  240,  685,  785,\n",
       "        112,    1,  688,  297,   16,  219,  593,    1,   23,  257,   11,\n",
       "          1,   42,  973,  425,  321,  307,  253,  787,  522,  363,  224,\n",
       "        254,   34,   37,  326,  131,  579,  604,  637,  263,  391,  466,\n",
       "        166,    1,  272,  445,  762,  485,  138,  951,  248,  461,  511,\n",
       "        760,  140,  312,  306,   71,  581,  350,  380,  473,  650,  694,\n",
       "        113,   84,  471,  519,  292,  555,  296,  935,  206,   71,    1,\n",
       "         44,  979,  312,  426,  562,  115,  396,  365,  906, 1001,  128,\n",
       "        303,  221,  882,   67,   80,  363,  248,  288,  787,  288,  350,\n",
       "        468,  153,  615,  568,  118,  626,  455,  100,  284,  882,  515,\n",
       "        625,   60,  479,  289,  844,  248,  122,  725,  433,   25,  392,\n",
       "         40,  411,  767,  672,  148,  259,  962,  237,  486,  208, 1004,\n",
       "        994,   55,    1,  763,  471,  117,  440,  774,  659,  115,  125,\n",
       "        249,    1,    1,  505,    1,  975,  374,  193,  484,    1,  144,\n",
       "        281,  917,    7,  139,  516,  756,  513,  436])"
      ]
     },
     "execution_count": 43,
     "metadata": {},
     "output_type": "execute_result"
    }
   ],
   "source": [
    "find_zero_time_indices(tracks[labels == 1])"
   ]
  },
  {
   "cell_type": "code",
   "execution_count": 57,
   "metadata": {},
   "outputs": [
    {
     "data": {
      "image/png": "[encoded data removed]",
      "text/plain": [
       "<Figure size 1000x600 with 1 Axes>"
      ]
     },
     "metadata": {},
     "output_type": "display_data"
    }
   ],
   "source": [
    "# Compute zero indices\n",
    "zero_indices = find_zero_time_indices(tracks[labels == 1])\n",
    "\n",
    "# Define bins and ensure 1080 is included\n",
    "bins = np.linspace(0, 1080, 31)  # 30 bins + 1080 included\n",
    "\n",
    "# Plot the histogram\n",
    "plt.figure(figsize=(10, 6))\n",
    "plt.hist(zero_indices, bins=bins, color='purple', alpha=0.7, edgecolor='black')\n",
    "\n",
    "# Set title and labels with large Arial font\n",
    "plt.title('Histogram of Times of Division', fontsize=20, fontname='Arial', pad=20)\n",
    "plt.xlabel('Time Index of Cell Division', fontsize=18, fontname='Arial', labelpad=15)\n",
    "plt.ylabel('Frequency', fontsize=18, fontname='Arial', labelpad=15)\n",
    "\n",
    "# Tick labels with larger font\n",
    "plt.xticks(fontsize=16, fontname='Arial')\n",
    "plt.yticks(fontsize=16, fontname='Arial')\n",
    "\n",
    "# Ensure x-axis goes up to 1080\n",
    "plt.xlim(0, 1080)\n",
    "\n",
    "# Show grid for better readability\n",
    "plt.grid(axis='y', linestyle='--', alpha=0.5)\n",
    "\n",
    "plt.savefig(\"division_times.pdf\", dpi=300, bbox_inches=\"tight\")\n",
    "plt.show()\n"
   ]
  }
 ],
 "metadata": {
  "kernelspec": {
   "display_name": "interpret",
   "language": "python",
   "name": "python3"
  },
  "language_info": {
   "codemirror_mode": {
    "name": "ipython",
    "version": 3
   },
   "file_extension": ".py",
   "mimetype": "text/x-python",
   "name": "python",
   "nbconvert_exporter": "python",
   "pygments_lexer": "ipython3",
   "version": "3.10.14"
  }
 },
 "nbformat": 4,
 "nbformat_minor": 2
}
