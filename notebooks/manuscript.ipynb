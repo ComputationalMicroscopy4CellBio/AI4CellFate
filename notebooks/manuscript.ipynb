{
 "cells": [
  {
   "cell_type": "code",
   "execution_count": 1,
   "metadata": {},
   "outputs": [],
   "source": [
    "import sys\n",
    "import os\n",
    "import numpy as np\n",
    "from matplotlib import pyplot as plt\n",
    "from sklearn.model_selection import train_test_split\n",
    "sys.path.append(os.path.abspath(\"..\"))  #TODO: MAKE THE SRC PACKAGE WORK\n",
    "from src.training.new_optimised_train import train_lambdas_autoencoder, train_lambdas_cov\n",
    "from src.evaluation.evaluate import Evaluation\n",
    "from src.training.loss_functions import *\n",
    "from src.preprocessing.preprocessing_functions import *"
   ]
  },
  {
   "cell_type": "markdown",
   "metadata": {},
   "source": [
    "# Process Data"
   ]
  },
  {
   "cell_type": "markdown",
   "metadata": {},
   "source": [
    "## 1. Load preprocessed images and tabular data\n",
    "Several preprocessing steps were conducted on the raw images and tabular data - see notebook \"data_preprocessing\". "
   ]
  },
  {
   "cell_type": "code",
   "execution_count": 2,
   "metadata": {},
   "outputs": [
    {
     "name": "stdout",
     "output_type": "stream",
     "text": [
      "Images shape:  (1385, 1080, 2, 20, 20) Tracks shape:  (1385, 1080, 19) Labels shape:  (1385,)\n"
     ]
    }
   ],
   "source": [
    "images = np.load(\"../data/images/cleaned_images.npy\")\n",
    "tracks = np.load(\"../data/tracks/filtered_tracks.npy\")\n",
    "labels = np.load(\"../data/labels/filtered_y_train.npy\")\n",
    "\n",
    "print(\"Images shape: \", images.shape, \"Tracks shape: \", tracks.shape, \"Labels shape: \", labels.shape)"
   ]
  },
  {
   "cell_type": "markdown",
   "metadata": {},
   "source": [
    "## 2. Prepare for model training"
   ]
  },
  {
   "cell_type": "markdown",
   "metadata": {},
   "source": [
    "### 1. FRET ratio calculation"
   ]
  },
  {
   "cell_type": "code",
   "execution_count": 3,
   "metadata": {},
   "outputs": [
    {
     "name": "stderr",
     "output_type": "stream",
     "text": [
      "/var/folders/ds/_m8m03r135b5r67hc6xgtxt00000gn/T/ipykernel_6262/3830351353.py:1: RuntimeWarning: invalid value encountered in divide\n",
      "  fret_images = images[:,:,0,:,:] / images[:,:,1,:,:]\n"
     ]
    }
   ],
   "source": [
    "fret_images = images[:,:,0,:,:] / images[:,:,1,:,:] \n",
    "fret_images = np.nan_to_num(fret_images, nan=0.0)"
   ]
  },
  {
   "cell_type": "code",
   "execution_count": 4,
   "metadata": {},
   "outputs": [
    {
     "data": {
      "text/plain": [
       "<matplotlib.colorbar.Colorbar at 0x2adedb490>"
      ]
     },
     "execution_count": 4,
     "metadata": {},
     "output_type": "execute_result"
    },
    {
     "data": {
      "image/png": "[encoded data removed]",
      "text/plain": [
       "<Figure size 640x480 with 2 Axes>"
      ]
     },
     "metadata": {},
     "output_type": "display_data"
    }
   ],
   "source": [
    "plt.imshow(fret_images[0,1000,:,:])\n",
    "plt.colorbar()"
   ]
  },
  {
   "cell_type": "markdown",
   "metadata": {},
   "source": [
    "### 2. Normalise images frame-wise"
   ]
  },
  {
   "cell_type": "code",
   "execution_count": 5,
   "metadata": {},
   "outputs": [],
   "source": [
    "norm_images = normalize_images_per_frame(fret_images)"
   ]
  },
  {
   "cell_type": "markdown",
   "metadata": {},
   "source": [
    "### 3. Center cells"
   ]
  },
  {
   "cell_type": "code",
   "execution_count": 6,
   "metadata": {},
   "outputs": [],
   "source": [
    "centered_images = center_cells(norm_images)"
   ]
  },
  {
   "cell_type": "markdown",
   "metadata": {},
   "source": [
    "### 4. Train-test split"
   ]
  },
  {
   "cell_type": "code",
   "execution_count": 7,
   "metadata": {},
   "outputs": [],
   "source": [
    "train_indexes, test_indexes = train_test_split(\n",
    "        np.arange(len(labels)),\n",
    "        test_size=0.2,\n",
    "        stratify=labels,\n",
    "        random_state=42\n",
    "    )\n",
    "    \n",
    "train_images = centered_images[train_indexes]\n",
    "train_labels = labels[train_indexes]\n",
    "train_tracks = tracks[train_indexes]\n",
    "test_images = centered_images[test_indexes]\n",
    "test_labels = labels[test_indexes]\n",
    "test_tracks = tracks[test_indexes]"
   ]
  },
  {
   "cell_type": "code",
   "execution_count": 8,
   "metadata": {},
   "outputs": [],
   "source": [
    "np.save(\"../data/images/train_images.npy\", train_images)\n",
    "np.save(\"../data/images/test_images.npy\", test_images)\n",
    "np.save(\"../data/labels/train_labels.npy\", train_labels)\n",
    "np.save(\"../data/labels/test_labels.npy\", test_labels)\n",
    "np.save(\"../data/tracks/train_tracks.npy\", train_tracks)\n",
    "np.save(\"../data/tracks/test_tracks.npy\", test_tracks)"
   ]
  },
  {
   "cell_type": "markdown",
   "metadata": {},
   "source": [
    "### 5. Data Augmentation"
   ]
  },
  {
   "cell_type": "code",
   "execution_count": 2,
   "metadata": {},
   "outputs": [],
   "source": [
    "train_images = np.load(\"../data/images/train_images.npy\")\n",
    "test_images = np.load(\"../data/images/test_images.npy\")\n",
    "train_labels = np.load(\"../data/labels/train_labels.npy\")\n",
    "test_labels = np.load(\"../data/labels/test_labels.npy\")\n",
    "train_tracks = np.load(\"../data/tracks/train_tracks.npy\")\n",
    "test_tracks = np.load(\"../data/tracks/test_tracks.npy\")"
   ]
  },
  {
   "cell_type": "code",
   "execution_count": 3,
   "metadata": {},
   "outputs": [],
   "source": [
    "train_images_augmented, train_labels_augmented = augment_dataset(train_images, train_labels, augmentations)"
   ]
  },
  {
   "cell_type": "code",
   "execution_count": 4,
   "metadata": {},
   "outputs": [
    {
     "data": {
      "text/plain": [
       "((2184, 1080, 20, 20), (2184,))"
      ]
     },
     "execution_count": 4,
     "metadata": {},
     "output_type": "execute_result"
    }
   ],
   "source": [
    "train_images_augmented.shape, train_labels_augmented.shape"
   ]
  },
  {
   "cell_type": "code",
   "execution_count": null,
   "metadata": {},
   "outputs": [],
   "source": [
    "# np.save(\"../data/images/train_images_augmented.npy\", train_images_augmented)\n",
    "# np.save(\"../data/labels/train_labels_augmented.npy\", train_labels_augmented)"
   ]
  },
  {
   "cell_type": "code",
   "execution_count": null,
   "metadata": {},
   "outputs": [],
   "source": [
    "## FOR VISUALISATION PURPOSES ONLY ## - augment test set\n",
    "test_images_augmented, test_labels_augmented = augment_dataset(test_images, test_labels, augmentations)"
   ]
  },
  {
   "cell_type": "markdown",
   "metadata": {},
   "source": [
    "### 6. Stretch image intensities in a frame-wise way\n",
    "This is done to do a scaling of the intensities in each cell, so that the minimum value is 0 (but keeping the same \"relationship\" between pixel values)"
   ]
  },
  {
   "cell_type": "code",
   "execution_count": 13,
   "metadata": {},
   "outputs": [],
   "source": [
    "def stretch_intensities_global(train_images, test_images, epsilon=0.001):\n",
    "    \"\"\"\n",
    "    Stretch the intensities of train_images and test_images globally using the same min and max.\n",
    "    \n",
    "    Args:\n",
    "        train_images (ndarray): Training image data\n",
    "        test_images (ndarray): Testing image data\n",
    "        epsilon (float): Value to prevent division by zero\n",
    "\n",
    "    Returns:\n",
    "        scaled_train_images (ndarray): Scaled training images\n",
    "        scaled_test_images (ndarray): Scaled testing images\n",
    "    \"\"\"\n",
    "    # Combine the datasets to compute global min and max\n",
    "    cells, frames, height, width = train_images.shape\n",
    "    \n",
    "    scaled_train_images = np.empty(train_images.shape)\n",
    "    scaled_test_images = np.empty(test_images.shape)\n",
    "\n",
    "    for i in range(frames):\n",
    "        combined_images = np.concatenate([train_images[:, i][train_images[:, i] > 0], test_images[:, i][test_images[:, i] > 0]])\n",
    "        global_min = np.min(combined_images)\n",
    "        global_max = np.max(combined_images)\n",
    "\n",
    "        if global_max > global_min:\n",
    "\n",
    "            scaled_train_images[:,i] = (train_images[:,i] - global_min) / (global_max - global_min)\n",
    "            scaled_train_images[:,i] = scaled_train_images[:,i] * (1 - epsilon) + epsilon\n",
    "            scaled_train_images[:,i][train_images[:,i] == 0] = 0  # Preserve zero values (background)\n",
    "\n",
    "            scaled_test_images[:,i] = (test_images[:,i] - global_min) / (global_max - global_min)\n",
    "            scaled_test_images[:,i] = scaled_test_images[:,i] * (1 - epsilon) + epsilon\n",
    "            scaled_test_images[:,i][test_images[:,i] == 0] = 0  # Preserve zero values (background)\n",
    "\n",
    "        else:\n",
    "            # If global_max == global_min, leave unchanged\n",
    "            scaled_train_images[:,i] = train_images[:,i]\n",
    "            scaled_test_images[:,i] = test_images[:,i]\n",
    "\n",
    "    return scaled_train_images, scaled_test_images\n"
   ]
  },
  {
   "cell_type": "code",
   "execution_count": 14,
   "metadata": {},
   "outputs": [],
   "source": [
    "stretched_x_train, stretched_x_test = stretch_intensities_global(train_images_augmented, test_images)"
   ]
  },
  {
   "cell_type": "code",
   "execution_count": 17,
   "metadata": {},
   "outputs": [
    {
     "name": "stdout",
     "output_type": "stream",
     "text": [
      "Augmented images shape:  (2184, 1080, 20, 20) Augmented labels shape:  (2184,) Test images shape:  (277, 1080, 20, 20) Test labels shape:  (277,) Train tracks shape:  (1108, 1080, 19) Test tracks shape:  (277, 1080, 19)\n"
     ]
    }
   ],
   "source": [
    "np.save(\"../data/images/train_images_augmented_stretched.npy\", stretched_x_train)\n",
    "np.save(\"../data/images/test_images_augmented_stretched.npy\", stretched_x_test)\n",
    "\n",
    "print(\"Augmented images shape: \", stretched_x_train.shape, \"Augmented labels shape: \", train_labels_augmented.shape, \"Test images shape: \", stretched_x_test.shape, \"Test labels shape: \", test_labels.shape, \"Train tracks shape: \", train_tracks.shape, \"Test tracks shape: \", test_tracks.shape)"
   ]
  },
  {
   "cell_type": "code",
   "execution_count": 18,
   "metadata": {},
   "outputs": [
    {
     "data": {
      "text/plain": [
       "(1108,)"
      ]
     },
     "execution_count": 18,
     "metadata": {},
     "output_type": "execute_result"
    }
   ],
   "source": [
    "train_labels.shape"
   ]
  },
  {
   "cell_type": "markdown",
   "metadata": {},
   "source": [
    "# Model Workflow - Training and Evaluation"
   ]
  },
  {
   "cell_type": "markdown",
   "metadata": {},
   "source": [
    "## Tabular Data"
   ]
  },
  {
   "cell_type": "markdown",
   "metadata": {},
   "source": [
    "### Simple MLP (No hidden layers)"
   ]
  },
  {
   "cell_type": "code",
   "execution_count": null,
   "metadata": {},
   "outputs": [],
   "source": []
  },
  {
   "cell_type": "code",
   "execution_count": null,
   "metadata": {},
   "outputs": [],
   "source": []
  },
  {
   "cell_type": "code",
   "execution_count": null,
   "metadata": {},
   "outputs": [],
   "source": []
  },
  {
   "cell_type": "markdown",
   "metadata": {},
   "source": [
    "### Complex MLP "
   ]
  },
  {
   "cell_type": "code",
   "execution_count": null,
   "metadata": {},
   "outputs": [],
   "source": []
  },
  {
   "cell_type": "code",
   "execution_count": null,
   "metadata": {},
   "outputs": [],
   "source": []
  },
  {
   "cell_type": "markdown",
   "metadata": {},
   "source": [
    "#### Temporal study"
   ]
  },
  {
   "cell_type": "code",
   "execution_count": null,
   "metadata": {},
   "outputs": [],
   "source": []
  },
  {
   "cell_type": "markdown",
   "metadata": {},
   "source": [
    "## Image Data"
   ]
  },
  {
   "cell_type": "markdown",
   "metadata": {},
   "source": [
    "### Full CellFate Workflow "
   ]
  },
  {
   "cell_type": "markdown",
   "metadata": {},
   "source": [
    "#### 1. Train Adversarial Autoencoder (AAE)"
   ]
  },
  {
   "cell_type": "code",
   "execution_count": null,
   "metadata": {},
   "outputs": [],
   "source": []
  },
  {
   "cell_type": "code",
   "execution_count": null,
   "metadata": {},
   "outputs": [],
   "source": []
  },
  {
   "cell_type": "markdown",
   "metadata": {},
   "source": [
    "#### 2. Train AAE with Contrastive loss and Covariance loss"
   ]
  },
  {
   "cell_type": "code",
   "execution_count": null,
   "metadata": {},
   "outputs": [],
   "source": []
  },
  {
   "cell_type": "code",
   "execution_count": null,
   "metadata": {},
   "outputs": [],
   "source": []
  },
  {
   "cell_type": "markdown",
   "metadata": {},
   "source": [
    "#### 3. Classify with MLP "
   ]
  },
  {
   "cell_type": "code",
   "execution_count": null,
   "metadata": {},
   "outputs": [],
   "source": []
  },
  {
   "cell_type": "code",
   "execution_count": null,
   "metadata": {},
   "outputs": [],
   "source": []
  },
  {
   "cell_type": "markdown",
   "metadata": {},
   "source": [
    "#### 4. Evaluation "
   ]
  },
  {
   "cell_type": "code",
   "execution_count": null,
   "metadata": {},
   "outputs": [],
   "source": []
  },
  {
   "cell_type": "code",
   "execution_count": null,
   "metadata": {},
   "outputs": [],
   "source": []
  },
  {
   "cell_type": "code",
   "execution_count": null,
   "metadata": {},
   "outputs": [],
   "source": []
  },
  {
   "cell_type": "markdown",
   "metadata": {},
   "source": [
    "#### 5. Temporal study"
   ]
  },
  {
   "cell_type": "code",
   "execution_count": null,
   "metadata": {},
   "outputs": [],
   "source": []
  },
  {
   "cell_type": "code",
   "execution_count": null,
   "metadata": {},
   "outputs": [],
   "source": []
  },
  {
   "cell_type": "code",
   "execution_count": null,
   "metadata": {},
   "outputs": [],
   "source": []
  },
  {
   "cell_type": "markdown",
   "metadata": {},
   "source": [
    "#### 6. Latent Space dimensionality study"
   ]
  },
  {
   "cell_type": "code",
   "execution_count": null,
   "metadata": {},
   "outputs": [],
   "source": []
  },
  {
   "cell_type": "code",
   "execution_count": null,
   "metadata": {},
   "outputs": [],
   "source": []
  },
  {
   "cell_type": "code",
   "execution_count": null,
   "metadata": {},
   "outputs": [],
   "source": []
  },
  {
   "cell_type": "markdown",
   "metadata": {},
   "source": [
    "### Only Adversarial Autoencoder"
   ]
  },
  {
   "cell_type": "markdown",
   "metadata": {},
   "source": [
    "#### 1. Train Adversarial Autoencoder\n",
    "With the same number of epochs and hyperparameters as before"
   ]
  },
  {
   "cell_type": "code",
   "execution_count": null,
   "metadata": {},
   "outputs": [],
   "source": []
  },
  {
   "cell_type": "code",
   "execution_count": null,
   "metadata": {},
   "outputs": [],
   "source": []
  },
  {
   "cell_type": "code",
   "execution_count": null,
   "metadata": {},
   "outputs": [],
   "source": []
  },
  {
   "cell_type": "markdown",
   "metadata": {},
   "source": [
    "#### 2. Evaluation "
   ]
  },
  {
   "cell_type": "code",
   "execution_count": null,
   "metadata": {},
   "outputs": [],
   "source": []
  },
  {
   "cell_type": "code",
   "execution_count": null,
   "metadata": {},
   "outputs": [],
   "source": []
  },
  {
   "cell_type": "code",
   "execution_count": null,
   "metadata": {},
   "outputs": [],
   "source": []
  },
  {
   "cell_type": "markdown",
   "metadata": {},
   "source": [
    "### ImageNet classification"
   ]
  },
  {
   "cell_type": "code",
   "execution_count": null,
   "metadata": {},
   "outputs": [],
   "source": []
  },
  {
   "cell_type": "code",
   "execution_count": null,
   "metadata": {},
   "outputs": [],
   "source": []
  },
  {
   "cell_type": "code",
   "execution_count": null,
   "metadata": {},
   "outputs": [],
   "source": []
  },
  {
   "cell_type": "markdown",
   "metadata": {},
   "source": []
  }
 ],
 "metadata": {
  "kernelspec": {
   "display_name": "interpret",
   "language": "python",
   "name": "python3"
  },
  "language_info": {
   "codemirror_mode": {
    "name": "ipython",
    "version": 3
   },
   "file_extension": ".py",
   "mimetype": "text/x-python",
   "name": "python",
   "nbconvert_exporter": "python",
   "pygments_lexer": "ipython3",
   "version": "3.10.14"
  }
 },
 "nbformat": 4,
 "nbformat_minor": 2
}
