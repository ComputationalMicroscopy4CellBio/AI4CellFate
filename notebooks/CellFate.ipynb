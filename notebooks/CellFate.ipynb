{
 "cells": [
  {
   "cell_type": "code",
   "execution_count": null,
   "metadata": {},
   "outputs": [],
   "source": [
    "import sys\n",
    "import os\n",
    "import numpy as np\n",
    "from matplotlib import pyplot as plt\n",
    "sys.path.append(os.path.abspath(\"..\"))  #TODO: MAKE THE SRC PACKAGE WORK\n",
    "from src.training.train import train_model\n"
   ]
  },
  {
   "cell_type": "code",
   "execution_count": null,
   "metadata": {},
   "outputs": [],
   "source": [
    "x_train = np.load('../data/stretched_x_train.npy')"
   ]
  },
  {
   "cell_type": "code",
   "execution_count": 3,
   "metadata": {},
   "outputs": [
    {
     "data": {
      "text/plain": [
       "<matplotlib.colorbar.Colorbar at 0x2a76faf80>"
      ]
     },
     "execution_count": 3,
     "metadata": {},
     "output_type": "execute_result"
    },
    {
     "data": {
      "image/png": "[encoded data removed]",
      "text/plain": [
       "<Figure size 640x480 with 2 Axes>"
      ]
     },
     "metadata": {},
     "output_type": "display_data"
    }
   ],
   "source": [
    "plt.imshow(x_train[0])\n",
    "plt.colorbar()"
   ]
  },
  {
   "cell_type": "code",
   "execution_count": 4,
   "metadata": {},
   "outputs": [
    {
     "name": "stdout",
     "output_type": "stream",
     "text": [
      "hello\n",
      "Training with batch size: 30, epochs: 10, learning rate: 0.001, seed: 42, latent dim: 20\n"
     ]
    },
    {
     "name": "stderr",
     "output_type": "stream",
     "text": [
      "/Users/inescunha/anaconda3/envs/interpret/lib/python3.10/site-packages/keras/src/layers/core/dense.py:87: UserWarning: Do not pass an `input_shape`/`input_dim` argument to a layer. When using Sequential models, prefer using an `Input(shape)` object as the first layer in the model instead.\n",
      "  super().__init__(activity_regularizer=activity_regularizer, **kwargs)\n",
      "/Users/inescunha/anaconda3/envs/interpret/lib/python3.10/site-packages/keras/src/layers/activations/leaky_relu.py:41: UserWarning: Argument `alpha` is deprecated. Use `negative_slope` instead.\n",
      "  warnings.warn(\n",
      "/Users/inescunha/anaconda3/envs/interpret/lib/python3.10/site-packages/keras/src/backend/tensorflow/nn.py:707: UserWarning: \"`binary_crossentropy` received `from_logits=True`, but the `output` argument was produced by a Sigmoid activation and thus does not represent logits. Was this intended?\n",
      "  output, from_logits = _get_logits(\n",
      "/Users/inescunha/anaconda3/envs/interpret/lib/python3.10/site-packages/keras/src/optimizers/base_optimizer.py:678: UserWarning: Gradients do not exist for variables ['kernel', 'bias'] when minimizing the loss. If using `model.compile()`, did you forget to provide a `loss` argument?\n",
      "  warnings.warn(\n"
     ]
    },
    {
     "name": "stdout",
     "output_type": "stream",
     "text": [
      "Epoch 1/10: Reconstruction loss: 0.0186, Adversarial loss: 0.7985\n",
      "Epoch 2/10: Reconstruction loss: 0.0086, Adversarial loss: 0.7926\n",
      "Epoch 3/10: Reconstruction loss: 0.0075, Adversarial loss: 0.7679\n",
      "Epoch 4/10: Reconstruction loss: 0.0067, Adversarial loss: 0.7848\n",
      "Epoch 5/10: Reconstruction loss: 0.0064, Adversarial loss: 0.8015\n",
      "Epoch 6/10: Reconstruction loss: 0.0063, Adversarial loss: 0.8003\n",
      "Epoch 7/10: Reconstruction loss: 0.0062, Adversarial loss: 0.8035\n",
      "Epoch 8/10: Reconstruction loss: 0.0062, Adversarial loss: 0.7860\n",
      "Epoch 9/10: Reconstruction loss: 0.0060, Adversarial loss: 0.7921\n",
      "Epoch 10/10: Reconstruction loss: 0.0061, Adversarial loss: 0.7889\n",
      "Saving loss plot...\n"
     ]
    }
   ],
   "source": [
    "config = {\n",
    "    'batch_size': 30,\n",
    "    'epochs': 10,\n",
    "    'learning_rate': 0.001,\n",
    "    'seed': 42,\n",
    "    'latent_dim': 20,\n",
    "    'GaussianNoise_std': 0.003\n",
    "}#np.random.rand(100, 20, 20)  # Example: 1000 images of 64x64x3\n",
    "\n",
    "# Run the training loop\n",
    "results = train_model(config, x_train)"
   ]
  },
  {
   "cell_type": "code",
   "execution_count": 6,
   "metadata": {},
   "outputs": [
    {
     "data": {
      "text/plain": [
       "{'reconstruction_losses': [0.1290537,\n",
       "  0.11010128,\n",
       "  0.09974265,\n",
       "  0.09875879,\n",
       "  0.096009254],\n",
       " 'adversarial_losses': [0.68477505,\n",
       "  1.1255571,\n",
       "  0.6770007,\n",
       "  0.5737397,\n",
       "  0.7791812]}"
      ]
     },
     "execution_count": 6,
     "metadata": {},
     "output_type": "execute_result"
    }
   ],
   "source": [
    "results"
   ]
  }
 ],
 "metadata": {
  "kernelspec": {
   "display_name": "interpret",
   "language": "python",
   "name": "python3"
  },
  "language_info": {
   "codemirror_mode": {
    "name": "ipython",
    "version": 3
   },
   "file_extension": ".py",
   "mimetype": "text/x-python",
   "name": "python",
   "nbconvert_exporter": "python",
   "pygments_lexer": "ipython3",
   "version": "3.10.14"
  }
 },
 "nbformat": 4,
 "nbformat_minor": 2
}
