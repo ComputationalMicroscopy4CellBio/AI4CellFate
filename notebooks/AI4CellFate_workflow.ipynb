{
 "cells": [
  {
   "cell_type": "code",
   "execution_count": 9,
   "metadata": {},
   "outputs": [],
   "source": [
    "import sys\n",
    "import os\n",
    "import numpy as np\n",
    "from matplotlib import pyplot as plt\n",
    "#sys.path.append(os.path.abspath(\"..\")) \n",
    "from src.training.train import train_autoencoder, train_cellfate"
   ]
  },
  {
   "cell_type": "markdown",
   "metadata": {},
   "source": [
    "# Load Data"
   ]
  },
  {
   "cell_type": "code",
   "execution_count": null,
   "metadata": {},
   "outputs": [],
   "source": [
    "# Loading the first time point of the time-lapse microscopy data\n",
    "x_train = np.load('../data/images/train_images_augmented.npy')[:,0,:,:]\n",
    "y_train = np.load('../data/labels/train_labels_augmented.npy')\n",
    "x_test = np.load('../data/images/test_images.npy')[:,0,:,:]\n",
    "y_test = np.load('../data/labels/test_labels.npy')\n",
    "\n",
    "# Print the shape of the data\n",
    "print(\"x_train.shape: \", x_train.shape, \"y_train.shape: \", y_train.shape, \"x_test.shape: \", x_test.shape, \"y_test.shape: \", y_test.shape)"
   ]
  },
  {
   "cell_type": "markdown",
   "metadata": {},
   "source": [
    "# Train AI4CellFate"
   ]
  },
  {
   "cell_type": "markdown",
   "metadata": {},
   "source": [
    "Stage 1: Train Adversarial Autoencoder for a low number of epochs, to wait for the reconstruction losses to converge before we do any latent space engineering"
   ]
  },
  {
   "cell_type": "code",
   "execution_count": null,
   "metadata": {},
   "outputs": [],
   "source": [
    "config_autoencoder = {\n",
    "        'batch_size': 30,\n",
    "        'epochs': 15,\n",
    "        'learning_rate': 0.001,\n",
    "        'seed': 42,\n",
    "        'latent_dim': 2,\n",
    "        'GaussianNoise_std': 0.003,\n",
    "        'lambda_recon': 5,\n",
    "        'lambda_adv': 1,\n",
    "    }\n",
    "\n",
    "lambda_autoencoder_results = train_autoencoder(config_autoencoder, x_train)\n",
    "encoder = lambda_autoencoder_results['encoder']\n",
    "decoder = lambda_autoencoder_results['decoder']\n",
    "discriminator = lambda_autoencoder_results['discriminator']"
   ]
  },
  {
   "cell_type": "markdown",
   "metadata": {},
   "source": [
    "Stage 2: Train full AI4CellFate model (using the trained AAE from stage 1), where we add contrastive and covariance losses to enforce the latent features to be optimised for the classification task and independent from each other (for interpretation)"
   ]
  },
  {
   "cell_type": "code",
   "execution_count": null,
   "metadata": {},
   "outputs": [],
   "source": [
    "config_ai4cellfate = {\n",
    "        'batch_size': 30,\n",
    "        'epochs': 100,\n",
    "        'learning_rate': 0.001,\n",
    "        'seed': 42,\n",
    "        'latent_dim': 2,\n",
    "        'GaussianNoise_std': 0.003,\n",
    "        'lambda_recon': 6,\n",
    "        'lambda_adv': 4,\n",
    "        'lambda_cov': 0.0001,\n",
    "        'lambda_contra': 8,\n",
    "    }\n",
    " \n",
    "lambda_ae_cov_results = train_cellfate(config_ai4cellfate, encoder, decoder, discriminator, x_train, y_train, x_test, y_test) \n",
    "encoder = lambda_ae_cov_results['encoder']\n",
    "decoder = lambda_ae_cov_results['decoder']\n",
    "discriminator = lambda_ae_cov_results['discriminator']"
   ]
  },
  {
   "cell_type": "markdown",
   "metadata": {},
   "source": [
    "# Visualise Latent Space"
   ]
  },
  {
   "cell_type": "code",
   "execution_count": null,
   "metadata": {},
   "outputs": [],
   "source": []
  },
  {
   "cell_type": "markdown",
   "metadata": {},
   "source": [
    "# Classify from Engineered Latent Space"
   ]
  },
  {
   "cell_type": "code",
   "execution_count": null,
   "metadata": {},
   "outputs": [],
   "source": []
  },
  {
   "cell_type": "code",
   "execution_count": null,
   "metadata": {},
   "outputs": [],
   "source": [
    "# show pretty conf matrix"
   ]
  },
  {
   "cell_type": "markdown",
   "metadata": {},
   "source": [
    "# Visual Interpretation "
   ]
  },
  {
   "cell_type": "code",
   "execution_count": null,
   "metadata": {},
   "outputs": [],
   "source": []
  }
 ],
 "metadata": {
  "kernelspec": {
   "display_name": "interpret",
   "language": "python",
   "name": "python3"
  },
  "language_info": {
   "codemirror_mode": {
    "name": "ipython",
    "version": 3
   },
   "file_extension": ".py",
   "mimetype": "text/x-python",
   "name": "python",
   "nbconvert_exporter": "python",
   "pygments_lexer": "ipython3",
   "version": "3.10.14"
  }
 },
 "nbformat": 4,
 "nbformat_minor": 2
}
