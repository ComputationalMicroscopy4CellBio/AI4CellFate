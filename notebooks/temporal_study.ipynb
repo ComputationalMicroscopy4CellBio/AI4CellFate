{
 "cells": [
  {
   "cell_type": "code",
   "execution_count": 3,
   "metadata": {},
   "outputs": [],
   "source": [
    "import sys\n",
    "import os\n",
    "import numpy as np\n",
    "from matplotlib import pyplot as plt\n",
    "from sklearn.model_selection import train_test_split\n",
    "sys.path.append(os.path.abspath(\"..\"))  #TODO: MAKE THE SRC PACKAGE WORK\n",
    "from src.training.new_optimised_train import train_autoencoder, train_cellfate\n",
    "from src.evaluation.evaluate import *\n",
    "from src.training.loss_functions import *\n",
    "from src.preprocessing.preprocessing_functions import *\n",
    "from sklearn.metrics import classification_report, confusion_matrix, accuracy_score\n",
    "from src.models import Encoder, Decoder, Discriminator, mlp_classifier"
   ]
  },
  {
   "cell_type": "code",
   "execution_count": 1,
   "metadata": {},
   "outputs": [],
   "source": [
    "# TODO: add the workflow from manuscript notebook that gives us the final confusion matrix values per random state per time point"
   ]
  },
  {
   "cell_type": "code",
   "execution_count": null,
   "metadata": {},
   "outputs": [],
   "source": []
  },
  {
   "cell_type": "code",
   "execution_count": 4,
   "metadata": {},
   "outputs": [],
   "source": [
    "# load all confusion matrices\n",
    "\n",
    "conf_matrix_cellfate_seed42 = np.sum((np.load('all_confusion_matrices_cellfate_6.npy'), np.load('all_confusion_matrices_cellfate_10.npy')), axis=0)"
   ]
  },
  {
   "cell_type": "code",
   "execution_count": null,
   "metadata": {},
   "outputs": [],
   "source": [
    "conf_matrix_cellfate_seed43 = np.sum((np.load('all_confusion_matrices_cellfate_seed43_3.npy'), np.load('all_confusion_matrices_cellfate_seed43_6.npy'), np.load('all_confusion_matrices_cellfate_seed43_10.npy')), axis=0)"
   ]
  },
  {
   "cell_type": "code",
   "execution_count": 25,
   "metadata": {},
   "outputs": [],
   "source": [
    "conf_matrix_cellfate_seed44 = np.sum((np.load('all_confusion_matrices_cellfate_seed44_4.npy'), np.load('all_confusion_matrices_cellfate_seed44_10.npy')), axis=0)"
   ]
  },
  {
   "cell_type": "code",
   "execution_count": null,
   "metadata": {},
   "outputs": [],
   "source": [
    "# calculate precision based on that"
   ]
  }
 ],
 "metadata": {
  "kernelspec": {
   "display_name": "interpret",
   "language": "python",
   "name": "python3"
  },
  "language_info": {
   "codemirror_mode": {
    "name": "ipython",
    "version": 3
   },
   "file_extension": ".py",
   "mimetype": "text/x-python",
   "name": "python",
   "nbconvert_exporter": "python",
   "pygments_lexer": "ipython3",
   "version": "3.10.14"
  }
 },
 "nbformat": 4,
 "nbformat_minor": 2
}
