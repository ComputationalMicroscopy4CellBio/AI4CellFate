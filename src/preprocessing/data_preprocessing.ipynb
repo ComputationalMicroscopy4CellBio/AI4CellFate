{
 "cells": [
  {
   "cell_type": "code",
   "execution_count": 1,
   "metadata": {},
   "outputs": [],
   "source": [
    "## Dependencies\n",
    "import numpy as np\n",
    "import pandas as pd\n",
    "import matplotlib.pyplot as plt\n",
    "from ipywidgets import interact, IntSlider\n",
    "import tifffile as tiff\n",
    "import sys\n",
    "import os\n",
    "sys.path.append(os.path.abspath(\"../..\"))\n",
    "from src.preprocessing.preprocessing_functions import *"
   ]
  },
  {
   "cell_type": "markdown",
   "metadata": {},
   "source": [
    "# Loading Data and Reshaping\n",
    "#### Note: everything is repeated for the 3 Bioreplicates (BR1, BR2, BR3)"
   ]
  },
  {
   "cell_type": "code",
   "execution_count": 2,
   "metadata": {},
   "outputs": [
    {
     "name": "stdout",
     "output_type": "stream",
     "text": [
      "Filtered data shape (478, 1080, 19) (478,)\n",
      "Filtered data shape (493, 1080, 19) (493,)\n",
      "Filtered data shape (856, 1080, 19) (856,)\n"
     ]
    }
   ],
   "source": [
    "# Load all track data\n",
    "track_data_br1 = pd.read_csv('/Users/inescunha/Documents/GitHub/explanation/ALM272_BR1_tracks_0606224.csv') \n",
    "track_data_br2 = pd.read_csv('/Users/inescunha/Documents/GitHub/explanation/ALM272_BR2_tracks_0606224.csv') \n",
    "track_data_br3 = pd.read_csv('/Users/inescunha/Documents/GitHub/explanation/ALM272_BR3_tracks_060624.csv') \n",
    "\n",
    "filtered_track_br1, y_train_br1 = process_track_data(track_data_br1)\n",
    "filtered_track_br2, y_train_br2 = process_track_data(track_data_br2)\n",
    "filtered_track_br3, y_train_br3 = process_track_data(track_data_br3)"
   ]
  },
  {
   "cell_type": "code",
   "execution_count": null,
   "metadata": {},
   "outputs": [
    {
     "data": {
      "text/html": [
       "<div>\n",
       "<style scoped>\n",
       "    .dataframe tbody tr th:only-of-type {\n",
       "        vertical-align: middle;\n",
       "    }\n",
       "\n",
       "    .dataframe tbody tr th {\n",
       "        vertical-align: top;\n",
       "    }\n",
       "\n",
       "    .dataframe thead th {\n",
       "        text-align: right;\n",
       "    }\n",
       "</style>\n",
       "<table border=\"1\" class=\"dataframe\">\n",
       "  <thead>\n",
       "    <tr style=\"text-align: right;\">\n",
       "      <th></th>\n",
       "      <th>source_spot</th>\n",
       "      <th>target_spot</th>\n",
       "      <th>edge_time</th>\n",
       "      <th>xpos</th>\n",
       "      <th>ypos</th>\n",
       "      <th>tpos</th>\n",
       "      <th>ROI_nb</th>\n",
       "      <th>cell_av_FRET</th>\n",
       "      <th>CFP_av</th>\n",
       "      <th>YFP_av</th>\n",
       "      <th>...</th>\n",
       "      <th>Aspect_Ratio</th>\n",
       "      <th>cell_av_FRET_norm</th>\n",
       "      <th>unique_track_id</th>\n",
       "      <th>trackmate_track_id</th>\n",
       "      <th>iscorrect</th>\n",
       "      <th>fate</th>\n",
       "      <th>fov</th>\n",
       "      <th>apoptosis_time</th>\n",
       "      <th>mitosis_time</th>\n",
       "      <th>daughter</th>\n",
       "    </tr>\n",
       "  </thead>\n",
       "  <tbody>\n",
       "    <tr>\n",
       "      <th>91753</th>\n",
       "      <td>3652443</td>\n",
       "      <td>3652252</td>\n",
       "      <td>120.0</td>\n",
       "      <td>491.754988</td>\n",
       "      <td>251.819559</td>\n",
       "      <td>1</td>\n",
       "      <td>56.0</td>\n",
       "      <td>NaN</td>\n",
       "      <td>309.240843</td>\n",
       "      <td>344.579167</td>\n",
       "      <td>...</td>\n",
       "      <td>1.643393</td>\n",
       "      <td>NaN</td>\n",
       "      <td>103</td>\n",
       "      <td>43</td>\n",
       "      <td>1</td>\n",
       "      <td>2</td>\n",
       "      <td>pos8</td>\n",
       "      <td>0</td>\n",
       "      <td>797</td>\n",
       "      <td>1</td>\n",
       "    </tr>\n",
       "    <tr>\n",
       "      <th>91754</th>\n",
       "      <td>3652252</td>\n",
       "      <td>3652315</td>\n",
       "      <td>360.0</td>\n",
       "      <td>491.744232</td>\n",
       "      <td>251.444751</td>\n",
       "      <td>2</td>\n",
       "      <td>56.0</td>\n",
       "      <td>1.200134</td>\n",
       "      <td>298.522243</td>\n",
       "      <td>358.266772</td>\n",
       "      <td>...</td>\n",
       "      <td>1.698880</td>\n",
       "      <td>1.070606</td>\n",
       "      <td>103</td>\n",
       "      <td>43</td>\n",
       "      <td>1</td>\n",
       "      <td>2</td>\n",
       "      <td>pos8</td>\n",
       "      <td>0</td>\n",
       "      <td>797</td>\n",
       "      <td>1</td>\n",
       "    </tr>\n",
       "    <tr>\n",
       "      <th>91755</th>\n",
       "      <td>3652315</td>\n",
       "      <td>3652379</td>\n",
       "      <td>600.0</td>\n",
       "      <td>491.583363</td>\n",
       "      <td>251.648190</td>\n",
       "      <td>3</td>\n",
       "      <td>56.0</td>\n",
       "      <td>1.192029</td>\n",
       "      <td>300.613703</td>\n",
       "      <td>358.340366</td>\n",
       "      <td>...</td>\n",
       "      <td>1.721987</td>\n",
       "      <td>1.063376</td>\n",
       "      <td>103</td>\n",
       "      <td>43</td>\n",
       "      <td>1</td>\n",
       "      <td>2</td>\n",
       "      <td>pos8</td>\n",
       "      <td>0</td>\n",
       "      <td>797</td>\n",
       "      <td>1</td>\n",
       "    </tr>\n",
       "    <tr>\n",
       "      <th>91756</th>\n",
       "      <td>3652379</td>\n",
       "      <td>3652507</td>\n",
       "      <td>840.0</td>\n",
       "      <td>491.395196</td>\n",
       "      <td>251.498133</td>\n",
       "      <td>4</td>\n",
       "      <td>57.0</td>\n",
       "      <td>1.086665</td>\n",
       "      <td>327.233770</td>\n",
       "      <td>355.593473</td>\n",
       "      <td>...</td>\n",
       "      <td>1.680514</td>\n",
       "      <td>0.969383</td>\n",
       "      <td>103</td>\n",
       "      <td>43</td>\n",
       "      <td>1</td>\n",
       "      <td>2</td>\n",
       "      <td>pos8</td>\n",
       "      <td>0</td>\n",
       "      <td>797</td>\n",
       "      <td>1</td>\n",
       "    </tr>\n",
       "    <tr>\n",
       "      <th>91757</th>\n",
       "      <td>3652507</td>\n",
       "      <td>3652699</td>\n",
       "      <td>1080.0</td>\n",
       "      <td>491.576283</td>\n",
       "      <td>251.510618</td>\n",
       "      <td>5</td>\n",
       "      <td>56.0</td>\n",
       "      <td>1.098509</td>\n",
       "      <td>336.355284</td>\n",
       "      <td>369.489198</td>\n",
       "      <td>...</td>\n",
       "      <td>1.647706</td>\n",
       "      <td>0.979948</td>\n",
       "      <td>103</td>\n",
       "      <td>43</td>\n",
       "      <td>1</td>\n",
       "      <td>2</td>\n",
       "      <td>pos8</td>\n",
       "      <td>0</td>\n",
       "      <td>797</td>\n",
       "      <td>1</td>\n",
       "    </tr>\n",
       "    <tr>\n",
       "      <th>...</th>\n",
       "      <td>...</td>\n",
       "      <td>...</td>\n",
       "      <td>...</td>\n",
       "      <td>...</td>\n",
       "      <td>...</td>\n",
       "      <td>...</td>\n",
       "      <td>...</td>\n",
       "      <td>...</td>\n",
       "      <td>...</td>\n",
       "      <td>...</td>\n",
       "      <td>...</td>\n",
       "      <td>...</td>\n",
       "      <td>...</td>\n",
       "      <td>...</td>\n",
       "      <td>...</td>\n",
       "      <td>...</td>\n",
       "      <td>...</td>\n",
       "      <td>...</td>\n",
       "      <td>...</td>\n",
       "      <td>...</td>\n",
       "      <td>...</td>\n",
       "    </tr>\n",
       "    <tr>\n",
       "      <th>92824</th>\n",
       "      <td>3724259</td>\n",
       "      <td>3724398</td>\n",
       "      <td>258120.0</td>\n",
       "      <td>497.447002</td>\n",
       "      <td>282.820323</td>\n",
       "      <td>1076</td>\n",
       "      <td>66.0</td>\n",
       "      <td>1.131560</td>\n",
       "      <td>355.235022</td>\n",
       "      <td>401.969650</td>\n",
       "      <td>...</td>\n",
       "      <td>1.742837</td>\n",
       "      <td>1.009432</td>\n",
       "      <td>103</td>\n",
       "      <td>43</td>\n",
       "      <td>1</td>\n",
       "      <td>2</td>\n",
       "      <td>pos8</td>\n",
       "      <td>0</td>\n",
       "      <td>797</td>\n",
       "      <td>1</td>\n",
       "    </tr>\n",
       "    <tr>\n",
       "      <th>92825</th>\n",
       "      <td>3724398</td>\n",
       "      <td>3724190</td>\n",
       "      <td>258360.0</td>\n",
       "      <td>497.348633</td>\n",
       "      <td>282.874608</td>\n",
       "      <td>1077</td>\n",
       "      <td>67.0</td>\n",
       "      <td>1.095957</td>\n",
       "      <td>379.053989</td>\n",
       "      <td>415.426946</td>\n",
       "      <td>...</td>\n",
       "      <td>1.669996</td>\n",
       "      <td>0.977672</td>\n",
       "      <td>103</td>\n",
       "      <td>43</td>\n",
       "      <td>1</td>\n",
       "      <td>2</td>\n",
       "      <td>pos8</td>\n",
       "      <td>0</td>\n",
       "      <td>797</td>\n",
       "      <td>1</td>\n",
       "    </tr>\n",
       "    <tr>\n",
       "      <th>92826</th>\n",
       "      <td>3724190</td>\n",
       "      <td>3724534</td>\n",
       "      <td>258600.0</td>\n",
       "      <td>497.137834</td>\n",
       "      <td>282.725183</td>\n",
       "      <td>1078</td>\n",
       "      <td>68.0</td>\n",
       "      <td>1.076852</td>\n",
       "      <td>376.643371</td>\n",
       "      <td>405.589045</td>\n",
       "      <td>...</td>\n",
       "      <td>1.741337</td>\n",
       "      <td>0.960629</td>\n",
       "      <td>103</td>\n",
       "      <td>43</td>\n",
       "      <td>1</td>\n",
       "      <td>2</td>\n",
       "      <td>pos8</td>\n",
       "      <td>0</td>\n",
       "      <td>797</td>\n",
       "      <td>1</td>\n",
       "    </tr>\n",
       "    <tr>\n",
       "      <th>92827</th>\n",
       "      <td>3724534</td>\n",
       "      <td>3724466</td>\n",
       "      <td>258840.0</td>\n",
       "      <td>497.260230</td>\n",
       "      <td>282.897781</td>\n",
       "      <td>1079</td>\n",
       "      <td>63.0</td>\n",
       "      <td>1.141552</td>\n",
       "      <td>360.740397</td>\n",
       "      <td>411.804081</td>\n",
       "      <td>...</td>\n",
       "      <td>1.760395</td>\n",
       "      <td>1.018347</td>\n",
       "      <td>103</td>\n",
       "      <td>43</td>\n",
       "      <td>1</td>\n",
       "      <td>2</td>\n",
       "      <td>pos8</td>\n",
       "      <td>0</td>\n",
       "      <td>797</td>\n",
       "      <td>1</td>\n",
       "    </tr>\n",
       "    <tr>\n",
       "      <th>92828</th>\n",
       "      <td>3724466</td>\n",
       "      <td>0</td>\n",
       "      <td>0.0</td>\n",
       "      <td>497.208724</td>\n",
       "      <td>282.974230</td>\n",
       "      <td>1080</td>\n",
       "      <td>64.0</td>\n",
       "      <td>1.141451</td>\n",
       "      <td>365.621073</td>\n",
       "      <td>417.338698</td>\n",
       "      <td>...</td>\n",
       "      <td>1.707078</td>\n",
       "      <td>1.018256</td>\n",
       "      <td>103</td>\n",
       "      <td>43</td>\n",
       "      <td>1</td>\n",
       "      <td>2</td>\n",
       "      <td>pos8</td>\n",
       "      <td>0</td>\n",
       "      <td>797</td>\n",
       "      <td>1</td>\n",
       "    </tr>\n",
       "  </tbody>\n",
       "</table>\n",
       "<p>1076 rows × 29 columns</p>\n",
       "</div>"
      ],
      "text/plain": [
       "       source_spot  target_spot  edge_time        xpos        ypos  tpos  \\\n",
       "91753      3652443      3652252      120.0  491.754988  251.819559     1   \n",
       "91754      3652252      3652315      360.0  491.744232  251.444751     2   \n",
       "91755      3652315      3652379      600.0  491.583363  251.648190     3   \n",
       "91756      3652379      3652507      840.0  491.395196  251.498133     4   \n",
       "91757      3652507      3652699     1080.0  491.576283  251.510618     5   \n",
       "...            ...          ...        ...         ...         ...   ...   \n",
       "92824      3724259      3724398   258120.0  497.447002  282.820323  1076   \n",
       "92825      3724398      3724190   258360.0  497.348633  282.874608  1077   \n",
       "92826      3724190      3724534   258600.0  497.137834  282.725183  1078   \n",
       "92827      3724534      3724466   258840.0  497.260230  282.897781  1079   \n",
       "92828      3724466            0        0.0  497.208724  282.974230  1080   \n",
       "\n",
       "       ROI_nb  cell_av_FRET      CFP_av      YFP_av  ...  Aspect_Ratio  \\\n",
       "91753    56.0           NaN  309.240843  344.579167  ...      1.643393   \n",
       "91754    56.0      1.200134  298.522243  358.266772  ...      1.698880   \n",
       "91755    56.0      1.192029  300.613703  358.340366  ...      1.721987   \n",
       "91756    57.0      1.086665  327.233770  355.593473  ...      1.680514   \n",
       "91757    56.0      1.098509  336.355284  369.489198  ...      1.647706   \n",
       "...       ...           ...         ...         ...  ...           ...   \n",
       "92824    66.0      1.131560  355.235022  401.969650  ...      1.742837   \n",
       "92825    67.0      1.095957  379.053989  415.426946  ...      1.669996   \n",
       "92826    68.0      1.076852  376.643371  405.589045  ...      1.741337   \n",
       "92827    63.0      1.141552  360.740397  411.804081  ...      1.760395   \n",
       "92828    64.0      1.141451  365.621073  417.338698  ...      1.707078   \n",
       "\n",
       "       cell_av_FRET_norm  unique_track_id  trackmate_track_id  iscorrect  \\\n",
       "91753                NaN              103                  43          1   \n",
       "91754           1.070606              103                  43          1   \n",
       "91755           1.063376              103                  43          1   \n",
       "91756           0.969383              103                  43          1   \n",
       "91757           0.979948              103                  43          1   \n",
       "...                  ...              ...                 ...        ...   \n",
       "92824           1.009432              103                  43          1   \n",
       "92825           0.977672              103                  43          1   \n",
       "92826           0.960629              103                  43          1   \n",
       "92827           1.018347              103                  43          1   \n",
       "92828           1.018256              103                  43          1   \n",
       "\n",
       "       fate   fov  apoptosis_time  mitosis_time  daughter  \n",
       "91753     2  pos8               0           797         1  \n",
       "91754     2  pos8               0           797         1  \n",
       "91755     2  pos8               0           797         1  \n",
       "91756     2  pos8               0           797         1  \n",
       "91757     2  pos8               0           797         1  \n",
       "...     ...   ...             ...           ...       ...  \n",
       "92824     2  pos8               0           797         1  \n",
       "92825     2  pos8               0           797         1  \n",
       "92826     2  pos8               0           797         1  \n",
       "92827     2  pos8               0           797         1  \n",
       "92828     2  pos8               0           797         1  \n",
       "\n",
       "[1076 rows x 29 columns]"
      ]
     },
     "execution_count": 3,
     "metadata": {},
     "output_type": "execute_result"
    }
   ],
   "source": [
    "track_data_br1[track_data_br1['unique_track_id'] == 102]"
   ]
  },
  {
   "cell_type": "code",
   "execution_count": 3,
   "metadata": {},
   "outputs": [
    {
     "name": "stdout",
     "output_type": "stream",
     "text": [
      "[ 1  1  1 ... 20 20 20]\n",
      "bioreplicate: BR1\n",
      "['/Users/inescunha/Documents/GitHub/explanation/BR1_Images/Tiff/ALM272_B03_G001_0001.tif']\n",
      "[21 21 21 ... 39 39 39]\n",
      "bioreplicate: BR1\n",
      "['/Users/inescunha/Documents/GitHub/explanation/BR1_Images/Tiff/ALM272_B03_G002_0001.tif']\n",
      "[40 40 40 ... 59 59 59]\n",
      "bioreplicate: BR1\n",
      "['/Users/inescunha/Documents/GitHub/explanation/BR1_Images/Tiff/ALM272_B03_G003_0001.tif']\n",
      "[ 60  60  60 ... 122 122 122]\n",
      "bioreplicate: BR1\n",
      "['/Users/inescunha/Documents/GitHub/explanation/BR1_Images/Tiff/ALM272_B04_G004_0001.tif']\n",
      "[123 123 123 ... 161 161 161]\n",
      "bioreplicate: BR1\n",
      "['/Users/inescunha/Documents/GitHub/explanation/BR1_Images/Tiff/ALM272_B04_G005_0001.tif']\n",
      "[162 162 162 ... 203 203 203]\n",
      "bioreplicate: BR1\n",
      "['/Users/inescunha/Documents/GitHub/explanation/BR1_Images/Tiff/ALM272_B04_G006_0001.tif']\n",
      "[204 204 204 ... 296 296 296]\n",
      "bioreplicate: BR1\n",
      "['/Users/inescunha/Documents/GitHub/explanation/BR1_Images/Tiff/ALM272_B05_G007_0001.tif']\n",
      "[297 297 297 ... 375 375 375]\n",
      "bioreplicate: BR1\n",
      "['/Users/inescunha/Documents/GitHub/explanation/BR1_Images/Tiff/ALM272_B05_G008_0001.tif']\n",
      "[376 376 376 ... 478 478 478]\n",
      "bioreplicate: BR1\n",
      "['/Users/inescunha/Documents/GitHub/explanation/BR1_Images/Tiff/ALM272_B05_G009_0001.tif']\n",
      "[ 1  1  1 ... 20 20 20]\n",
      "['/Users/inescunha/Documents/GitHub/explanation/BR1_Images/Segmentations_and_FRET/ALM272_BR1_1_seg.tiff']\n",
      "[21 21 21 ... 39 39 39]\n",
      "['/Users/inescunha/Documents/GitHub/explanation/BR1_Images/Segmentations_and_FRET/ALM272_BR1_2_seg.tiff']\n",
      "[40 40 40 ... 59 59 59]\n",
      "['/Users/inescunha/Documents/GitHub/explanation/BR1_Images/Segmentations_and_FRET/ALM272_BR1_3_seg.tiff']\n",
      "[ 60  60  60 ... 122 122 122]\n",
      "['/Users/inescunha/Documents/GitHub/explanation/BR1_Images/Segmentations_and_FRET/ALM272_BR1_4_seg.tiff']\n",
      "[123 123 123 ... 161 161 161]\n",
      "['/Users/inescunha/Documents/GitHub/explanation/BR1_Images/Segmentations_and_FRET/ALM272_BR1_5_seg.tiff']\n",
      "[162 162 162 ... 203 203 203]\n",
      "['/Users/inescunha/Documents/GitHub/explanation/BR1_Images/Segmentations_and_FRET/ALM272_BR1_6_seg.tiff']\n",
      "[204 204 204 ... 296 296 296]\n",
      "['/Users/inescunha/Documents/GitHub/explanation/BR1_Images/Segmentations_and_FRET/ALM272_BR1_7_seg.tiff']\n",
      "[297 297 297 ... 375 375 375]\n",
      "['/Users/inescunha/Documents/GitHub/explanation/BR1_Images/Segmentations_and_FRET/ALM272_BR1_8_seg.tiff']\n",
      "[376 376 376 ... 478 478 478]\n",
      "['/Users/inescunha/Documents/GitHub/explanation/BR1_Images/Segmentations_and_FRET/ALM272_BR1_9_seg.tiff']\n",
      "[ 1  1  1 ... 20 20 20]\n",
      "['/Users/inescunha/Documents/GitHub/explanation/BR1_Images/Segmentations_and_FRET/ALM272_BR1_1_FRET.tiff']\n",
      "[21 21 21 ... 39 39 39]\n",
      "['/Users/inescunha/Documents/GitHub/explanation/BR1_Images/Segmentations_and_FRET/ALM272_BR1_2_FRET.tiff']\n",
      "[40 40 40 ... 59 59 59]\n",
      "['/Users/inescunha/Documents/GitHub/explanation/BR1_Images/Segmentations_and_FRET/ALM272_BR1_3_FRET.tiff']\n",
      "[ 60  60  60 ... 122 122 122]\n",
      "['/Users/inescunha/Documents/GitHub/explanation/BR1_Images/Segmentations_and_FRET/ALM272_BR1_4_FRET.tiff']\n",
      "[123 123 123 ... 161 161 161]\n",
      "['/Users/inescunha/Documents/GitHub/explanation/BR1_Images/Segmentations_and_FRET/ALM272_BR1_5_FRET.tiff']\n",
      "[162 162 162 ... 203 203 203]\n",
      "['/Users/inescunha/Documents/GitHub/explanation/BR1_Images/Segmentations_and_FRET/ALM272_BR1_6_FRET.tiff']\n",
      "[204 204 204 ... 296 296 296]\n",
      "['/Users/inescunha/Documents/GitHub/explanation/BR1_Images/Segmentations_and_FRET/ALM272_BR1_7_FRET.tiff']\n",
      "[297 297 297 ... 375 375 375]\n",
      "['/Users/inescunha/Documents/GitHub/explanation/BR1_Images/Segmentations_and_FRET/ALM272_BR1_8_FRET.tiff']\n",
      "[376 376 376 ... 478 478 478]\n",
      "['/Users/inescunha/Documents/GitHub/explanation/BR1_Images/Segmentations_and_FRET/ALM272_BR1_9_FRET.tiff']\n",
      "[479 479 479 ... 526 526 526]\n",
      "bioreplicate: BR2\n",
      "['/Users/inescunha/Documents/GitHub/explanation/BR2_Images/ALM272_BR2_B02_G001_0001.tif']\n",
      "[527 527 527 ... 625 625 625]\n",
      "bioreplicate: BR2\n",
      "['/Users/inescunha/Documents/GitHub/explanation/BR2_Images/ALM272_BR2_B02_G002_0001.tif']\n",
      "[626 626 626 ... 693 693 693]\n",
      "bioreplicate: BR2\n",
      "['/Users/inescunha/Documents/GitHub/explanation/BR2_Images/ALM272_BR2_B03_G006_0001.tif']\n",
      "[694 694 694 ... 763 763 763]\n",
      "bioreplicate: BR2\n",
      "['/Users/inescunha/Documents/GitHub/explanation/BR2_Images/ALM272_BR2_B04_G008_0001.tif']\n",
      "[764 764 764 ... 971 971 971]\n",
      "bioreplicate: BR2\n",
      "['/Users/inescunha/Documents/GitHub/explanation/BR2_Images/ALM272_BR2_B04_G009_0001.tif']\n",
      "[479 479 479 ... 526 526 526]\n",
      "['/Users/inescunha/Documents/GitHub/explanation/BR2_Images/Segmentations_and_FRET/ALM272_BR2_1_seg.tiff']\n",
      "[527 527 527 ... 625 625 625]\n",
      "['/Users/inescunha/Documents/GitHub/explanation/BR2_Images/Segmentations_and_FRET/ALM272_BR2_2_seg.tiff']\n",
      "[626 626 626 ... 693 693 693]\n",
      "['/Users/inescunha/Documents/GitHub/explanation/BR2_Images/Segmentations_and_FRET/ALM272_BR2_6_seg.tiff']\n",
      "[694 694 694 ... 763 763 763]\n",
      "['/Users/inescunha/Documents/GitHub/explanation/BR2_Images/Segmentations_and_FRET/ALM272_BR2_8_seg.tiff']\n",
      "[764 764 764 ... 971 971 971]\n",
      "['/Users/inescunha/Documents/GitHub/explanation/BR2_Images/Segmentations_and_FRET/ALM272_BR2_9_seg.tiff']\n",
      "[479 479 479 ... 526 526 526]\n",
      "['/Users/inescunha/Documents/GitHub/explanation/BR2_Images/Segmentations_and_FRET/ALM272_BR2_1_FRET.tiff']\n",
      "[527 527 527 ... 625 625 625]\n",
      "['/Users/inescunha/Documents/GitHub/explanation/BR2_Images/Segmentations_and_FRET/ALM272_BR2_2_FRET.tiff']\n",
      "[626 626 626 ... 693 693 693]\n",
      "['/Users/inescunha/Documents/GitHub/explanation/BR2_Images/Segmentations_and_FRET/ALM272_BR2_6_FRET.tiff']\n",
      "[694 694 694 ... 763 763 763]\n",
      "['/Users/inescunha/Documents/GitHub/explanation/BR2_Images/Segmentations_and_FRET/ALM272_BR2_8_FRET.tiff']\n",
      "[764 764 764 ... 971 971 971]\n",
      "['/Users/inescunha/Documents/GitHub/explanation/BR2_Images/Segmentations_and_FRET/ALM272_BR2_9_FRET.tiff']\n",
      "[ 972  972  972 ... 1038 1038 1038]\n",
      "bioreplicate: BR3\n",
      "['/Users/inescunha/Documents/GitHub/explanation/BR3_Images/ALM272_BR3_B04_G001_0001-004.tif']\n",
      "[1039 1039 1039 ... 1111 1111 1111]\n",
      "bioreplicate: BR3\n",
      "['/Users/inescunha/Documents/GitHub/explanation/BR3_Images/ALM272_BR3_B04_G002_0001-002.tif']\n",
      "[1112 1112 1112 ... 1237 1237 1237]\n",
      "bioreplicate: BR3\n",
      "['/Users/inescunha/Documents/GitHub/explanation/BR3_Images/ALM272_BR3_B04_G003_0001-005.tif']\n",
      "[1238 1238 1238 ... 1316 1316 1316]\n",
      "bioreplicate: BR3\n",
      "['/Users/inescunha/Documents/GitHub/explanation/BR3_Images/ALM272_BR3_B04_G004_0001-001.tif']\n",
      "[1317 1317 1317 ... 1453 1453 1453]\n",
      "bioreplicate: BR3\n",
      "['/Users/inescunha/Documents/GitHub/explanation/BR3_Images/ALM272_BR3_B05_G005_0001.tif']\n",
      "[1454 1454 1454 ... 1582 1582 1582]\n",
      "bioreplicate: BR3\n",
      "['/Users/inescunha/Documents/GitHub/explanation/BR3_Images/ALM272_BR3_B05_G006_0001.tif']\n",
      "[1583 1583 1583 ... 1690 1690 1690]\n",
      "bioreplicate: BR3\n",
      "['/Users/inescunha/Documents/GitHub/explanation/BR3_Images/ALM272_BR3_B05_G007_0001-003.tif']\n",
      "[1691 1691 1691 ... 1827 1827 1827]\n",
      "bioreplicate: BR3\n",
      "['/Users/inescunha/Documents/GitHub/explanation/BR3_Images/ALM272_BR3_B05_G008_0001-006.tif']\n",
      "[ 972  972  972 ... 1038 1038 1038]\n",
      "['/Users/inescunha/Documents/GitHub/explanation/BR3_Images/Segmentations_and_FRET/ALM272_BR3_1_seg.tiff']\n",
      "[1039 1039 1039 ... 1111 1111 1111]\n",
      "['/Users/inescunha/Documents/GitHub/explanation/BR3_Images/Segmentations_and_FRET/ALM272_BR3_2_seg.tiff']\n",
      "[1112 1112 1112 ... 1237 1237 1237]\n",
      "['/Users/inescunha/Documents/GitHub/explanation/BR3_Images/Segmentations_and_FRET/ALM272_BR3_3_seg.tiff']\n",
      "[1238 1238 1238 ... 1316 1316 1316]\n",
      "['/Users/inescunha/Documents/GitHub/explanation/BR3_Images/Segmentations_and_FRET/ALM272_BR3_4_seg.tiff']\n",
      "[1317 1317 1317 ... 1453 1453 1453]\n",
      "['/Users/inescunha/Documents/GitHub/explanation/BR3_Images/Segmentations_and_FRET/ALM272_BR3_5_seg.tiff']\n",
      "[1454 1454 1454 ... 1582 1582 1582]\n",
      "['/Users/inescunha/Documents/GitHub/explanation/BR3_Images/Segmentations_and_FRET/ALM272_BR3_6_seg.tiff']\n",
      "[1583 1583 1583 ... 1690 1690 1690]\n",
      "['/Users/inescunha/Documents/GitHub/explanation/BR3_Images/Segmentations_and_FRET/ALM272_BR3_7_seg.tiff']\n",
      "[1691 1691 1691 ... 1827 1827 1827]\n",
      "['/Users/inescunha/Documents/GitHub/explanation/BR3_Images/Segmentations_and_FRET/ALM272_BR3_8_seg.tiff']\n",
      "[ 972  972  972 ... 1038 1038 1038]\n",
      "['/Users/inescunha/Documents/GitHub/explanation/BR3_Images/Segmentations_and_FRET/ALM272_BR3_1_FRET.tiff']\n",
      "[1039 1039 1039 ... 1111 1111 1111]\n",
      "['/Users/inescunha/Documents/GitHub/explanation/BR3_Images/Segmentations_and_FRET/ALM272_BR3_2_FRET.tiff']\n",
      "[1112 1112 1112 ... 1237 1237 1237]\n",
      "['/Users/inescunha/Documents/GitHub/explanation/BR3_Images/Segmentations_and_FRET/ALM272_BR3_3_FRET.tiff']\n",
      "[1238 1238 1238 ... 1316 1316 1316]\n",
      "['/Users/inescunha/Documents/GitHub/explanation/BR3_Images/Segmentations_and_FRET/ALM272_BR3_4_FRET.tiff']\n",
      "[1317 1317 1317 ... 1453 1453 1453]\n",
      "['/Users/inescunha/Documents/GitHub/explanation/BR3_Images/Segmentations_and_FRET/ALM272_BR3_5_FRET.tiff']\n",
      "[1454 1454 1454 ... 1582 1582 1582]\n",
      "['/Users/inescunha/Documents/GitHub/explanation/BR3_Images/Segmentations_and_FRET/ALM272_BR3_6_FRET.tiff']\n",
      "[1583 1583 1583 ... 1690 1690 1690]\n",
      "['/Users/inescunha/Documents/GitHub/explanation/BR3_Images/Segmentations_and_FRET/ALM272_BR3_7_FRET.tiff']\n",
      "[1691 1691 1691 ... 1827 1827 1827]\n",
      "['/Users/inescunha/Documents/GitHub/explanation/BR3_Images/Segmentations_and_FRET/ALM272_BR3_8_FRET.tiff']\n",
      "BR1 Images shape: (478, 1080, 3, 20, 20) BR2: (493, 1080, 3, 20, 20) BR3: (856, 1080, 4, 20, 20)\n",
      "BR1 tracks shape: (478, 1080, 19) BR2: (493, 1080, 19) BR3: (856, 1080, 19)\n"
     ]
    }
   ],
   "source": [
    "sub_size = (20, 20)\n",
    "\n",
    "# BR1\n",
    "images_br1, y_train_br1_ = process_all_fovs(track_data_br1, sub_size, bioreplicate = \"BR1\", segmentation=False, FRET=False)\n",
    "segmentations_br1, y_train_br1_ = process_all_fovs(track_data_br1, sub_size, bioreplicate = \"BR1\", segmentation=True, FRET=False)\n",
    "fret_br1, y_train_br1_ = process_all_fovs(track_data_br1, sub_size, bioreplicate = \"BR1\", segmentation=True, FRET=True)\n",
    "\n",
    "# BR2\n",
    "images_br2, y_train_br2_ = process_all_fovs(track_data_br2, sub_size, bioreplicate = \"BR2\", segmentation=False, FRET=False)\n",
    "segmentations_br2, y_train_br2_ = process_all_fovs(track_data_br2, sub_size, bioreplicate = \"BR2\", segmentation=True, FRET=False)\n",
    "fret_br2, y_train_br2_ = process_all_fovs(track_data_br2, sub_size, bioreplicate = \"BR2\", segmentation=True, FRET=True)\n",
    "\n",
    "# BR3\n",
    "images_br3, y_train_br3_ = process_all_fovs(track_data_br3, sub_size, bioreplicate = \"BR3\", segmentation=False, FRET=False)\n",
    "segmentations_br3, y_train_br3_ = process_all_fovs(track_data_br3, sub_size, bioreplicate = \"BR3\", segmentation=True, FRET=False)\n",
    "fret_br3, y_train_br3_ = process_all_fovs(track_data_br3, sub_size, bioreplicate = \"BR3\", segmentation=True, FRET=True)\n",
    "\n",
    "print(\"BR1 Images shape:\", images_br1.shape, \"BR2:\", images_br2.shape, \"BR3:\", images_br3.shape)\n",
    "print(\"BR1 tracks shape:\", filtered_track_br1.shape, \"BR2:\", filtered_track_br2.shape, \"BR3:\", filtered_track_br3.shape)"
   ]
  },
  {
   "cell_type": "code",
   "execution_count": 4,
   "metadata": {},
   "outputs": [],
   "source": [
    "np.save(\"images_br1.npy\", images_br1)\n",
    "np.save(\"segmentations_br1.npy\", segmentations_br1)\n",
    "np.save(\"fret_br1.npy\", fret_br1)\n",
    "np.save(\"images_br2.npy\", images_br2)\n",
    "np.save(\"segmentations_br2.npy\", segmentations_br2)\n",
    "np.save(\"fret_br2.npy\", fret_br2)\n",
    "np.save(\"images_br3.npy\", images_br3)\n",
    "np.save(\"segmentations_br3.npy\", segmentations_br3)\n",
    "np.save(\"fret_br3.npy\", fret_br3)\n",
    "np.save(\"y_train_br1.npy\", y_train_br1)\n",
    "np.save(\"y_train_br2.npy\", y_train_br2)\n",
    "np.save(\"y_train_br3.npy\", y_train_br3)"
   ]
  },
  {
   "cell_type": "code",
   "execution_count": 17,
   "metadata": {},
   "outputs": [
    {
     "data": {
      "text/plain": [
       "(478, 1080, 19)"
      ]
     },
     "execution_count": 17,
     "metadata": {},
     "output_type": "execute_result"
    }
   ],
   "source": [
    "filtered_track_br1.shape"
   ]
  },
  {
   "cell_type": "code",
   "execution_count": 18,
   "metadata": {},
   "outputs": [
    {
     "data": {
      "text/plain": [
       "2"
      ]
     },
     "execution_count": 18,
     "metadata": {},
     "output_type": "execute_result"
    }
   ],
   "source": [
    "y_train_br1_[102]"
   ]
  },
  {
   "cell_type": "code",
   "execution_count": 9,
   "metadata": {},
   "outputs": [
    {
     "data": {
      "text/plain": [
       "array([[103.       , 491.75497  , 251.81956  , ...,   1.6433928,\n",
       "        797.       ,   2.       ],\n",
       "       [103.       , 491.74423  , 251.44475  , ...,   1.6988797,\n",
       "        797.       ,   2.       ],\n",
       "       [103.       , 491.58337  , 251.6482   , ...,   1.7219871,\n",
       "        797.       ,   2.       ],\n",
       "       ...,\n",
       "       [  0.       ,   0.       ,   0.       , ...,   0.       ,\n",
       "          0.       ,   0.       ],\n",
       "       [  0.       ,   0.       ,   0.       , ...,   0.       ,\n",
       "          0.       ,   0.       ],\n",
       "       [  0.       ,   0.       ,   0.       , ...,   0.       ,\n",
       "          0.       ,   0.       ]], dtype=float32)"
      ]
     },
     "execution_count": 9,
     "metadata": {},
     "output_type": "execute_result"
    }
   ],
   "source": [
    "filtered_track_br1[102]"
   ]
  },
  {
   "cell_type": "code",
   "execution_count": 8,
   "metadata": {},
   "outputs": [
    {
     "data": {
      "text/plain": [
       "(array([102]),)"
      ]
     },
     "execution_count": 8,
     "metadata": {},
     "output_type": "execute_result"
    }
   ],
   "source": [
    "np.where(filtered_track_br1[:,0,0]==103)"
   ]
  },
  {
   "cell_type": "markdown",
   "metadata": {},
   "source": [
    "# Processing\n",
    "#### From this point on, cells on the raw images, segmentation, fret and tracks will be processed equally (Outlier remover)."
   ]
  },
  {
   "cell_type": "code",
   "execution_count": 3,
   "metadata": {},
   "outputs": [],
   "source": [
    "images_br1 = np.load(\"images_br1.npy\")\n",
    "segmentations_br1 = np.load(\"segmentations_br1.npy\")\n",
    "fret_br1 = np.load(\"fret_br1.npy\")\n",
    "images_br2 = np.load(\"images_br2.npy\")\n",
    "segmentations_br2 = np.load(\"segmentations_br2.npy\")\n",
    "fret_br2 = np.load(\"fret_br2.npy\")\n",
    "images_br3 = np.load(\"images_br3.npy\")\n",
    "segmentations_br3 = np.load(\"segmentations_br3.npy\")\n",
    "fret_br3 = np.load(\"fret_br3.npy\")\n",
    "y_train_br1_ = np.load(\"y_train_br1.npy\")\n",
    "y_train_br2_ = np.load(\"y_train_br2.npy\")\n",
    "y_train_br3_ = np.load(\"y_train_br3.npy\")\n"
   ]
  },
  {
   "cell_type": "code",
   "execution_count": null,
   "metadata": {},
   "outputs": [],
   "source": []
  },
  {
   "cell_type": "markdown",
   "metadata": {},
   "source": [
    "## 1. Removing cells from edges of FOV"
   ]
  },
  {
   "cell_type": "code",
   "execution_count": 4,
   "metadata": {},
   "outputs": [
    {
     "name": "stdout",
     "output_type": "stream",
     "text": [
      "New dataset shape: (452, 1080, 3, 20, 20) Segmentations shape: (452, 1080, 20, 20) tracks: (452, 1080, 19) y train: (452,)\n"
     ]
    }
   ],
   "source": [
    "#### Removing cells in edges of the FOV ####\n",
    "\n",
    "indexes_to_remove_br1 = edge_indexes(images_br1)\n",
    "\n",
    "images_br1_no_edges = np.delete(images_br1, indexes_to_remove_br1, axis=0)\n",
    "y_train_br1_no_edges = np.delete(y_train_br1_, indexes_to_remove_br1)\n",
    "segmentations_br1_no_edges = np.delete(segmentations_br1, indexes_to_remove_br1, axis=0)\n",
    "filtered_track_br1_no_edges = np.delete(filtered_track_br1, indexes_to_remove_br1, axis=0)\n",
    "\n",
    "print(\"New dataset shape:\", images_br1_no_edges.shape, \"Segmentations shape:\", segmentations_br1_no_edges.shape, \"tracks:\", filtered_track_br1_no_edges.shape, \"y train:\", y_train_br1_no_edges.shape)\n"
   ]
  },
  {
   "cell_type": "code",
   "execution_count": 5,
   "metadata": {},
   "outputs": [
    {
     "name": "stdout",
     "output_type": "stream",
     "text": [
      "New dataset shape: (473, 1080, 3, 20, 20) Segmentations shape: (473, 1080, 20, 20) tracks: (473, 1080, 19) y train: (473,)\n"
     ]
    }
   ],
   "source": [
    "\n",
    "indexes_to_remove_br2 = edge_indexes(images_br2)\n",
    "\n",
    "images_br2_no_edges = np.delete(images_br2, indexes_to_remove_br2, axis=0)\n",
    "y_train_br2_no_edges = np.delete(y_train_br2_, indexes_to_remove_br2)\n",
    "segmentations_br2_no_edges = np.delete(segmentations_br2, indexes_to_remove_br2, axis=0)\n",
    "filtered_track_br2_no_edges = np.delete(filtered_track_br2, indexes_to_remove_br2, axis=0)\n",
    "\n",
    "print(\"New dataset shape:\", images_br2_no_edges.shape, \"Segmentations shape:\", segmentations_br2_no_edges.shape, \"tracks:\", filtered_track_br2_no_edges.shape, \"y train:\", y_train_br2_no_edges.shape)\n"
   ]
  },
  {
   "cell_type": "code",
   "execution_count": 6,
   "metadata": {},
   "outputs": [
    {
     "name": "stdout",
     "output_type": "stream",
     "text": [
      "New dataset shape: (804, 1080, 4, 20, 20) Segmentations shape: (804, 1080, 20, 20) tracks: (804, 1080, 19) y train: (804,)\n"
     ]
    }
   ],
   "source": [
    "indexes_to_remove_br3 = edge_indexes(images_br3)\n",
    "\n",
    "images_br3_no_edges = np.delete(images_br3, indexes_to_remove_br3, axis=0)\n",
    "y_train_br3_no_edges = np.delete(y_train_br3_, indexes_to_remove_br3)\n",
    "segmentations_br3_no_edges = np.delete(segmentations_br3, indexes_to_remove_br3, axis=0)\n",
    "filtered_track_br3_no_edges = np.delete(filtered_track_br3, indexes_to_remove_br3, axis=0)\n",
    "\n",
    "print(\"New dataset shape:\", images_br3_no_edges.shape, \"Segmentations shape:\", segmentations_br3_no_edges.shape, \"tracks:\", filtered_track_br3_no_edges.shape, \"y train:\", y_train_br3_no_edges.shape)"
   ]
  },
  {
   "cell_type": "code",
   "execution_count": null,
   "metadata": {},
   "outputs": [],
   "source": [
    "np.save(\"images_br1_no_edges.npy\", images_br1_no_edges)\n",
    "np.save(\"segmentations_br1_no_edges.npy\", segmentations_br1_no_edges)\n",
    "np.save(\"y_train_br1_no_edges.npy\", y_train_br1_no_edges)\n",
    "np.save(\"filtered_track_br1_no_edges.npy\", filtered_track_br1_no_edges)\n",
    "np.save(\"images_br2_no_edges.npy\", images_br2_no_edges)\n",
    "np.save(\"segmentations_br2_no_edges.npy\", segmentations_br2_no_edges)\n",
    "np.save(\"y_train_br2_no_edges.npy\", y_train_br2_no_edges)\n",
    "np.save(\"filtered_track_br2_no_edges.npy\", filtered_track_br2_no_edges)\n",
    "np.save(\"images_br3_no_edges.npy\", images_br3_no_edges)"
   ]
  },
  {
   "cell_type": "code",
   "execution_count": 8,
   "metadata": {},
   "outputs": [],
   "source": [
    "np.save(\"segmentations_br3_no_edges.npy\", segmentations_br3_no_edges)\n",
    "np.save(\"y_train_br3_no_edges.npy\", y_train_br3_no_edges)\n",
    "np.save(\"filtered_track_br3_no_edges.npy\", filtered_track_br3_no_edges)\n"
   ]
  },
  {
   "cell_type": "markdown",
   "metadata": {},
   "source": [
    "## 2. Overimpose images with segmentations to remove background noise"
   ]
  },
  {
   "cell_type": "code",
   "execution_count": 9,
   "metadata": {},
   "outputs": [],
   "source": [
    "overimposed_br1 = overimpose(images_br1_no_edges, segmentations_br1_no_edges)\n",
    "# overimposed_br2 = overimpose(images_br2_no_edges, segmentations_br2_no_edges)\n",
    "# overimposed_br3 = overimpose(images_br3_no_edges, segmentations_br3_no_edges)"
   ]
  },
  {
   "cell_type": "code",
   "execution_count": 7,
   "metadata": {},
   "outputs": [],
   "source": [
    "overimposed_br2 = overimpose(images_br2_no_edges, segmentations_br2_no_edges)"
   ]
  },
  {
   "cell_type": "code",
   "execution_count": 8,
   "metadata": {},
   "outputs": [],
   "source": [
    "overimposed_br3 = overimpose(images_br3_no_edges, segmentations_br3_no_edges)"
   ]
  },
  {
   "cell_type": "markdown",
   "metadata": {},
   "source": [
    "## 3. Removal of daughter cells (data points without tpos 1, 2 or 3)"
   ]
  },
  {
   "cell_type": "code",
   "execution_count": 9,
   "metadata": {},
   "outputs": [
    {
     "name": "stdout",
     "output_type": "stream",
     "text": [
      "Indices of cells without time points 1, 2, and 3 in `tpos`: [10, 15, 18, 36, 78, 81, 85, 96, 99, 105, 110, 111, 139, 148, 152, 153, 156, 157, 170, 179, 182, 185, 186, 187, 190, 191, 195, 198, 203, 220, 222, 228, 232, 241, 245, 247, 270, 285, 292, 302, 304, 306, 326, 329, 359, 371, 378, 391, 398, 406, 409, 412, 418, 436, 443, 445, 446]\n"
     ]
    }
   ],
   "source": [
    "##### Removing daughter cells ####\n",
    "# We can remove the daughter cells by removing the data points that do not have the time points 1,2 or 3 (which means they started their \"lifetimes\" somewhere in the middle of the time series, meaning they could only be daughter cells)\n",
    "\n",
    "indexes_daughter_br1 = daughter_indexes(filtered_track_br1_no_edges)\n",
    "print(\"Indices of cells without time points 1, 2, and 3 in `tpos`:\", indexes_daughter_br1)\n",
    "br1_mother_tracks = np.delete(filtered_track_br1_no_edges, indexes_daughter_br1, axis=0)\n",
    "br1_mother_images = np.delete(overimposed_br1, indexes_daughter_br1, axis=0)\n",
    "br1_y_train = np.delete(y_train_br1_no_edges, indexes_daughter_br1, axis=0)\n"
   ]
  },
  {
   "cell_type": "code",
   "execution_count": 10,
   "metadata": {},
   "outputs": [
    {
     "name": "stdout",
     "output_type": "stream",
     "text": [
      "Indices of cells without time points 1, 2, and 3 in `tpos`: [3, 5, 11, 28, 30, 33, 36, 46, 65, 72, 74, 76, 80, 82, 83, 88, 89, 92, 94, 105, 108, 109, 110, 119, 135, 140, 152, 156, 162, 182, 189, 194, 209, 232, 233, 263, 265, 273, 274, 275, 281, 283, 299, 304, 305, 307, 318, 325, 329, 333, 342, 369, 374, 395, 397, 402, 427, 429, 432, 439, 443, 458, 465]\n"
     ]
    }
   ],
   "source": [
    "indexes_daughter_br2 = daughter_indexes(filtered_track_br2_no_edges)\n",
    "print(\"Indices of cells without time points 1, 2, and 3 in `tpos`:\", indexes_daughter_br2)\n",
    "br2_mother_tracks = np.delete(filtered_track_br2_no_edges, indexes_daughter_br2, axis=0)\n",
    "br2_mother_images = np.delete(overimposed_br2, indexes_daughter_br2, axis=0)\n",
    "br2_y_train = np.delete(y_train_br2_no_edges, indexes_daughter_br2, axis=0)"
   ]
  },
  {
   "cell_type": "code",
   "execution_count": 11,
   "metadata": {},
   "outputs": [
    {
     "name": "stdout",
     "output_type": "stream",
     "text": [
      "Indices of cells without time points 1, 2, and 3 in `tpos`: [40, 63, 71, 77, 107, 116, 118, 155, 158, 162, 172, 174, 178, 180, 183, 188, 191, 195, 199, 204, 206, 212, 214, 225, 237, 239, 243, 246, 256, 262, 266, 277, 279, 287, 290, 307, 308, 309, 336, 346, 361, 368, 387, 389, 403, 409, 425, 426, 438, 456, 460, 463, 479, 498, 500, 513, 527, 536, 553, 554, 557, 571, 574, 580, 631, 637, 641, 667, 680, 695, 697, 701, 707, 712, 713, 718, 725, 737, 747, 750, 752, 773, 779, 782, 791, 794, 799]\n",
      "(395, 1080, 2, 20, 20) (410, 1080, 2, 20, 20) (717, 1080, 2, 20, 20)\n"
     ]
    }
   ],
   "source": [
    "indexes_daughter_br3 = daughter_indexes(filtered_track_br3_no_edges)\n",
    "print(\"Indices of cells without time points 1, 2, and 3 in `tpos`:\", indexes_daughter_br3)\n",
    "br3_mother_tracks = np.delete(filtered_track_br3_no_edges, indexes_daughter_br3, axis=0)\n",
    "br3_mother_images = np.delete(overimposed_br3, indexes_daughter_br3, axis=0)\n",
    "br3_y_train = np.delete(y_train_br3_no_edges, indexes_daughter_br3, axis=0)\n",
    "\n",
    "print(br1_mother_images.shape, br2_mother_images.shape, br3_mother_images.shape)"
   ]
  },
  {
   "cell_type": "code",
   "execution_count": 12,
   "metadata": {},
   "outputs": [],
   "source": [
    "### save from here!!! ###\n",
    "# np.save(\"/Users/inescunha/Documents/GitHub/CellFate/data/images/br1_mother_images.npy\", br1_mother_images)\n",
    "# np.save(\"/Users/inescunha/Documents/GitHub/CellFate/data/images/br2_mother_images.npy\", br2_mother_images)\n",
    "# np.save(\"/Users/inescunha/Documents/GitHub/CellFate/data/images/br3_mother_images.npy\", br3_mother_images)\n",
    "# np.save(\"/Users/inescunha/Documents/GitHub/CellFate/data/tracks/br1_mother_tracks.npy\", br1_mother_tracks)\n",
    "# np.save(\"/Users/inescunha/Documents/GitHub/CellFate/data/tracks/br2_mother_tracks.npy\", br2_mother_tracks)\n",
    "# np.save(\"/Users/inescunha/Documents/GitHub/CellFate/data/tracks/br3_mother_tracks.npy\", br3_mother_tracks)\n",
    "# np.save(\"/Users/inescunha/Documents/GitHub/CellFate/data/labels/br1_y_train.npy\", br1_y_train)\n",
    "# np.save(\"/Users/inescunha/Documents/GitHub/CellFate/data/labels/br2_y_train.npy\", br2_y_train)\n",
    "# np.save(\"/Users/inescunha/Documents/GitHub/CellFate/data/labels/br3_y_train.npy\", br3_y_train)"
   ]
  },
  {
   "cell_type": "markdown",
   "metadata": {},
   "source": [
    "## 4. Remove daughter trace from the same track as mother \n",
    "\n",
    "(This is done in the cases where trackmate associated the same ID to the mother and correspondent daughter, we still need to remove the daughter from the mother track)"
   ]
  },
  {
   "cell_type": "code",
   "execution_count": 2,
   "metadata": {},
   "outputs": [],
   "source": [
    "br1_mother_images = np.load(\"/Users/inescunha/Documents/GitHub/CellFate/data/images/br1_mother_images.npy\")\n",
    "br2_mother_images = np.load(\"/Users/inescunha/Documents/GitHub/CellFate/data/images/br2_mother_images.npy\")\n",
    "br3_mother_images = np.load(\"/Users/inescunha/Documents/GitHub/CellFate/data/images/br3_mother_images.npy\")\n",
    "br1_mother_tracks = np.load(\"/Users/inescunha/Documents/GitHub/CellFate/data/tracks/br1_mother_tracks.npy\")\n",
    "br2_mother_tracks = np.load(\"/Users/inescunha/Documents/GitHub/CellFate/data/tracks/br2_mother_tracks.npy\")\n",
    "br3_mother_tracks = np.load(\"/Users/inescunha/Documents/GitHub/CellFate/data/tracks/br3_mother_tracks.npy\")\n",
    "br1_y_train = np.load(\"/Users/inescunha/Documents/GitHub/CellFate/data/labels/br1_y_train.npy\")\n",
    "br2_y_train = np.load(\"/Users/inescunha/Documents/GitHub/CellFate/data/labels/br2_y_train.npy\")\n",
    "br3_y_train = np.load(\"/Users/inescunha/Documents/GitHub/CellFate/data/labels/br3_y_train.npy\")"
   ]
  },
  {
   "cell_type": "code",
   "execution_count": 7,
   "metadata": {},
   "outputs": [],
   "source": [
    "def daughter_trace_removal(tabular_data, image_data):\n",
    "    \"\"\"\n",
    "    Removes information from daughter cells in both tabular and image data.\n",
    "    \n",
    "    - For each cell (row) in tabular_data, it finds the first zero in column 4, **ignoring the first time point**.\n",
    "    - From that time point onward, it sets all values in that row to zero.\n",
    "    - The same index is used to set corresponding images in image_data to zero.\n",
    "\n",
    "    Args:\n",
    "        tabular_data (numpy.ndarray): A 3D matrix of shape (cells, time, features).\n",
    "        image_data (numpy.ndarray): A 5D matrix of shape (cells, time, channels, height, width).\n",
    "\n",
    "    Returns:\n",
    "        tuple: Processed (tabular_data, image_data) with zeroed-out values from the determined index onward.\n",
    "    \"\"\"\n",
    "    processed_tabular = tabular_data.copy()\n",
    "    processed_images = image_data.copy()\n",
    "    \n",
    "    for cell_idx, cell in enumerate(processed_tabular):\n",
    "        # Ignore the first time point and find the first zero in the 4th column (index 3)\n",
    "        feature_values = cell[1:, 4]  # Start from the second time point\n",
    "        first_zero_index = np.argmax(feature_values == 0) + 1 if np.any(feature_values == 0) else None  # Shift by 1\n",
    "        \n",
    "        # If a zero is found, zero out both tabular and image data from that time point onward\n",
    "        if first_zero_index is not None:\n",
    "            processed_tabular[cell_idx, first_zero_index:, :] = 0\n",
    "            processed_images[cell_idx, first_zero_index:, :, :, :] = 0  # Zeroing corresponding images\n",
    "    \n",
    "    return processed_tabular, processed_images"
   ]
  },
  {
   "cell_type": "code",
   "execution_count": 8,
   "metadata": {},
   "outputs": [],
   "source": [
    "processed_br1_mother_tracks, processed_br1_images = daughter_trace_removal(br1_mother_tracks, br1_mother_images)\n",
    "processed_br2_mother_tracks, processed_br2_images = daughter_trace_removal(br2_mother_tracks, br2_mother_images)\n",
    "processed_br3_mother_tracks, processed_br3_images = daughter_trace_removal(br3_mother_tracks, br3_mother_images)"
   ]
  },
  {
   "cell_type": "code",
   "execution_count": null,
   "metadata": {},
   "outputs": [
    {
     "data": {
      "text/plain": [
       "(395, 1080, 19)"
      ]
     },
     "execution_count": 4,
     "metadata": {},
     "output_type": "execute_result"
    }
   ],
   "source": [
    "processed_br1_mother_tracks[]"
   ]
  },
  {
   "cell_type": "code",
   "execution_count": 35,
   "metadata": {},
   "outputs": [
    {
     "data": {
      "text/html": [
       "<div>\n",
       "<style scoped>\n",
       "    .dataframe tbody tr th:only-of-type {\n",
       "        vertical-align: middle;\n",
       "    }\n",
       "\n",
       "    .dataframe tbody tr th {\n",
       "        vertical-align: top;\n",
       "    }\n",
       "\n",
       "    .dataframe thead th {\n",
       "        text-align: right;\n",
       "    }\n",
       "</style>\n",
       "<table border=\"1\" class=\"dataframe\">\n",
       "  <thead>\n",
       "    <tr style=\"text-align: right;\">\n",
       "      <th></th>\n",
       "      <th>source_spot</th>\n",
       "      <th>target_spot</th>\n",
       "      <th>edge_time</th>\n",
       "      <th>xpos</th>\n",
       "      <th>ypos</th>\n",
       "      <th>tpos</th>\n",
       "      <th>ROI_nb</th>\n",
       "      <th>cell_av_FRET</th>\n",
       "      <th>CFP_av</th>\n",
       "      <th>YFP_av</th>\n",
       "      <th>...</th>\n",
       "      <th>Aspect_Ratio</th>\n",
       "      <th>cell_av_FRET_norm</th>\n",
       "      <th>unique_track_id</th>\n",
       "      <th>trackmate_track_id</th>\n",
       "      <th>iscorrect</th>\n",
       "      <th>fate</th>\n",
       "      <th>fov</th>\n",
       "      <th>apoptosis_time</th>\n",
       "      <th>mitosis_time</th>\n",
       "      <th>daughter</th>\n",
       "    </tr>\n",
       "  </thead>\n",
       "  <tbody>\n",
       "    <tr>\n",
       "      <th>92463</th>\n",
       "      <td>3699942</td>\n",
       "      <td>3700158</td>\n",
       "      <td>170520.0</td>\n",
       "      <td>498.080033</td>\n",
       "      <td>245.015297</td>\n",
       "      <td>711</td>\n",
       "      <td>68.0</td>\n",
       "      <td>1.232500</td>\n",
       "      <td>405.196542</td>\n",
       "      <td>499.404799</td>\n",
       "      <td>...</td>\n",
       "      <td>1.138690</td>\n",
       "      <td>1.099478</td>\n",
       "      <td>103</td>\n",
       "      <td>43</td>\n",
       "      <td>1</td>\n",
       "      <td>2</td>\n",
       "      <td>pos8</td>\n",
       "      <td>0</td>\n",
       "      <td>797</td>\n",
       "      <td>1</td>\n",
       "    </tr>\n",
       "    <tr>\n",
       "      <th>92464</th>\n",
       "      <td>3700158</td>\n",
       "      <td>3700014</td>\n",
       "      <td>170760.0</td>\n",
       "      <td>498.048645</td>\n",
       "      <td>245.091159</td>\n",
       "      <td>712</td>\n",
       "      <td>72.0</td>\n",
       "      <td>1.230479</td>\n",
       "      <td>398.189151</td>\n",
       "      <td>489.963549</td>\n",
       "      <td>...</td>\n",
       "      <td>1.170095</td>\n",
       "      <td>1.097676</td>\n",
       "      <td>103</td>\n",
       "      <td>43</td>\n",
       "      <td>1</td>\n",
       "      <td>2</td>\n",
       "      <td>pos8</td>\n",
       "      <td>0</td>\n",
       "      <td>797</td>\n",
       "      <td>1</td>\n",
       "    </tr>\n",
       "    <tr>\n",
       "      <th>92465</th>\n",
       "      <td>3700014</td>\n",
       "      <td>3700087</td>\n",
       "      <td>171000.0</td>\n",
       "      <td>498.138946</td>\n",
       "      <td>244.928732</td>\n",
       "      <td>713</td>\n",
       "      <td>71.0</td>\n",
       "      <td>1.230357</td>\n",
       "      <td>384.732324</td>\n",
       "      <td>473.357934</td>\n",
       "      <td>...</td>\n",
       "      <td>1.115231</td>\n",
       "      <td>1.097566</td>\n",
       "      <td>103</td>\n",
       "      <td>43</td>\n",
       "      <td>1</td>\n",
       "      <td>2</td>\n",
       "      <td>pos8</td>\n",
       "      <td>0</td>\n",
       "      <td>797</td>\n",
       "      <td>1</td>\n",
       "    </tr>\n",
       "    <tr>\n",
       "      <th>92466</th>\n",
       "      <td>3700087</td>\n",
       "      <td>3700231</td>\n",
       "      <td>171240.0</td>\n",
       "      <td>498.462780</td>\n",
       "      <td>244.637087</td>\n",
       "      <td>714</td>\n",
       "      <td>72.0</td>\n",
       "      <td>1.214696</td>\n",
       "      <td>404.691441</td>\n",
       "      <td>491.577053</td>\n",
       "      <td>...</td>\n",
       "      <td>1.120890</td>\n",
       "      <td>1.083596</td>\n",
       "      <td>103</td>\n",
       "      <td>43</td>\n",
       "      <td>1</td>\n",
       "      <td>2</td>\n",
       "      <td>pos8</td>\n",
       "      <td>0</td>\n",
       "      <td>797</td>\n",
       "      <td>1</td>\n",
       "    </tr>\n",
       "    <tr>\n",
       "      <th>92467</th>\n",
       "      <td>3700231</td>\n",
       "      <td>3700372</td>\n",
       "      <td>171480.0</td>\n",
       "      <td>498.574125</td>\n",
       "      <td>244.508427</td>\n",
       "      <td>715</td>\n",
       "      <td>71.0</td>\n",
       "      <td>1.245764</td>\n",
       "      <td>373.336690</td>\n",
       "      <td>465.089259</td>\n",
       "      <td>...</td>\n",
       "      <td>1.113167</td>\n",
       "      <td>1.111310</td>\n",
       "      <td>103</td>\n",
       "      <td>43</td>\n",
       "      <td>1</td>\n",
       "      <td>2</td>\n",
       "      <td>pos8</td>\n",
       "      <td>0</td>\n",
       "      <td>797</td>\n",
       "      <td>1</td>\n",
       "    </tr>\n",
       "    <tr>\n",
       "      <th>92468</th>\n",
       "      <td>3700372</td>\n",
       "      <td>3700302</td>\n",
       "      <td>171720.0</td>\n",
       "      <td>498.398625</td>\n",
       "      <td>244.636050</td>\n",
       "      <td>716</td>\n",
       "      <td>75.0</td>\n",
       "      <td>1.312019</td>\n",
       "      <td>375.212172</td>\n",
       "      <td>492.285507</td>\n",
       "      <td>...</td>\n",
       "      <td>1.185505</td>\n",
       "      <td>1.170415</td>\n",
       "      <td>103</td>\n",
       "      <td>43</td>\n",
       "      <td>1</td>\n",
       "      <td>2</td>\n",
       "      <td>pos8</td>\n",
       "      <td>0</td>\n",
       "      <td>797</td>\n",
       "      <td>1</td>\n",
       "    </tr>\n",
       "    <tr>\n",
       "      <th>92469</th>\n",
       "      <td>3700302</td>\n",
       "      <td>3700443</td>\n",
       "      <td>171960.0</td>\n",
       "      <td>498.456646</td>\n",
       "      <td>244.334124</td>\n",
       "      <td>717</td>\n",
       "      <td>73.0</td>\n",
       "      <td>1.466444</td>\n",
       "      <td>362.123747</td>\n",
       "      <td>531.034370</td>\n",
       "      <td>...</td>\n",
       "      <td>1.305648</td>\n",
       "      <td>1.308174</td>\n",
       "      <td>103</td>\n",
       "      <td>43</td>\n",
       "      <td>1</td>\n",
       "      <td>2</td>\n",
       "      <td>pos8</td>\n",
       "      <td>0</td>\n",
       "      <td>797</td>\n",
       "      <td>1</td>\n",
       "    </tr>\n",
       "    <tr>\n",
       "      <th>92470</th>\n",
       "      <td>3700443</td>\n",
       "      <td>3700514</td>\n",
       "      <td>172200.0</td>\n",
       "      <td>498.565389</td>\n",
       "      <td>244.441725</td>\n",
       "      <td>718</td>\n",
       "      <td>74.0</td>\n",
       "      <td>1.502754</td>\n",
       "      <td>343.237770</td>\n",
       "      <td>515.801989</td>\n",
       "      <td>...</td>\n",
       "      <td>1.211799</td>\n",
       "      <td>1.340564</td>\n",
       "      <td>103</td>\n",
       "      <td>43</td>\n",
       "      <td>1</td>\n",
       "      <td>2</td>\n",
       "      <td>pos8</td>\n",
       "      <td>0</td>\n",
       "      <td>797</td>\n",
       "      <td>1</td>\n",
       "    </tr>\n",
       "    <tr>\n",
       "      <th>92471</th>\n",
       "      <td>3700514</td>\n",
       "      <td>3700658</td>\n",
       "      <td>172440.0</td>\n",
       "      <td>498.741245</td>\n",
       "      <td>244.956366</td>\n",
       "      <td>719</td>\n",
       "      <td>70.0</td>\n",
       "      <td>NaN</td>\n",
       "      <td>323.273262</td>\n",
       "      <td>497.336311</td>\n",
       "      <td>...</td>\n",
       "      <td>1.344850</td>\n",
       "      <td>NaN</td>\n",
       "      <td>103</td>\n",
       "      <td>43</td>\n",
       "      <td>1</td>\n",
       "      <td>2</td>\n",
       "      <td>pos8</td>\n",
       "      <td>0</td>\n",
       "      <td>797</td>\n",
       "      <td>1</td>\n",
       "    </tr>\n",
       "    <tr>\n",
       "      <th>92472</th>\n",
       "      <td>3700658</td>\n",
       "      <td>3700586</td>\n",
       "      <td>172680.0</td>\n",
       "      <td>498.441845</td>\n",
       "      <td>245.591462</td>\n",
       "      <td>720</td>\n",
       "      <td>72.0</td>\n",
       "      <td>NaN</td>\n",
       "      <td>314.345617</td>\n",
       "      <td>501.724244</td>\n",
       "      <td>...</td>\n",
       "      <td>1.353828</td>\n",
       "      <td>NaN</td>\n",
       "      <td>103</td>\n",
       "      <td>43</td>\n",
       "      <td>1</td>\n",
       "      <td>2</td>\n",
       "      <td>pos8</td>\n",
       "      <td>0</td>\n",
       "      <td>797</td>\n",
       "      <td>1</td>\n",
       "    </tr>\n",
       "  </tbody>\n",
       "</table>\n",
       "<p>10 rows × 29 columns</p>\n",
       "</div>"
      ],
      "text/plain": [
       "       source_spot  target_spot  edge_time        xpos        ypos  tpos  \\\n",
       "92463      3699942      3700158   170520.0  498.080033  245.015297   711   \n",
       "92464      3700158      3700014   170760.0  498.048645  245.091159   712   \n",
       "92465      3700014      3700087   171000.0  498.138946  244.928732   713   \n",
       "92466      3700087      3700231   171240.0  498.462780  244.637087   714   \n",
       "92467      3700231      3700372   171480.0  498.574125  244.508427   715   \n",
       "92468      3700372      3700302   171720.0  498.398625  244.636050   716   \n",
       "92469      3700302      3700443   171960.0  498.456646  244.334124   717   \n",
       "92470      3700443      3700514   172200.0  498.565389  244.441725   718   \n",
       "92471      3700514      3700658   172440.0  498.741245  244.956366   719   \n",
       "92472      3700658      3700586   172680.0  498.441845  245.591462   720   \n",
       "\n",
       "       ROI_nb  cell_av_FRET      CFP_av      YFP_av  ...  Aspect_Ratio  \\\n",
       "92463    68.0      1.232500  405.196542  499.404799  ...      1.138690   \n",
       "92464    72.0      1.230479  398.189151  489.963549  ...      1.170095   \n",
       "92465    71.0      1.230357  384.732324  473.357934  ...      1.115231   \n",
       "92466    72.0      1.214696  404.691441  491.577053  ...      1.120890   \n",
       "92467    71.0      1.245764  373.336690  465.089259  ...      1.113167   \n",
       "92468    75.0      1.312019  375.212172  492.285507  ...      1.185505   \n",
       "92469    73.0      1.466444  362.123747  531.034370  ...      1.305648   \n",
       "92470    74.0      1.502754  343.237770  515.801989  ...      1.211799   \n",
       "92471    70.0           NaN  323.273262  497.336311  ...      1.344850   \n",
       "92472    72.0           NaN  314.345617  501.724244  ...      1.353828   \n",
       "\n",
       "       cell_av_FRET_norm  unique_track_id  trackmate_track_id  iscorrect  \\\n",
       "92463           1.099478              103                  43          1   \n",
       "92464           1.097676              103                  43          1   \n",
       "92465           1.097566              103                  43          1   \n",
       "92466           1.083596              103                  43          1   \n",
       "92467           1.111310              103                  43          1   \n",
       "92468           1.170415              103                  43          1   \n",
       "92469           1.308174              103                  43          1   \n",
       "92470           1.340564              103                  43          1   \n",
       "92471                NaN              103                  43          1   \n",
       "92472                NaN              103                  43          1   \n",
       "\n",
       "       fate   fov  apoptosis_time  mitosis_time  daughter  \n",
       "92463     2  pos8               0           797         1  \n",
       "92464     2  pos8               0           797         1  \n",
       "92465     2  pos8               0           797         1  \n",
       "92466     2  pos8               0           797         1  \n",
       "92467     2  pos8               0           797         1  \n",
       "92468     2  pos8               0           797         1  \n",
       "92469     2  pos8               0           797         1  \n",
       "92470     2  pos8               0           797         1  \n",
       "92471     2  pos8               0           797         1  \n",
       "92472     2  pos8               0           797         1  \n",
       "\n",
       "[10 rows x 29 columns]"
      ]
     },
     "execution_count": 35,
     "metadata": {},
     "output_type": "execute_result"
    }
   ],
   "source": [
    "track_data_br1[track_data_br1['unique_track_id'] == 103][710:720]"
   ]
  },
  {
   "cell_type": "code",
   "execution_count": 9,
   "metadata": {},
   "outputs": [
    {
     "data": {
      "text/plain": [
       "<matplotlib.colorbar.Colorbar at 0x137a7a710>"
      ]
     },
     "execution_count": 9,
     "metadata": {},
     "output_type": "execute_result"
    },
    {
     "data": {
      "image/png": "[encoded data removed]",
      "text/plain": [
       "<Figure size 640x480 with 2 Axes>"
      ]
     },
     "metadata": {},
     "output_type": "display_data"
    }
   ],
   "source": [
    "plt.imshow(processed_br1_images[89, 0, 0, :, :])\n",
    "plt.colorbar()"
   ]
  },
  {
   "cell_type": "code",
   "execution_count": 10,
   "metadata": {},
   "outputs": [
    {
     "data": {
      "text/plain": [
       "array([  1.,   2.,   3.,   4.,   5.,   6.,   7.,   8.,   9.,  10.,  12.,\n",
       "        13.,  14.,  15.,  18.,  19.,  21.,  22.,  23.,  24.,  25.,  26.,\n",
       "        27.,  28.,  29.,  30.,  31.,  32.,  33.,  34.,  35.,  36.,  37.,\n",
       "        39.,  40.,  41.,  42.,  43.,  44.,  45.,  46.,  47.,  48.,  49.,\n",
       "        50.,  51.,  52.,  53.,  54.,  55.,  56.,  57.,  58.,  59.,  60.,\n",
       "        63.,  64.,  65.,  66.,  67.,  69.,  70.,  71.,  72.,  73.,  74.,\n",
       "        75.,  76.,  77.,  78.,  79.,  80.,  81.,  82.,  84.,  85.,  87.,\n",
       "        88.,  89.,  91.,  92.,  93.,  94.,  95.,  96.,  98.,  99., 100.,\n",
       "       101., 103., 104., 106., 107., 108., 109., 110., 112., 113., 114.,\n",
       "       115., 118., 119., 120., 121., 123., 124., 125., 126., 127., 128.,\n",
       "       129., 130., 131., 132., 133., 134., 135., 136., 137., 138., 139.,\n",
       "       140., 141., 142., 143., 144., 145., 147., 148., 149., 150., 151.,\n",
       "       152., 153., 154., 156., 157., 158., 162., 163., 166., 167., 168.,\n",
       "       169., 170., 171., 172., 173., 174., 175., 176., 177., 179., 180.,\n",
       "       181., 182., 183., 184., 185., 186., 188., 189., 191., 193., 198.,\n",
       "       199., 204., 205., 206., 208., 209., 211., 212., 213., 214., 216.,\n",
       "       217., 218., 219., 221., 222., 223., 224., 225., 226., 227., 228.,\n",
       "       229., 230., 231., 232., 234., 236., 237., 238., 239., 240., 242.,\n",
       "       243., 244., 246., 247., 248., 249., 250., 252., 253., 254., 257.,\n",
       "       258., 259., 261., 263., 264., 265., 267., 268., 269., 270., 271.,\n",
       "       272., 273., 274., 276., 277., 278., 279., 280., 281., 282., 283.,\n",
       "       284., 285., 286., 288., 289., 290., 291., 292., 293., 294., 297.,\n",
       "       298., 299., 300., 301., 302., 303., 305., 306., 308., 309., 310.,\n",
       "       311., 313., 314., 315., 316., 317., 318., 319., 320., 321., 323.,\n",
       "       325., 327., 328., 329., 330., 331., 332., 333., 334., 335., 336.,\n",
       "       337., 338., 339., 340., 341., 342., 343., 344., 345., 347., 348.,\n",
       "       350., 351., 352., 353., 354., 355., 356., 357., 358., 359., 360.,\n",
       "       361., 362., 364., 365., 366., 367., 368., 369., 370., 371., 372.,\n",
       "       373., 374., 375., 378., 379., 380., 381., 383., 384., 385., 386.,\n",
       "       387., 388., 389., 390., 391., 392., 393., 395., 396., 397., 398.,\n",
       "       399., 400., 402., 403., 404., 405., 406., 407., 408., 409., 410.,\n",
       "       411., 412., 413., 415., 416., 417., 418., 419., 420., 422., 423.,\n",
       "       424., 425., 426., 427., 428., 430., 431., 433., 434., 436., 437.,\n",
       "       438., 439., 440., 442., 443., 444., 445., 446., 447., 448., 449.,\n",
       "       451., 452., 453., 454., 455., 456., 457., 458., 459., 461., 462.,\n",
       "       463., 464., 465., 466., 468., 471., 472., 473., 474., 475.],\n",
       "      dtype=float32)"
      ]
     },
     "execution_count": 10,
     "metadata": {},
     "output_type": "execute_result"
    }
   ],
   "source": [
    "processed_br1_mother_tracks[:,0,0]"
   ]
  },
  {
   "cell_type": "code",
   "execution_count": 37,
   "metadata": {},
   "outputs": [
    {
     "data": {
      "text/plain": [
       "(array([89]),)"
      ]
     },
     "execution_count": 37,
     "metadata": {},
     "output_type": "execute_result"
    }
   ],
   "source": [
    "np.where(processed_br1_mother_tracks[:,0,0]==103)"
   ]
  },
  {
   "cell_type": "code",
   "execution_count": 33,
   "metadata": {},
   "outputs": [
    {
     "data": {
      "text/plain": [
       "array([[[1.03000000e+02, 4.98080048e+02, 2.45015289e+02, 7.11000000e+02,\n",
       "         1.09947848e+00, 4.05196533e+02, 4.99404785e+02, 1.23160530e+02,\n",
       "         1.38203491e+02, 1.36094246e+01, 1.19518223e+01, 4.78290141e-01,\n",
       "         1.21005182e+01, 4.03670006e+01, 9.04601318e+02, 1.15000000e+02,\n",
       "         1.13869035e+00, 7.97000000e+02, 2.00000000e+00],\n",
       "        [1.03000000e+02, 4.98048645e+02, 2.45091156e+02, 7.12000000e+02,\n",
       "         1.09767580e+00, 3.98189148e+02, 4.89963562e+02, 1.40955658e+02,\n",
       "         1.51844421e+02, 1.46697140e+01, 1.25372028e+01, 5.19234657e-01,\n",
       "         1.26660252e+01, 4.54199982e+01, 8.88152710e+02, 1.26000000e+02,\n",
       "         1.17009473e+00, 7.97000000e+02, 2.00000000e+00],\n",
       "        [1.03000000e+02, 4.98138947e+02, 2.44928726e+02, 7.13000000e+02,\n",
       "         1.09756625e+00, 3.84732330e+02, 4.73357941e+02, 1.32805145e+02,\n",
       "         1.50527802e+02, 1.46405277e+01, 1.31277971e+01, 4.42689270e-01,\n",
       "         1.29640894e+01, 4.58829994e+01, 8.58090271e+02, 1.32000000e+02,\n",
       "         1.11523116e+00, 7.97000000e+02, 2.00000000e+00],\n",
       "        [1.03000000e+02, 4.98462769e+02, 2.44637085e+02, 7.14000000e+02,\n",
       "         1.08359587e+00, 4.04691437e+02, 4.91577057e+02, 1.35376083e+02,\n",
       "         1.52333023e+02, 1.40818338e+01, 1.25630770e+01, 4.51743543e-01,\n",
       "         1.26156626e+01, 4.14749985e+01, 8.96268494e+02, 1.25000000e+02,\n",
       "         1.12089050e+00, 7.97000000e+02, 2.00000000e+00],\n",
       "        [1.03000000e+02, 4.98574127e+02, 2.44508423e+02, 7.15000000e+02,\n",
       "         1.11131048e+00, 3.73336700e+02, 4.65089264e+02, 1.28254623e+02,\n",
       "         1.65066422e+02, 1.51431637e+01, 1.36036720e+01, 4.39305872e-01,\n",
       "         1.30619335e+01, 4.95550003e+01, 8.38425964e+02, 1.34000000e+02,\n",
       "         1.11316729e+00, 7.97000000e+02, 2.00000000e+00],\n",
       "        [1.03000000e+02, 4.98398621e+02, 2.44636047e+02, 7.16000000e+02,\n",
       "         1.17041504e+00, 3.75212158e+02, 4.92285522e+02, 1.34230743e+02,\n",
       "         1.53468811e+02, 1.43839388e+01, 1.21331758e+01, 5.37093937e-01,\n",
       "         1.26156626e+01, 4.25089989e+01, 8.67497681e+02, 1.25000000e+02,\n",
       "         1.18550491e+00, 7.97000000e+02, 2.00000000e+00],\n",
       "        [1.03000000e+02, 4.98456635e+02, 2.44334122e+02, 7.17000000e+02,\n",
       "         1.30817354e+00, 3.62123749e+02, 5.31034363e+02, 1.09593781e+02,\n",
       "         1.49072098e+02, 1.47708826e+01, 1.13130693e+01, 6.42955661e-01,\n",
       "         1.22573357e+01, 4.16650009e+01, 8.93158142e+02, 1.18000000e+02,\n",
       "         1.30564773e+00, 7.97000000e+02, 2.00000000e+00],\n",
       "        [1.03000000e+02, 4.98565399e+02, 2.44441727e+02, 7.18000000e+02,\n",
       "         1.34056449e+00, 3.43237762e+02, 5.15802002e+02, 1.31139008e+02,\n",
       "         1.76251434e+02, 1.54656591e+01, 1.27625618e+01, 5.64812303e-01,\n",
       "         1.33033943e+01, 4.49150009e+01, 8.59039734e+02, 1.39000000e+02,\n",
       "         1.21179891e+00, 7.97000000e+02, 2.00000000e+00],\n",
       "        [0.00000000e+00, 0.00000000e+00, 0.00000000e+00, 0.00000000e+00,\n",
       "         0.00000000e+00, 0.00000000e+00, 0.00000000e+00, 0.00000000e+00,\n",
       "         0.00000000e+00, 0.00000000e+00, 0.00000000e+00, 0.00000000e+00,\n",
       "         0.00000000e+00, 0.00000000e+00, 0.00000000e+00, 0.00000000e+00,\n",
       "         0.00000000e+00, 0.00000000e+00, 0.00000000e+00],\n",
       "        [0.00000000e+00, 0.00000000e+00, 0.00000000e+00, 0.00000000e+00,\n",
       "         0.00000000e+00, 0.00000000e+00, 0.00000000e+00, 0.00000000e+00,\n",
       "         0.00000000e+00, 0.00000000e+00, 0.00000000e+00, 0.00000000e+00,\n",
       "         0.00000000e+00, 0.00000000e+00, 0.00000000e+00, 0.00000000e+00,\n",
       "         0.00000000e+00, 0.00000000e+00, 0.00000000e+00]]], dtype=float32)"
      ]
     },
     "execution_count": 33,
     "metadata": {},
     "output_type": "execute_result"
    }
   ],
   "source": [
    "processed_br1_mother_tracks[processed_br1_mother_tracks[:,0,0]==103][:,710:720,:]"
   ]
  },
  {
   "cell_type": "markdown",
   "metadata": {},
   "source": [
    "## 5. Concatenate all bioreplicates\n",
    "We also split y_train into 2 fates: non-mitosis and mitosis"
   ]
  },
  {
   "cell_type": "code",
   "execution_count": 11,
   "metadata": {},
   "outputs": [],
   "source": [
    "images = np.concatenate((processed_br1_images, processed_br2_images, processed_br3_images), axis=0)\n",
    "tracks = np.concatenate((processed_br1_mother_tracks, processed_br2_mother_tracks, processed_br3_mother_tracks), axis=0)\n",
    "y_train_final = np.concatenate((br1_y_train, br2_y_train, br3_y_train), axis=0)"
   ]
  },
  {
   "cell_type": "code",
   "execution_count": 13,
   "metadata": {},
   "outputs": [
    {
     "name": "stdout",
     "output_type": "stream",
     "text": [
      "Number of cells: 1522\n"
     ]
    }
   ],
   "source": [
    "assert images.shape[0] == tracks.shape[0] == y_train_final.shape[0]\n",
    "print(\"Number of cells:\", images.shape[0])"
   ]
  },
  {
   "cell_type": "code",
   "execution_count": 14,
   "metadata": {},
   "outputs": [
    {
     "name": "stdout",
     "output_type": "stream",
     "text": [
      "y_train from first generation only (1522,) Nb of fates originally: [0 1 2 3]\n",
      "[0 1]\n",
      "Number of fate 0: 1264\n",
      "Number of fate 1: 258\n",
      "Number of fate 2: 0\n"
     ]
    }
   ],
   "source": [
    "# Split y_train into the 2 fates (non mitosis and mitosis)\n",
    "\n",
    "print(\"y_train from first generation only\", y_train_final.shape, \"Nb of fates originally:\", np.unique(y_train_final))\n",
    "\n",
    "y_train = np.zeros_like(y_train_final)\n",
    "\n",
    "# Combine fates 0 and 1 into fate 0\n",
    "y_train[np.isin(y_train_final, [0, 1])] = 0\n",
    "\n",
    "# Combine fates 2 and 3 into fate 1\n",
    "y_train[np.isin(y_train_final, [2, 3])] = 1\n",
    "\n",
    "print(np.unique(y_train))\n",
    "# Check total nb of fates\n",
    "num_fate_0= np.sum(y_train == 0)\n",
    "num_fate_1= np.sum(y_train == 1)\n",
    "num_fate_2= np.sum(y_train == 2)\n",
    "\n",
    "print(f\"Number of fate 0: {num_fate_0}\")\n",
    "print(f\"Number of fate 1: {num_fate_1}\")\n",
    "print(f\"Number of fate 2: {num_fate_2}\")"
   ]
  },
  {
   "cell_type": "markdown",
   "metadata": {},
   "source": [
    "## 6. Manual removal of \"problematic, clutered\" cells \n",
    "This means removing cells with more than one neighbouring cell (\"touching each other\" in the same FOV)"
   ]
  },
  {
   "cell_type": "code",
   "execution_count": 15,
   "metadata": {},
   "outputs": [],
   "source": [
    "cell_indexes_to_remove = [\n",
    "    64, 131, 193, 194, 271, 274, 279, 299, 395, 400, 499, 521, 541, 603, 629, \n",
    "    683, 685, 692, 733, 740, 769, 804, 810, 1034, 1039, 1061, 1186, 1203, 1206, \n",
    "    1319, 1335, 1340, 1389, 1395, 1419, 1519\n",
    "]\n",
    "problematic_fov = [index for index in range(931, 1032)] # FOV WITH PROBLEMATIC INDEXES\n",
    "cell_indexes_to_remove.extend(problematic_fov)\n",
    "\n",
    "cell_indexes_to_remove = sorted(set(cell_indexes_to_remove))"
   ]
  },
  {
   "cell_type": "code",
   "execution_count": 16,
   "metadata": {},
   "outputs": [],
   "source": [
    "filtered_images = np.delete(images, cell_indexes_to_remove, axis=0)\n",
    "filtered_tracks = np.delete(tracks, cell_indexes_to_remove, axis=0)\n",
    "filtered_y_train = np.delete(y_train, cell_indexes_to_remove, axis=0)\n",
    "filtered_y_train_all_fates = np.delete(y_train_final, cell_indexes_to_remove, axis=0)\n",
    "\n",
    "assert filtered_images.shape[0] == filtered_tracks.shape[0] == filtered_y_train.shape[0] == filtered_y_train_all_fates.shape[0]"
   ]
  },
  {
   "cell_type": "markdown",
   "metadata": {},
   "source": [
    "## 7. Remove extra debris from cells\n",
    "This is because sometimes smaller cells appear at the edge of the FOV, so we want to remove those from the FOV of each cell. (Keeping only the cell we want to process)"
   ]
  },
  {
   "cell_type": "code",
   "execution_count": 18,
   "metadata": {},
   "outputs": [],
   "source": [
    "cleaned_images = clean_all_cells(filtered_images)"
   ]
  },
  {
   "cell_type": "code",
   "execution_count": 19,
   "metadata": {},
   "outputs": [
    {
     "data": {
      "text/plain": [
       "(1385, 1080, 2, 20, 20)"
      ]
     },
     "execution_count": 19,
     "metadata": {},
     "output_type": "execute_result"
    }
   ],
   "source": [
    "cleaned_images.shape"
   ]
  },
  {
   "cell_type": "markdown",
   "metadata": {},
   "source": [
    "### 7.1 Removal of 1 problematic cell\n",
    "It appears that 1 pixel value in one of the cell images (nb 1336, time point 206) has a very high value in one channel in comparison to the other for some reason (experimentally-speaking) so when we calculate the fret ratio in the next step, the value is massive, which later on when I'm normalising my entire dataset, this one is set as maximum which is causing major issues down the line"
   ]
  },
  {
   "cell_type": "code",
   "execution_count": 20,
   "metadata": {},
   "outputs": [
    {
     "data": {
      "text/plain": [
       "<matplotlib.colorbar.Colorbar at 0x137b67730>"
      ]
     },
     "execution_count": 20,
     "metadata": {},
     "output_type": "execute_result"
    },
    {
     "data": {
      "image/png": "[encoded data removed]",
      "text/plain": [
       "<Figure size 640x480 with 2 Axes>"
      ]
     },
     "metadata": {},
     "output_type": "display_data"
    }
   ],
   "source": [
    "plt.imshow(cleaned_images[1336, 206, 1])\n",
    "plt.colorbar()"
   ]
  },
  {
   "cell_type": "code",
   "execution_count": 21,
   "metadata": {},
   "outputs": [],
   "source": [
    "def remove_and_replace(data, cell_index, time_index):\n",
    "    \"\"\"\n",
    "    Remove the specified image for both channels and add a zero-only image \n",
    "    at the last time point to maintain the shape.\n",
    "    \n",
    "    Args:\n",
    "        data (numpy.ndarray): The input data of shape (cells, time, channels, height, width).\n",
    "        cell_index (int): The index of the cell to modify.\n",
    "        time_index (int): The time point to remove.\n",
    "        \n",
    "    Returns:\n",
    "        numpy.ndarray: The modified data.\n",
    "    \"\"\"\n",
    "    # Extract shape information\n",
    "    _, time_points, channels, height, width = data.shape\n",
    "    new_data = data.copy()\n",
    "    # Remove the specified time point\n",
    "    modified_cell_data = np.delete(new_data[cell_index], time_index, axis=0)  # Shape: (1079, 2, 20, 20)\n",
    "\n",
    "    # Create a zero-only image\n",
    "    zero_image = np.zeros((1, channels, height, width))  # Shape: (1, 2, 20, 20)\n",
    "\n",
    "    # Append the zero-only image at the last time point\n",
    "    modified_cell_data = np.concatenate([modified_cell_data, zero_image], axis=0)  # Back to (1080, 2, 20, 20)\n",
    "\n",
    "    # Assign the modified data back\n",
    "    new_data[cell_index] = modified_cell_data\n",
    "\n",
    "    return new_data\n"
   ]
  },
  {
   "cell_type": "code",
   "execution_count": 22,
   "metadata": {},
   "outputs": [],
   "source": [
    "# the cell index and time index are found in the next step (where the channels are divided)\n",
    "new_cleaned_images = remove_and_replace(cleaned_images, cell_index=1336, time_index=206)\n",
    "new_cleaned_images = remove_and_replace(new_cleaned_images, cell_index=82, time_index=786)\n",
    "new_cleaned_images = remove_and_replace(new_cleaned_images, cell_index=517, time_index=255)\n",
    "new_cleaned_images = remove_and_replace(new_cleaned_images, cell_index=619, time_index=22)\n",
    "new_cleaned_images = remove_and_replace(new_cleaned_images, cell_index=1184, time_index=167)"
   ]
  },
  {
   "cell_type": "code",
   "execution_count": 23,
   "metadata": {},
   "outputs": [
    {
     "data": {
      "text/plain": [
       "<matplotlib.image.AxesImage at 0x137c20910>"
      ]
     },
     "execution_count": 23,
     "metadata": {},
     "output_type": "execute_result"
    },
    {
     "data": {
      "image/png": "[encoded data removed]",
      "text/plain": [
       "<Figure size 640x480 with 1 Axes>"
      ]
     },
     "metadata": {},
     "output_type": "display_data"
    }
   ],
   "source": [
    "plt.imshow(new_cleaned_images[1336, 206, 1])"
   ]
  },
  {
   "cell_type": "code",
   "execution_count": 24,
   "metadata": {},
   "outputs": [
    {
     "data": {
      "text/plain": [
       "((1385, 1080, 19), (1385,), (1385, 1080, 2, 20, 20))"
      ]
     },
     "execution_count": 24,
     "metadata": {},
     "output_type": "execute_result"
    }
   ],
   "source": [
    "filtered_tracks.shape, filtered_y_train.shape, new_cleaned_images.shape"
   ]
  },
  {
   "cell_type": "markdown",
   "metadata": {},
   "source": [
    "### SAVE FOR MANUSCRIPT NOTEBOOK"
   ]
  },
  {
   "cell_type": "code",
   "execution_count": null,
   "metadata": {},
   "outputs": [
    {
     "ename": "",
     "evalue": "",
     "output_type": "error",
     "traceback": [
      "\u001b[1;31mThe Kernel crashed while executing code in the current cell or a previous cell. \n",
      "\u001b[1;31mPlease review the code in the cell(s) to identify a possible cause of the failure. \n",
      "\u001b[1;31mClick <a href='https://aka.ms/vscodeJupyterKernelCrash'>here</a> for more info. \n",
      "\u001b[1;31mView Jupyter <a href='command:jupyter.viewOutput'>log</a> for further details."
     ]
    }
   ],
   "source": [
    "np.save(\"/Users/inescunha/Documents/GitHub/CellFate/data/images/cleaned_images.npy\", new_cleaned_images)\n",
    "np.save(\"/Users/inescunha/Documents/GitHub/CellFate/data/tracks/filtered_tracks.npy\", filtered_tracks)\n",
    "np.save(\"/Users/inescunha/Documents/GitHub/CellFate/data/labels/filtered_y_train.npy\", filtered_y_train)\n",
    "np.save(\"/Users/inescunha/Documents/GitHub/CellFate/data/labels/filtered_y_train_all_fates.npy\", filtered_y_train_all_fates)"
   ]
  },
  {
   "cell_type": "markdown",
   "metadata": {},
   "source": [
    "## 8. Get FRET ratio \n",
    "Divide the 2 fluorescence channels. NOTE: will divide channel 1 by channel 0."
   ]
  },
  {
   "cell_type": "code",
   "execution_count": 80,
   "metadata": {},
   "outputs": [
    {
     "name": "stderr",
     "output_type": "stream",
     "text": [
      "/var/folders/ds/_m8m03r135b5r67hc6xgtxt00000gn/T/ipykernel_87655/3325400739.py:1: RuntimeWarning: invalid value encountered in divide\n",
      "  fret_images = new_cleaned_images[:,:,1,:,:] / new_cleaned_images[:,:,0,:,:]\n"
     ]
    }
   ],
   "source": [
    "fret_images = new_cleaned_images[:,:,1,:,:] / new_cleaned_images[:,:,0,:,:] \n",
    "fret_images = np.nan_to_num(fret_images, nan=0.0)"
   ]
  },
  {
   "cell_type": "code",
   "execution_count": 81,
   "metadata": {},
   "outputs": [
    {
     "data": {
      "text/plain": [
       "5.186147186147186"
      ]
     },
     "execution_count": 81,
     "metadata": {},
     "output_type": "execute_result"
    }
   ],
   "source": [
    "fret_images.max()"
   ]
  },
  {
   "cell_type": "code",
   "execution_count": 82,
   "metadata": {},
   "outputs": [
    {
     "data": {
      "text/plain": [
       "(array([1338]), array([336]), array([12]), array([15]))"
      ]
     },
     "execution_count": 82,
     "metadata": {},
     "output_type": "execute_result"
    }
   ],
   "source": [
    "np.where(fret_images == fret_images.max())"
   ]
  },
  {
   "cell_type": "code",
   "execution_count": 83,
   "metadata": {},
   "outputs": [
    {
     "data": {
      "text/plain": [
       "<matplotlib.colorbar.Colorbar at 0x119ae2110>"
      ]
     },
     "execution_count": 83,
     "metadata": {},
     "output_type": "execute_result"
    },
    {
     "data": {
      "image/png": "[encoded data removed]",
      "text/plain": [
       "<Figure size 640x480 with 2 Axes>"
      ]
     },
     "metadata": {},
     "output_type": "display_data"
    }
   ],
   "source": [
    "plt.imshow(fret_images[1338, 336])\n",
    "plt.colorbar()"
   ]
  },
  {
   "cell_type": "code",
   "execution_count": 87,
   "metadata": {},
   "outputs": [
    {
     "data": {
      "text/plain": [
       "<matplotlib.colorbar.Colorbar at 0x119e46800>"
      ]
     },
     "execution_count": 87,
     "metadata": {},
     "output_type": "execute_result"
    },
    {
     "data": {
      "image/png": "[encoded data removed]",
      "text/plain": [
       "<Figure size 640x480 with 2 Axes>"
      ]
     },
     "metadata": {},
     "output_type": "display_data"
    }
   ],
   "source": [
    "plt.imshow(new_cleaned_images[1338, 336, 0])\n",
    "plt.colorbar()"
   ]
  },
  {
   "cell_type": "code",
   "execution_count": 25,
   "metadata": {},
   "outputs": [
    {
     "name": "stdout",
     "output_type": "stream",
     "text": [
      "Problematic cells: [(82, 786), (517, 255), (619, 22), (1184, 167)]\n"
     ]
    }
   ],
   "source": [
    "import numpy as np\n",
    "\n",
    "def find_problematic_cells_and_times(data, threshold=4):\n",
    "    \"\"\"\n",
    "    Efficiently finds indexes of cells and time points with at least one pixel value \n",
    "    significantly higher than all other pixels in the same image.\n",
    "    \n",
    "    Args:\n",
    "        data (numpy.ndarray): The input data of shape (cells, time, height, width).\n",
    "        threshold (int): The minimum difference to consider a pixel problematic.\n",
    "        \n",
    "    Returns:\n",
    "        list: Sorted list of tuples (cell_index, time_index) with problematic pixels.\n",
    "    \"\"\"\n",
    "    problematic_indices = []\n",
    "\n",
    "    # Iterate over each cell and time point\n",
    "    for cell_idx in range(data.shape[0]):\n",
    "        for time_idx in range(data.shape[1]):\n",
    "            image = data[cell_idx, time_idx]  # Shape: (20, 20)\n",
    "            \n",
    "            # Flatten the image to easily exclude each pixel\n",
    "            flat_image = image.flatten()\n",
    "            \n",
    "            # Get max value of the entire image\n",
    "            max_pixel = np.max(flat_image)\n",
    "            \n",
    "            # Get the max value of all other pixels by excluding each pixel one by one\n",
    "            for pixel_idx, pixel_value in enumerate(flat_image):\n",
    "                # Mask to exclude the current pixel\n",
    "                mask = np.ones(flat_image.shape, dtype=bool)\n",
    "                mask[pixel_idx] = False\n",
    "                \n",
    "                # Maximum value among the other pixels\n",
    "                max_others = np.max(flat_image[mask])\n",
    "                \n",
    "                # Check if the current pixel is significantly higher\n",
    "                if pixel_value > (max_others + threshold):\n",
    "                    problematic_indices.append((cell_idx, time_idx))\n",
    "                    break  # No need to check other pixels for this image\n",
    "    \n",
    "    return sorted(problematic_indices)\n",
    "\n",
    "# Example usage\n",
    "problematic_cells = find_problematic_cells_and_times(fret_images)\n",
    "print(\"Problematic cells:\", problematic_cells)\n"
   ]
  },
  {
   "cell_type": "code",
   "execution_count": 46,
   "metadata": {},
   "outputs": [
    {
     "data": {
      "text/plain": [
       "<matplotlib.image.AxesImage at 0x118b2e170>"
      ]
     },
     "execution_count": 46,
     "metadata": {},
     "output_type": "execute_result"
    },
    {
     "data": {
      "image/png": "[encoded data removed]",
      "text/plain": [
       "<Figure size 640x480 with 1 Axes>"
      ]
     },
     "metadata": {},
     "output_type": "display_data"
    }
   ],
   "source": [
    "plt.imshow(fret_images[1184, 167])"
   ]
  },
  {
   "cell_type": "markdown",
   "metadata": {},
   "source": [
    "## 9. Normalise images"
   ]
  },
  {
   "cell_type": "code",
   "execution_count": 88,
   "metadata": {},
   "outputs": [],
   "source": [
    "## do it in a frame-wise way!!!\n",
    "\n",
    "norm_images = normalize_channels(fret_images)"
   ]
  },
  {
   "cell_type": "code",
   "execution_count": 89,
   "metadata": {},
   "outputs": [
    {
     "data": {
      "text/plain": [
       "(1385, 1080, 20, 20)"
      ]
     },
     "execution_count": 89,
     "metadata": {},
     "output_type": "execute_result"
    }
   ],
   "source": [
    "norm_images.shape"
   ]
  },
  {
   "cell_type": "markdown",
   "metadata": {},
   "source": [
    "## 10. Center all cells to the middle of FOV"
   ]
  },
  {
   "cell_type": "code",
   "execution_count": 91,
   "metadata": {},
   "outputs": [],
   "source": [
    "centered_images = center_cells(norm_images)"
   ]
  },
  {
   "cell_type": "code",
   "execution_count": null,
   "metadata": {},
   "outputs": [],
   "source": [
    "## save\n",
    "np.save(\"/Users/inescunha/Documents/GitHub/CellFate/data/images/norm_images.npy\", centered_images)\n",
    "np.save(\"/Users/inescunha/Documents/GitHub/CellFate/data/tracks/filtered_tracks.npy\", filtered_tracks)\n",
    "np.save(\"/Users/inescunha/Documents/GitHub/CellFate/data/labels/filtered_y_train.npy\", filtered_y_train)"
   ]
  },
  {
   "cell_type": "markdown",
   "metadata": {},
   "source": [
    "## 11. Split and Augment Data"
   ]
  },
  {
   "cell_type": "code",
   "execution_count": 7,
   "metadata": {},
   "outputs": [],
   "source": [
    "centered_images = np.load(\"/Users/inescunha/Documents/GitHub/CellFate/data/images/norm_images.npy\")\n",
    "filtered_tracks = np.load(\"/Users/inescunha/Documents/GitHub/CellFate/data/tracks/filtered_tracks.npy\")\n",
    "filtered_y_train = np.load(\"/Users/inescunha/Documents/GitHub/CellFate/data/labels/filtered_y_train.npy\")"
   ]
  },
  {
   "cell_type": "code",
   "execution_count": 8,
   "metadata": {},
   "outputs": [
    {
     "data": {
      "text/plain": [
       "<matplotlib.image.AxesImage at 0x12ecdce50>"
      ]
     },
     "execution_count": 8,
     "metadata": {},
     "output_type": "execute_result"
    },
    {
     "data": {
      "image/png": "[encoded data removed]",
      "text/plain": [
       "<Figure size 640x480 with 1 Axes>"
      ]
     },
     "metadata": {},
     "output_type": "display_data"
    }
   ],
   "source": [
    "plt.imshow(centered_images[0,0])"
   ]
  },
  {
   "cell_type": "code",
   "execution_count": 9,
   "metadata": {},
   "outputs": [
    {
     "data": {
      "text/plain": [
       "(array([1338]), array([336]), array([11]), array([13]))"
      ]
     },
     "execution_count": 9,
     "metadata": {},
     "output_type": "execute_result"
    }
   ],
   "source": [
    "np.where(centered_images == 1.0)"
   ]
  },
  {
   "cell_type": "code",
   "execution_count": 93,
   "metadata": {},
   "outputs": [
    {
     "data": {
      "text/plain": [
       "(1385, 1080, 20, 20)"
      ]
     },
     "execution_count": 93,
     "metadata": {},
     "output_type": "execute_result"
    }
   ],
   "source": [
    "centered_images.shape"
   ]
  },
  {
   "cell_type": "code",
   "execution_count": 10,
   "metadata": {},
   "outputs": [],
   "source": [
    "# train test split\n",
    "from sklearn.model_selection import train_test_split\n",
    "\n",
    "train_indexes, test_indexes = train_test_split(\n",
    "        np.arange(len(filtered_y_train)),\n",
    "        test_size=0.2,\n",
    "        stratify=filtered_y_train,\n",
    "        random_state=42\n",
    "    )\n",
    "    \n",
    "train_images = centered_images[train_indexes]\n",
    "train_labels = filtered_y_train[train_indexes]\n",
    "train_tracks = filtered_tracks[train_indexes]\n",
    "test_images = centered_images[test_indexes]\n",
    "test_labels = filtered_y_train[test_indexes]\n",
    "test_tracks = filtered_tracks[test_indexes]"
   ]
  },
  {
   "cell_type": "code",
   "execution_count": 11,
   "metadata": {},
   "outputs": [],
   "source": [
    "def augment_dataset(cell_images, labels, augmentations, fate_0_label=0, fate_1_label=1):\n",
    "    \n",
    "    # Separate fate 0 and fate 1 in the training set\n",
    "    fate_0_images = cell_images[labels == fate_0_label]\n",
    "    fate_1_images = cell_images[labels == fate_1_label]\n",
    "    \n",
    "    # Augment both classes\n",
    "    augmented_fate_0 = [augmentations(image) for image in fate_0_images]\n",
    "    augmented_fate_0 = np.concatenate(augmented_fate_0, axis=0)\n",
    "    \n",
    "    augmented_fate_1 = [augmentations(image) for image in fate_1_images]\n",
    "    augmented_fate_1 = np.concatenate(augmented_fate_1, axis=0)\n",
    "    \n",
    "    # Combine augmented data with originals\n",
    "    fate_0_combined = np.concatenate([fate_0_images, augmented_fate_0], axis=0)\n",
    "    fate_1_combined = np.concatenate([fate_1_images, augmented_fate_1], axis=0)\n",
    "    \n",
    "    # Balance fate 0 by random sampling\n",
    "    target_count = len(fate_1_combined)\n",
    "    if len(fate_0_combined) >= target_count:\n",
    "        # Randomly sample without replacement if enough samples\n",
    "        balanced_fate_0 = fate_0_combined[np.random.choice(\n",
    "            len(fate_0_combined), size=target_count, replace=False\n",
    "        )]\n",
    "    else:\n",
    "        # Randomly sample with replacement if not enough samples\n",
    "        balanced_fate_0 = fate_0_combined[np.random.choice(\n",
    "            len(fate_0_combined), size=target_count, replace=True\n",
    "        )]\n",
    "    \n",
    "    # Combine balanced datasets\n",
    "    final_images = np.concatenate([balanced_fate_0, fate_1_combined], axis=0)\n",
    "    final_labels = np.array([fate_0_label] * len(balanced_fate_0) +\n",
    "                                   [fate_1_label] * len(fate_1_combined))\n",
    "    \n",
    "    # Shuffle the training data\n",
    "    shuffle_indexes = np.random.permutation(len(final_labels))\n",
    "    final_images = final_images[shuffle_indexes]\n",
    "    final_labels = final_labels[shuffle_indexes]\n",
    "    \n",
    "    return final_images, final_labels\n",
    "\n",
    "# Example augmentation function\n",
    "def augmentations(image):\n",
    "    augmented = [\n",
    "        np.flip(image, axis=-1),  # Flip horizontally\n",
    "        np.flip(image, axis=-2),  # Flip vertically\n",
    "        np.rot90(image, k=1, axes=(-2, -1)),  # Rotate 90 degrees\n",
    "        np.rot90(image, k=2, axes=(-2, -1)),  # Rotate 180 degrees\n",
    "        np.rot90(image, k=3, axes=(-2, -1))  # Rotate 270 degrees\n",
    "    ]\n",
    "    return np.array(augmented)"
   ]
  },
  {
   "cell_type": "code",
   "execution_count": 12,
   "metadata": {},
   "outputs": [],
   "source": [
    "train_images_augmented, train_labels_augmented = augment_dataset(train_images, train_labels, augmentations)"
   ]
  },
  {
   "cell_type": "code",
   "execution_count": 13,
   "metadata": {},
   "outputs": [
    {
     "data": {
      "text/plain": [
       "(2184, 1080, 20, 20)"
      ]
     },
     "execution_count": 13,
     "metadata": {},
     "output_type": "execute_result"
    }
   ],
   "source": [
    "train_images_augmented.shape"
   ]
  },
  {
   "cell_type": "code",
   "execution_count": 33,
   "metadata": {},
   "outputs": [
    {
     "data": {
      "text/plain": [
       "<matplotlib.colorbar.Colorbar at 0x13579a980>"
      ]
     },
     "execution_count": 33,
     "metadata": {},
     "output_type": "execute_result"
    },
    {
     "data": {
      "image/png": "[encoded data removed]",
      "text/plain": [
       "<Figure size 640x480 with 2 Axes>"
      ]
     },
     "metadata": {},
     "output_type": "display_data"
    }
   ],
   "source": [
    "plt.imshow(train_images_augmented[200, 100, :, :])\n",
    "plt.colorbar()"
   ]
  },
  {
   "cell_type": "code",
   "execution_count": 26,
   "metadata": {},
   "outputs": [
    {
     "data": {
      "text/plain": [
       "((2184, 1080, 20, 20),\n",
       " (2184,),\n",
       " (1108, 1080, 19),\n",
       " (277, 1080, 20, 20),\n",
       " (277,),\n",
       " (277, 1080, 19))"
      ]
     },
     "execution_count": 26,
     "metadata": {},
     "output_type": "execute_result"
    }
   ],
   "source": [
    "train_images_augmented.shape, train_labels_augmented.shape, train_tracks.shape, test_images.shape, test_labels.shape, test_tracks.shape"
   ]
  },
  {
   "cell_type": "code",
   "execution_count": 14,
   "metadata": {},
   "outputs": [],
   "source": [
    "# np.save(\"/Users/inescunha/Documents/GitHub/CellFate/data/images/train_images_augmented.npy\", train_images_augmented)\n",
    "# np.save(\"/Users/inescunha/Documents/GitHub/CellFate/data/labels/train_labels_augmented.npy\", train_labels_augmented)\n",
    "# np.save(\"/Users/inescunha/Documents/GitHub/CellFate/data/labels/train_labels.npy\", train_labels)\n",
    "# np.save(\"/Users/inescunha/Documents/GitHub/CellFate/data/tracks/train_tracks.npy\", train_tracks)\n",
    "# np.save(\"/Users/inescunha/Documents/GitHub/CellFate/data/tracks/test_tracks.npy\", test_tracks)\n",
    "# np.save(\"/Users/inescunha/Documents/GitHub/CellFate/data/images/test_images.npy\", test_images)\n",
    "# np.save(\"/Users/inescunha/Documents/GitHub/CellFate/data/labels/test_labels.npy\", test_labels)"
   ]
  },
  {
   "cell_type": "markdown",
   "metadata": {},
   "source": [
    "## INTENSITY STRETCH FOR EACH TIME FRAME -> maybe within the workflow for the SI plot"
   ]
  },
  {
   "cell_type": "markdown",
   "metadata": {},
   "source": [
    "## 11. Stretch image intensities\n",
    "This is done to do a scaling of the intensities in each cell, so that the minimum value is 0 (but keeping the same \"relationship\" between pixel values)"
   ]
  },
  {
   "cell_type": "code",
   "execution_count": 15,
   "metadata": {},
   "outputs": [],
   "source": [
    "def stretch_intensities_global(train_images, test_images, epsilon=0.001):\n",
    "    \"\"\"\n",
    "    Stretch the intensities of train_images and test_images globally using the same min and max.\n",
    "    \n",
    "    Args:\n",
    "        train_images (ndarray): Training image data\n",
    "        test_images (ndarray): Testing image data\n",
    "        epsilon (float): Value to prevent division by zero\n",
    "\n",
    "    Returns:\n",
    "        scaled_train_images (ndarray): Scaled training images\n",
    "        scaled_test_images (ndarray): Scaled testing images\n",
    "    \"\"\"\n",
    "    # Combine the datasets to compute global min and max\n",
    "    combined_images = np.concatenate([train_images[train_images > 0], test_images[test_images > 0]])\n",
    "    \n",
    "    # Compute the global min and max across both datasets\n",
    "    global_min = np.min(combined_images)\n",
    "    global_max = np.max(combined_images)\n",
    "\n",
    "    # Avoid division by zero\n",
    "    if global_max > global_min:\n",
    "        # Apply scaling to all images\n",
    "        scaled_train_images = (train_images - global_min) / (global_max - global_min)\n",
    "        scaled_train_images = scaled_train_images * (1 - epsilon) + epsilon\n",
    "        scaled_train_images[train_images == 0] = 0  # Preserve zero values (background)\n",
    "\n",
    "        scaled_test_images = (test_images - global_min) / (global_max - global_min)\n",
    "        scaled_test_images = scaled_test_images * (1 - epsilon) + epsilon\n",
    "        scaled_test_images[test_images == 0] = 0  # Preserve zero values (background)\n",
    "    else:\n",
    "        # If global_max == global_min, leave unchanged\n",
    "        scaled_train_images = train_images\n",
    "        scaled_test_images = test_images\n",
    "\n",
    "    return scaled_train_images, scaled_test_images\n"
   ]
  },
  {
   "cell_type": "code",
   "execution_count": 16,
   "metadata": {},
   "outputs": [],
   "source": [
    "stretched_x_train, stretched_x_test = stretch_intensities_global(train_images_augmented, test_images)"
   ]
  },
  {
   "cell_type": "code",
   "execution_count": 17,
   "metadata": {},
   "outputs": [
    {
     "data": {
      "text/plain": [
       "((2184, 1080, 20, 20), (277, 1080, 20, 20))"
      ]
     },
     "execution_count": 17,
     "metadata": {},
     "output_type": "execute_result"
    }
   ],
   "source": [
    "stretched_x_train.shape, stretched_x_test.shape"
   ]
  },
  {
   "cell_type": "code",
   "execution_count": 19,
   "metadata": {},
   "outputs": [
    {
     "data": {
      "text/plain": [
       "0.8243900072650396"
      ]
     },
     "execution_count": 19,
     "metadata": {},
     "output_type": "execute_result"
    }
   ],
   "source": [
    "stretched_x_test.max()"
   ]
  },
  {
   "cell_type": "code",
   "execution_count": 22,
   "metadata": {},
   "outputs": [
    {
     "data": {
      "text/plain": [
       "<matplotlib.colorbar.Colorbar at 0x14f94e590>"
      ]
     },
     "execution_count": 22,
     "metadata": {},
     "output_type": "execute_result"
    },
    {
     "data": {
      "image/png": "[encoded data removed]",
      "text/plain": [
       "<Figure size 640x480 with 2 Axes>"
      ]
     },
     "metadata": {},
     "output_type": "display_data"
    }
   ],
   "source": [
    "plt.imshow(stretched_x_train[20, 10, :, :])\n",
    "plt.colorbar()"
   ]
  },
  {
   "cell_type": "code",
   "execution_count": 56,
   "metadata": {},
   "outputs": [
    {
     "data": {
      "text/plain": [
       "array([0.09273428, 0.08984665, 0.07582113, 0.10294916, 0.08544458,\n",
       "       0.07291112, 0.1032596 , 0.10210094, 0.0592778 , 0.08714035,\n",
       "       0.08541437, 0.07357708, 0.09180081, 0.07553258, 0.08315418,\n",
       "       0.0873313 , 0.07860689, 0.0879439 , 0.0954667 , 0.06895833,\n",
       "       0.07282337, 0.06273195, 0.08614772, 0.0944456 , 0.07202766,\n",
       "       0.11361097, 0.07977478, 0.10257809, 0.08781135, 0.06072965,\n",
       "       0.07204423, 0.06331436, 0.08822416, 0.08875155, 0.06816959,\n",
       "       0.13017357, 0.10030664, 0.0745978 , 0.077139  , 0.06462749,\n",
       "       0.10422609, 0.10871284, 0.10237226, 0.07711977, 0.10166223,\n",
       "       0.07677126, 0.07913068, 0.07747462, 0.08826834, 0.06461131,\n",
       "       0.08579943, 0.08883293, 0.10353912, 0.08945645, 0.09793303,\n",
       "       0.07869489, 0.08188816, 0.06599482, 0.07798155, 0.06357144,\n",
       "       0.05733285, 0.08257542, 0.07488355, 0.08436434, 0.0693234 ,\n",
       "       0.06132984, 0.07639023, 0.07932213, 0.08215685, 0.08832872,\n",
       "       0.0841696 , 0.07992709, 0.09004404, 0.08106583, 0.06701173,\n",
       "       0.07188439, 0.08184877, 0.08839547, 0.09991239, 0.09443817,\n",
       "       0.08827063, 0.11830089, 0.09798521, 0.0760653 , 0.06817477,\n",
       "       0.08531003, 0.07280998, 0.08171152, 0.08708991, 0.07297156,\n",
       "       0.08917605, 0.07782551, 0.06548742, 0.07909468, 0.07225562,\n",
       "       0.1014882 , 0.07667267, 0.08777521, 0.09487458, 0.06179034])"
      ]
     },
     "execution_count": 56,
     "metadata": {},
     "output_type": "execute_result"
    }
   ],
   "source": [
    "stretched_x_train[stretched_x_train!=0.0][:100]"
   ]
  },
  {
   "cell_type": "code",
   "execution_count": 57,
   "metadata": {},
   "outputs": [
    {
     "data": {
      "text/plain": [
       "(array([1463]), array([206]), array([2]), array([2]))"
      ]
     },
     "execution_count": 57,
     "metadata": {},
     "output_type": "execute_result"
    }
   ],
   "source": [
    "np.where(stretched_x_train==1.0)"
   ]
  },
  {
   "cell_type": "code",
   "execution_count": 80,
   "metadata": {},
   "outputs": [
    {
     "data": {
      "text/plain": [
       "(array([407]), array([206]), array([2]), array([2]))"
      ]
     },
     "execution_count": 80,
     "metadata": {},
     "output_type": "execute_result"
    }
   ],
   "source": [
    "np.where(train_images==1.0)"
   ]
  },
  {
   "cell_type": "code",
   "execution_count": 76,
   "metadata": {},
   "outputs": [
    {
     "data": {
      "text/plain": [
       "(1108, 1080, 20, 20)"
      ]
     },
     "execution_count": 76,
     "metadata": {},
     "output_type": "execute_result"
    }
   ],
   "source": [
    "train_images.shape"
   ]
  },
  {
   "cell_type": "code",
   "execution_count": 94,
   "metadata": {},
   "outputs": [
    {
     "data": {
      "text/plain": [
       "<matplotlib.image.AxesImage at 0x3f7ff7130>"
      ]
     },
     "execution_count": 94,
     "metadata": {},
     "output_type": "execute_result"
    },
    {
     "data": {
      "image/png": "[encoded data removed]",
      "text/plain": [
       "<Figure size 640x480 with 1 Axes>"
      ]
     },
     "metadata": {},
     "output_type": "display_data"
    }
   ],
   "source": [
    "plt.imshow(train_images[406, 206])"
   ]
  },
  {
   "cell_type": "code",
   "execution_count": 95,
   "metadata": {},
   "outputs": [
    {
     "data": {
      "text/plain": [
       "array([112., 109., 109., 111., 110., 109., 112., 112., 110., 114.],\n",
       "      dtype=float32)"
      ]
     },
     "execution_count": 95,
     "metadata": {},
     "output_type": "execute_result"
    }
   ],
   "source": [
    "train_tracks[406, 200:210, 15]"
   ]
  },
  {
   "cell_type": "code",
   "execution_count": 65,
   "metadata": {},
   "outputs": [
    {
     "data": {
      "text/plain": [
       "<matplotlib.colorbar.Colorbar at 0x4ddf3ee60>"
      ]
     },
     "execution_count": 65,
     "metadata": {},
     "output_type": "execute_result"
    },
    {
     "data": {
      "image/png": "[encoded data removed]",
      "text/plain": [
       "<Figure size 640x480 with 2 Axes>"
      ]
     },
     "metadata": {},
     "output_type": "display_data"
    }
   ],
   "source": [
    "plt.imshow(stretched_x_train[1463, 209, :, :])\n",
    "plt.colorbar()"
   ]
  },
  {
   "cell_type": "code",
   "execution_count": 50,
   "metadata": {},
   "outputs": [],
   "source": [
    "previous_stretched_x_test = np.load(\"/Users/inescunha/Documents/GitHub/CellFate/data/stretched_x_test.npy\")"
   ]
  },
  {
   "cell_type": "code",
   "execution_count": 51,
   "metadata": {},
   "outputs": [
    {
     "data": {
      "text/plain": [
       "0.8596905079691756"
      ]
     },
     "execution_count": 51,
     "metadata": {},
     "output_type": "execute_result"
    }
   ],
   "source": [
    "previous_stretched_x_test.max()"
   ]
  },
  {
   "cell_type": "code",
   "execution_count": 52,
   "metadata": {},
   "outputs": [
    {
     "data": {
      "text/plain": [
       "<matplotlib.colorbar.Colorbar at 0x4dd4a60e0>"
      ]
     },
     "execution_count": 52,
     "metadata": {},
     "output_type": "execute_result"
    },
    {
     "data": {
      "image/png": "[encoded data removed]",
      "text/plain": [
       "<Figure size 640x480 with 2 Axes>"
      ]
     },
     "metadata": {},
     "output_type": "display_data"
    }
   ],
   "source": [
    "plt.imshow(stretched_x_test[10, 10, :, :])\n",
    "plt.colorbar()"
   ]
  },
  {
   "cell_type": "markdown",
   "metadata": {},
   "source": [
    "## Optional: Balance test set for visualisation"
   ]
  },
  {
   "cell_type": "code",
   "execution_count": 29,
   "metadata": {},
   "outputs": [],
   "source": [
    "test_images_augmented, test_labels_augmented = augment_dataset(test_images, test_labels, augmentations)"
   ]
  },
  {
   "cell_type": "code",
   "execution_count": 48,
   "metadata": {},
   "outputs": [],
   "source": [
    "stretch_x_train = np.load(\"/Users/inescunha/Documents/GitHub/CellFate/data/images/stretched_x_train.npy\")"
   ]
  },
  {
   "cell_type": "code",
   "execution_count": 49,
   "metadata": {},
   "outputs": [
    {
     "data": {
      "text/plain": [
       "(2184, 20, 20)"
      ]
     },
     "execution_count": 49,
     "metadata": {},
     "output_type": "execute_result"
    }
   ],
   "source": [
    "stretch_x_train.shape"
   ]
  },
  {
   "cell_type": "code",
   "execution_count": 47,
   "metadata": {},
   "outputs": [
    {
     "data": {
      "text/plain": [
       "(552,)"
      ]
     },
     "execution_count": 47,
     "metadata": {},
     "output_type": "execute_result"
    }
   ],
   "source": [
    "test_labels_augmented.shape"
   ]
  },
  {
   "cell_type": "code",
   "execution_count": 42,
   "metadata": {},
   "outputs": [],
   "source": [
    "# for FRAME 0:\n",
    "\n",
    "stretched_x_train, stretched_x_test_augmented = stretch_intensities_global(train_images_augmented[:,0,:,:], test_images_augmented[:,0,:,:])"
   ]
  },
  {
   "cell_type": "code",
   "execution_count": 44,
   "metadata": {},
   "outputs": [],
   "source": [
    "# for FRAME 0:\n",
    "stretched_x_train, stretched_x_test = stretch_intensities_global(train_images_augmented[:,0,:,:], test_images[:,0,:,:])"
   ]
  },
  {
   "cell_type": "code",
   "execution_count": 45,
   "metadata": {},
   "outputs": [
    {
     "data": {
      "text/plain": [
       "((2184, 20, 20), (552, 20, 20), (277, 20, 20))"
      ]
     },
     "execution_count": 45,
     "metadata": {},
     "output_type": "execute_result"
    }
   ],
   "source": [
    "stretched_x_train.shape, stretched_x_test_augmented.shape, stretched_x_test.shape"
   ]
  },
  {
   "cell_type": "code",
   "execution_count": 46,
   "metadata": {},
   "outputs": [],
   "source": [
    "np.save(\"/Users/inescunha/Documents/GitHub/CellFate/data/images/stretched_x_train.npy\", stretched_x_train)\n",
    "np.save(\"/Users/inescunha/Documents/GitHub/CellFate/data/images/stretched_x_test.npy\", stretched_x_test)\n",
    "np.save(\"/Users/inescunha/Documents/GitHub/CellFate/data/images/stretched_x_test_augmented.npy\", stretched_x_test_augmented)"
   ]
  },
  {
   "cell_type": "code",
   "execution_count": 39,
   "metadata": {},
   "outputs": [],
   "source": [
    "# np.save(\"/Users/inescunha/Documents/GitHub/CellFate/data/images/test_images_augmented.npy\", test_images_augmented)\n",
    "# np.save(\"/Users/inescunha/Documents/GitHub/CellFate/data/labels/test_labels_augmented.npy\", test_labels_augmented)"
   ]
  },
  {
   "cell_type": "markdown",
   "metadata": {},
   "source": [
    "# Random things"
   ]
  },
  {
   "cell_type": "code",
   "execution_count": 81,
   "metadata": {},
   "outputs": [
    {
     "name": "stdout",
     "output_type": "stream",
     "text": [
      "First zero indices for each row:\n",
      "[ 532  464  322  189  379  577  554  601  969  426  546  840 1003  257\n",
      "  878  518  713  467  579  606  522 1038 1070  180 1027  730  201  548\n",
      "  344  606]\n"
     ]
    }
   ],
   "source": [
    "import numpy as np\n",
    "\n",
    "# Assuming br3_mother_tracks and br3_y_train are already defined\n",
    "fate_matrix = br3_mother_tracks[br3_mother_tracks[:,0,-1] == 3][:, :, -1]\n",
    "\n",
    "# Find the first zero in each row\n",
    "first_zero_indices = np.apply_along_axis(lambda row: np.argmax(row == 0) if np.any(row == 0) else -1, axis=1, arr=fate_matrix)\n",
    "\n",
    "# Print the results\n",
    "print(\"First zero indices for each row:\")\n",
    "print(first_zero_indices)\n"
   ]
  },
  {
   "cell_type": "code",
   "execution_count": 91,
   "metadata": {},
   "outputs": [
    {
     "data": {
      "text/plain": [
       "(34, 1080, 10)"
      ]
     },
     "execution_count": 91,
     "metadata": {},
     "output_type": "execute_result"
    }
   ],
   "source": [
    "br1_mother_tracks[br1_y_train == 2].shape"
   ]
  },
  {
   "cell_type": "code",
   "execution_count": 113,
   "metadata": {},
   "outputs": [
    {
     "name": "stdout",
     "output_type": "stream",
     "text": [
      "Processed matrix shape: (34, 1080, 10)\n"
     ]
    }
   ],
   "source": [
    "import numpy as np\n",
    "\n",
    "def daugther_trace_removal(matrix):\n",
    "    \"\"\"\n",
    "    For each cell (row) in the matrix, sets all values in all columns to zero \n",
    "    starting from the first zero in the 4th column (index 3).\n",
    "    \n",
    "    Args:\n",
    "        matrix (numpy.ndarray): A 3D matrix of shape (cells, time, features).\n",
    "        \n",
    "    Returns:\n",
    "        numpy.ndarray: Processed matrix with zeroed values from the first zero onward in the 4th column.\n",
    "    \"\"\"\n",
    "    processed_matrix = matrix.copy()\n",
    "    \n",
    "    for cell_idx, cell in enumerate(processed_matrix):\n",
    "        # Find the first zero in the 4th column\n",
    "        first_zero_index = np.argmax(cell[:, 4] == 0) if np.any(cell[:, 4] == 0) else None\n",
    "        \n",
    "        # If a zero is found, set all values from that time point onward to zero\n",
    "        if first_zero_index is not None:\n",
    "            processed_matrix[cell_idx, first_zero_index:, :] = 0\n",
    "    \n",
    "    return processed_matrix\n",
    "\n",
    "# Apply the function to the subset of the tracks\n",
    "processed_br1_mother_tracks = daugther_trace_removal(br1_mother_tracks[br1_y_train == 2])\n",
    "\n",
    "# Confirm the changes\n",
    "print(\"Processed matrix shape:\", processed_br1_mother_tracks.shape)\n"
   ]
  },
  {
   "cell_type": "code",
   "execution_count": 95,
   "metadata": {},
   "outputs": [
    {
     "data": {
      "text/plain": [
       "array([1.0736096 , 1.055149  , 1.0905303 , 1.092127  , 1.0840935 ,\n",
       "       1.0563608 , 1.0748883 , 1.0784637 , 1.0592111 , 1.046493  ,\n",
       "       1.0360446 , 1.0512099 , 1.0363867 , 1.0667735 , 1.0261283 ,\n",
       "       1.0341673 , 1.0197878 , 1.0158173 , 1.0193248 , 1.0104283 ,\n",
       "       1.0097171 , 1.024575  , 1.0256407 , 1.0282562 , 1.0327061 ,\n",
       "       1.0610956 , 1.0475533 , 1.0657954 , 1.0290425 , 1.0522226 ,\n",
       "       1.0696201 , 1.0079278 , 1.0109152 , 1.0460668 , 1.0738034 ,\n",
       "       1.038976  , 1.0237169 , 1.0068738 , 1.0322778 , 1.0143622 ,\n",
       "       1.0208637 , 1.0555756 , 1.0425649 , 0.99591243, 1.0021855 ,\n",
       "       1.0171853 , 1.0021807 , 1.0263573 , 0.9973811 , 0.9966945 ,\n",
       "       1.0046283 , 1.0317597 , 1.0341554 , 1.0858612 , 1.072814  ,\n",
       "       1.1046714 , 1.0886966 , 1.064392  , 1.0410048 , 1.0520434 ,\n",
       "       1.0210351 , 0.98632115, 0.        , 0.        , 0.        ,\n",
       "       0.        , 0.        , 0.        , 0.        , 0.        ,\n",
       "       0.        , 0.        , 0.        , 0.        , 0.        ,\n",
       "       0.        , 0.        , 0.        , 0.        , 0.        ,\n",
       "       0.        , 0.        , 0.        , 0.        , 0.        ,\n",
       "       0.        , 0.        , 0.        , 0.        , 0.        ,\n",
       "       0.        , 0.        , 0.        , 0.        , 0.        ,\n",
       "       0.        , 0.        , 0.        , 0.        , 0.        ,\n",
       "       0.        , 0.        , 0.        , 0.        , 0.        ,\n",
       "       0.        , 0.        , 0.        , 0.        , 0.        ,\n",
       "       0.        , 0.        , 0.        , 0.        , 0.        ,\n",
       "       0.        , 0.        , 0.        , 0.        , 0.        ,\n",
       "       0.        , 0.        , 0.        , 0.        , 0.        ,\n",
       "       0.        , 0.        , 0.        , 0.        , 0.        ,\n",
       "       0.        , 0.        , 0.        , 0.        , 0.        ,\n",
       "       0.        , 0.        , 0.        , 1.1885326 , 1.1260046 ,\n",
       "       1.0679728 , 1.0298264 , 1.0045235 , 1.0080156 , 1.0006409 ,\n",
       "       0.99955726, 0.93764246, 0.9576264 , 0.9632921 , 0.93810445,\n",
       "       0.96141243, 0.9717773 , 1.0379214 , 0.9176208 , 0.9185101 ,\n",
       "       0.91202116, 0.9449869 , 0.9087905 , 1.011472  , 1.1030945 ,\n",
       "       1.0519704 , 1.0352538 , 1.0038947 , 1.0144392 , 1.0651354 ,\n",
       "       1.0937957 , 1.0466115 , 1.0158093 , 1.0507689 , 1.0067446 ,\n",
       "       0.9808351 , 1.0100849 , 1.0495743 , 1.0561006 , 1.0787592 ,\n",
       "       1.0640202 , 1.0466272 , 0.9921439 , 0.9577399 , 0.9598508 ,\n",
       "       0.9900668 , 0.946065  , 1.0013679 , 0.96103185, 0.9425299 ,\n",
       "       1.0281916 , 0.96597034, 1.0035294 , 0.9969054 , 0.9891596 ,\n",
       "       0.9885777 , 0.9870668 , 0.95064056, 0.94116014, 0.93119097,\n",
       "       0.9470171 , 0.9783431 , 0.9338464 , 0.95812315, 0.93219554],\n",
       "      dtype=float32)"
      ]
     },
     "execution_count": 95,
     "metadata": {},
     "output_type": "execute_result"
    }
   ],
   "source": [
    "br1_mother_tracks[br1_y_train == 2][0,:,4][400:600]"
   ]
  },
  {
   "cell_type": "code",
   "execution_count": 121,
   "metadata": {},
   "outputs": [
    {
     "data": {
      "text/plain": [
       "array([[206.       , 191.62418  , 169.35526  , ...,   1.2271907,\n",
       "        988.       ,   2.       ],\n",
       "       [206.       , 192.09357  , 168.99722  , ...,   1.1654947,\n",
       "        988.       ,   2.       ],\n",
       "       [206.       , 191.67625  , 169.0062   , ...,   1.1755966,\n",
       "        988.       ,   2.       ],\n",
       "       ...,\n",
       "       [  0.       ,   0.       ,   0.       , ...,   0.       ,\n",
       "          0.       ,   0.       ],\n",
       "       [  0.       ,   0.       ,   0.       , ...,   0.       ,\n",
       "          0.       ,   0.       ],\n",
       "       [  0.       ,   0.       ,   0.       , ...,   0.       ,\n",
       "          0.       ,   0.       ]], dtype=float32)"
      ]
     },
     "execution_count": 121,
     "metadata": {},
     "output_type": "execute_result"
    }
   ],
   "source": [
    "daugther_trace_removal(br1_mother_tracks[br1_y_train == 2])[10]"
   ]
  },
  {
   "cell_type": "code",
   "execution_count": 128,
   "metadata": {},
   "outputs": [
    {
     "data": {
      "image/png": "[encoded data removed]",
      "text/plain": [
       "<Figure size 1000x600 with 1 Axes>"
      ]
     },
     "metadata": {},
     "output_type": "display_data"
    }
   ],
   "source": [
    "# Extract the matrices\n",
    "matrix_br1_2 = daugther_trace_removal(br1_mother_tracks[br1_y_train == 2])[:, :, -1]\n",
    "matrix_br1_3 = daugther_trace_removal(br1_mother_tracks[br1_y_train == 3])[:, :, -1]\n",
    "matrix_br2_2 = daugther_trace_removal(br2_mother_tracks[br2_y_train == 2])[:, :, -1]\n",
    "matrix_br2_3 = daugther_trace_removal(br2_mother_tracks[br2_y_train == 3])[:, :, -1]\n",
    "matrix_br3_2 = daugther_trace_removal(br3_mother_tracks[br3_y_train == 2])[:, :, -1]\n",
    "matrix_br3_3 = daugther_trace_removal(br3_mother_tracks[br3_y_train == 3])[:, :, -1]\n",
    "\n",
    "# Function to find the first zero indices in each row\n",
    "def find_first_zero_indices(matrix):\n",
    "    return np.apply_along_axis(lambda row: np.argmax(row == 0) if np.any(row == 0) else -1, axis=1, arr=matrix)\n",
    "\n",
    "# Find first zero indices for both matrices\n",
    "first_zero_indices_br1_2 = find_first_zero_indices(matrix_br1_2)\n",
    "first_zero_indices_br1_3 = find_first_zero_indices(matrix_br1_3)\n",
    "first_zero_indices_br2_2 = find_first_zero_indices(matrix_br2_2)\n",
    "first_zero_indices_br2_3 = find_first_zero_indices(matrix_br2_3)\n",
    "first_zero_indices_br3_2 = find_first_zero_indices(matrix_br3_2)\n",
    "first_zero_indices_br3_3 = find_first_zero_indices(matrix_br3_3)\n",
    "\n",
    "# Combine the indices from both groups\n",
    "combined_first_zero_indices = np.concatenate([first_zero_indices_br1_2, first_zero_indices_br1_3, first_zero_indices_br2_2, first_zero_indices_br2_3, first_zero_indices_br3_2, first_zero_indices_br3_3])\n",
    "\n",
    "# Filter out the values where fret is always NaN (TODO: CHECK LATER WHICH ONES THEY ARE)\n",
    "filtered_indices = combined_first_zero_indices[combined_first_zero_indices != 0]\n",
    "\n",
    "# Filter out -1 values (rows with no zeros)\n",
    "valid_indices = filtered_indices[filtered_indices != -1]\n",
    "\n",
    "# Plot the histogram\n",
    "plt.figure(figsize=(10, 6))\n",
    "plt.hist(valid_indices, bins=30, color='blue', alpha=0.7, edgecolor='black')\n",
    "plt.title('Histogram of First Zero Indices')\n",
    "plt.xlabel('Index of First Zero')\n",
    "plt.ylabel('Frequency')\n",
    "plt.grid(axis='y', alpha=0.75)\n",
    "plt.show()"
   ]
  },
  {
   "cell_type": "code",
   "execution_count": null,
   "metadata": {},
   "outputs": [
    {
     "ename": "IndexError",
     "evalue": "too many indices for array: array is 1-dimensional, but 2 were indexed",
     "output_type": "error",
     "traceback": [
      "\u001b[0;31m---------------------------------------------------------------------------\u001b[0m",
      "\u001b[0;31mIndexError\u001b[0m                                Traceback (most recent call last)",
      "Cell \u001b[0;32mIn[127], line 1\u001b[0m\n\u001b[0;32m----> 1\u001b[0m combined_first_zero_indices[np\u001b[38;5;241m.\u001b[39many(\u001b[43mcombined_first_zero_indices\u001b[49m\u001b[43m[\u001b[49m\u001b[43m:\u001b[49m\u001b[43m,\u001b[49m\u001b[43m \u001b[49m\u001b[38;5;241;43m0\u001b[39;49m\u001b[43m]\u001b[49m \u001b[38;5;241m!=\u001b[39m \u001b[38;5;241m0\u001b[39m, axis\u001b[38;5;241m=\u001b[39m\u001b[38;5;241m1\u001b[39m)]\u001b[38;5;241m.\u001b[39mshape\n",
      "\u001b[0;31mIndexError\u001b[0m: too many indices for array: array is 1-dimensional, but 2 were indexed"
     ]
    }
   ],
   "source": [
    "combined_first_zero_indices[np.any(combined_first_zero_indices[:, 0] != 0, axis=1)]"
   ]
  },
  {
   "cell_type": "code",
   "execution_count": 126,
   "metadata": {},
   "outputs": [
    {
     "data": {
      "text/plain": [
       "array([ 462,  190,  635,  288,    0,  500,  312,  160,  225,    0,  912,\n",
       "        380,  404,  371,    0,  616,  473,  719,    0,  157,  196,   29,\n",
       "        473,  267,  223,  179,    0,    0,  419,  581,  485,  215,  152,\n",
       "        245,  499,  186,  862,  390,  142,  146,  267,  375,    0,  176,\n",
       "         89,    0,  840,  586,  306,  307,   68,  252,    0,  865,  134,\n",
       "          0,    0,   73,  145,    0,  314,  127,  204,  208,  103,    0,\n",
       "        250,  416,  497,  566,  685,  785,  112,    0,  688,   16,  219,\n",
       "        593,  257,   11,   42,  973,  321,  307,  787,  522,  363,  254,\n",
       "         34,   37,  326,  131,  579,  263,  391,  166,    0,  272,  762,\n",
       "        951,  248,  511,  760,  312,  350,  380,  694,   84,  471,  292,\n",
       "        555,  296,  935,  206,   71,    0,  352,  137,  975,  347,  240,\n",
       "        297,    0,   23,    0,  425,  253,  224,  604,  637,  466,  445,\n",
       "        485,  138,  461,  140,  306,   71,  581,  473,  650,  113,  519,\n",
       "         44,  979,  312,  426,  562,  396,  906, 1001,  128,    4,  426,\n",
       "        655,  327,    0,  641,  190,  102,  127,  155,  477,  476,    0,\n",
       "        521,  594,  340,  454,  311,    0,  412,  265,  175,  113,  184,\n",
       "        180,  118,  303,  221,  882,   80,  248,  288,  288,  153,  626,\n",
       "        455,  882,  515,  625,   60,  844,  248,  122,  725,  433,   25,\n",
       "        767,  672,  148,  259,  237,  486,  208, 1004,   55,  763,  471,\n",
       "        117,  440,  659,    0,    0,  505,    0,  975,  374,  193,  484,\n",
       "          0,  281,  917,    7,  139,  756,  513,  436,  115,  365,   81,\n",
       "        113,    9,  464,   67,  363,  787,  350,  468,  615,  568,  118,\n",
       "        100,  284,  479,  289,  392,   40,  411,  962,  994,    0,  774,\n",
       "        115,  125,  249,  144,  516])"
      ]
     },
     "execution_count": 126,
     "metadata": {},
     "output_type": "execute_result"
    }
   ],
   "source": [
    "combined_first_zero_indices"
   ]
  },
  {
   "cell_type": "code",
   "execution_count": null,
   "metadata": {},
   "outputs": [],
   "source": []
  },
  {
   "cell_type": "code",
   "execution_count": 80,
   "metadata": {},
   "outputs": [
    {
     "data": {
      "text/plain": [
       "array([[1.6460000e+03, 1.8505713e+02, 2.2397194e+02, ..., 1.2351209e+00,\n",
       "        8.3900000e+02, 2.0000000e+00],\n",
       "       [1.6460000e+03, 1.8481119e+02, 2.2382285e+02, ..., 1.2118138e+00,\n",
       "        8.3900000e+02, 2.0000000e+00],\n",
       "       [1.6460000e+03, 1.8491660e+02, 2.2385893e+02, ..., 1.1923810e+00,\n",
       "        8.3900000e+02, 2.0000000e+00],\n",
       "       ...,\n",
       "       [1.6460000e+03, 1.7720670e+02, 2.3622452e+02, ..., 1.5645307e+00,\n",
       "        8.3900000e+02, 2.0000000e+00],\n",
       "       [1.6460000e+03, 1.7727531e+02, 2.3627551e+02, ..., 1.5824816e+00,\n",
       "        8.3900000e+02, 2.0000000e+00],\n",
       "       [1.6460000e+03, 1.7739049e+02, 2.3631149e+02, ..., 1.5859095e+00,\n",
       "        8.3900000e+02, 2.0000000e+00]], dtype=float32)"
      ]
     },
     "execution_count": 80,
     "metadata": {},
     "output_type": "execute_result"
    }
   ],
   "source": [
    "br3_mother_tracks[br3_mother_tracks[:,0,-1] == 2][-21]"
   ]
  },
  {
   "cell_type": "code",
   "execution_count": null,
   "metadata": {},
   "outputs": [
    {
     "data": {
      "text/plain": [
       "(array([ 0,  0,  0, ..., 83, 83, 83]),\n",
       " array([   0,    1,    2, ..., 1064, 1065, 1066]))"
      ]
     },
     "execution_count": 29,
     "metadata": {},
     "output_type": "execute_result"
    }
   ],
   "source": [
    "np.nonzero(br3_mother_tracks[br3_y_train==2][:,:,-1])"
   ]
  },
  {
   "cell_type": "markdown",
   "metadata": {},
   "source": [
    "## Centering cells better"
   ]
  },
  {
   "cell_type": "code",
   "execution_count": 4,
   "metadata": {},
   "outputs": [],
   "source": [
    "import numpy as np\n",
    "\n",
    "x_train = np.load('/Users/inescunha/Documents/GitHub/CellFate/data/stretched_x_train.npy')\n",
    "#y_train = np.load('../data/train_labels.npy')\n",
    "x_test = np.load('/Users/inescunha/Documents/GitHub/CellFate/data/stretched_x_test.npy')\n",
    "#y_test = np.load('../data/test_labels.npy')"
   ]
  },
  {
   "cell_type": "code",
   "execution_count": 5,
   "metadata": {},
   "outputs": [],
   "source": [
    "def center_cells(images):\n",
    "    \"\"\"\n",
    "    Centers each cell in the middle of a 20x20 field-of-view.\n",
    "    \n",
    "    Args:\n",
    "        images: NumPy array of shape (num_cells, 20, 20), where each cell is a binary or intensity image.\n",
    "\n",
    "    Returns:\n",
    "        Centered images of the same shape (num_cells, 20, 20).\n",
    "    \"\"\"\n",
    "    num_cells, height, width = images.shape\n",
    "    centered_images = np.zeros_like(images)\n",
    "\n",
    "    for i in range(num_cells):\n",
    "        img = images[i]\n",
    "\n",
    "        # Find nonzero pixel indices\n",
    "        y_indices, x_indices = np.where(img > 0)\n",
    "        if len(y_indices) == 0 or len(x_indices) == 0:\n",
    "            continue  # Skip empty images\n",
    "        \n",
    "        # Get bounding box\n",
    "        y_min, y_max = y_indices.min(), y_indices.max()\n",
    "        x_min, x_max = x_indices.min(), x_indices.max()\n",
    "        \n",
    "        # Extract the cell\n",
    "        cropped_cell = img[y_min:y_max+1, x_min:x_max+1]\n",
    "\n",
    "        # Compute new position to center the cropped cell\n",
    "        new_y_start = (height - cropped_cell.shape[0]) // 2\n",
    "        new_x_start = (width - cropped_cell.shape[1]) // 2\n",
    "        \n",
    "        # Place cropped cell into the new centered array\n",
    "        centered_images[i, new_y_start:new_y_start+cropped_cell.shape[0], \n",
    "                            new_x_start:new_x_start+cropped_cell.shape[1]] = cropped_cell\n",
    "\n",
    "    return centered_images\n"
   ]
  },
  {
   "cell_type": "code",
   "execution_count": 6,
   "metadata": {},
   "outputs": [],
   "source": [
    "centered_x_train = center_cells(x_train)"
   ]
  },
  {
   "cell_type": "code",
   "execution_count": 16,
   "metadata": {},
   "outputs": [],
   "source": [
    "centered_x_test = center_cells(x_test)"
   ]
  },
  {
   "cell_type": "code",
   "execution_count": 20,
   "metadata": {},
   "outputs": [],
   "source": [
    "np.save(\"/Users/inescunha/Documents/GitHub/CellFate/data/centered_x_train.npy\", centered_x_train)\n",
    "np.save(\"/Users/inescunha/Documents/GitHub/CellFate/data/centered_x_test.npy\", centered_x_test)"
   ]
  },
  {
   "cell_type": "code",
   "execution_count": 7,
   "metadata": {},
   "outputs": [
    {
     "data": {
      "text/plain": [
       "(2184, 20, 20)"
      ]
     },
     "execution_count": 7,
     "metadata": {},
     "output_type": "execute_result"
    }
   ],
   "source": [
    "centered_x_train.shape"
   ]
  },
  {
   "cell_type": "code",
   "execution_count": 19,
   "metadata": {},
   "outputs": [
    {
     "data": {
      "text/plain": [
       "<matplotlib.image.AxesImage at 0x11b4dc1f0>"
      ]
     },
     "execution_count": 19,
     "metadata": {},
     "output_type": "execute_result"
    },
    {
     "data": {
      "image/png": "[encoded data removed]",
      "text/plain": [
       "<Figure size 640x480 with 1 Axes>"
      ]
     },
     "metadata": {},
     "output_type": "display_data"
    }
   ],
   "source": [
    "plt.imshow(centered_x_test[10])"
   ]
  },
  {
   "cell_type": "code",
   "execution_count": null,
   "metadata": {},
   "outputs": [],
   "source": [
    "# to add: balance test set for visualisation"
   ]
  }
 ],
 "metadata": {
  "kernelspec": {
   "display_name": "interpret",
   "language": "python",
   "name": "python3"
  },
  "language_info": {
   "codemirror_mode": {
    "name": "ipython",
    "version": 3
   },
   "file_extension": ".py",
   "mimetype": "text/x-python",
   "name": "python",
   "nbconvert_exporter": "python",
   "pygments_lexer": "ipython3",
   "version": "3.10.14"
  }
 },
 "nbformat": 4,
 "nbformat_minor": 2
}
